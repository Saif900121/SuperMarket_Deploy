{
 "cells": [
  {
   "cell_type": "code",
   "execution_count": 7,
   "id": "80199f25-adc9-4272-ad4b-0b437c80905b",
   "metadata": {},
   "outputs": [],
   "source": [
    "#Import Necessary Liberaries\n",
    "import pandas as pd\n",
    "import numpy as np\n",
    "import plotly.express as px"
   ]
  },
  {
   "cell_type": "code",
   "execution_count": 8,
   "id": "3a96c218-f1a6-4172-b2da-a9fb178308ae",
   "metadata": {},
   "outputs": [],
   "source": [
    "# To Show All Column\n",
    "pd.set_option('display.max_columns', None)"
   ]
  },
  {
   "cell_type": "code",
   "execution_count": 9,
   "id": "239122e7-29c7-4c6e-a0eb-e26c4158b0ef",
   "metadata": {},
   "outputs": [
    {
     "data": {
      "text/html": [
       "<div>\n",
       "<style scoped>\n",
       "    .dataframe tbody tr th:only-of-type {\n",
       "        vertical-align: middle;\n",
       "    }\n",
       "\n",
       "    .dataframe tbody tr th {\n",
       "        vertical-align: top;\n",
       "    }\n",
       "\n",
       "    .dataframe thead th {\n",
       "        text-align: right;\n",
       "    }\n",
       "</style>\n",
       "<table border=\"1\" class=\"dataframe\">\n",
       "  <thead>\n",
       "    <tr style=\"text-align: right;\">\n",
       "      <th></th>\n",
       "      <th>Invoice ID</th>\n",
       "      <th>Branch</th>\n",
       "      <th>City</th>\n",
       "      <th>Customer type</th>\n",
       "      <th>Gender</th>\n",
       "      <th>Product line</th>\n",
       "      <th>Unit price</th>\n",
       "      <th>Quantity</th>\n",
       "      <th>Tax 5%</th>\n",
       "      <th>Sales</th>\n",
       "      <th>Date</th>\n",
       "      <th>Time</th>\n",
       "      <th>Payment</th>\n",
       "      <th>cogs</th>\n",
       "      <th>gross margin percentage</th>\n",
       "      <th>gross income</th>\n",
       "      <th>Rating</th>\n",
       "    </tr>\n",
       "  </thead>\n",
       "  <tbody>\n",
       "    <tr>\n",
       "      <th>0</th>\n",
       "      <td>750-67-8428</td>\n",
       "      <td>Alex</td>\n",
       "      <td>Yangon</td>\n",
       "      <td>Member</td>\n",
       "      <td>Female</td>\n",
       "      <td>Health and beauty</td>\n",
       "      <td>74.69</td>\n",
       "      <td>7</td>\n",
       "      <td>26.1415</td>\n",
       "      <td>548.9715</td>\n",
       "      <td>1/5/2019</td>\n",
       "      <td>1:08:00 PM</td>\n",
       "      <td>Ewallet</td>\n",
       "      <td>522.83</td>\n",
       "      <td>4.761905</td>\n",
       "      <td>26.1415</td>\n",
       "      <td>9.1</td>\n",
       "    </tr>\n",
       "    <tr>\n",
       "      <th>1</th>\n",
       "      <td>226-31-3081</td>\n",
       "      <td>Giza</td>\n",
       "      <td>Naypyitaw</td>\n",
       "      <td>Normal</td>\n",
       "      <td>Female</td>\n",
       "      <td>Electronic accessories</td>\n",
       "      <td>15.28</td>\n",
       "      <td>5</td>\n",
       "      <td>3.8200</td>\n",
       "      <td>80.2200</td>\n",
       "      <td>3/8/2019</td>\n",
       "      <td>10:29:00 AM</td>\n",
       "      <td>Cash</td>\n",
       "      <td>76.40</td>\n",
       "      <td>4.761905</td>\n",
       "      <td>3.8200</td>\n",
       "      <td>9.6</td>\n",
       "    </tr>\n",
       "    <tr>\n",
       "      <th>2</th>\n",
       "      <td>631-41-3108</td>\n",
       "      <td>Alex</td>\n",
       "      <td>Yangon</td>\n",
       "      <td>Normal</td>\n",
       "      <td>Female</td>\n",
       "      <td>Home and lifestyle</td>\n",
       "      <td>46.33</td>\n",
       "      <td>7</td>\n",
       "      <td>16.2155</td>\n",
       "      <td>340.5255</td>\n",
       "      <td>3/3/2019</td>\n",
       "      <td>1:23:00 PM</td>\n",
       "      <td>Credit card</td>\n",
       "      <td>324.31</td>\n",
       "      <td>4.761905</td>\n",
       "      <td>16.2155</td>\n",
       "      <td>7.4</td>\n",
       "    </tr>\n",
       "    <tr>\n",
       "      <th>3</th>\n",
       "      <td>123-19-1176</td>\n",
       "      <td>Alex</td>\n",
       "      <td>Yangon</td>\n",
       "      <td>Member</td>\n",
       "      <td>Female</td>\n",
       "      <td>Health and beauty</td>\n",
       "      <td>58.22</td>\n",
       "      <td>8</td>\n",
       "      <td>23.2880</td>\n",
       "      <td>489.0480</td>\n",
       "      <td>1/27/2019</td>\n",
       "      <td>8:33:00 PM</td>\n",
       "      <td>Ewallet</td>\n",
       "      <td>465.76</td>\n",
       "      <td>4.761905</td>\n",
       "      <td>23.2880</td>\n",
       "      <td>8.4</td>\n",
       "    </tr>\n",
       "    <tr>\n",
       "      <th>4</th>\n",
       "      <td>373-73-7910</td>\n",
       "      <td>Alex</td>\n",
       "      <td>Yangon</td>\n",
       "      <td>Member</td>\n",
       "      <td>Female</td>\n",
       "      <td>Sports and travel</td>\n",
       "      <td>86.31</td>\n",
       "      <td>7</td>\n",
       "      <td>30.2085</td>\n",
       "      <td>634.3785</td>\n",
       "      <td>2/8/2019</td>\n",
       "      <td>10:37:00 AM</td>\n",
       "      <td>Ewallet</td>\n",
       "      <td>604.17</td>\n",
       "      <td>4.761905</td>\n",
       "      <td>30.2085</td>\n",
       "      <td>5.3</td>\n",
       "    </tr>\n",
       "  </tbody>\n",
       "</table>\n",
       "</div>"
      ],
      "text/plain": [
       "    Invoice ID Branch       City Customer type  Gender  \\\n",
       "0  750-67-8428   Alex     Yangon        Member  Female   \n",
       "1  226-31-3081   Giza  Naypyitaw        Normal  Female   \n",
       "2  631-41-3108   Alex     Yangon        Normal  Female   \n",
       "3  123-19-1176   Alex     Yangon        Member  Female   \n",
       "4  373-73-7910   Alex     Yangon        Member  Female   \n",
       "\n",
       "             Product line  Unit price  Quantity   Tax 5%     Sales       Date  \\\n",
       "0       Health and beauty       74.69         7  26.1415  548.9715   1/5/2019   \n",
       "1  Electronic accessories       15.28         5   3.8200   80.2200   3/8/2019   \n",
       "2      Home and lifestyle       46.33         7  16.2155  340.5255   3/3/2019   \n",
       "3       Health and beauty       58.22         8  23.2880  489.0480  1/27/2019   \n",
       "4       Sports and travel       86.31         7  30.2085  634.3785   2/8/2019   \n",
       "\n",
       "          Time      Payment    cogs  gross margin percentage  gross income  \\\n",
       "0   1:08:00 PM      Ewallet  522.83                 4.761905       26.1415   \n",
       "1  10:29:00 AM         Cash   76.40                 4.761905        3.8200   \n",
       "2   1:23:00 PM  Credit card  324.31                 4.761905       16.2155   \n",
       "3   8:33:00 PM      Ewallet  465.76                 4.761905       23.2880   \n",
       "4  10:37:00 AM      Ewallet  604.17                 4.761905       30.2085   \n",
       "\n",
       "   Rating  \n",
       "0     9.1  \n",
       "1     9.6  \n",
       "2     7.4  \n",
       "3     8.4  \n",
       "4     5.3  "
      ]
     },
     "execution_count": 9,
     "metadata": {},
     "output_type": "execute_result"
    }
   ],
   "source": [
    "# Data Loading\n",
    "\n",
    "df = pd.read_csv(\"SuperMarket Analysis.csv\")\n",
    "df.head(5)"
   ]
  },
  {
   "cell_type": "code",
   "execution_count": 10,
   "id": "ce47e2c2-4e72-4709-89a3-63c8c886b2f7",
   "metadata": {},
   "outputs": [
    {
     "data": {
      "text/plain": [
       "Index(['invoice id', 'branch', 'city', 'customer type', 'gender',\n",
       "       'product line', 'unit price', 'quantity', 'tax 5%', 'sales', 'date',\n",
       "       'time', 'payment', 'cogs', 'gross margin percentage', 'gross income',\n",
       "       'rating'],\n",
       "      dtype='object')"
      ]
     },
     "execution_count": 10,
     "metadata": {},
     "output_type": "execute_result"
    }
   ],
   "source": [
    "df.columns = df.columns.str.lower()\n",
    "df.columns"
   ]
  },
  {
   "cell_type": "markdown",
   "id": "1193ca9f-c679-42b9-93cb-f8a36640f1ea",
   "metadata": {},
   "source": [
    "# Data Exploration"
   ]
  },
  {
   "cell_type": "code",
   "execution_count": 11,
   "id": "cef60a4f-3454-4fac-833d-e9fdd4dc1ae0",
   "metadata": {
    "scrolled": true
   },
   "outputs": [
    {
     "name": "stdout",
     "output_type": "stream",
     "text": [
      "<class 'pandas.core.frame.DataFrame'>\n",
      "RangeIndex: 1000 entries, 0 to 999\n",
      "Data columns (total 17 columns):\n",
      " #   Column                   Non-Null Count  Dtype  \n",
      "---  ------                   --------------  -----  \n",
      " 0   invoice id               1000 non-null   object \n",
      " 1   branch                   1000 non-null   object \n",
      " 2   city                     1000 non-null   object \n",
      " 3   customer type            1000 non-null   object \n",
      " 4   gender                   1000 non-null   object \n",
      " 5   product line             1000 non-null   object \n",
      " 6   unit price               1000 non-null   float64\n",
      " 7   quantity                 1000 non-null   int64  \n",
      " 8   tax 5%                   1000 non-null   float64\n",
      " 9   sales                    1000 non-null   float64\n",
      " 10  date                     1000 non-null   object \n",
      " 11  time                     1000 non-null   object \n",
      " 12  payment                  1000 non-null   object \n",
      " 13  cogs                     1000 non-null   float64\n",
      " 14  gross margin percentage  1000 non-null   float64\n",
      " 15  gross income             1000 non-null   float64\n",
      " 16  rating                   1000 non-null   float64\n",
      "dtypes: float64(7), int64(1), object(9)\n",
      "memory usage: 132.9+ KB\n"
     ]
    }
   ],
   "source": [
    "# check data types\n",
    "df.info('SuperMarket Analysis.csv')"
   ]
  },
  {
   "cell_type": "code",
   "execution_count": 12,
   "id": "78cb5b64-2a9f-4727-b550-3e09db581e64",
   "metadata": {},
   "outputs": [
    {
     "data": {
      "text/html": [
       "<div>\n",
       "<style scoped>\n",
       "    .dataframe tbody tr th:only-of-type {\n",
       "        vertical-align: middle;\n",
       "    }\n",
       "\n",
       "    .dataframe tbody tr th {\n",
       "        vertical-align: top;\n",
       "    }\n",
       "\n",
       "    .dataframe thead th {\n",
       "        text-align: right;\n",
       "    }\n",
       "</style>\n",
       "<table border=\"1\" class=\"dataframe\">\n",
       "  <thead>\n",
       "    <tr style=\"text-align: right;\">\n",
       "      <th></th>\n",
       "      <th>unit price</th>\n",
       "      <th>quantity</th>\n",
       "      <th>tax 5%</th>\n",
       "      <th>sales</th>\n",
       "      <th>cogs</th>\n",
       "      <th>gross margin percentage</th>\n",
       "      <th>gross income</th>\n",
       "      <th>rating</th>\n",
       "    </tr>\n",
       "  </thead>\n",
       "  <tbody>\n",
       "    <tr>\n",
       "      <th>count</th>\n",
       "      <td>1000.00</td>\n",
       "      <td>1000.00</td>\n",
       "      <td>1000.00</td>\n",
       "      <td>1000.00</td>\n",
       "      <td>1000.00</td>\n",
       "      <td>1000.00</td>\n",
       "      <td>1000.00</td>\n",
       "      <td>1000.00</td>\n",
       "    </tr>\n",
       "    <tr>\n",
       "      <th>mean</th>\n",
       "      <td>55.67</td>\n",
       "      <td>5.51</td>\n",
       "      <td>15.38</td>\n",
       "      <td>322.97</td>\n",
       "      <td>307.59</td>\n",
       "      <td>4.76</td>\n",
       "      <td>15.38</td>\n",
       "      <td>6.97</td>\n",
       "    </tr>\n",
       "    <tr>\n",
       "      <th>std</th>\n",
       "      <td>26.49</td>\n",
       "      <td>2.92</td>\n",
       "      <td>11.71</td>\n",
       "      <td>245.89</td>\n",
       "      <td>234.18</td>\n",
       "      <td>0.00</td>\n",
       "      <td>11.71</td>\n",
       "      <td>1.72</td>\n",
       "    </tr>\n",
       "    <tr>\n",
       "      <th>min</th>\n",
       "      <td>10.08</td>\n",
       "      <td>1.00</td>\n",
       "      <td>0.51</td>\n",
       "      <td>10.68</td>\n",
       "      <td>10.17</td>\n",
       "      <td>4.76</td>\n",
       "      <td>0.51</td>\n",
       "      <td>4.00</td>\n",
       "    </tr>\n",
       "    <tr>\n",
       "      <th>25%</th>\n",
       "      <td>32.88</td>\n",
       "      <td>3.00</td>\n",
       "      <td>5.92</td>\n",
       "      <td>124.42</td>\n",
       "      <td>118.50</td>\n",
       "      <td>4.76</td>\n",
       "      <td>5.92</td>\n",
       "      <td>5.50</td>\n",
       "    </tr>\n",
       "    <tr>\n",
       "      <th>50%</th>\n",
       "      <td>55.23</td>\n",
       "      <td>5.00</td>\n",
       "      <td>12.09</td>\n",
       "      <td>253.85</td>\n",
       "      <td>241.76</td>\n",
       "      <td>4.76</td>\n",
       "      <td>12.09</td>\n",
       "      <td>7.00</td>\n",
       "    </tr>\n",
       "    <tr>\n",
       "      <th>75%</th>\n",
       "      <td>77.94</td>\n",
       "      <td>8.00</td>\n",
       "      <td>22.45</td>\n",
       "      <td>471.35</td>\n",
       "      <td>448.90</td>\n",
       "      <td>4.76</td>\n",
       "      <td>22.45</td>\n",
       "      <td>8.50</td>\n",
       "    </tr>\n",
       "    <tr>\n",
       "      <th>max</th>\n",
       "      <td>99.96</td>\n",
       "      <td>10.00</td>\n",
       "      <td>49.65</td>\n",
       "      <td>1042.65</td>\n",
       "      <td>993.00</td>\n",
       "      <td>4.76</td>\n",
       "      <td>49.65</td>\n",
       "      <td>10.00</td>\n",
       "    </tr>\n",
       "  </tbody>\n",
       "</table>\n",
       "</div>"
      ],
      "text/plain": [
       "       unit price  quantity   tax 5%    sales     cogs  \\\n",
       "count     1000.00   1000.00  1000.00  1000.00  1000.00   \n",
       "mean        55.67      5.51    15.38   322.97   307.59   \n",
       "std         26.49      2.92    11.71   245.89   234.18   \n",
       "min         10.08      1.00     0.51    10.68    10.17   \n",
       "25%         32.88      3.00     5.92   124.42   118.50   \n",
       "50%         55.23      5.00    12.09   253.85   241.76   \n",
       "75%         77.94      8.00    22.45   471.35   448.90   \n",
       "max         99.96     10.00    49.65  1042.65   993.00   \n",
       "\n",
       "       gross margin percentage  gross income   rating  \n",
       "count                  1000.00       1000.00  1000.00  \n",
       "mean                      4.76         15.38     6.97  \n",
       "std                       0.00         11.71     1.72  \n",
       "min                       4.76          0.51     4.00  \n",
       "25%                       4.76          5.92     5.50  \n",
       "50%                       4.76         12.09     7.00  \n",
       "75%                       4.76         22.45     8.50  \n",
       "max                       4.76         49.65    10.00  "
      ]
     },
     "execution_count": 12,
     "metadata": {},
     "output_type": "execute_result"
    }
   ],
   "source": [
    "# summry statistics\n",
    "\n",
    "# Check Summary Statistics For Numerical Columns\n",
    "df.describe(include= \"number\").round(2)"
   ]
  },
  {
   "cell_type": "code",
   "execution_count": 13,
   "id": "23fbbd52-bf16-40c0-a9df-0f289448653a",
   "metadata": {
    "scrolled": true
   },
   "outputs": [
    {
     "data": {
      "text/html": [
       "<div>\n",
       "<style scoped>\n",
       "    .dataframe tbody tr th:only-of-type {\n",
       "        vertical-align: middle;\n",
       "    }\n",
       "\n",
       "    .dataframe tbody tr th {\n",
       "        vertical-align: top;\n",
       "    }\n",
       "\n",
       "    .dataframe thead th {\n",
       "        text-align: right;\n",
       "    }\n",
       "</style>\n",
       "<table border=\"1\" class=\"dataframe\">\n",
       "  <thead>\n",
       "    <tr style=\"text-align: right;\">\n",
       "      <th></th>\n",
       "      <th>invoice id</th>\n",
       "      <th>branch</th>\n",
       "      <th>city</th>\n",
       "      <th>customer type</th>\n",
       "      <th>gender</th>\n",
       "      <th>product line</th>\n",
       "      <th>date</th>\n",
       "      <th>time</th>\n",
       "      <th>payment</th>\n",
       "    </tr>\n",
       "  </thead>\n",
       "  <tbody>\n",
       "    <tr>\n",
       "      <th>count</th>\n",
       "      <td>1000</td>\n",
       "      <td>1000</td>\n",
       "      <td>1000</td>\n",
       "      <td>1000</td>\n",
       "      <td>1000</td>\n",
       "      <td>1000</td>\n",
       "      <td>1000</td>\n",
       "      <td>1000</td>\n",
       "      <td>1000</td>\n",
       "    </tr>\n",
       "    <tr>\n",
       "      <th>unique</th>\n",
       "      <td>1000</td>\n",
       "      <td>3</td>\n",
       "      <td>3</td>\n",
       "      <td>2</td>\n",
       "      <td>2</td>\n",
       "      <td>6</td>\n",
       "      <td>89</td>\n",
       "      <td>506</td>\n",
       "      <td>3</td>\n",
       "    </tr>\n",
       "    <tr>\n",
       "      <th>top</th>\n",
       "      <td>750-67-8428</td>\n",
       "      <td>Alex</td>\n",
       "      <td>Yangon</td>\n",
       "      <td>Member</td>\n",
       "      <td>Female</td>\n",
       "      <td>Fashion accessories</td>\n",
       "      <td>2/7/2019</td>\n",
       "      <td>7:48:00 PM</td>\n",
       "      <td>Ewallet</td>\n",
       "    </tr>\n",
       "    <tr>\n",
       "      <th>freq</th>\n",
       "      <td>1</td>\n",
       "      <td>340</td>\n",
       "      <td>340</td>\n",
       "      <td>565</td>\n",
       "      <td>571</td>\n",
       "      <td>178</td>\n",
       "      <td>20</td>\n",
       "      <td>7</td>\n",
       "      <td>345</td>\n",
       "    </tr>\n",
       "  </tbody>\n",
       "</table>\n",
       "</div>"
      ],
      "text/plain": [
       "         invoice id branch    city customer type  gender         product line  \\\n",
       "count          1000   1000    1000          1000    1000                 1000   \n",
       "unique         1000      3       3             2       2                    6   \n",
       "top     750-67-8428   Alex  Yangon        Member  Female  Fashion accessories   \n",
       "freq              1    340     340           565     571                  178   \n",
       "\n",
       "            date        time  payment  \n",
       "count       1000        1000     1000  \n",
       "unique        89         506        3  \n",
       "top     2/7/2019  7:48:00 PM  Ewallet  \n",
       "freq          20           7      345  "
      ]
     },
     "execution_count": 13,
     "metadata": {},
     "output_type": "execute_result"
    }
   ],
   "source": [
    "# Check Summary Statistics For Categorical Columns\n",
    "df.describe(include= \"O\").round(2)"
   ]
  },
  {
   "cell_type": "code",
   "execution_count": 14,
   "id": "502497ed-03c1-4dca-acbd-ee8ebed9c91d",
   "metadata": {},
   "outputs": [
    {
     "data": {
      "text/plain": [
       "np.int64(0)"
      ]
     },
     "execution_count": 14,
     "metadata": {},
     "output_type": "execute_result"
    }
   ],
   "source": [
    "# Check Duplicates\n",
    "df.duplicated().sum()"
   ]
  },
  {
   "cell_type": "code",
   "execution_count": 15,
   "id": "cdf5083f-f477-499b-9279-45e57524a744",
   "metadata": {},
   "outputs": [
    {
     "data": {
      "text/plain": [
       "invoice id                 0.0\n",
       "branch                     0.0\n",
       "city                       0.0\n",
       "customer type              0.0\n",
       "gender                     0.0\n",
       "product line               0.0\n",
       "unit price                 0.0\n",
       "quantity                   0.0\n",
       "tax 5%                     0.0\n",
       "sales                      0.0\n",
       "date                       0.0\n",
       "time                       0.0\n",
       "payment                    0.0\n",
       "cogs                       0.0\n",
       "gross margin percentage    0.0\n",
       "gross income               0.0\n",
       "rating                     0.0\n",
       "dtype: float64"
      ]
     },
     "execution_count": 15,
     "metadata": {},
     "output_type": "execute_result"
    }
   ],
   "source": [
    "# Check Missing Value\n",
    "df.isna().mean() * 100"
   ]
  },
  {
   "cell_type": "markdown",
   "id": "c47632e6-e0b8-4872-9f8a-c766f0802f1c",
   "metadata": {},
   "source": [
    "# Data Cleaning"
   ]
  },
  {
   "cell_type": "code",
   "execution_count": 16,
   "id": "2b10522d-bb05-4253-b4e4-07ba2fa71cc6",
   "metadata": {
    "jp-MarkdownHeadingCollapsed": true,
    "scrolled": true
   },
   "outputs": [
    {
     "data": {
      "text/plain": [
       "Index(['branch', 'city', 'customer type', 'gender', 'product line', 'payment'], dtype='object')"
      ]
     },
     "execution_count": 16,
     "metadata": {},
     "output_type": "execute_result"
    }
   ],
   "source": [
    "# In Depth Check For Categorical Columns\n",
    "\n",
    "cat_col = df.select_dtypes(include= \"O\").drop([\"invoice id\", \"date\", \"time\"], axis = 1).columns\n",
    "cat_col"
   ]
  },
  {
   "cell_type": "code",
   "execution_count": 17,
   "id": "976d09fb-f58a-4928-a37e-9fb6ae517afd",
   "metadata": {},
   "outputs": [
    {
     "name": "stdout",
     "output_type": "stream",
     "text": [
      "branch\n",
      "3\n",
      "['Alex' 'Giza' 'Cairo']\n",
      "----------------------------------------------------------------------------------------------------\n",
      "city\n",
      "3\n",
      "['Yangon' 'Naypyitaw' 'Mandalay']\n",
      "----------------------------------------------------------------------------------------------------\n",
      "customer type\n",
      "2\n",
      "['Member' 'Normal']\n",
      "----------------------------------------------------------------------------------------------------\n",
      "gender\n",
      "2\n",
      "['Female' 'Male']\n",
      "----------------------------------------------------------------------------------------------------\n",
      "product line\n",
      "6\n",
      "['Health and beauty' 'Electronic accessories' 'Home and lifestyle'\n",
      " 'Sports and travel' 'Food and beverages' 'Fashion accessories']\n",
      "----------------------------------------------------------------------------------------------------\n",
      "payment\n",
      "3\n",
      "['Ewallet' 'Cash' 'Credit card']\n",
      "----------------------------------------------------------------------------------------------------\n"
     ]
    }
   ],
   "source": [
    "for col in cat_col:\n",
    "    print(col)\n",
    "    print(df[col].nunique())\n",
    "    print(df[col].unique())\n",
    "    print(\"-\" * 100)"
   ]
  },
  {
   "cell_type": "code",
   "execution_count": 18,
   "id": "20e91445-53c9-41ab-9848-112bee580399",
   "metadata": {},
   "outputs": [
    {
     "data": {
      "text/plain": [
       "Index(['unit price', 'quantity', 'tax 5%', 'sales', 'cogs',\n",
       "       'gross margin percentage', 'gross income', 'rating'],\n",
       "      dtype='object')"
      ]
     },
     "execution_count": 18,
     "metadata": {},
     "output_type": "execute_result"
    }
   ],
   "source": [
    "# In Depth Check For Numerical Columns\n",
    "\n",
    "num_col = df.select_dtypes(include= \"number\").columns\n",
    "num_col\n"
   ]
  },
  {
   "cell_type": "code",
   "execution_count": 19,
   "id": "28267dd2-3f87-4801-9e20-9b466976ee22",
   "metadata": {},
   "outputs": [
    {
     "data": {
      "application/vnd.plotly.v1+json": {
       "config": {
        "plotlyServerURL": "https://plot.ly"
       },
       "data": [
        {
         "bingroup": "x",
         "hovertemplate": "unit price=%{x}<br>count=%{y}<extra></extra>",
         "legendgroup": "",
         "marker": {
          "color": "#636efa",
          "pattern": {
           "shape": ""
          }
         },
         "name": "",
         "orientation": "v",
         "showlegend": false,
         "type": "histogram",
         "x": {
          "bdata": "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",
          "dtype": "f8"
         },
         "xaxis": "x",
         "yaxis": "y"
        }
       ],
       "layout": {
        "barmode": "relative",
        "legend": {
         "tracegroupgap": 0
        },
        "template": {
         "data": {
          "bar": [
           {
            "error_x": {
             "color": "#2a3f5f"
            },
            "error_y": {
             "color": "#2a3f5f"
            },
            "marker": {
             "line": {
              "color": "#E5ECF6",
              "width": 0.5
             },
             "pattern": {
              "fillmode": "overlay",
              "size": 10,
              "solidity": 0.2
             }
            },
            "type": "bar"
           }
          ],
          "barpolar": [
           {
            "marker": {
             "line": {
              "color": "#E5ECF6",
              "width": 0.5
             },
             "pattern": {
              "fillmode": "overlay",
              "size": 10,
              "solidity": 0.2
             }
            },
            "type": "barpolar"
           }
          ],
          "carpet": [
           {
            "aaxis": {
             "endlinecolor": "#2a3f5f",
             "gridcolor": "white",
             "linecolor": "white",
             "minorgridcolor": "white",
             "startlinecolor": "#2a3f5f"
            },
            "baxis": {
             "endlinecolor": "#2a3f5f",
             "gridcolor": "white",
             "linecolor": "white",
             "minorgridcolor": "white",
             "startlinecolor": "#2a3f5f"
            },
            "type": "carpet"
           }
          ],
          "choropleth": [
           {
            "colorbar": {
             "outlinewidth": 0,
             "ticks": ""
            },
            "type": "choropleth"
           }
          ],
          "contour": [
           {
            "colorbar": {
             "outlinewidth": 0,
             "ticks": ""
            },
            "colorscale": [
             [
              0,
              "#0d0887"
             ],
             [
              0.1111111111111111,
              "#46039f"
             ],
             [
              0.2222222222222222,
              "#7201a8"
             ],
             [
              0.3333333333333333,
              "#9c179e"
             ],
             [
              0.4444444444444444,
              "#bd3786"
             ],
             [
              0.5555555555555556,
              "#d8576b"
             ],
             [
              0.6666666666666666,
              "#ed7953"
             ],
             [
              0.7777777777777778,
              "#fb9f3a"
             ],
             [
              0.8888888888888888,
              "#fdca26"
             ],
             [
              1,
              "#f0f921"
             ]
            ],
            "type": "contour"
           }
          ],
          "contourcarpet": [
           {
            "colorbar": {
             "outlinewidth": 0,
             "ticks": ""
            },
            "type": "contourcarpet"
           }
          ],
          "heatmap": [
           {
            "colorbar": {
             "outlinewidth": 0,
             "ticks": ""
            },
            "colorscale": [
             [
              0,
              "#0d0887"
             ],
             [
              0.1111111111111111,
              "#46039f"
             ],
             [
              0.2222222222222222,
              "#7201a8"
             ],
             [
              0.3333333333333333,
              "#9c179e"
             ],
             [
              0.4444444444444444,
              "#bd3786"
             ],
             [
              0.5555555555555556,
              "#d8576b"
             ],
             [
              0.6666666666666666,
              "#ed7953"
             ],
             [
              0.7777777777777778,
              "#fb9f3a"
             ],
             [
              0.8888888888888888,
              "#fdca26"
             ],
             [
              1,
              "#f0f921"
             ]
            ],
            "type": "heatmap"
           }
          ],
          "histogram": [
           {
            "marker": {
             "pattern": {
              "fillmode": "overlay",
              "size": 10,
              "solidity": 0.2
             }
            },
            "type": "histogram"
           }
          ],
          "histogram2d": [
           {
            "colorbar": {
             "outlinewidth": 0,
             "ticks": ""
            },
            "colorscale": [
             [
              0,
              "#0d0887"
             ],
             [
              0.1111111111111111,
              "#46039f"
             ],
             [
              0.2222222222222222,
              "#7201a8"
             ],
             [
              0.3333333333333333,
              "#9c179e"
             ],
             [
              0.4444444444444444,
              "#bd3786"
             ],
             [
              0.5555555555555556,
              "#d8576b"
             ],
             [
              0.6666666666666666,
              "#ed7953"
             ],
             [
              0.7777777777777778,
              "#fb9f3a"
             ],
             [
              0.8888888888888888,
              "#fdca26"
             ],
             [
              1,
              "#f0f921"
             ]
            ],
            "type": "histogram2d"
           }
          ],
          "histogram2dcontour": [
           {
            "colorbar": {
             "outlinewidth": 0,
             "ticks": ""
            },
            "colorscale": [
             [
              0,
              "#0d0887"
             ],
             [
              0.1111111111111111,
              "#46039f"
             ],
             [
              0.2222222222222222,
              "#7201a8"
             ],
             [
              0.3333333333333333,
              "#9c179e"
             ],
             [
              0.4444444444444444,
              "#bd3786"
             ],
             [
              0.5555555555555556,
              "#d8576b"
             ],
             [
              0.6666666666666666,
              "#ed7953"
             ],
             [
              0.7777777777777778,
              "#fb9f3a"
             ],
             [
              0.8888888888888888,
              "#fdca26"
             ],
             [
              1,
              "#f0f921"
             ]
            ],
            "type": "histogram2dcontour"
           }
          ],
          "mesh3d": [
           {
            "colorbar": {
             "outlinewidth": 0,
             "ticks": ""
            },
            "type": "mesh3d"
           }
          ],
          "parcoords": [
           {
            "line": {
             "colorbar": {
              "outlinewidth": 0,
              "ticks": ""
             }
            },
            "type": "parcoords"
           }
          ],
          "pie": [
           {
            "automargin": true,
            "type": "pie"
           }
          ],
          "scatter": [
           {
            "fillpattern": {
             "fillmode": "overlay",
             "size": 10,
             "solidity": 0.2
            },
            "type": "scatter"
           }
          ],
          "scatter3d": [
           {
            "line": {
             "colorbar": {
              "outlinewidth": 0,
              "ticks": ""
             }
            },
            "marker": {
             "colorbar": {
              "outlinewidth": 0,
              "ticks": ""
             }
            },
            "type": "scatter3d"
           }
          ],
          "scattercarpet": [
           {
            "marker": {
             "colorbar": {
              "outlinewidth": 0,
              "ticks": ""
             }
            },
            "type": "scattercarpet"
           }
          ],
          "scattergeo": [
           {
            "marker": {
             "colorbar": {
              "outlinewidth": 0,
              "ticks": ""
             }
            },
            "type": "scattergeo"
           }
          ],
          "scattergl": [
           {
            "marker": {
             "colorbar": {
              "outlinewidth": 0,
              "ticks": ""
             }
            },
            "type": "scattergl"
           }
          ],
          "scattermap": [
           {
            "marker": {
             "colorbar": {
              "outlinewidth": 0,
              "ticks": ""
             }
            },
            "type": "scattermap"
           }
          ],
          "scattermapbox": [
           {
            "marker": {
             "colorbar": {
              "outlinewidth": 0,
              "ticks": ""
             }
            },
            "type": "scattermapbox"
           }
          ],
          "scatterpolar": [
           {
            "marker": {
             "colorbar": {
              "outlinewidth": 0,
              "ticks": ""
             }
            },
            "type": "scatterpolar"
           }
          ],
          "scatterpolargl": [
           {
            "marker": {
             "colorbar": {
              "outlinewidth": 0,
              "ticks": ""
             }
            },
            "type": "scatterpolargl"
           }
          ],
          "scatterternary": [
           {
            "marker": {
             "colorbar": {
              "outlinewidth": 0,
              "ticks": ""
             }
            },
            "type": "scatterternary"
           }
          ],
          "surface": [
           {
            "colorbar": {
             "outlinewidth": 0,
             "ticks": ""
            },
            "colorscale": [
             [
              0,
              "#0d0887"
             ],
             [
              0.1111111111111111,
              "#46039f"
             ],
             [
              0.2222222222222222,
              "#7201a8"
             ],
             [
              0.3333333333333333,
              "#9c179e"
             ],
             [
              0.4444444444444444,
              "#bd3786"
             ],
             [
              0.5555555555555556,
              "#d8576b"
             ],
             [
              0.6666666666666666,
              "#ed7953"
             ],
             [
              0.7777777777777778,
              "#fb9f3a"
             ],
             [
              0.8888888888888888,
              "#fdca26"
             ],
             [
              1,
              "#f0f921"
             ]
            ],
            "type": "surface"
           }
          ],
          "table": [
           {
            "cells": {
             "fill": {
              "color": "#EBF0F8"
             },
             "line": {
              "color": "white"
             }
            },
            "header": {
             "fill": {
              "color": "#C8D4E3"
             },
             "line": {
              "color": "white"
             }
            },
            "type": "table"
           }
          ]
         },
         "layout": {
          "annotationdefaults": {
           "arrowcolor": "#2a3f5f",
           "arrowhead": 0,
           "arrowwidth": 1
          },
          "autotypenumbers": "strict",
          "coloraxis": {
           "colorbar": {
            "outlinewidth": 0,
            "ticks": ""
           }
          },
          "colorscale": {
           "diverging": [
            [
             0,
             "#8e0152"
            ],
            [
             0.1,
             "#c51b7d"
            ],
            [
             0.2,
             "#de77ae"
            ],
            [
             0.3,
             "#f1b6da"
            ],
            [
             0.4,
             "#fde0ef"
            ],
            [
             0.5,
             "#f7f7f7"
            ],
            [
             0.6,
             "#e6f5d0"
            ],
            [
             0.7,
             "#b8e186"
            ],
            [
             0.8,
             "#7fbc41"
            ],
            [
             0.9,
             "#4d9221"
            ],
            [
             1,
             "#276419"
            ]
           ],
           "sequential": [
            [
             0,
             "#0d0887"
            ],
            [
             0.1111111111111111,
             "#46039f"
            ],
            [
             0.2222222222222222,
             "#7201a8"
            ],
            [
             0.3333333333333333,
             "#9c179e"
            ],
            [
             0.4444444444444444,
             "#bd3786"
            ],
            [
             0.5555555555555556,
             "#d8576b"
            ],
            [
             0.6666666666666666,
             "#ed7953"
            ],
            [
             0.7777777777777778,
             "#fb9f3a"
            ],
            [
             0.8888888888888888,
             "#fdca26"
            ],
            [
             1,
             "#f0f921"
            ]
           ],
           "sequentialminus": [
            [
             0,
             "#0d0887"
            ],
            [
             0.1111111111111111,
             "#46039f"
            ],
            [
             0.2222222222222222,
             "#7201a8"
            ],
            [
             0.3333333333333333,
             "#9c179e"
            ],
            [
             0.4444444444444444,
             "#bd3786"
            ],
            [
             0.5555555555555556,
             "#d8576b"
            ],
            [
             0.6666666666666666,
             "#ed7953"
            ],
            [
             0.7777777777777778,
             "#fb9f3a"
            ],
            [
             0.8888888888888888,
             "#fdca26"
            ],
            [
             1,
             "#f0f921"
            ]
           ]
          },
          "colorway": [
           "#636efa",
           "#EF553B",
           "#00cc96",
           "#ab63fa",
           "#FFA15A",
           "#19d3f3",
           "#FF6692",
           "#B6E880",
           "#FF97FF",
           "#FECB52"
          ],
          "font": {
           "color": "#2a3f5f"
          },
          "geo": {
           "bgcolor": "white",
           "lakecolor": "white",
           "landcolor": "#E5ECF6",
           "showlakes": true,
           "showland": true,
           "subunitcolor": "white"
          },
          "hoverlabel": {
           "align": "left"
          },
          "hovermode": "closest",
          "mapbox": {
           "style": "light"
          },
          "paper_bgcolor": "white",
          "plot_bgcolor": "#E5ECF6",
          "polar": {
           "angularaxis": {
            "gridcolor": "white",
            "linecolor": "white",
            "ticks": ""
           },
           "bgcolor": "#E5ECF6",
           "radialaxis": {
            "gridcolor": "white",
            "linecolor": "white",
            "ticks": ""
           }
          },
          "scene": {
           "xaxis": {
            "backgroundcolor": "#E5ECF6",
            "gridcolor": "white",
            "gridwidth": 2,
            "linecolor": "white",
            "showbackground": true,
            "ticks": "",
            "zerolinecolor": "white"
           },
           "yaxis": {
            "backgroundcolor": "#E5ECF6",
            "gridcolor": "white",
            "gridwidth": 2,
            "linecolor": "white",
            "showbackground": true,
            "ticks": "",
            "zerolinecolor": "white"
           },
           "zaxis": {
            "backgroundcolor": "#E5ECF6",
            "gridcolor": "white",
            "gridwidth": 2,
            "linecolor": "white",
            "showbackground": true,
            "ticks": "",
            "zerolinecolor": "white"
           }
          },
          "shapedefaults": {
           "line": {
            "color": "#2a3f5f"
           }
          },
          "ternary": {
           "aaxis": {
            "gridcolor": "white",
            "linecolor": "white",
            "ticks": ""
           },
           "baxis": {
            "gridcolor": "white",
            "linecolor": "white",
            "ticks": ""
           },
           "bgcolor": "#E5ECF6",
           "caxis": {
            "gridcolor": "white",
            "linecolor": "white",
            "ticks": ""
           }
          },
          "title": {
           "x": 0.05
          },
          "xaxis": {
           "automargin": true,
           "gridcolor": "white",
           "linecolor": "white",
           "ticks": "",
           "title": {
            "standoff": 15
           },
           "zerolinecolor": "white",
           "zerolinewidth": 2
          },
          "yaxis": {
           "automargin": true,
           "gridcolor": "white",
           "linecolor": "white",
           "ticks": "",
           "title": {
            "standoff": 15
           },
           "zerolinecolor": "white",
           "zerolinewidth": 2
          }
         }
        },
        "title": {
         "text": "unit price"
        },
        "xaxis": {
         "anchor": "y",
         "domain": [
          0,
          1
         ],
         "title": {
          "text": "unit price"
         }
        },
        "yaxis": {
         "anchor": "x",
         "domain": [
          0,
          1
         ],
         "title": {
          "text": "count"
         }
        }
       }
      },
      "image/png": "[encoded data removed]"
     },
     "metadata": {},
     "output_type": "display_data"
    },
    {
     "data": {
      "application/vnd.plotly.v1+json": {
       "config": {
        "plotlyServerURL": "https://plot.ly"
       },
       "data": [
        {
         "bingroup": "x",
         "hovertemplate": "quantity=%{x}<br>count=%{y}<extra></extra>",
         "legendgroup": "",
         "marker": {
          "color": "#636efa",
          "pattern": {
           "shape": ""
          }
         },
         "name": "",
         "orientation": "v",
         "showlegend": false,
         "type": "histogram",
         "x": {
          "bdata": "BwUHCAcHBgoCAwQEBQoKBgcGAwIFAwIFAwgBAgUJBQkIAgQBBQkICAECBggCBAkJBgoHBQQBAggCCAoGAwYJCgQKAgYKAQoKAwYJCgkJCgUGAwgEBQcFBwEGBAoHCQEBCgYDBgEJCQYHCgYGCQoCAwcJCQMFAQoCCAcJCAgHBQkICQcGBAYGAwUGCggKCgoBBgYKBAgIBAcJBggFAQUJBggBBwIKCAoKBgcFBQgGCAkIBwYDBwgKCAcDCAQBBAMCCQQFAQIBBAUGBAcKBQkJCgMJCQkFAwcBBQMIAwYHBQECAgkEBggCAwkECgIFBQUBCQICBAgIAwUEBwkKAgQIBAEGBAQJBAQKAQcECgQKBQIJAgYHCgQKCggBAQYEBQEJBwcKBwECCgUEBgQBAgEBBAgHBwgDAgYCBQkKAgMFBwQJAQYFBgQFBAQECQMFAgUFCQYDCQMHBwUDCQEIBwoKBwcJAQQKCgMBCAgCBgQECQQKCQcCBgYFBQkHBAQEAgUEBQEGCgkHAwoBCgEFBQkGCQYEAQUHBAUEBAUKAgUDCAEEAQIHAwMKCAEJBwMFCgICBgcBCQQGBAgFCAkBBwEKAwEBBgYFAQQFCQoKAQUKBAEFCgcGAQEGBAoIBQMFBAoBCAoFCgoECgQBCQIKCAoCCAIGAQgBAQICAQgDBgUGBwUHBwcBBQUCBQMGBgIGBQQCCgkGCAoJBQcBAQQGAwEEBgEECgkFBgMJCQYHAwIKBgMJCggGAgoKCQcHBQoHAgUHBAQEAgMEAgQDBAMFCgUGBwEDAwMDCQUCAQEKBgcEBwQBAgEJAwEKCQYFBgYDAQcKAQICCgMBCgMCAwMKBwEFAwMIAggFCQYBAgoFBgoJBAMBAwUBAwcGCgIEAwQGAgoCAwgKAgcECgYBAQYCBgICCgIDCQcKBwkFBAQJCggDCgkJBwQBCAMGBAkJCAUHAwMGBwkDBwQIAwoEBwQDAQcBCgcKCAkHAQICCAEKBQkHBAUKBQMICAYKBAoKCAUECAMGBAYEBwcBAgUHAQUJCAQBCAUHCAUDBwEECgcCAgEKAQUGCAcJCQQCBAEKCAoFAQgIBwgEBQQCAQMHBAkDCgoIBAgBBwEFBgoGAwECAgEDAQEJBgECBwoFCQgEBgkBAgkHAwMIAgMEBwEKBgQIAQEICAoICgYCBwEKCAoFCAUFBggHBgcJCQQFBwIECgUCCgMECAgDBgEEAwMJBgIHBgQBCQkCBgIKBwYDBwUDBgQJCgUHBwIBBQgDAwQEBgcJBgoJAQIBAwICCQMDBQoHBwMCAgQGAQEEBAkHBwUCCAoIBQoCCgEBCgEBBw==",
          "dtype": "i1"
         },
         "xaxis": "x",
         "yaxis": "y"
        }
       ],
       "layout": {
        "barmode": "relative",
        "legend": {
         "tracegroupgap": 0
        },
        "template": {
         "data": {
          "bar": [
           {
            "error_x": {
             "color": "#2a3f5f"
            },
            "error_y": {
             "color": "#2a3f5f"
            },
            "marker": {
             "line": {
              "color": "#E5ECF6",
              "width": 0.5
             },
             "pattern": {
              "fillmode": "overlay",
              "size": 10,
              "solidity": 0.2
             }
            },
            "type": "bar"
           }
          ],
          "barpolar": [
           {
            "marker": {
             "line": {
              "color": "#E5ECF6",
              "width": 0.5
             },
             "pattern": {
              "fillmode": "overlay",
              "size": 10,
              "solidity": 0.2
             }
            },
            "type": "barpolar"
           }
          ],
          "carpet": [
           {
            "aaxis": {
             "endlinecolor": "#2a3f5f",
             "gridcolor": "white",
             "linecolor": "white",
             "minorgridcolor": "white",
             "startlinecolor": "#2a3f5f"
            },
            "baxis": {
             "endlinecolor": "#2a3f5f",
             "gridcolor": "white",
             "linecolor": "white",
             "minorgridcolor": "white",
             "startlinecolor": "#2a3f5f"
            },
            "type": "carpet"
           }
          ],
          "choropleth": [
           {
            "colorbar": {
             "outlinewidth": 0,
             "ticks": ""
            },
            "type": "choropleth"
           }
          ],
          "contour": [
           {
            "colorbar": {
             "outlinewidth": 0,
             "ticks": ""
            },
            "colorscale": [
             [
              0,
              "#0d0887"
             ],
             [
              0.1111111111111111,
              "#46039f"
             ],
             [
              0.2222222222222222,
              "#7201a8"
             ],
             [
              0.3333333333333333,
              "#9c179e"
             ],
             [
              0.4444444444444444,
              "#bd3786"
             ],
             [
              0.5555555555555556,
              "#d8576b"
             ],
             [
              0.6666666666666666,
              "#ed7953"
             ],
             [
              0.7777777777777778,
              "#fb9f3a"
             ],
             [
              0.8888888888888888,
              "#fdca26"
             ],
             [
              1,
              "#f0f921"
             ]
            ],
            "type": "contour"
           }
          ],
          "contourcarpet": [
           {
            "colorbar": {
             "outlinewidth": 0,
             "ticks": ""
            },
            "type": "contourcarpet"
           }
          ],
          "heatmap": [
           {
            "colorbar": {
             "outlinewidth": 0,
             "ticks": ""
            },
            "colorscale": [
             [
              0,
              "#0d0887"
             ],
             [
              0.1111111111111111,
              "#46039f"
             ],
             [
              0.2222222222222222,
              "#7201a8"
             ],
             [
              0.3333333333333333,
              "#9c179e"
             ],
             [
              0.4444444444444444,
              "#bd3786"
             ],
             [
              0.5555555555555556,
              "#d8576b"
             ],
             [
              0.6666666666666666,
              "#ed7953"
             ],
             [
              0.7777777777777778,
              "#fb9f3a"
             ],
             [
              0.8888888888888888,
              "#fdca26"
             ],
             [
              1,
              "#f0f921"
             ]
            ],
            "type": "heatmap"
           }
          ],
          "histogram": [
           {
            "marker": {
             "pattern": {
              "fillmode": "overlay",
              "size": 10,
              "solidity": 0.2
             }
            },
            "type": "histogram"
           }
          ],
          "histogram2d": [
           {
            "colorbar": {
             "outlinewidth": 0,
             "ticks": ""
            },
            "colorscale": [
             [
              0,
              "#0d0887"
             ],
             [
              0.1111111111111111,
              "#46039f"
             ],
             [
              0.2222222222222222,
              "#7201a8"
             ],
             [
              0.3333333333333333,
              "#9c179e"
             ],
             [
              0.4444444444444444,
              "#bd3786"
             ],
             [
              0.5555555555555556,
              "#d8576b"
             ],
             [
              0.6666666666666666,
              "#ed7953"
             ],
             [
              0.7777777777777778,
              "#fb9f3a"
             ],
             [
              0.8888888888888888,
              "#fdca26"
             ],
             [
              1,
              "#f0f921"
             ]
            ],
            "type": "histogram2d"
           }
          ],
          "histogram2dcontour": [
           {
            "colorbar": {
             "outlinewidth": 0,
             "ticks": ""
            },
            "colorscale": [
             [
              0,
              "#0d0887"
             ],
             [
              0.1111111111111111,
              "#46039f"
             ],
             [
              0.2222222222222222,
              "#7201a8"
             ],
             [
              0.3333333333333333,
              "#9c179e"
             ],
             [
              0.4444444444444444,
              "#bd3786"
             ],
             [
              0.5555555555555556,
              "#d8576b"
             ],
             [
              0.6666666666666666,
              "#ed7953"
             ],
             [
              0.7777777777777778,
              "#fb9f3a"
             ],
             [
              0.8888888888888888,
              "#fdca26"
             ],
             [
              1,
              "#f0f921"
             ]
            ],
            "type": "histogram2dcontour"
           }
          ],
          "mesh3d": [
           {
            "colorbar": {
             "outlinewidth": 0,
             "ticks": ""
            },
            "type": "mesh3d"
           }
          ],
          "parcoords": [
           {
            "line": {
             "colorbar": {
              "outlinewidth": 0,
              "ticks": ""
             }
            },
            "type": "parcoords"
           }
          ],
          "pie": [
           {
            "automargin": true,
            "type": "pie"
           }
          ],
          "scatter": [
           {
            "fillpattern": {
             "fillmode": "overlay",
             "size": 10,
             "solidity": 0.2
            },
            "type": "scatter"
           }
          ],
          "scatter3d": [
           {
            "line": {
             "colorbar": {
              "outlinewidth": 0,
              "ticks": ""
             }
            },
            "marker": {
             "colorbar": {
              "outlinewidth": 0,
              "ticks": ""
             }
            },
            "type": "scatter3d"
           }
          ],
          "scattercarpet": [
           {
            "marker": {
             "colorbar": {
              "outlinewidth": 0,
              "ticks": ""
             }
            },
            "type": "scattercarpet"
           }
          ],
          "scattergeo": [
           {
            "marker": {
             "colorbar": {
              "outlinewidth": 0,
              "ticks": ""
             }
            },
            "type": "scattergeo"
           }
          ],
          "scattergl": [
           {
            "marker": {
             "colorbar": {
              "outlinewidth": 0,
              "ticks": ""
             }
            },
            "type": "scattergl"
           }
          ],
          "scattermap": [
           {
            "marker": {
             "colorbar": {
              "outlinewidth": 0,
              "ticks": ""
             }
            },
            "type": "scattermap"
           }
          ],
          "scattermapbox": [
           {
            "marker": {
             "colorbar": {
              "outlinewidth": 0,
              "ticks": ""
             }
            },
            "type": "scattermapbox"
           }
          ],
          "scatterpolar": [
           {
            "marker": {
             "colorbar": {
              "outlinewidth": 0,
              "ticks": ""
             }
            },
            "type": "scatterpolar"
           }
          ],
          "scatterpolargl": [
           {
            "marker": {
             "colorbar": {
              "outlinewidth": 0,
              "ticks": ""
             }
            },
            "type": "scatterpolargl"
           }
          ],
          "scatterternary": [
           {
            "marker": {
             "colorbar": {
              "outlinewidth": 0,
              "ticks": ""
             }
            },
            "type": "scatterternary"
           }
          ],
          "surface": [
           {
            "colorbar": {
             "outlinewidth": 0,
             "ticks": ""
            },
            "colorscale": [
             [
              0,
              "#0d0887"
             ],
             [
              0.1111111111111111,
              "#46039f"
             ],
             [
              0.2222222222222222,
              "#7201a8"
             ],
             [
              0.3333333333333333,
              "#9c179e"
             ],
             [
              0.4444444444444444,
              "#bd3786"
             ],
             [
              0.5555555555555556,
              "#d8576b"
             ],
             [
              0.6666666666666666,
              "#ed7953"
             ],
             [
              0.7777777777777778,
              "#fb9f3a"
             ],
             [
              0.8888888888888888,
              "#fdca26"
             ],
             [
              1,
              "#f0f921"
             ]
            ],
            "type": "surface"
           }
          ],
          "table": [
           {
            "cells": {
             "fill": {
              "color": "#EBF0F8"
             },
             "line": {
              "color": "white"
             }
            },
            "header": {
             "fill": {
              "color": "#C8D4E3"
             },
             "line": {
              "color": "white"
             }
            },
            "type": "table"
           }
          ]
         },
         "layout": {
          "annotationdefaults": {
           "arrowcolor": "#2a3f5f",
           "arrowhead": 0,
           "arrowwidth": 1
          },
          "autotypenumbers": "strict",
          "coloraxis": {
           "colorbar": {
            "outlinewidth": 0,
            "ticks": ""
           }
          },
          "colorscale": {
           "diverging": [
            [
             0,
             "#8e0152"
            ],
            [
             0.1,
             "#c51b7d"
            ],
            [
             0.2,
             "#de77ae"
            ],
            [
             0.3,
             "#f1b6da"
            ],
            [
             0.4,
             "#fde0ef"
            ],
            [
             0.5,
             "#f7f7f7"
            ],
            [
             0.6,
             "#e6f5d0"
            ],
            [
             0.7,
             "#b8e186"
            ],
            [
             0.8,
             "#7fbc41"
            ],
            [
             0.9,
             "#4d9221"
            ],
            [
             1,
             "#276419"
            ]
           ],
           "sequential": [
            [
             0,
             "#0d0887"
            ],
            [
             0.1111111111111111,
             "#46039f"
            ],
            [
             0.2222222222222222,
             "#7201a8"
            ],
            [
             0.3333333333333333,
             "#9c179e"
            ],
            [
             0.4444444444444444,
             "#bd3786"
            ],
            [
             0.5555555555555556,
             "#d8576b"
            ],
            [
             0.6666666666666666,
             "#ed7953"
            ],
            [
             0.7777777777777778,
             "#fb9f3a"
            ],
            [
             0.8888888888888888,
             "#fdca26"
            ],
            [
             1,
             "#f0f921"
            ]
           ],
           "sequentialminus": [
            [
             0,
             "#0d0887"
            ],
            [
             0.1111111111111111,
             "#46039f"
            ],
            [
             0.2222222222222222,
             "#7201a8"
            ],
            [
             0.3333333333333333,
             "#9c179e"
            ],
            [
             0.4444444444444444,
             "#bd3786"
            ],
            [
             0.5555555555555556,
             "#d8576b"
            ],
            [
             0.6666666666666666,
             "#ed7953"
            ],
            [
             0.7777777777777778,
             "#fb9f3a"
            ],
            [
             0.8888888888888888,
             "#fdca26"
            ],
            [
             1,
             "#f0f921"
            ]
           ]
          },
          "colorway": [
           "#636efa",
           "#EF553B",
           "#00cc96",
           "#ab63fa",
           "#FFA15A",
           "#19d3f3",
           "#FF6692",
           "#B6E880",
           "#FF97FF",
           "#FECB52"
          ],
          "font": {
           "color": "#2a3f5f"
          },
          "geo": {
           "bgcolor": "white",
           "lakecolor": "white",
           "landcolor": "#E5ECF6",
           "showlakes": true,
           "showland": true,
           "subunitcolor": "white"
          },
          "hoverlabel": {
           "align": "left"
          },
          "hovermode": "closest",
          "mapbox": {
           "style": "light"
          },
          "paper_bgcolor": "white",
          "plot_bgcolor": "#E5ECF6",
          "polar": {
           "angularaxis": {
            "gridcolor": "white",
            "linecolor": "white",
            "ticks": ""
           },
           "bgcolor": "#E5ECF6",
           "radialaxis": {
            "gridcolor": "white",
            "linecolor": "white",
            "ticks": ""
           }
          },
          "scene": {
           "xaxis": {
            "backgroundcolor": "#E5ECF6",
            "gridcolor": "white",
            "gridwidth": 2,
            "linecolor": "white",
            "showbackground": true,
            "ticks": "",
            "zerolinecolor": "white"
           },
           "yaxis": {
            "backgroundcolor": "#E5ECF6",
            "gridcolor": "white",
            "gridwidth": 2,
            "linecolor": "white",
            "showbackground": true,
            "ticks": "",
            "zerolinecolor": "white"
           },
           "zaxis": {
            "backgroundcolor": "#E5ECF6",
            "gridcolor": "white",
            "gridwidth": 2,
            "linecolor": "white",
            "showbackground": true,
            "ticks": "",
            "zerolinecolor": "white"
           }
          },
          "shapedefaults": {
           "line": {
            "color": "#2a3f5f"
           }
          },
          "ternary": {
           "aaxis": {
            "gridcolor": "white",
            "linecolor": "white",
            "ticks": ""
           },
           "baxis": {
            "gridcolor": "white",
            "linecolor": "white",
            "ticks": ""
           },
           "bgcolor": "#E5ECF6",
           "caxis": {
            "gridcolor": "white",
            "linecolor": "white",
            "ticks": ""
           }
          },
          "title": {
           "x": 0.05
          },
          "xaxis": {
           "automargin": true,
           "gridcolor": "white",
           "linecolor": "white",
           "ticks": "",
           "title": {
            "standoff": 15
           },
           "zerolinecolor": "white",
           "zerolinewidth": 2
          },
          "yaxis": {
           "automargin": true,
           "gridcolor": "white",
           "linecolor": "white",
           "ticks": "",
           "title": {
            "standoff": 15
           },
           "zerolinecolor": "white",
           "zerolinewidth": 2
          }
         }
        },
        "title": {
         "text": "quantity"
        },
        "xaxis": {
         "anchor": "y",
         "domain": [
          0,
          1
         ],
         "title": {
          "text": "quantity"
         }
        },
        "yaxis": {
         "anchor": "x",
         "domain": [
          0,
          1
         ],
         "title": {
          "text": "count"
         }
        }
       }
      },
      "image/png": "[encoded data removed]"
     },
     "metadata": {},
     "output_type": "display_data"
    },
    {
     "data": {
      "application/vnd.plotly.v1+json": {
       "config": {
        "plotlyServerURL": "https://plot.ly"
       },
       "data": [
        {
         "bingroup": "x",
         "hovertemplate": "tax 5%=%{x}<br>count=%{y}<extra></extra>",
         "legendgroup": "",
         "marker": {
          "color": "#636efa",
          "pattern": {
           "shape": ""
          }
         },
         "name": "",
         "orientation": "v",
         "showlegend": false,
         "type": "histogram",
         "x": {
          "bdata": "TmIQWDkkOkCPwvUoXI8OQLpJDAIrNzBAfT81XrpJN0BMN4lBYDU+QG3n+6nx4j1A9P3UeOmmNECkcD0K12NCQDVeukkMAg1AwcqhRbZzIEBeukkMAisHQJzEILByaBRAmpmZmZl5J0C4HoXrUZg1QLgehetR2EFABFYOLbIdPEDjpZvEICA4QJzEILByyDVALbKd76dmIEAfhetRuB4QQMP1KFyPgjVAvp8aL91kKkCPwvUoXI8KQEjhehSuRyFAEFg5tMiWKkDwp8ZLNwk1QDeJQWDl0Po/YhBYObSIIUDXo3A9Chc2QC2yne+nZiZAuB6F61GIN0BGtvP91JBBQKjGSzeJwUBAN4lBYOVQI0D8qfHSTeIzQHNoke18PwtAj8L1KFxPL0BMN4lBYGU7QCuHFtnO9zVAf2q8dJMYKEDy0k1iEFgRQIts5/upcRZAI9v5fmq8NEA9CtejcL1DQGQ730+Nl/g/mG4Sg8DKMkCmm8QgsII5QPyp8dJNAiJAnu+nxku3FkC4HoXrUahEQD0K16Nw/T9A7FG4HoVLJkBkO99PjZcMQOOlm8QgsOg/QmDl0CLb+T8ZBFYOLTJBQCPb+X5qvBFA7FG4HoXrQUBmZmZmZhZCQARWDi2yXSJA46WbxCCwDUDy0k1iELgwQPLSTWIQyDhAH4XrUbieH0Cyne+nxksuQD0K16NwvR9ALbKd76fGCkCcxCCwckg9QOF6FK5HsUNAhxbZzvdT7T8fhetRuF5GQI/C9ShcDz9A6SYxCKwcHUDZzvdT48U2QKJFtvP9zEBAMzMzMzPTNEDFILByaBE2QPyp8dJNAiJApHA9CteTQ0DhehSuR2EUQG8Sg8DKwT1AGy/dJAYBLUDNzMzMzMweQN9PjZduEjBAFK5H4Xp0KEAZBFYOLRI9QOF6FK5HITNAnMQgsHJIMUCwcmiR7fwAQEa28/3UGDdAwcqhRbbzIkCuR+F6FG42QBKDwMqhxR5Ag8DKoUX2PEAzMzMzM/MRQDvfT42XbhNASOF6FK73RUDhehSuR+ENQGZmZmZmph9Aj8L1KFzPOECWQ4ts53sDQBSuR+F6rEFAF9nO91PDJEDufD81XnoxQB+F61G4PiVAexSuR+EqRkAhsHJokW0gQN0kBoGVozJAokW28/2ULkCuR+F6FH5EQPyp8dJNYvo/SgwCK4d2LUBYObTIdn45QIts5/upITpAL90kBoEtQkCDwMqhRTYQQHE9Ctej8BVAJQaBlUOLBEDsUbgehesVQMdLN4lBYBVAtvP91HjpQ0DLoUW28/0zQARWDi2yfUZAqvHSTWKQOUBKDAIrh5Y2QFpkO99PZUBAAAAAAAAgIEA730+Nl44sQNEi2/l+ajtA46WbxCBQRECWQ4ts57srQN0kBoGVoztArBxaZDvfG0Bcj8L1KDw6QKRwPQrXYzhAN4lBYOUQK0CPwvUoXE8aQPT91HjppiRAFK5H4Xr0OUAAAAAAAAA9QDMzMzMzc0ZAAAAAAACgRkBmZmZmZiZBQIcW2c73U/g/w/UoXI9iN0Coxks3icErQKRwPQrXIy5A2/l+arx0KkBYObTIdr48QCuHFtnO9ylAAiuHFtlOMkD+1HjpJjEoQLTIdr6fukJALbKd76fGE0CLbOf7qTFAQMP1KFyPEjdAke18PzXeDECkcD0K1yMpQB1aZDvf30VAMQisHFoEPEASg8DKoUUxQGDl0CLbeQlAEFg5tMgGMECPwvUoXI8eQDMzMzMz8zNAukkMAisHMUCF61G4HuVHQB+F61G4vkhA+FPjpZvELkCiRbbz/VQ4QHE9CtejgDFAMzMzMzMDNECuR+F6FK4gQJZDi2znuy9ARIts5/upH0Db+X5qvHQuQCPb+X5qvCFA3SQGgZWDH0BEi2zn+yk2QArXo3A9CipABFYOLbJ9NkAtsp3vp8YuQAAAAAAAAB9AppvEILByK0Atsp3vp0YRQBkEVg4tsgVA2c73U+PlQkBKDAIrh5YiQFTjpZvEoA1ABoGVQ4vsK0DpJjEIrBwnQJzEILByaB1A4XoUrkfBQ0BxPQrXo3AUQHsUrkfhWiBAnu+nxku3DUB7FK5H4XoRQAisHFpkO/Q/mpmZmZmZIEApXI/C9dgxQHsUrkfh+hZA5dAi2/n+JkB1kxgEVn41QGZmZmZm5ilAhetRuB7FEUAnMQisHLokQK5H4XoU/j1ASOF6FK6HLEBGtvP91DgSQJzEILBycEZACKwcWmSbJ0Cyne+nxvtEQNejcD0KFzdAJzEIrBzaG0AnMQisHLokQHNoke18P+0/hetRuB7FGEAxCKwcWmQsQNNNYhBY+UJAwcqhRbYzIUD2KFyPwjUrQO58PzVeujVAH4XrUbieB0Cq8dJNYhDkP83MzMzMTBFAO99PjZduIUCBlUOLbDc/QNnO91PjpR1A9ihcj8I1O0CR7Xw/NV45QKAaL90kRiBA0SLb+X5q+T/dJAaBletCQLpJDAIrhy1AuB6F61H4OUBU46WbxKAiQClcj8L1aBFAXI/C9SgcJkBxPQrXo3AKQOOlm8Qg8BFAGQRWDi1yJkCcxCCwcugXQKRwPQrXoyJAj8L1KFwPKUCgGi/dJMZCQPCnxks3CTNA7FG4HoVrKEBxPQrXo/ARQEoMAiuHFi9AGQRWDi2SOUDD9Shcj/I0QLgehetRmDFAoBov3SQG9z8AAAAAAAATQI/C9ShcjzdAf2q8dJMYGkAK16NwPYoKQGQ730+NFx9AzczMzMzMGUDHSzeJQWAqQPp+arx040BAUrgehetRCkCkcD0K16MeQD0K16NwPSZASOF6FK7HBUC4HoXrUThBQMdLN4lBYBxAZmZmZmamQkCyne+nxkssQIXrUbgexTFA7FG4HoXbMEBMN4lBYOUAQIlBYOXQYiNAc2iR7Xw/8z99PzVeuuk9QCcxCKwcyjBAUrgehevRJUAv3SQGgRUzQI/C9Shcv0FAw/UoXI8CNkCWQ4ts5/s7QJqZmZmZmf0/JQaBlUOL6D9t5/up8fI9QMUgsHJoESNA7FG4HoWrMECLbOf7qfENQAAAAAAAYCVA0SLb+X76MEC0yHa+n5pAQGZmZmZmJjRAH4XrUbh+I0DLoUW28/0IQEoMAiuHFg1AXI/C9SgcIkD2KFyPwvUpQN9PjZduEhdA3SQGgZWDN0AbL90kBgEoQEa28/3UuBFAEFg5tMj2I0Boke18PzX/P4ts5/upcQNAYOXQItt5JEBWDi2yne8XQIXrUbgeRTlA8KfGSzcpLEA1XrpJDMJBQC2yne+nxg9AbxKDwMphIEC0yHa+n/o3QAisHFpkuxtA9ihcj8J1DEA9CtejcP0bQLgehetRiENAObTIdr7fI0Cyne+nxksJQMP1KFyPsjJAvp8aL93EJEBU46WbxKAhQFCNl24SoyRA8KfGSzeJ/z8dWmQ7308SQMP1KFyP4i5Abef7qfHSGUA/NV66SYwzQFK4HoXr8ThAJzEIrBzaMkDByqFFtnMkQEoMAiuHFh1AxSCwcmjRI0A9CtejcL0TQOF6FK5HQTNAYhBYObTIAkBmZmZmZmYNQDMzMzMzcxxAcT0K16MwQUDD9Shcj2IxQNejcD0KlxxAvp8aL91EM0C0yHa+n9ocQPT91HjpljNACtejcD3qOkBSuB6F60E4QArXo3A9yhpAVOOlm8SIQUBI4XoUrscMQJqZmZmZ2UFAEFg5tMg2IkAAAAAAAAAbQDMzMzMz00hAgZVDi2wXMkArhxbZziczQM3MzMzMTChA/tR46SYx+D+HFtnO99MxQGZmZmZmxjJAXI/C9SjcR0AAAAAAAIAQQLByaJHt/A1A/tR46SYxQEC+nxov3eRCQGiR7Xw/9SNAnu+nxkv3NUDl0CLb+X4gQLx0kxgEVjBA8tJNYhAYN0DHSzeJQWAqQLgehetRuBxAmpmZmZlZI0BvEoPAymEiQPyp8dJNYhhAnMQgsHIINUBzaJHtfD8pQPYoXI/CxTBAzczMzMwsOEBkO99PjdcvQMuhRbbztUBATDeJQWBlM0DsUbgehesSQJ7vp8ZLdzBAfT81XrpJBUBcj8L1KOw4QNv5fmq89C1AuB6F61F4JECHFtnO91MOQB1aZDvfDyxAKVyPwvUoMEC+nxov3VQ4QDVeukkMghlAvp8aL90kKECamZmZmfkyQO58PzVeug5A4XoUrkchOkBMN4lBYOUPQAAAAAAAYDNAw/UoXI8iK0CDwMqhRXYYQIlBYOXQoihAN4lBYOVQIUCcxCCwcqgnQLByaJHtfCJAke18PzVe5j8AAAAAAOAjQKJFtvP9HEFAgZVDi2znKkAUrkfhepQLQJZDi2zneytA6SYxCKycJkBSuB6F69EXQHsUrkfhGjFA5dAi2/l+AUC4HoXrUfgUQDVeukkMAg9ArBxaZDtfNEBGtvP91DgTQPT91HjpJiJAWmQ7309NEEAX2c73U+MWQIGVQ4tspyFAKVyPwvUoF0DXo3A9CjcpQD0K16NwTUhAvHSTGARWJEA/NV66SQzqP4PAyqFFRjJAeekmMQicMkAlBoGVQwsJQOF6FK5H0TBAmpmZmZmpRkBvEoPAyqEbQAIrhxbZThFA9P3UeOkmHEDVeOkmMbhAQGDl0CLb+QJATmIQWDlURkC8dJMYBJYwQL6fGi/dZCRA3SQGgZVDC0Dy0k1iEFgwQHE9CtejcBFAVg4tsp2vQUDRItv5fhJEQKabxCCwcuQ/PQrXo3C9GkCkcD0K16PuPylcj8L1qCtAi2zn+6lxG0AOLbKd76f1P7Kd76fGS/8/fT81XrppNkC28/3UeGkaQK5H4XoUzi9AAAAAAAAA9D8EVg4tsp0QQI/C9Shcjx1ACtejcD1qQUApXI/C9dhDQClcj8L1SDdAg8DKoUW2/D/D9Shcj0IkQDMzMzMzQ0JAFK5H4XqULUB/arx0kxjyP+xRuB6FqylAZmZmZmZGO0DhehSuRwEqQIPAyqFFNiZA3SQGgZVD8T/4U+Olm8QTQKjGSzeJITlAhetRuB4FIEBxPQrXo5A1QLpJDAIrBz1AXI/C9SgcMEDn+6nx0o0jQOF6FK5HoSBAqvHSTWLQMECPwvUoXC8xQOF6FK5H4f4/F9nO91NjOkBmZmZmZmYwQFK4HoXrkSJAcT0K16MwPkA9CtejcH0yQLKd76fGyyNA7FG4HoWLNEC4HoXrUbgdQJHtfD81XvI/7nw/NV56QUDD9Shcj8ILQClcj8L1qCNAqMZLN4lBJEA9CtejcD0YQO58PzVe+iNAke18PzVePkB9PzVeukkZQN9PjZduEjtAx0s3iUGgE0DP91PjpZs0QEoMAiuHlg1AhetRuB6F+T/D9Shcj8IbQLbz/dR4qSJAcT0K16OwEUDy0k1iEFgjQJqZmZmZGR1A16NwPQo3OUCF61G4HqUuQKRwPQrXIxNA/Knx0k3CP0AUrkfhenQlQHNoke18/zJApHA9CtdrQUA5tMh2vm80QEoMAiuHlgRArkfhehRuK0BSuB6F67EjQGIQWDm0yAtAexSuR+H6MUCTGARWDm0bQPp+arx08zhAEFg5tMh2JkDZzvdT4yUZQBfZzvdTgzhACtejcD3aNkCR7Xw/NV4fQIts5/up8RdArkfhehQuO0BEi2zn+xFGQGq8dJMYhB5AvHSTGARWQUAzMzMzM/MmQM/3U+OlWx1AUrgehetRHEBKDAIrh1YXQC/dJAaBlQ1ASgwCK4eWE0C4HoXrUTgtQFg5tMh2PjpAnMQgsHJoEkAnMQisHFoOQL6fGi/dJBBAoBov3SSGFkB7FK5H4XoMQD81XrpJDB9A7FG4HoVrLUA9CtejcG07QIXrUbgexSlAxSCwcmjRM0B1kxgEVi4hQI2XbhKDcDhAaJHtfD81OkD0/dR46aYaQD81XrpJDBtAsHJoke18FkA3iUFg5dAcQOF6FK5HoUhA5dAi2/n+KEBg5dAi27klQHnpJjEIbCNAzczMzMxMRkArhxbZzvcwQO58PzVeWjZAmpmZmZnZI0A9CtejcE1EQArXo3A9qjhAaJHtfD+VPUD6fmq8dPM7QPhT46Wb5DlAw/UoXI+CNEDsUbgehasqQHe+nxovXQxA2/l+arz0HEAK16NwPXo1QEw3iUFgdTxAH4XrUbgeKEDRItv5fmoZQGiR7Xw/tSlA5/up8dLNG0CiRbbz/VQQQN9PjZduEi9Af2q8dJOYIkAhsHJoke0MQF66SQwC6yJAyXa+nxqvJECBlUOLbGcfQEjhehSuhyVArkfhehTOPUA9CtejcD0NQF66SQwC6ytAK4cW2c73IEAIrBxaZDsCQI/C9ShcjyZACtejcD0KLUBiEFg5tMgBQFK4HoXrUR9ArBxaZDv/NEDNzMzMzGwiQFTjpZvEIBxABFYOLbKdEEDl0CLb+f4JQKRwPQrXY0NA7nw/NV5aMEDTTWIQWCkyQGZmZmZmZhlA16NwPQrHMkDRItv5fuojQLByaJHtfPg/Di2yne8nF0BeukkMAiv3P+kmMQisREZAnu+nxkv3K0BWDi2ynS8QQM3MzMzM3EBABoGVQ4tsMUBI4XoUrsc1QArXo3A9+jVAyXa+nxqPPUD6fmq8dBMqQBsv3SQGgSVA30+Nl25SEkASg8DKoY1AQAAAAAAA0ERAhetRuB5FEkBaZDvfT40fQAwCK4cWWRhAhetRuB6lREB7FK5H4fofQPLSTWIQWOM/XI/C9SgMQECR7Xw/NX4nQBsv3SQGwSBAKVyPwvXoLUAMAiuHFvknQK5H4XoUnkBApHA9CtdDJEB7FK5H4XoCQOF6FK5HoRFAwcqhRbZzH0BQjZduEqMtQPYoXI/CtUFA+FPjpZtEFkA1XrpJDAI9QJqZmZmZGQhABoGVQ4tsIUDjpZvEIBA1QIGVQ4ts5/o/YhBYObTI+D89CtejcL0oQArXo3A96jJAke18PzW+MEBSuB6F6zFCQCUGgZVDyzBA30+Nl24SKECHFtnO99MCQOOlm8Qg8BNAUrgehetxKkCuR+F6FO4bQK5H4XoULgZA1XjpJjHIGUDl0CLb+f4XQAAAAAAAoDFAZmZmZmbGRUDD9Shcj8IjQMHKoUW2cyNA30+Nl25SIUCNl24Sg8AMQMdLN4lBoCxAc2iR7Xw/EECF61G4HgU8QK5H4XoUriJA2c73U+MFJkC28/3UeOkqQD0K16NwvTZAGy/dJAbBIEAhsHJokW02QBfZzvdTYy1AmpmZmZl5PUCamZmZmRktQC/dJAaBlf8/DAIrhxbZ+z9kO99PjZctQMl2vp8aLwFAGQRWDi2yG0CkcD0K16MTQDvfT42X7hlASOF6FK7HP0D0/dR46SYdQOF6FK5HISRA2c73U+OVP0DdJAaBlUMzQHE9CtejUDhAAiuHFtmuOUDsUbgehas3QEjhehSu1zVAbxKDwMqhFUDHSzeJQeAoQFYOLbKdTz9AAAAAAABgSEBEi2zn+yk4QDEIrBxaZBNAhetRuB7FI0BQjZduEhtCQCUGgZVD40NAO99PjZceOUAzMzMzMzMhQGQ730+NlwtAy6FFtvP9GEDXo3A9CtcOQFYOLbKdLzhAg8DKoUU2LkBzaJHtfHdBQK5H4XoU7hhAPQrXo3C9Q0DXo3A9CtchQIlBYOXQAjlADi2yne+n/D/ufD81XjobQGDl0CLb+RRAMQisHFrkIUA/NV66SWREQEa28/3UeBpAd76fGi+9KUB56SYxCKwSQM3MzMzMzCZAsp3vp8arIECPwvUoXG9BQMHKoUW2czNAF9nO91NDMkBCYOXQItsRQM3MzMzMzCBAhetRuB6F7z8CK4cW2Y46QLByaJHtfAVAzczMzMx8REDsUbgehWs8QOF6FK5HYT1AHVpkO99PQkBqvHSTGCRFQC2yne+ndjNAnu+nxkv3EED0/dR46aYcQPT91HjpJg5AvHSTGARWKUAj2/l+arz+Px+F61G4TkBAj8L1KFwPBUCsHFpkOx8WQJHtfD81bjxAQmDl0CLbEUBI4XoUrkcbQOxRuB6FayFAUrgehetRMkC8dJMYBHYpQGiR7Xw/dUNAZDvfT42XLEDb+X5qvPQ8QJqZmZmZ2SJADi2yne8nJkDNzMzMzExDQLgehetRCEJAWmQ730+NOUDhehSuR2EFQDMzMzMzMyZAZDvfT40XQ0DFILByaNEmQCGwcmiRbRBAVOOlm8QgM0A730+Nl24LQM/3U+OlGzNAy6FFtvMNPkCWQ4ts58s3QCuHFtnO9wRAw/UoXI9CGkBcj8L1KNwcQLKd76fG2zZAkxgEVg6tEkAAAAAAAEAZQFpkO99PxUNAcT0K16NwIUDByqFFtvMyQOXQItv5fvg/tMh2vp+aMUBSuB6F61EEQO58PzVeGjpAqMZLN4nBPEB7FK5H4foFQGq8dJMYJCJAdZMYBFaeNECq8dJNYpACQOxRuB6FaytASOF6FK5XSEAUrkfhejRAQL6fGi/dpBJAWDm0yHa+BUAMAiuHFlkIQD0K16NwfShAdZMYBFaOEkBcj8L1KKw1QOkmMQisnBtAKVyPwvUoKECgGi/dJJY3QNV46SYxCDZARIts5/sBQUCwcmiR7fwuQIlBYOXQoiJAZDvfT40XJEBmZmZmZmbsP9ejcD0KFz9AMzMzMzMzEUDhehSuRyE0QK5H4XoUPjBASOF6FK4HE0Cmm8QgsHIzQGIQWDm0SDVAAiuHFtnOL0C0yHa+nxorQAisHFpkOzNAFK5H4XqUJ0AOLbKd7yclQN9PjZduEhNAEoPAyqFF4D+wcmiR7ZwkQLpJDAIrBzVAz/dT46WbEUCoxks3iTlAQPhT46WbxBhAzczMzMw8QECuR+F6FI5CQEw3iUFg5RBAukkMAisHKUD2KFyPwvUSQMP1KFyPQhJAiUFg5dCCLEDByqFFtvMEQIXrUbgeRSNAukkMAivHKkCPwvUoXO87QNV46SYxiCFARIts5/spH0AfhetRuB4IQPp+arx0kw9AmG4Sg8DK9z91kxgEVg7xP/yp8dJNIixA5/up8dJNDUCBlUOLbOfxP9nO91PjZUBAexSuR+G6PUCkcD0K16MNQBkEVg4tsiNA5/up8dKdMkCF61G4HmU6QM3MzMzM/DdAy6FFtvNtMEBMN4lBYOUgQNnO91PjpRZA9P3UeOlGMUDl0CLb+W41QBsv3SQGQRFA0SLb+X5q9D/n+6nx0k0UQB1aZDvf3zFAjZduEoPgJ0Dwp8ZLN0kUQEJg5dAiG0JAVOOlm8QgGUB56SYxCCwNQLx0kxgE1ilAObTIdr5fIUCamZmZmZkGQK5H4XoUbiVAK4cW2c63OkBvEoPAyqESQLTIdr6fGjpAcT0K16PwBEDNzMzMzMz/Pxsv3SQGAUJAXI/C9ShcE0B7FK5H4ZowQH0/NV66SRBAPQrXo3D9L0D0/dR46aYkQF66SQwCqyBADi2yne/nL0AUrkfhepQRQK5H4XoUXkJAGy/dJAaBE0B7FK5H4TpDQArXo3A96jRARIts5/spN0CPwvUoXB83QOF6FK5HYRxAhetRuB5FLkCiRbbz/dRDQPyp8dJNQjVA6SYxCKxcLED2KFyPwvU9QPCnxks3iS9AIbByaJEtNEAX2c73U2MiQHsUrkfhuhtAMQisHFokEECHFtnO91MXQCcxCKwcWi9A16NwPQonRUC4HoXrUbg0QDeJQWDl0B9A4XoUrkeBOEA9CtejcH0RQMHKoUW2cyZAObTIdr6fQkDwp8ZLN4k0QOF6FK5H4S1AJQaBlUNLJUCkcD0K1yMBQMl2vp8a7zJAN4lBYOWwJEBQjZduEoMPQF66SQwCGzBAvp8aL92kE0CR7Xw/NV70P9NNYhBYGT1AbxKDwMohJUA/NV66SQwGQLbz/dR4qRFATmIQWDnUMUAzMzMzM9tDQHNoke18PwRAYOXQItv5PUDsUbgehasgQFyPwvUonEJAIbByaJFtNkBSuB6F6/EyQJ7vp8ZLtylABoGVQ4ucO0AfhetRuF42QI2XbhKDoCtAHVpkO98vMUDP91PjpZsqQBKDwMqhdUZA16NwPQrXNkCF61G4HmUpQNNNYhBYOQxA5/up8dJtQECamZmZmdkgQFCNl24SgwVASOF6FK7nIUC+nxov3SQlQBkEVg4t8hdASOF6FK5HCkCkcD0K1yMpQKJFtvP91BBA2c73U+PFM0AGgZVDi8wtQJzEILByuDZA6SYxCKycK0CamZmZmZkfQIlBYOXQMkZATDeJQWBlEkCDwMqhRbYAQM3MzMzMzOg/sp3vp8YLLUBEi2zn+6kKQARWDi2ynQ5AuB6F61H4LUAhsHJokU0oQPYoXI/C9QJAH4XrUbg+IUC4HoXrUShFQIPAyqFF1ilA7nw/NV56PkCgGi/dJAYoQGDl0CLbOSFAK4cW2c73E0B3vp8aL90tQOxRuB6F6x9AXI/C9Shc9D/P91PjpRsLQLx0kxgE1idAw/UoXI9CJ0ACK4cW2e5FQJHtfD81fkFATDeJQWDdQEB7FK5H4dovQARWDi2ynfc/zczMzMzMOED2KFyPwpVEQNnO91PjJT5ASOF6FK5HLEBmZmZmZiZDQIPAyqFFNhdAPQrXo3B9IUDhehSuR2EIQKRwPQrXIwBAuB6F61FYSEBGtvP91Hj5P4cW2c73UwpAJQaBlUPrPkA=",
          "dtype": "f8"
         },
         "xaxis": "x",
         "yaxis": "y"
        }
       ],
       "layout": {
        "barmode": "relative",
        "legend": {
         "tracegroupgap": 0
        },
        "template": {
         "data": {
          "bar": [
           {
            "error_x": {
             "color": "#2a3f5f"
            },
            "error_y": {
             "color": "#2a3f5f"
            },
            "marker": {
             "line": {
              "color": "#E5ECF6",
              "width": 0.5
             },
             "pattern": {
              "fillmode": "overlay",
              "size": 10,
              "solidity": 0.2
             }
            },
            "type": "bar"
           }
          ],
          "barpolar": [
           {
            "marker": {
             "line": {
              "color": "#E5ECF6",
              "width": 0.5
             },
             "pattern": {
              "fillmode": "overlay",
              "size": 10,
              "solidity": 0.2
             }
            },
            "type": "barpolar"
           }
          ],
          "carpet": [
           {
            "aaxis": {
             "endlinecolor": "#2a3f5f",
             "gridcolor": "white",
             "linecolor": "white",
             "minorgridcolor": "white",
             "startlinecolor": "#2a3f5f"
            },
            "baxis": {
             "endlinecolor": "#2a3f5f",
             "gridcolor": "white",
             "linecolor": "white",
             "minorgridcolor": "white",
             "startlinecolor": "#2a3f5f"
            },
            "type": "carpet"
           }
          ],
          "choropleth": [
           {
            "colorbar": {
             "outlinewidth": 0,
             "ticks": ""
            },
            "type": "choropleth"
           }
          ],
          "contour": [
           {
            "colorbar": {
             "outlinewidth": 0,
             "ticks": ""
            },
            "colorscale": [
             [
              0,
              "#0d0887"
             ],
             [
              0.1111111111111111,
              "#46039f"
             ],
             [
              0.2222222222222222,
              "#7201a8"
             ],
             [
              0.3333333333333333,
              "#9c179e"
             ],
             [
              0.4444444444444444,
              "#bd3786"
             ],
             [
              0.5555555555555556,
              "#d8576b"
             ],
             [
              0.6666666666666666,
              "#ed7953"
             ],
             [
              0.7777777777777778,
              "#fb9f3a"
             ],
             [
              0.8888888888888888,
              "#fdca26"
             ],
             [
              1,
              "#f0f921"
             ]
            ],
            "type": "contour"
           }
          ],
          "contourcarpet": [
           {
            "colorbar": {
             "outlinewidth": 0,
             "ticks": ""
            },
            "type": "contourcarpet"
           }
          ],
          "heatmap": [
           {
            "colorbar": {
             "outlinewidth": 0,
             "ticks": ""
            },
            "colorscale": [
             [
              0,
              "#0d0887"
             ],
             [
              0.1111111111111111,
              "#46039f"
             ],
             [
              0.2222222222222222,
              "#7201a8"
             ],
             [
              0.3333333333333333,
              "#9c179e"
             ],
             [
              0.4444444444444444,
              "#bd3786"
             ],
             [
              0.5555555555555556,
              "#d8576b"
             ],
             [
              0.6666666666666666,
              "#ed7953"
             ],
             [
              0.7777777777777778,
              "#fb9f3a"
             ],
             [
              0.8888888888888888,
              "#fdca26"
             ],
             [
              1,
              "#f0f921"
             ]
            ],
            "type": "heatmap"
           }
          ],
          "histogram": [
           {
            "marker": {
             "pattern": {
              "fillmode": "overlay",
              "size": 10,
              "solidity": 0.2
             }
            },
            "type": "histogram"
           }
          ],
          "histogram2d": [
           {
            "colorbar": {
             "outlinewidth": 0,
             "ticks": ""
            },
            "colorscale": [
             [
              0,
              "#0d0887"
             ],
             [
              0.1111111111111111,
              "#46039f"
             ],
             [
              0.2222222222222222,
              "#7201a8"
             ],
             [
              0.3333333333333333,
              "#9c179e"
             ],
             [
              0.4444444444444444,
              "#bd3786"
             ],
             [
              0.5555555555555556,
              "#d8576b"
             ],
             [
              0.6666666666666666,
              "#ed7953"
             ],
             [
              0.7777777777777778,
              "#fb9f3a"
             ],
             [
              0.8888888888888888,
              "#fdca26"
             ],
             [
              1,
              "#f0f921"
             ]
            ],
            "type": "histogram2d"
           }
          ],
          "histogram2dcontour": [
           {
            "colorbar": {
             "outlinewidth": 0,
             "ticks": ""
            },
            "colorscale": [
             [
              0,
              "#0d0887"
             ],
             [
              0.1111111111111111,
              "#46039f"
             ],
             [
              0.2222222222222222,
              "#7201a8"
             ],
             [
              0.3333333333333333,
              "#9c179e"
             ],
             [
              0.4444444444444444,
              "#bd3786"
             ],
             [
              0.5555555555555556,
              "#d8576b"
             ],
             [
              0.6666666666666666,
              "#ed7953"
             ],
             [
              0.7777777777777778,
              "#fb9f3a"
             ],
             [
              0.8888888888888888,
              "#fdca26"
             ],
             [
              1,
              "#f0f921"
             ]
            ],
            "type": "histogram2dcontour"
           }
          ],
          "mesh3d": [
           {
            "colorbar": {
             "outlinewidth": 0,
             "ticks": ""
            },
            "type": "mesh3d"
           }
          ],
          "parcoords": [
           {
            "line": {
             "colorbar": {
              "outlinewidth": 0,
              "ticks": ""
             }
            },
            "type": "parcoords"
           }
          ],
          "pie": [
           {
            "automargin": true,
            "type": "pie"
           }
          ],
          "scatter": [
           {
            "fillpattern": {
             "fillmode": "overlay",
             "size": 10,
             "solidity": 0.2
            },
            "type": "scatter"
           }
          ],
          "scatter3d": [
           {
            "line": {
             "colorbar": {
              "outlinewidth": 0,
              "ticks": ""
             }
            },
            "marker": {
             "colorbar": {
              "outlinewidth": 0,
              "ticks": ""
             }
            },
            "type": "scatter3d"
           }
          ],
          "scattercarpet": [
           {
            "marker": {
             "colorbar": {
              "outlinewidth": 0,
              "ticks": ""
             }
            },
            "type": "scattercarpet"
           }
          ],
          "scattergeo": [
           {
            "marker": {
             "colorbar": {
              "outlinewidth": 0,
              "ticks": ""
             }
            },
            "type": "scattergeo"
           }
          ],
          "scattergl": [
           {
            "marker": {
             "colorbar": {
              "outlinewidth": 0,
              "ticks": ""
             }
            },
            "type": "scattergl"
           }
          ],
          "scattermap": [
           {
            "marker": {
             "colorbar": {
              "outlinewidth": 0,
              "ticks": ""
             }
            },
            "type": "scattermap"
           }
          ],
          "scattermapbox": [
           {
            "marker": {
             "colorbar": {
              "outlinewidth": 0,
              "ticks": ""
             }
            },
            "type": "scattermapbox"
           }
          ],
          "scatterpolar": [
           {
            "marker": {
             "colorbar": {
              "outlinewidth": 0,
              "ticks": ""
             }
            },
            "type": "scatterpolar"
           }
          ],
          "scatterpolargl": [
           {
            "marker": {
             "colorbar": {
              "outlinewidth": 0,
              "ticks": ""
             }
            },
            "type": "scatterpolargl"
           }
          ],
          "scatterternary": [
           {
            "marker": {
             "colorbar": {
              "outlinewidth": 0,
              "ticks": ""
             }
            },
            "type": "scatterternary"
           }
          ],
          "surface": [
           {
            "colorbar": {
             "outlinewidth": 0,
             "ticks": ""
            },
            "colorscale": [
             [
              0,
              "#0d0887"
             ],
             [
              0.1111111111111111,
              "#46039f"
             ],
             [
              0.2222222222222222,
              "#7201a8"
             ],
             [
              0.3333333333333333,
              "#9c179e"
             ],
             [
              0.4444444444444444,
              "#bd3786"
             ],
             [
              0.5555555555555556,
              "#d8576b"
             ],
             [
              0.6666666666666666,
              "#ed7953"
             ],
             [
              0.7777777777777778,
              "#fb9f3a"
             ],
             [
              0.8888888888888888,
              "#fdca26"
             ],
             [
              1,
              "#f0f921"
             ]
            ],
            "type": "surface"
           }
          ],
          "table": [
           {
            "cells": {
             "fill": {
              "color": "#EBF0F8"
             },
             "line": {
              "color": "white"
             }
            },
            "header": {
             "fill": {
              "color": "#C8D4E3"
             },
             "line": {
              "color": "white"
             }
            },
            "type": "table"
           }
          ]
         },
         "layout": {
          "annotationdefaults": {
           "arrowcolor": "#2a3f5f",
           "arrowhead": 0,
           "arrowwidth": 1
          },
          "autotypenumbers": "strict",
          "coloraxis": {
           "colorbar": {
            "outlinewidth": 0,
            "ticks": ""
           }
          },
          "colorscale": {
           "diverging": [
            [
             0,
             "#8e0152"
            ],
            [
             0.1,
             "#c51b7d"
            ],
            [
             0.2,
             "#de77ae"
            ],
            [
             0.3,
             "#f1b6da"
            ],
            [
             0.4,
             "#fde0ef"
            ],
            [
             0.5,
             "#f7f7f7"
            ],
            [
             0.6,
             "#e6f5d0"
            ],
            [
             0.7,
             "#b8e186"
            ],
            [
             0.8,
             "#7fbc41"
            ],
            [
             0.9,
             "#4d9221"
            ],
            [
             1,
             "#276419"
            ]
           ],
           "sequential": [
            [
             0,
             "#0d0887"
            ],
            [
             0.1111111111111111,
             "#46039f"
            ],
            [
             0.2222222222222222,
             "#7201a8"
            ],
            [
             0.3333333333333333,
             "#9c179e"
            ],
            [
             0.4444444444444444,
             "#bd3786"
            ],
            [
             0.5555555555555556,
             "#d8576b"
            ],
            [
             0.6666666666666666,
             "#ed7953"
            ],
            [
             0.7777777777777778,
             "#fb9f3a"
            ],
            [
             0.8888888888888888,
             "#fdca26"
            ],
            [
             1,
             "#f0f921"
            ]
           ],
           "sequentialminus": [
            [
             0,
             "#0d0887"
            ],
            [
             0.1111111111111111,
             "#46039f"
            ],
            [
             0.2222222222222222,
             "#7201a8"
            ],
            [
             0.3333333333333333,
             "#9c179e"
            ],
            [
             0.4444444444444444,
             "#bd3786"
            ],
            [
             0.5555555555555556,
             "#d8576b"
            ],
            [
             0.6666666666666666,
             "#ed7953"
            ],
            [
             0.7777777777777778,
             "#fb9f3a"
            ],
            [
             0.8888888888888888,
             "#fdca26"
            ],
            [
             1,
             "#f0f921"
            ]
           ]
          },
          "colorway": [
           "#636efa",
           "#EF553B",
           "#00cc96",
           "#ab63fa",
           "#FFA15A",
           "#19d3f3",
           "#FF6692",
           "#B6E880",
           "#FF97FF",
           "#FECB52"
          ],
          "font": {
           "color": "#2a3f5f"
          },
          "geo": {
           "bgcolor": "white",
           "lakecolor": "white",
           "landcolor": "#E5ECF6",
           "showlakes": true,
           "showland": true,
           "subunitcolor": "white"
          },
          "hoverlabel": {
           "align": "left"
          },
          "hovermode": "closest",
          "mapbox": {
           "style": "light"
          },
          "paper_bgcolor": "white",
          "plot_bgcolor": "#E5ECF6",
          "polar": {
           "angularaxis": {
            "gridcolor": "white",
            "linecolor": "white",
            "ticks": ""
           },
           "bgcolor": "#E5ECF6",
           "radialaxis": {
            "gridcolor": "white",
            "linecolor": "white",
            "ticks": ""
           }
          },
          "scene": {
           "xaxis": {
            "backgroundcolor": "#E5ECF6",
            "gridcolor": "white",
            "gridwidth": 2,
            "linecolor": "white",
            "showbackground": true,
            "ticks": "",
            "zerolinecolor": "white"
           },
           "yaxis": {
            "backgroundcolor": "#E5ECF6",
            "gridcolor": "white",
            "gridwidth": 2,
            "linecolor": "white",
            "showbackground": true,
            "ticks": "",
            "zerolinecolor": "white"
           },
           "zaxis": {
            "backgroundcolor": "#E5ECF6",
            "gridcolor": "white",
            "gridwidth": 2,
            "linecolor": "white",
            "showbackground": true,
            "ticks": "",
            "zerolinecolor": "white"
           }
          },
          "shapedefaults": {
           "line": {
            "color": "#2a3f5f"
           }
          },
          "ternary": {
           "aaxis": {
            "gridcolor": "white",
            "linecolor": "white",
            "ticks": ""
           },
           "baxis": {
            "gridcolor": "white",
            "linecolor": "white",
            "ticks": ""
           },
           "bgcolor": "#E5ECF6",
           "caxis": {
            "gridcolor": "white",
            "linecolor": "white",
            "ticks": ""
           }
          },
          "title": {
           "x": 0.05
          },
          "xaxis": {
           "automargin": true,
           "gridcolor": "white",
           "linecolor": "white",
           "ticks": "",
           "title": {
            "standoff": 15
           },
           "zerolinecolor": "white",
           "zerolinewidth": 2
          },
          "yaxis": {
           "automargin": true,
           "gridcolor": "white",
           "linecolor": "white",
           "ticks": "",
           "title": {
            "standoff": 15
           },
           "zerolinecolor": "white",
           "zerolinewidth": 2
          }
         }
        },
        "title": {
         "text": "tax 5%"
        },
        "xaxis": {
         "anchor": "y",
         "domain": [
          0,
          1
         ],
         "title": {
          "text": "tax 5%"
         }
        },
        "yaxis": {
         "anchor": "x",
         "domain": [
          0,
          1
         ],
         "title": {
          "text": "count"
         }
        }
       }
      },
      "image/png": "[encoded data removed]"
     },
     "metadata": {},
     "output_type": "display_data"
    },
    {
     "data": {
      "application/vnd.plotly.v1+json": {
       "config": {
        "plotlyServerURL": "https://plot.ly"
       },
       "data": [
        {
         "bingroup": "x",
         "hovertemplate": "sales=%{x}<br>count=%{y}<extra></extra>",
         "legendgroup": "",
         "marker": {
          "color": "#636efa",
          "pattern": {
           "shape": ""
          }
         },
         "name": "",
         "orientation": "v",
         "showlegend": false,
         "type": "histogram",
         "x": {
          "bdata": "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",
          "dtype": "f8"
         },
         "xaxis": "x",
         "yaxis": "y"
        }
       ],
       "layout": {
        "barmode": "relative",
        "legend": {
         "tracegroupgap": 0
        },
        "template": {
         "data": {
          "bar": [
           {
            "error_x": {
             "color": "#2a3f5f"
            },
            "error_y": {
             "color": "#2a3f5f"
            },
            "marker": {
             "line": {
              "color": "#E5ECF6",
              "width": 0.5
             },
             "pattern": {
              "fillmode": "overlay",
              "size": 10,
              "solidity": 0.2
             }
            },
            "type": "bar"
           }
          ],
          "barpolar": [
           {
            "marker": {
             "line": {
              "color": "#E5ECF6",
              "width": 0.5
             },
             "pattern": {
              "fillmode": "overlay",
              "size": 10,
              "solidity": 0.2
             }
            },
            "type": "barpolar"
           }
          ],
          "carpet": [
           {
            "aaxis": {
             "endlinecolor": "#2a3f5f",
             "gridcolor": "white",
             "linecolor": "white",
             "minorgridcolor": "white",
             "startlinecolor": "#2a3f5f"
            },
            "baxis": {
             "endlinecolor": "#2a3f5f",
             "gridcolor": "white",
             "linecolor": "white",
             "minorgridcolor": "white",
             "startlinecolor": "#2a3f5f"
            },
            "type": "carpet"
           }
          ],
          "choropleth": [
           {
            "colorbar": {
             "outlinewidth": 0,
             "ticks": ""
            },
            "type": "choropleth"
           }
          ],
          "contour": [
           {
            "colorbar": {
             "outlinewidth": 0,
             "ticks": ""
            },
            "colorscale": [
             [
              0,
              "#0d0887"
             ],
             [
              0.1111111111111111,
              "#46039f"
             ],
             [
              0.2222222222222222,
              "#7201a8"
             ],
             [
              0.3333333333333333,
              "#9c179e"
             ],
             [
              0.4444444444444444,
              "#bd3786"
             ],
             [
              0.5555555555555556,
              "#d8576b"
             ],
             [
              0.6666666666666666,
              "#ed7953"
             ],
             [
              0.7777777777777778,
              "#fb9f3a"
             ],
             [
              0.8888888888888888,
              "#fdca26"
             ],
             [
              1,
              "#f0f921"
             ]
            ],
            "type": "contour"
           }
          ],
          "contourcarpet": [
           {
            "colorbar": {
             "outlinewidth": 0,
             "ticks": ""
            },
            "type": "contourcarpet"
           }
          ],
          "heatmap": [
           {
            "colorbar": {
             "outlinewidth": 0,
             "ticks": ""
            },
            "colorscale": [
             [
              0,
              "#0d0887"
             ],
             [
              0.1111111111111111,
              "#46039f"
             ],
             [
              0.2222222222222222,
              "#7201a8"
             ],
             [
              0.3333333333333333,
              "#9c179e"
             ],
             [
              0.4444444444444444,
              "#bd3786"
             ],
             [
              0.5555555555555556,
              "#d8576b"
             ],
             [
              0.6666666666666666,
              "#ed7953"
             ],
             [
              0.7777777777777778,
              "#fb9f3a"
             ],
             [
              0.8888888888888888,
              "#fdca26"
             ],
             [
              1,
              "#f0f921"
             ]
            ],
            "type": "heatmap"
           }
          ],
          "histogram": [
           {
            "marker": {
             "pattern": {
              "fillmode": "overlay",
              "size": 10,
              "solidity": 0.2
             }
            },
            "type": "histogram"
           }
          ],
          "histogram2d": [
           {
            "colorbar": {
             "outlinewidth": 0,
             "ticks": ""
            },
            "colorscale": [
             [
              0,
              "#0d0887"
             ],
             [
              0.1111111111111111,
              "#46039f"
             ],
             [
              0.2222222222222222,
              "#7201a8"
             ],
             [
              0.3333333333333333,
              "#9c179e"
             ],
             [
              0.4444444444444444,
              "#bd3786"
             ],
             [
              0.5555555555555556,
              "#d8576b"
             ],
             [
              0.6666666666666666,
              "#ed7953"
             ],
             [
              0.7777777777777778,
              "#fb9f3a"
             ],
             [
              0.8888888888888888,
              "#fdca26"
             ],
             [
              1,
              "#f0f921"
             ]
            ],
            "type": "histogram2d"
           }
          ],
          "histogram2dcontour": [
           {
            "colorbar": {
             "outlinewidth": 0,
             "ticks": ""
            },
            "colorscale": [
             [
              0,
              "#0d0887"
             ],
             [
              0.1111111111111111,
              "#46039f"
             ],
             [
              0.2222222222222222,
              "#7201a8"
             ],
             [
              0.3333333333333333,
              "#9c179e"
             ],
             [
              0.4444444444444444,
              "#bd3786"
             ],
             [
              0.5555555555555556,
              "#d8576b"
             ],
             [
              0.6666666666666666,
              "#ed7953"
             ],
             [
              0.7777777777777778,
              "#fb9f3a"
             ],
             [
              0.8888888888888888,
              "#fdca26"
             ],
             [
              1,
              "#f0f921"
             ]
            ],
            "type": "histogram2dcontour"
           }
          ],
          "mesh3d": [
           {
            "colorbar": {
             "outlinewidth": 0,
             "ticks": ""
            },
            "type": "mesh3d"
           }
          ],
          "parcoords": [
           {
            "line": {
             "colorbar": {
              "outlinewidth": 0,
              "ticks": ""
             }
            },
            "type": "parcoords"
           }
          ],
          "pie": [
           {
            "automargin": true,
            "type": "pie"
           }
          ],
          "scatter": [
           {
            "fillpattern": {
             "fillmode": "overlay",
             "size": 10,
             "solidity": 0.2
            },
            "type": "scatter"
           }
          ],
          "scatter3d": [
           {
            "line": {
             "colorbar": {
              "outlinewidth": 0,
              "ticks": ""
             }
            },
            "marker": {
             "colorbar": {
              "outlinewidth": 0,
              "ticks": ""
             }
            },
            "type": "scatter3d"
           }
          ],
          "scattercarpet": [
           {
            "marker": {
             "colorbar": {
              "outlinewidth": 0,
              "ticks": ""
             }
            },
            "type": "scattercarpet"
           }
          ],
          "scattergeo": [
           {
            "marker": {
             "colorbar": {
              "outlinewidth": 0,
              "ticks": ""
             }
            },
            "type": "scattergeo"
           }
          ],
          "scattergl": [
           {
            "marker": {
             "colorbar": {
              "outlinewidth": 0,
              "ticks": ""
             }
            },
            "type": "scattergl"
           }
          ],
          "scattermap": [
           {
            "marker": {
             "colorbar": {
              "outlinewidth": 0,
              "ticks": ""
             }
            },
            "type": "scattermap"
           }
          ],
          "scattermapbox": [
           {
            "marker": {
             "colorbar": {
              "outlinewidth": 0,
              "ticks": ""
             }
            },
            "type": "scattermapbox"
           }
          ],
          "scatterpolar": [
           {
            "marker": {
             "colorbar": {
              "outlinewidth": 0,
              "ticks": ""
             }
            },
            "type": "scatterpolar"
           }
          ],
          "scatterpolargl": [
           {
            "marker": {
             "colorbar": {
              "outlinewidth": 0,
              "ticks": ""
             }
            },
            "type": "scatterpolargl"
           }
          ],
          "scatterternary": [
           {
            "marker": {
             "colorbar": {
              "outlinewidth": 0,
              "ticks": ""
             }
            },
            "type": "scatterternary"
           }
          ],
          "surface": [
           {
            "colorbar": {
             "outlinewidth": 0,
             "ticks": ""
            },
            "colorscale": [
             [
              0,
              "#0d0887"
             ],
             [
              0.1111111111111111,
              "#46039f"
             ],
             [
              0.2222222222222222,
              "#7201a8"
             ],
             [
              0.3333333333333333,
              "#9c179e"
             ],
             [
              0.4444444444444444,
              "#bd3786"
             ],
             [
              0.5555555555555556,
              "#d8576b"
             ],
             [
              0.6666666666666666,
              "#ed7953"
             ],
             [
              0.7777777777777778,
              "#fb9f3a"
             ],
             [
              0.8888888888888888,
              "#fdca26"
             ],
             [
              1,
              "#f0f921"
             ]
            ],
            "type": "surface"
           }
          ],
          "table": [
           {
            "cells": {
             "fill": {
              "color": "#EBF0F8"
             },
             "line": {
              "color": "white"
             }
            },
            "header": {
             "fill": {
              "color": "#C8D4E3"
             },
             "line": {
              "color": "white"
             }
            },
            "type": "table"
           }
          ]
         },
         "layout": {
          "annotationdefaults": {
           "arrowcolor": "#2a3f5f",
           "arrowhead": 0,
           "arrowwidth": 1
          },
          "autotypenumbers": "strict",
          "coloraxis": {
           "colorbar": {
            "outlinewidth": 0,
            "ticks": ""
           }
          },
          "colorscale": {
           "diverging": [
            [
             0,
             "#8e0152"
            ],
            [
             0.1,
             "#c51b7d"
            ],
            [
             0.2,
             "#de77ae"
            ],
            [
             0.3,
             "#f1b6da"
            ],
            [
             0.4,
             "#fde0ef"
            ],
            [
             0.5,
             "#f7f7f7"
            ],
            [
             0.6,
             "#e6f5d0"
            ],
            [
             0.7,
             "#b8e186"
            ],
            [
             0.8,
             "#7fbc41"
            ],
            [
             0.9,
             "#4d9221"
            ],
            [
             1,
             "#276419"
            ]
           ],
           "sequential": [
            [
             0,
             "#0d0887"
            ],
            [
             0.1111111111111111,
             "#46039f"
            ],
            [
             0.2222222222222222,
             "#7201a8"
            ],
            [
             0.3333333333333333,
             "#9c179e"
            ],
            [
             0.4444444444444444,
             "#bd3786"
            ],
            [
             0.5555555555555556,
             "#d8576b"
            ],
            [
             0.6666666666666666,
             "#ed7953"
            ],
            [
             0.7777777777777778,
             "#fb9f3a"
            ],
            [
             0.8888888888888888,
             "#fdca26"
            ],
            [
             1,
             "#f0f921"
            ]
           ],
           "sequentialminus": [
            [
             0,
             "#0d0887"
            ],
            [
             0.1111111111111111,
             "#46039f"
            ],
            [
             0.2222222222222222,
             "#7201a8"
            ],
            [
             0.3333333333333333,
             "#9c179e"
            ],
            [
             0.4444444444444444,
             "#bd3786"
            ],
            [
             0.5555555555555556,
             "#d8576b"
            ],
            [
             0.6666666666666666,
             "#ed7953"
            ],
            [
             0.7777777777777778,
             "#fb9f3a"
            ],
            [
             0.8888888888888888,
             "#fdca26"
            ],
            [
             1,
             "#f0f921"
            ]
           ]
          },
          "colorway": [
           "#636efa",
           "#EF553B",
           "#00cc96",
           "#ab63fa",
           "#FFA15A",
           "#19d3f3",
           "#FF6692",
           "#B6E880",
           "#FF97FF",
           "#FECB52"
          ],
          "font": {
           "color": "#2a3f5f"
          },
          "geo": {
           "bgcolor": "white",
           "lakecolor": "white",
           "landcolor": "#E5ECF6",
           "showlakes": true,
           "showland": true,
           "subunitcolor": "white"
          },
          "hoverlabel": {
           "align": "left"
          },
          "hovermode": "closest",
          "mapbox": {
           "style": "light"
          },
          "paper_bgcolor": "white",
          "plot_bgcolor": "#E5ECF6",
          "polar": {
           "angularaxis": {
            "gridcolor": "white",
            "linecolor": "white",
            "ticks": ""
           },
           "bgcolor": "#E5ECF6",
           "radialaxis": {
            "gridcolor": "white",
            "linecolor": "white",
            "ticks": ""
           }
          },
          "scene": {
           "xaxis": {
            "backgroundcolor": "#E5ECF6",
            "gridcolor": "white",
            "gridwidth": 2,
            "linecolor": "white",
            "showbackground": true,
            "ticks": "",
            "zerolinecolor": "white"
           },
           "yaxis": {
            "backgroundcolor": "#E5ECF6",
            "gridcolor": "white",
            "gridwidth": 2,
            "linecolor": "white",
            "showbackground": true,
            "ticks": "",
            "zerolinecolor": "white"
           },
           "zaxis": {
            "backgroundcolor": "#E5ECF6",
            "gridcolor": "white",
            "gridwidth": 2,
            "linecolor": "white",
            "showbackground": true,
            "ticks": "",
            "zerolinecolor": "white"
           }
          },
          "shapedefaults": {
           "line": {
            "color": "#2a3f5f"
           }
          },
          "ternary": {
           "aaxis": {
            "gridcolor": "white",
            "linecolor": "white",
            "ticks": ""
           },
           "baxis": {
            "gridcolor": "white",
            "linecolor": "white",
            "ticks": ""
           },
           "bgcolor": "#E5ECF6",
           "caxis": {
            "gridcolor": "white",
            "linecolor": "white",
            "ticks": ""
           }
          },
          "title": {
           "x": 0.05
          },
          "xaxis": {
           "automargin": true,
           "gridcolor": "white",
           "linecolor": "white",
           "ticks": "",
           "title": {
            "standoff": 15
           },
           "zerolinecolor": "white",
           "zerolinewidth": 2
          },
          "yaxis": {
           "automargin": true,
           "gridcolor": "white",
           "linecolor": "white",
           "ticks": "",
           "title": {
            "standoff": 15
           },
           "zerolinecolor": "white",
           "zerolinewidth": 2
          }
         }
        },
        "title": {
         "text": "sales"
        },
        "xaxis": {
         "anchor": "y",
         "domain": [
          0,
          1
         ],
         "title": {
          "text": "sales"
         }
        },
        "yaxis": {
         "anchor": "x",
         "domain": [
          0,
          1
         ],
         "title": {
          "text": "count"
         }
        }
       }
      },
      "image/png": "[encoded data removed]"
     },
     "metadata": {},
     "output_type": "display_data"
    },
    {
     "data": {
      "application/vnd.plotly.v1+json": {
       "config": {
        "plotlyServerURL": "https://plot.ly"
       },
       "data": [
        {
         "bingroup": "x",
         "hovertemplate": "cogs=%{x}<br>count=%{y}<extra></extra>",
         "legendgroup": "",
         "marker": {
          "color": "#636efa",
          "pattern": {
           "shape": ""
          }
         },
         "name": "",
         "orientation": "v",
         "showlegend": false,
         "type": "histogram",
         "x": {
          "bdata": "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",
          "dtype": "f8"
         },
         "xaxis": "x",
         "yaxis": "y"
        }
       ],
       "layout": {
        "barmode": "relative",
        "legend": {
         "tracegroupgap": 0
        },
        "template": {
         "data": {
          "bar": [
           {
            "error_x": {
             "color": "#2a3f5f"
            },
            "error_y": {
             "color": "#2a3f5f"
            },
            "marker": {
             "line": {
              "color": "#E5ECF6",
              "width": 0.5
             },
             "pattern": {
              "fillmode": "overlay",
              "size": 10,
              "solidity": 0.2
             }
            },
            "type": "bar"
           }
          ],
          "barpolar": [
           {
            "marker": {
             "line": {
              "color": "#E5ECF6",
              "width": 0.5
             },
             "pattern": {
              "fillmode": "overlay",
              "size": 10,
              "solidity": 0.2
             }
            },
            "type": "barpolar"
           }
          ],
          "carpet": [
           {
            "aaxis": {
             "endlinecolor": "#2a3f5f",
             "gridcolor": "white",
             "linecolor": "white",
             "minorgridcolor": "white",
             "startlinecolor": "#2a3f5f"
            },
            "baxis": {
             "endlinecolor": "#2a3f5f",
             "gridcolor": "white",
             "linecolor": "white",
             "minorgridcolor": "white",
             "startlinecolor": "#2a3f5f"
            },
            "type": "carpet"
           }
          ],
          "choropleth": [
           {
            "colorbar": {
             "outlinewidth": 0,
             "ticks": ""
            },
            "type": "choropleth"
           }
          ],
          "contour": [
           {
            "colorbar": {
             "outlinewidth": 0,
             "ticks": ""
            },
            "colorscale": [
             [
              0,
              "#0d0887"
             ],
             [
              0.1111111111111111,
              "#46039f"
             ],
             [
              0.2222222222222222,
              "#7201a8"
             ],
             [
              0.3333333333333333,
              "#9c179e"
             ],
             [
              0.4444444444444444,
              "#bd3786"
             ],
             [
              0.5555555555555556,
              "#d8576b"
             ],
             [
              0.6666666666666666,
              "#ed7953"
             ],
             [
              0.7777777777777778,
              "#fb9f3a"
             ],
             [
              0.8888888888888888,
              "#fdca26"
             ],
             [
              1,
              "#f0f921"
             ]
            ],
            "type": "contour"
           }
          ],
          "contourcarpet": [
           {
            "colorbar": {
             "outlinewidth": 0,
             "ticks": ""
            },
            "type": "contourcarpet"
           }
          ],
          "heatmap": [
           {
            "colorbar": {
             "outlinewidth": 0,
             "ticks": ""
            },
            "colorscale": [
             [
              0,
              "#0d0887"
             ],
             [
              0.1111111111111111,
              "#46039f"
             ],
             [
              0.2222222222222222,
              "#7201a8"
             ],
             [
              0.3333333333333333,
              "#9c179e"
             ],
             [
              0.4444444444444444,
              "#bd3786"
             ],
             [
              0.5555555555555556,
              "#d8576b"
             ],
             [
              0.6666666666666666,
              "#ed7953"
             ],
             [
              0.7777777777777778,
              "#fb9f3a"
             ],
             [
              0.8888888888888888,
              "#fdca26"
             ],
             [
              1,
              "#f0f921"
             ]
            ],
            "type": "heatmap"
           }
          ],
          "histogram": [
           {
            "marker": {
             "pattern": {
              "fillmode": "overlay",
              "size": 10,
              "solidity": 0.2
             }
            },
            "type": "histogram"
           }
          ],
          "histogram2d": [
           {
            "colorbar": {
             "outlinewidth": 0,
             "ticks": ""
            },
            "colorscale": [
             [
              0,
              "#0d0887"
             ],
             [
              0.1111111111111111,
              "#46039f"
             ],
             [
              0.2222222222222222,
              "#7201a8"
             ],
             [
              0.3333333333333333,
              "#9c179e"
             ],
             [
              0.4444444444444444,
              "#bd3786"
             ],
             [
              0.5555555555555556,
              "#d8576b"
             ],
             [
              0.6666666666666666,
              "#ed7953"
             ],
             [
              0.7777777777777778,
              "#fb9f3a"
             ],
             [
              0.8888888888888888,
              "#fdca26"
             ],
             [
              1,
              "#f0f921"
             ]
            ],
            "type": "histogram2d"
           }
          ],
          "histogram2dcontour": [
           {
            "colorbar": {
             "outlinewidth": 0,
             "ticks": ""
            },
            "colorscale": [
             [
              0,
              "#0d0887"
             ],
             [
              0.1111111111111111,
              "#46039f"
             ],
             [
              0.2222222222222222,
              "#7201a8"
             ],
             [
              0.3333333333333333,
              "#9c179e"
             ],
             [
              0.4444444444444444,
              "#bd3786"
             ],
             [
              0.5555555555555556,
              "#d8576b"
             ],
             [
              0.6666666666666666,
              "#ed7953"
             ],
             [
              0.7777777777777778,
              "#fb9f3a"
             ],
             [
              0.8888888888888888,
              "#fdca26"
             ],
             [
              1,
              "#f0f921"
             ]
            ],
            "type": "histogram2dcontour"
           }
          ],
          "mesh3d": [
           {
            "colorbar": {
             "outlinewidth": 0,
             "ticks": ""
            },
            "type": "mesh3d"
           }
          ],
          "parcoords": [
           {
            "line": {
             "colorbar": {
              "outlinewidth": 0,
              "ticks": ""
             }
            },
            "type": "parcoords"
           }
          ],
          "pie": [
           {
            "automargin": true,
            "type": "pie"
           }
          ],
          "scatter": [
           {
            "fillpattern": {
             "fillmode": "overlay",
             "size": 10,
             "solidity": 0.2
            },
            "type": "scatter"
           }
          ],
          "scatter3d": [
           {
            "line": {
             "colorbar": {
              "outlinewidth": 0,
              "ticks": ""
             }
            },
            "marker": {
             "colorbar": {
              "outlinewidth": 0,
              "ticks": ""
             }
            },
            "type": "scatter3d"
           }
          ],
          "scattercarpet": [
           {
            "marker": {
             "colorbar": {
              "outlinewidth": 0,
              "ticks": ""
             }
            },
            "type": "scattercarpet"
           }
          ],
          "scattergeo": [
           {
            "marker": {
             "colorbar": {
              "outlinewidth": 0,
              "ticks": ""
             }
            },
            "type": "scattergeo"
           }
          ],
          "scattergl": [
           {
            "marker": {
             "colorbar": {
              "outlinewidth": 0,
              "ticks": ""
             }
            },
            "type": "scattergl"
           }
          ],
          "scattermap": [
           {
            "marker": {
             "colorbar": {
              "outlinewidth": 0,
              "ticks": ""
             }
            },
            "type": "scattermap"
           }
          ],
          "scattermapbox": [
           {
            "marker": {
             "colorbar": {
              "outlinewidth": 0,
              "ticks": ""
             }
            },
            "type": "scattermapbox"
           }
          ],
          "scatterpolar": [
           {
            "marker": {
             "colorbar": {
              "outlinewidth": 0,
              "ticks": ""
             }
            },
            "type": "scatterpolar"
           }
          ],
          "scatterpolargl": [
           {
            "marker": {
             "colorbar": {
              "outlinewidth": 0,
              "ticks": ""
             }
            },
            "type": "scatterpolargl"
           }
          ],
          "scatterternary": [
           {
            "marker": {
             "colorbar": {
              "outlinewidth": 0,
              "ticks": ""
             }
            },
            "type": "scatterternary"
           }
          ],
          "surface": [
           {
            "colorbar": {
             "outlinewidth": 0,
             "ticks": ""
            },
            "colorscale": [
             [
              0,
              "#0d0887"
             ],
             [
              0.1111111111111111,
              "#46039f"
             ],
             [
              0.2222222222222222,
              "#7201a8"
             ],
             [
              0.3333333333333333,
              "#9c179e"
             ],
             [
              0.4444444444444444,
              "#bd3786"
             ],
             [
              0.5555555555555556,
              "#d8576b"
             ],
             [
              0.6666666666666666,
              "#ed7953"
             ],
             [
              0.7777777777777778,
              "#fb9f3a"
             ],
             [
              0.8888888888888888,
              "#fdca26"
             ],
             [
              1,
              "#f0f921"
             ]
            ],
            "type": "surface"
           }
          ],
          "table": [
           {
            "cells": {
             "fill": {
              "color": "#EBF0F8"
             },
             "line": {
              "color": "white"
             }
            },
            "header": {
             "fill": {
              "color": "#C8D4E3"
             },
             "line": {
              "color": "white"
             }
            },
            "type": "table"
           }
          ]
         },
         "layout": {
          "annotationdefaults": {
           "arrowcolor": "#2a3f5f",
           "arrowhead": 0,
           "arrowwidth": 1
          },
          "autotypenumbers": "strict",
          "coloraxis": {
           "colorbar": {
            "outlinewidth": 0,
            "ticks": ""
           }
          },
          "colorscale": {
           "diverging": [
            [
             0,
             "#8e0152"
            ],
            [
             0.1,
             "#c51b7d"
            ],
            [
             0.2,
             "#de77ae"
            ],
            [
             0.3,
             "#f1b6da"
            ],
            [
             0.4,
             "#fde0ef"
            ],
            [
             0.5,
             "#f7f7f7"
            ],
            [
             0.6,
             "#e6f5d0"
            ],
            [
             0.7,
             "#b8e186"
            ],
            [
             0.8,
             "#7fbc41"
            ],
            [
             0.9,
             "#4d9221"
            ],
            [
             1,
             "#276419"
            ]
           ],
           "sequential": [
            [
             0,
             "#0d0887"
            ],
            [
             0.1111111111111111,
             "#46039f"
            ],
            [
             0.2222222222222222,
             "#7201a8"
            ],
            [
             0.3333333333333333,
             "#9c179e"
            ],
            [
             0.4444444444444444,
             "#bd3786"
            ],
            [
             0.5555555555555556,
             "#d8576b"
            ],
            [
             0.6666666666666666,
             "#ed7953"
            ],
            [
             0.7777777777777778,
             "#fb9f3a"
            ],
            [
             0.8888888888888888,
             "#fdca26"
            ],
            [
             1,
             "#f0f921"
            ]
           ],
           "sequentialminus": [
            [
             0,
             "#0d0887"
            ],
            [
             0.1111111111111111,
             "#46039f"
            ],
            [
             0.2222222222222222,
             "#7201a8"
            ],
            [
             0.3333333333333333,
             "#9c179e"
            ],
            [
             0.4444444444444444,
             "#bd3786"
            ],
            [
             0.5555555555555556,
             "#d8576b"
            ],
            [
             0.6666666666666666,
             "#ed7953"
            ],
            [
             0.7777777777777778,
             "#fb9f3a"
            ],
            [
             0.8888888888888888,
             "#fdca26"
            ],
            [
             1,
             "#f0f921"
            ]
           ]
          },
          "colorway": [
           "#636efa",
           "#EF553B",
           "#00cc96",
           "#ab63fa",
           "#FFA15A",
           "#19d3f3",
           "#FF6692",
           "#B6E880",
           "#FF97FF",
           "#FECB52"
          ],
          "font": {
           "color": "#2a3f5f"
          },
          "geo": {
           "bgcolor": "white",
           "lakecolor": "white",
           "landcolor": "#E5ECF6",
           "showlakes": true,
           "showland": true,
           "subunitcolor": "white"
          },
          "hoverlabel": {
           "align": "left"
          },
          "hovermode": "closest",
          "mapbox": {
           "style": "light"
          },
          "paper_bgcolor": "white",
          "plot_bgcolor": "#E5ECF6",
          "polar": {
           "angularaxis": {
            "gridcolor": "white",
            "linecolor": "white",
            "ticks": ""
           },
           "bgcolor": "#E5ECF6",
           "radialaxis": {
            "gridcolor": "white",
            "linecolor": "white",
            "ticks": ""
           }
          },
          "scene": {
           "xaxis": {
            "backgroundcolor": "#E5ECF6",
            "gridcolor": "white",
            "gridwidth": 2,
            "linecolor": "white",
            "showbackground": true,
            "ticks": "",
            "zerolinecolor": "white"
           },
           "yaxis": {
            "backgroundcolor": "#E5ECF6",
            "gridcolor": "white",
            "gridwidth": 2,
            "linecolor": "white",
            "showbackground": true,
            "ticks": "",
            "zerolinecolor": "white"
           },
           "zaxis": {
            "backgroundcolor": "#E5ECF6",
            "gridcolor": "white",
            "gridwidth": 2,
            "linecolor": "white",
            "showbackground": true,
            "ticks": "",
            "zerolinecolor": "white"
           }
          },
          "shapedefaults": {
           "line": {
            "color": "#2a3f5f"
           }
          },
          "ternary": {
           "aaxis": {
            "gridcolor": "white",
            "linecolor": "white",
            "ticks": ""
           },
           "baxis": {
            "gridcolor": "white",
            "linecolor": "white",
            "ticks": ""
           },
           "bgcolor": "#E5ECF6",
           "caxis": {
            "gridcolor": "white",
            "linecolor": "white",
            "ticks": ""
           }
          },
          "title": {
           "x": 0.05
          },
          "xaxis": {
           "automargin": true,
           "gridcolor": "white",
           "linecolor": "white",
           "ticks": "",
           "title": {
            "standoff": 15
           },
           "zerolinecolor": "white",
           "zerolinewidth": 2
          },
          "yaxis": {
           "automargin": true,
           "gridcolor": "white",
           "linecolor": "white",
           "ticks": "",
           "title": {
            "standoff": 15
           },
           "zerolinecolor": "white",
           "zerolinewidth": 2
          }
         }
        },
        "title": {
         "text": "cogs"
        },
        "xaxis": {
         "anchor": "y",
         "domain": [
          0,
          1
         ],
         "title": {
          "text": "cogs"
         }
        },
        "yaxis": {
         "anchor": "x",
         "domain": [
          0,
          1
         ],
         "title": {
          "text": "count"
         }
        }
       }
      },
      "image/png": "[encoded data removed]"
     },
     "metadata": {},
     "output_type": "display_data"
    },
    {
     "data": {
      "application/vnd.plotly.v1+json": {
       "config": {
        "plotlyServerURL": "https://plot.ly"
       },
       "data": [
        {
         "bingroup": "x",
         "hovertemplate": "gross margin percentage=%{x}<br>count=%{y}<extra></extra>",
         "legendgroup": "",
         "marker": {
          "color": "#636efa",
          "pattern": {
           "shape": ""
          }
         },
         "name": "",
         "orientation": "v",
         "showlegend": false,
         "type": "histogram",
         "x": {
          "bdata": "oNMNwzAME0Cg0w3DMAwTQKDTDcMwDBNAoNMNwzAME0Cg0w3DMAwTQKDTDcMwDBNAoNMNwzAME0Cg0w3DMAwTQKDTDcMwDBNAoNMNwzAME0Cg0w3DMAwTQKDTDcMwDBNAoNMNwzAME0Cg0w3DMAwTQKDTDcMwDBNAoNMNwzAME0Cg0w3DMAwTQKDTDcMwDBNAoNMNwzAME0Cg0w3DMAwTQKDTDcMwDBNAoNMNwzAME0Cg0w3DMAwTQKDTDcMwDBNAoNMNwzAME0Cg0w3DMAwTQKDTDcMwDBNAoNMNwzAME0Cg0w3DMAwTQKDTDcMwDBNAoNMNwzAME0Cg0w3DMAwTQKDTDcMwDBNAoNMNwzAME0Cg0w3DMAwTQKDTDcMwDBNAoNMNwzAME0Cg0w3DMAwTQKDTDcMwDBNAoNMNwzAME0Cg0w3DMAwTQKDTDcMwDBNAoNMNwzAME0Cg0w3DMAwTQKDTDcMwDBNAoNMNwzAME0Cg0w3DMAwTQKDTDcMwDBNAoNMNwzAME0Cg0w3DMAwTQKDTDcMwDBNAoNMNwzAME0Cg0w3DMAwTQKDTDcMwDBNAoNMNwzAME0Cg0w3DMAwTQKDTDcMwDBNAoNMNwzAME0Cg0w3DMAwTQKDTDcMwDBNAoNMNwzAME0Cg0w3DMAwTQKDTDcMwDBNAoNMNwzAME0Cg0w3DMAwTQKDTDcMwDBNAoNMNwzAME0Cg0w3DMAwTQKDTDcMwDBNAoNMNwzAME0Cg0w3DMAwTQKDTDcMwDBNAoNMNwzAME0Cg0w3DMAwTQKDTDcMwDBNAoNMNwzAME0Cg0w3DMAwTQKDTDcMwDBNAoNMNwzAME0Cg0w3DMAwTQKDTDcMwDBNAoNMNwzAME0Cg0w3DMAwTQKDTDcMwDBNAoNMNwzAME0Cg0w3DMAwTQKDTDcMwDBNAoNMNwzAME0Cg0w3DMAwTQKDTDcMwDBNAoNMNwzAME0Cg0w3DMAwTQKDTDcMwDBNAoNMNwzAME0Cg0w3DMAwTQKDTDcMwDBNAoNMNwzAME0Cg0w3DMAwTQKDTDcMwDBNAoNMNwzAME0Cg0w3DMAwTQKDTDcMwDBNAoNMNwzAME0Cg0w3DMAwTQKDTDcMwDBNAoNMNwzAME0Cg0w3DMAwTQKDTDcMwDBNAoNMNwzAME0Cg0w3DMAwTQKDTDcMwDBNAoNMNwzAME0Cg0w3DMAwTQKDTDcMwDBNAoNMNwzAME0Cg0w3DMAwTQKDTDcMwDBNAoNMNwzAME0Cg0w3DMAwTQKDTDcMwDBNAoNMNwzAME0Cg0w3DMAwTQKDTDcMwDBNAoNMNwzAME0Cg0w3DMAwTQKDTDcMwDBNAoNMNwzAME0Cg0w3DMAwTQKDTDcMwDBNAoNMNwzAME0Cg0w3DMAwTQKDTDcMwDBNAoNMNwzAME0Cg0w3DMAwTQKDTDcMwDBNAoNMNwzAME0Cg0w3DMAwTQKDTDcMwDBNAoNMNwzAME0Cg0w3DMAwTQKDTDcMwDBNAoNMNwzAME0Cg0w3DMAwTQKDTDcMwDBNAoNMNwzAME0Cg0w3DMAwTQKDTDcMwDBNAoNMNwzAME0Cg0w3DMAwTQKDTDcMwDBNAoNMNwzAME0Cg0w3DMAwTQKDTDcMwDBNAoNMNwzAME0Cg0w3DMAwTQKDTDcMwDBNAoNMNwzAME0Cg0w3DMAwTQKDTDcMwDBNAoNMNwzAME0Cg0w3DMAwTQKDTDcMwDBNAoNMNwzAME0Cg0w3DMAwTQKDTDcMwDBNAoNMNwzAME0Cg0w3DMAwTQKDTDcMwDBNAoNMNwzAME0Cg0w3DMAwTQKDTDcMwDBNAoNMNwzAME0Cg0w3DMAwTQKDTDcMwDBNAoNMNwzAME0Cg0w3DMAwTQKDTDcMwDBNAoNMNwzAME0Cg0w3DMAwTQKDTDcMwDBNAoNMNwzAME0Cg0w3DMAwTQKDTDcMwDBNAoNMNwzAME0Cg0w3DMAwTQKDTDcMwDBNAoNMNwzAME0Cg0w3DMAwTQKDTDcMwDBNAoNMNwzAME0Cg0w3DMAwTQKDTDcMwDBNAoNMNwzAME0Cg0w3DMAwTQKDTDcMwDBNAoNMNwzAME0Cg0w3DMAwTQKDTDcMwDBNAoNMNwzAME0Cg0w3DMAwTQKDTDcMwDBNAoNMNwzAME0Cg0w3DMAwTQKDTDcMwDBNAoNMNwzAME0Cg0w3DMAwTQKDTDcMwDBNAoNMNwzAME0Cg0w3DMAwTQKDTDcMwDBNAoNMNwzAME0Cg0w3DMAwTQKDTDcMwDBNAoNMNwzAME0Cg0w3DMAwTQKDTDcMwDBNAoNMNwzAME0Cg0w3DMAwTQKDTDcMwDBNAoNMNwzAME0Cg0w3DMAwTQKDTDcMwDBNAoNMNwzAME0Cg0w3DMAwTQKDTDcMwDBNAoNMNwzAME0Cg0w3DMAwTQKDTDcMwDBNAoNMNwzAME0Cg0w3DMAwTQKDTDcMwDBNAoNMNwzAME0Cg0w3DMAwTQKDTDcMwDBNAoNMNwzAME0Cg0w3DMAwTQKDTDcMwDBNAoNMNwzAME0Cg0w3DMAwTQKDTDcMwDBNAoNMNwzAME0Cg0w3DMAwTQKDTDcMwDBNAoNMNwzAME0Cg0w3DMAwTQKDTDcMwDBNAoNMNwzAME0Cg0w3DMAwTQKDTDcMwDBNAoNMNwzAME0Cg0w3DMAwTQKDTDcMwDBNAoNMNwzAME0Cg0w3DMAwTQKDTDcMwDBNAoNMNwzAME0Cg0w3DMAwTQKDTDcMwDBNAoNMNwzAME0Cg0w3DMAwTQKDTDcMwDBNAoNMNwzAME0Cg0w3DMAwTQKDTDcMwDBNAoNMNwzAME0Cg0w3DMAwTQKDTDcMwDBNAoNMNwzAME0Cg0w3DMAwTQKDTDcMwDBNAoNMNwzAME0Cg0w3DMAwTQKDTDcMwDBNAoNMNwzAME0Cg0w3DMAwTQKDTDcMwDBNAoNMNwzAME0Cg0w3DMAwTQKDTDcMwDBNAoNMNwzAME0Cg0w3DMAwTQKDTDcMwDBNAoNMNwzAME0Cg0w3DMAwTQKDTDcMwDBNAoNMNwzAME0Cg0w3DMAwTQKDTDcMwDBNAoNMNwzAME0Cg0w3DMAwTQKDTDcMwDBNAoNMNwzAME0Cg0w3DMAwTQKDTDcMwDBNAoNMNwzAME0Cg0w3DMAwTQKDTDcMwDBNAoNMNwzAME0Cg0w3DMAwTQKDTDcMwDBNAoNMNwzAME0Cg0w3DMAwTQKDTDcMwDBNAoNMNwzAME0Cg0w3DMAwTQKDTDcMwDBNAoNMNwzAME0Cg0w3DMAwTQKDTDcMwDBNAoNMNwzAME0Cg0w3DMAwTQKDTDcMwDBNAoNMNwzAME0Cg0w3DMAwTQKDTDcMwDBNAoNMNwzAME0Cg0w3DMAwTQKDTDcMwDBNAoNMNwzAME0Cg0w3DMAwTQKDTDcMwDBNAoNMNwzAME0Cg0w3DMAwTQKDTDcMwDBNAoNMNwzAME0Cg0w3DMAwTQKDTDcMwDBNAoNMNwzAME0Cg0w3DMAwTQKDTDcMwDBNAoNMNwzAME0Cg0w3DMAwTQKDTDcMwDBNAoNMNwzAME0Cg0w3DMAwTQKDTDcMwDBNAoNMNwzAME0Cg0w3DMAwTQKDTDcMwDBNAoNMNwzAME0Cg0w3DMAwTQKDTDcMwDBNAoNMNwzAME0Cg0w3DMAwTQKDTDcMwDBNAoNMNwzAME0Cg0w3DMAwTQKDTDcMwDBNAoNMNwzAME0Cg0w3DMAwTQKDTDcMwDBNAoNMNwzAME0Cg0w3DMAwTQKDTDcMwDBNAoNMNwzAME0Cg0w3DMAwTQKDTDcMwDBNAoNMNwzAME0Cg0w3DMAwTQKDTDcMwDBNAoNMNwzAME0Cg0w3DMAwTQKDTDcMwDBNAoNMNwzAME0Cg0w3DMAwTQKDTDcMwDBNAoNMNwzAME0Cg0w3DMAwTQKDTDcMwDBNAoNMNwzAME0Cg0w3DMAwTQKDTDcMwDBNAoNMNwzAME0Cg0w3DMAwTQKDTDcMwDBNAoNMNwzAME0Cg0w3DMAwTQKDTDcMwDBNAoNMNwzAME0Cg0w3DMAwTQKDTDcMwDBNAoNMNwzAME0Cg0w3DMAwTQKDTDcMwDBNAoNMNwzAME0Cg0w3DMAwTQKDTDcMwDBNAoNMNwzAME0Cg0w3DMAwTQKDTDcMwDBNAoNMNwzAME0Cg0w3DMAwTQKDTDcMwDBNAoNMNwzAME0Cg0w3DMAwTQKDTDcMwDBNAoNMNwzAME0Cg0w3DMAwTQKDTDcMwDBNAoNMNwzAME0Cg0w3DMAwTQKDTDcMwDBNAoNMNwzAME0Cg0w3DMAwTQKDTDcMwDBNAoNMNwzAME0Cg0w3DMAwTQKDTDcMwDBNAoNMNwzAME0Cg0w3DMAwTQKDTDcMwDBNAoNMNwzAME0Cg0w3DMAwTQKDTDcMwDBNAoNMNwzAME0Cg0w3DMAwTQKDTDcMwDBNAoNMNwzAME0Cg0w3DMAwTQKDTDcMwDBNAoNMNwzAME0Cg0w3DMAwTQKDTDcMwDBNAoNMNwzAME0Cg0w3DMAwTQKDTDcMwDBNAoNMNwzAME0Cg0w3DMAwTQKDTDcMwDBNAoNMNwzAME0Cg0w3DMAwTQKDTDcMwDBNAoNMNwzAME0Cg0w3DMAwTQKDTDcMwDBNAoNMNwzAME0Cg0w3DMAwTQKDTDcMwDBNAoNMNwzAME0Cg0w3DMAwTQKDTDcMwDBNAoNMNwzAME0Cg0w3DMAwTQKDTDcMwDBNAoNMNwzAME0Cg0w3DMAwTQKDTDcMwDBNAoNMNwzAME0Cg0w3DMAwTQKDTDcMwDBNAoNMNwzAME0Cg0w3DMAwTQKDTDcMwDBNAoNMNwzAME0Cg0w3DMAwTQKDTDcMwDBNAoNMNwzAME0Cg0w3DMAwTQKDTDcMwDBNAoNMNwzAME0Cg0w3DMAwTQKDTDcMwDBNAoNMNwzAME0Cg0w3DMAwTQKDTDcMwDBNAoNMNwzAME0Cg0w3DMAwTQKDTDcMwDBNAoNMNwzAME0Cg0w3DMAwTQKDTDcMwDBNAoNMNwzAME0Cg0w3DMAwTQKDTDcMwDBNAoNMNwzAME0Cg0w3DMAwTQKDTDcMwDBNAoNMNwzAME0Cg0w3DMAwTQKDTDcMwDBNAoNMNwzAME0Cg0w3DMAwTQKDTDcMwDBNAoNMNwzAME0Cg0w3DMAwTQKDTDcMwDBNAoNMNwzAME0Cg0w3DMAwTQKDTDcMwDBNAoNMNwzAME0Cg0w3DMAwTQKDTDcMwDBNAoNMNwzAME0Cg0w3DMAwTQKDTDcMwDBNAoNMNwzAME0Cg0w3DMAwTQKDTDcMwDBNAoNMNwzAME0Cg0w3DMAwTQKDTDcMwDBNAoNMNwzAME0Cg0w3DMAwTQKDTDcMwDBNAoNMNwzAME0Cg0w3DMAwTQKDTDcMwDBNAoNMNwzAME0Cg0w3DMAwTQKDTDcMwDBNAoNMNwzAME0Cg0w3DMAwTQKDTDcMwDBNAoNMNwzAME0Cg0w3DMAwTQKDTDcMwDBNAoNMNwzAME0Cg0w3DMAwTQKDTDcMwDBNAoNMNwzAME0Cg0w3DMAwTQKDTDcMwDBNAoNMNwzAME0Cg0w3DMAwTQKDTDcMwDBNAoNMNwzAME0Cg0w3DMAwTQKDTDcMwDBNAoNMNwzAME0Cg0w3DMAwTQKDTDcMwDBNAoNMNwzAME0Cg0w3DMAwTQKDTDcMwDBNAoNMNwzAME0Cg0w3DMAwTQKDTDcMwDBNAoNMNwzAME0Cg0w3DMAwTQKDTDcMwDBNAoNMNwzAME0Cg0w3DMAwTQKDTDcMwDBNAoNMNwzAME0Cg0w3DMAwTQKDTDcMwDBNAoNMNwzAME0Cg0w3DMAwTQKDTDcMwDBNAoNMNwzAME0Cg0w3DMAwTQKDTDcMwDBNAoNMNwzAME0Cg0w3DMAwTQKDTDcMwDBNAoNMNwzAME0Cg0w3DMAwTQKDTDcMwDBNAoNMNwzAME0Cg0w3DMAwTQKDTDcMwDBNAoNMNwzAME0Cg0w3DMAwTQKDTDcMwDBNAoNMNwzAME0Cg0w3DMAwTQKDTDcMwDBNAoNMNwzAME0Cg0w3DMAwTQKDTDcMwDBNAoNMNwzAME0Cg0w3DMAwTQKDTDcMwDBNAoNMNwzAME0Cg0w3DMAwTQKDTDcMwDBNAoNMNwzAME0Cg0w3DMAwTQKDTDcMwDBNAoNMNwzAME0Cg0w3DMAwTQKDTDcMwDBNAoNMNwzAME0Cg0w3DMAwTQKDTDcMwDBNAoNMNwzAME0Cg0w3DMAwTQKDTDcMwDBNAoNMNwzAME0Cg0w3DMAwTQKDTDcMwDBNAoNMNwzAME0Cg0w3DMAwTQKDTDcMwDBNAoNMNwzAME0Cg0w3DMAwTQKDTDcMwDBNAoNMNwzAME0Cg0w3DMAwTQKDTDcMwDBNAoNMNwzAME0Cg0w3DMAwTQKDTDcMwDBNAoNMNwzAME0Cg0w3DMAwTQKDTDcMwDBNAoNMNwzAME0Cg0w3DMAwTQKDTDcMwDBNAoNMNwzAME0Cg0w3DMAwTQKDTDcMwDBNAoNMNwzAME0Cg0w3DMAwTQKDTDcMwDBNAoNMNwzAME0Cg0w3DMAwTQKDTDcMwDBNAoNMNwzAME0Cg0w3DMAwTQKDTDcMwDBNAoNMNwzAME0Cg0w3DMAwTQKDTDcMwDBNAoNMNwzAME0Cg0w3DMAwTQKDTDcMwDBNAoNMNwzAME0Cg0w3DMAwTQKDTDcMwDBNAoNMNwzAME0Cg0w3DMAwTQKDTDcMwDBNAoNMNwzAME0Cg0w3DMAwTQKDTDcMwDBNAoNMNwzAME0Cg0w3DMAwTQKDTDcMwDBNAoNMNwzAME0Cg0w3DMAwTQKDTDcMwDBNAoNMNwzAME0Cg0w3DMAwTQKDTDcMwDBNAoNMNwzAME0Cg0w3DMAwTQKDTDcMwDBNAoNMNwzAME0Cg0w3DMAwTQKDTDcMwDBNAoNMNwzAME0Cg0w3DMAwTQKDTDcMwDBNAoNMNwzAME0Cg0w3DMAwTQKDTDcMwDBNAoNMNwzAME0Cg0w3DMAwTQKDTDcMwDBNAoNMNwzAME0Cg0w3DMAwTQKDTDcMwDBNAoNMNwzAME0Cg0w3DMAwTQKDTDcMwDBNAoNMNwzAME0Cg0w3DMAwTQKDTDcMwDBNAoNMNwzAME0Cg0w3DMAwTQKDTDcMwDBNAoNMNwzAME0Cg0w3DMAwTQKDTDcMwDBNAoNMNwzAME0Cg0w3DMAwTQKDTDcMwDBNAoNMNwzAME0Cg0w3DMAwTQKDTDcMwDBNAoNMNwzAME0Cg0w3DMAwTQKDTDcMwDBNAoNMNwzAME0Cg0w3DMAwTQKDTDcMwDBNAoNMNwzAME0Cg0w3DMAwTQKDTDcMwDBNAoNMNwzAME0Cg0w3DMAwTQKDTDcMwDBNAoNMNwzAME0Cg0w3DMAwTQKDTDcMwDBNAoNMNwzAME0Cg0w3DMAwTQKDTDcMwDBNAoNMNwzAME0Cg0w3DMAwTQKDTDcMwDBNAoNMNwzAME0Cg0w3DMAwTQKDTDcMwDBNAoNMNwzAME0Cg0w3DMAwTQKDTDcMwDBNAoNMNwzAME0Cg0w3DMAwTQKDTDcMwDBNAoNMNwzAME0Cg0w3DMAwTQKDTDcMwDBNAoNMNwzAME0Cg0w3DMAwTQKDTDcMwDBNAoNMNwzAME0Cg0w3DMAwTQKDTDcMwDBNAoNMNwzAME0Cg0w3DMAwTQKDTDcMwDBNAoNMNwzAME0Cg0w3DMAwTQKDTDcMwDBNAoNMNwzAME0Cg0w3DMAwTQKDTDcMwDBNAoNMNwzAME0Cg0w3DMAwTQKDTDcMwDBNAoNMNwzAME0Cg0w3DMAwTQKDTDcMwDBNAoNMNwzAME0Cg0w3DMAwTQKDTDcMwDBNAoNMNwzAME0Cg0w3DMAwTQKDTDcMwDBNAoNMNwzAME0Cg0w3DMAwTQKDTDcMwDBNAoNMNwzAME0Cg0w3DMAwTQKDTDcMwDBNAoNMNwzAME0Cg0w3DMAwTQKDTDcMwDBNAoNMNwzAME0Cg0w3DMAwTQKDTDcMwDBNAoNMNwzAME0Cg0w3DMAwTQKDTDcMwDBNAoNMNwzAME0Cg0w3DMAwTQKDTDcMwDBNAoNMNwzAME0Cg0w3DMAwTQKDTDcMwDBNAoNMNwzAME0Cg0w3DMAwTQKDTDcMwDBNAoNMNwzAME0Cg0w3DMAwTQKDTDcMwDBNAoNMNwzAME0Cg0w3DMAwTQKDTDcMwDBNAoNMNwzAME0Cg0w3DMAwTQKDTDcMwDBNAoNMNwzAME0Cg0w3DMAwTQKDTDcMwDBNAoNMNwzAME0Cg0w3DMAwTQKDTDcMwDBNAoNMNwzAME0Cg0w3DMAwTQKDTDcMwDBNAoNMNwzAME0Cg0w3DMAwTQKDTDcMwDBNAoNMNwzAME0Cg0w3DMAwTQKDTDcMwDBNAoNMNwzAME0Cg0w3DMAwTQKDTDcMwDBNAoNMNwzAME0Cg0w3DMAwTQKDTDcMwDBNAoNMNwzAME0Cg0w3DMAwTQKDTDcMwDBNAoNMNwzAME0Cg0w3DMAwTQKDTDcMwDBNAoNMNwzAME0Cg0w3DMAwTQKDTDcMwDBNAoNMNwzAME0Cg0w3DMAwTQKDTDcMwDBNAoNMNwzAME0Cg0w3DMAwTQKDTDcMwDBNAoNMNwzAME0Cg0w3DMAwTQKDTDcMwDBNAoNMNwzAME0Cg0w3DMAwTQKDTDcMwDBNAoNMNwzAME0Cg0w3DMAwTQKDTDcMwDBNAoNMNwzAME0Cg0w3DMAwTQKDTDcMwDBNAoNMNwzAME0Cg0w3DMAwTQKDTDcMwDBNAoNMNwzAME0Cg0w3DMAwTQKDTDcMwDBNAoNMNwzAME0Cg0w3DMAwTQKDTDcMwDBNAoNMNwzAME0Cg0w3DMAwTQKDTDcMwDBNAoNMNwzAME0Cg0w3DMAwTQKDTDcMwDBNAoNMNwzAME0Cg0w3DMAwTQKDTDcMwDBNAoNMNwzAME0Cg0w3DMAwTQKDTDcMwDBNAoNMNwzAME0Cg0w3DMAwTQKDTDcMwDBNAoNMNwzAME0Cg0w3DMAwTQKDTDcMwDBNAoNMNwzAME0Cg0w3DMAwTQKDTDcMwDBNAoNMNwzAME0Cg0w3DMAwTQKDTDcMwDBNAoNMNwzAME0Cg0w3DMAwTQKDTDcMwDBNAoNMNwzAME0Cg0w3DMAwTQKDTDcMwDBNAoNMNwzAME0Cg0w3DMAwTQKDTDcMwDBNAoNMNwzAME0Cg0w3DMAwTQKDTDcMwDBNAoNMNwzAME0Cg0w3DMAwTQKDTDcMwDBNAoNMNwzAME0Cg0w3DMAwTQKDTDcMwDBNAoNMNwzAME0Cg0w3DMAwTQKDTDcMwDBNAoNMNwzAME0Cg0w3DMAwTQKDTDcMwDBNAoNMNwzAME0Cg0w3DMAwTQKDTDcMwDBNAoNMNwzAME0Cg0w3DMAwTQKDTDcMwDBNAoNMNwzAME0Cg0w3DMAwTQKDTDcMwDBNAoNMNwzAME0Cg0w3DMAwTQKDTDcMwDBNAoNMNwzAME0Cg0w3DMAwTQKDTDcMwDBNAoNMNwzAME0Cg0w3DMAwTQKDTDcMwDBNAoNMNwzAME0Cg0w3DMAwTQKDTDcMwDBNAoNMNwzAME0Cg0w3DMAwTQKDTDcMwDBNAoNMNwzAME0Cg0w3DMAwTQKDTDcMwDBNAoNMNwzAME0Cg0w3DMAwTQKDTDcMwDBNAoNMNwzAME0Cg0w3DMAwTQKDTDcMwDBNAoNMNwzAME0Cg0w3DMAwTQKDTDcMwDBNAoNMNwzAME0Cg0w3DMAwTQKDTDcMwDBNAoNMNwzAME0Cg0w3DMAwTQKDTDcMwDBNAoNMNwzAME0Cg0w3DMAwTQKDTDcMwDBNAoNMNwzAME0Cg0w3DMAwTQKDTDcMwDBNAoNMNwzAME0Cg0w3DMAwTQKDTDcMwDBNAoNMNwzAME0Cg0w3DMAwTQKDTDcMwDBNAoNMNwzAME0Cg0w3DMAwTQKDTDcMwDBNAoNMNwzAME0Cg0w3DMAwTQKDTDcMwDBNAoNMNwzAME0Cg0w3DMAwTQKDTDcMwDBNAoNMNwzAME0Cg0w3DMAwTQKDTDcMwDBNAoNMNwzAME0Cg0w3DMAwTQKDTDcMwDBNAoNMNwzAME0Cg0w3DMAwTQKDTDcMwDBNAoNMNwzAME0Cg0w3DMAwTQKDTDcMwDBNAoNMNwzAME0Cg0w3DMAwTQKDTDcMwDBNAoNMNwzAME0Cg0w3DMAwTQKDTDcMwDBNAoNMNwzAME0Cg0w3DMAwTQKDTDcMwDBNAoNMNwzAME0Cg0w3DMAwTQKDTDcMwDBNAoNMNwzAME0Cg0w3DMAwTQKDTDcMwDBNAoNMNwzAME0Cg0w3DMAwTQKDTDcMwDBNAoNMNwzAME0Cg0w3DMAwTQKDTDcMwDBNAoNMNwzAME0Cg0w3DMAwTQKDTDcMwDBNAoNMNwzAME0Cg0w3DMAwTQKDTDcMwDBNAoNMNwzAME0Cg0w3DMAwTQKDTDcMwDBNAoNMNwzAME0Cg0w3DMAwTQKDTDcMwDBNAoNMNwzAME0Cg0w3DMAwTQKDTDcMwDBNAoNMNwzAME0Cg0w3DMAwTQKDTDcMwDBNAoNMNwzAME0Cg0w3DMAwTQKDTDcMwDBNAoNMNwzAME0Cg0w3DMAwTQKDTDcMwDBNAoNMNwzAME0A=",
          "dtype": "f8"
         },
         "xaxis": "x",
         "yaxis": "y"
        }
       ],
       "layout": {
        "barmode": "relative",
        "legend": {
         "tracegroupgap": 0
        },
        "template": {
         "data": {
          "bar": [
           {
            "error_x": {
             "color": "#2a3f5f"
            },
            "error_y": {
             "color": "#2a3f5f"
            },
            "marker": {
             "line": {
              "color": "#E5ECF6",
              "width": 0.5
             },
             "pattern": {
              "fillmode": "overlay",
              "size": 10,
              "solidity": 0.2
             }
            },
            "type": "bar"
           }
          ],
          "barpolar": [
           {
            "marker": {
             "line": {
              "color": "#E5ECF6",
              "width": 0.5
             },
             "pattern": {
              "fillmode": "overlay",
              "size": 10,
              "solidity": 0.2
             }
            },
            "type": "barpolar"
           }
          ],
          "carpet": [
           {
            "aaxis": {
             "endlinecolor": "#2a3f5f",
             "gridcolor": "white",
             "linecolor": "white",
             "minorgridcolor": "white",
             "startlinecolor": "#2a3f5f"
            },
            "baxis": {
             "endlinecolor": "#2a3f5f",
             "gridcolor": "white",
             "linecolor": "white",
             "minorgridcolor": "white",
             "startlinecolor": "#2a3f5f"
            },
            "type": "carpet"
           }
          ],
          "choropleth": [
           {
            "colorbar": {
             "outlinewidth": 0,
             "ticks": ""
            },
            "type": "choropleth"
           }
          ],
          "contour": [
           {
            "colorbar": {
             "outlinewidth": 0,
             "ticks": ""
            },
            "colorscale": [
             [
              0,
              "#0d0887"
             ],
             [
              0.1111111111111111,
              "#46039f"
             ],
             [
              0.2222222222222222,
              "#7201a8"
             ],
             [
              0.3333333333333333,
              "#9c179e"
             ],
             [
              0.4444444444444444,
              "#bd3786"
             ],
             [
              0.5555555555555556,
              "#d8576b"
             ],
             [
              0.6666666666666666,
              "#ed7953"
             ],
             [
              0.7777777777777778,
              "#fb9f3a"
             ],
             [
              0.8888888888888888,
              "#fdca26"
             ],
             [
              1,
              "#f0f921"
             ]
            ],
            "type": "contour"
           }
          ],
          "contourcarpet": [
           {
            "colorbar": {
             "outlinewidth": 0,
             "ticks": ""
            },
            "type": "contourcarpet"
           }
          ],
          "heatmap": [
           {
            "colorbar": {
             "outlinewidth": 0,
             "ticks": ""
            },
            "colorscale": [
             [
              0,
              "#0d0887"
             ],
             [
              0.1111111111111111,
              "#46039f"
             ],
             [
              0.2222222222222222,
              "#7201a8"
             ],
             [
              0.3333333333333333,
              "#9c179e"
             ],
             [
              0.4444444444444444,
              "#bd3786"
             ],
             [
              0.5555555555555556,
              "#d8576b"
             ],
             [
              0.6666666666666666,
              "#ed7953"
             ],
             [
              0.7777777777777778,
              "#fb9f3a"
             ],
             [
              0.8888888888888888,
              "#fdca26"
             ],
             [
              1,
              "#f0f921"
             ]
            ],
            "type": "heatmap"
           }
          ],
          "histogram": [
           {
            "marker": {
             "pattern": {
              "fillmode": "overlay",
              "size": 10,
              "solidity": 0.2
             }
            },
            "type": "histogram"
           }
          ],
          "histogram2d": [
           {
            "colorbar": {
             "outlinewidth": 0,
             "ticks": ""
            },
            "colorscale": [
             [
              0,
              "#0d0887"
             ],
             [
              0.1111111111111111,
              "#46039f"
             ],
             [
              0.2222222222222222,
              "#7201a8"
             ],
             [
              0.3333333333333333,
              "#9c179e"
             ],
             [
              0.4444444444444444,
              "#bd3786"
             ],
             [
              0.5555555555555556,
              "#d8576b"
             ],
             [
              0.6666666666666666,
              "#ed7953"
             ],
             [
              0.7777777777777778,
              "#fb9f3a"
             ],
             [
              0.8888888888888888,
              "#fdca26"
             ],
             [
              1,
              "#f0f921"
             ]
            ],
            "type": "histogram2d"
           }
          ],
          "histogram2dcontour": [
           {
            "colorbar": {
             "outlinewidth": 0,
             "ticks": ""
            },
            "colorscale": [
             [
              0,
              "#0d0887"
             ],
             [
              0.1111111111111111,
              "#46039f"
             ],
             [
              0.2222222222222222,
              "#7201a8"
             ],
             [
              0.3333333333333333,
              "#9c179e"
             ],
             [
              0.4444444444444444,
              "#bd3786"
             ],
             [
              0.5555555555555556,
              "#d8576b"
             ],
             [
              0.6666666666666666,
              "#ed7953"
             ],
             [
              0.7777777777777778,
              "#fb9f3a"
             ],
             [
              0.8888888888888888,
              "#fdca26"
             ],
             [
              1,
              "#f0f921"
             ]
            ],
            "type": "histogram2dcontour"
           }
          ],
          "mesh3d": [
           {
            "colorbar": {
             "outlinewidth": 0,
             "ticks": ""
            },
            "type": "mesh3d"
           }
          ],
          "parcoords": [
           {
            "line": {
             "colorbar": {
              "outlinewidth": 0,
              "ticks": ""
             }
            },
            "type": "parcoords"
           }
          ],
          "pie": [
           {
            "automargin": true,
            "type": "pie"
           }
          ],
          "scatter": [
           {
            "fillpattern": {
             "fillmode": "overlay",
             "size": 10,
             "solidity": 0.2
            },
            "type": "scatter"
           }
          ],
          "scatter3d": [
           {
            "line": {
             "colorbar": {
              "outlinewidth": 0,
              "ticks": ""
             }
            },
            "marker": {
             "colorbar": {
              "outlinewidth": 0,
              "ticks": ""
             }
            },
            "type": "scatter3d"
           }
          ],
          "scattercarpet": [
           {
            "marker": {
             "colorbar": {
              "outlinewidth": 0,
              "ticks": ""
             }
            },
            "type": "scattercarpet"
           }
          ],
          "scattergeo": [
           {
            "marker": {
             "colorbar": {
              "outlinewidth": 0,
              "ticks": ""
             }
            },
            "type": "scattergeo"
           }
          ],
          "scattergl": [
           {
            "marker": {
             "colorbar": {
              "outlinewidth": 0,
              "ticks": ""
             }
            },
            "type": "scattergl"
           }
          ],
          "scattermap": [
           {
            "marker": {
             "colorbar": {
              "outlinewidth": 0,
              "ticks": ""
             }
            },
            "type": "scattermap"
           }
          ],
          "scattermapbox": [
           {
            "marker": {
             "colorbar": {
              "outlinewidth": 0,
              "ticks": ""
             }
            },
            "type": "scattermapbox"
           }
          ],
          "scatterpolar": [
           {
            "marker": {
             "colorbar": {
              "outlinewidth": 0,
              "ticks": ""
             }
            },
            "type": "scatterpolar"
           }
          ],
          "scatterpolargl": [
           {
            "marker": {
             "colorbar": {
              "outlinewidth": 0,
              "ticks": ""
             }
            },
            "type": "scatterpolargl"
           }
          ],
          "scatterternary": [
           {
            "marker": {
             "colorbar": {
              "outlinewidth": 0,
              "ticks": ""
             }
            },
            "type": "scatterternary"
           }
          ],
          "surface": [
           {
            "colorbar": {
             "outlinewidth": 0,
             "ticks": ""
            },
            "colorscale": [
             [
              0,
              "#0d0887"
             ],
             [
              0.1111111111111111,
              "#46039f"
             ],
             [
              0.2222222222222222,
              "#7201a8"
             ],
             [
              0.3333333333333333,
              "#9c179e"
             ],
             [
              0.4444444444444444,
              "#bd3786"
             ],
             [
              0.5555555555555556,
              "#d8576b"
             ],
             [
              0.6666666666666666,
              "#ed7953"
             ],
             [
              0.7777777777777778,
              "#fb9f3a"
             ],
             [
              0.8888888888888888,
              "#fdca26"
             ],
             [
              1,
              "#f0f921"
             ]
            ],
            "type": "surface"
           }
          ],
          "table": [
           {
            "cells": {
             "fill": {
              "color": "#EBF0F8"
             },
             "line": {
              "color": "white"
             }
            },
            "header": {
             "fill": {
              "color": "#C8D4E3"
             },
             "line": {
              "color": "white"
             }
            },
            "type": "table"
           }
          ]
         },
         "layout": {
          "annotationdefaults": {
           "arrowcolor": "#2a3f5f",
           "arrowhead": 0,
           "arrowwidth": 1
          },
          "autotypenumbers": "strict",
          "coloraxis": {
           "colorbar": {
            "outlinewidth": 0,
            "ticks": ""
           }
          },
          "colorscale": {
           "diverging": [
            [
             0,
             "#8e0152"
            ],
            [
             0.1,
             "#c51b7d"
            ],
            [
             0.2,
             "#de77ae"
            ],
            [
             0.3,
             "#f1b6da"
            ],
            [
             0.4,
             "#fde0ef"
            ],
            [
             0.5,
             "#f7f7f7"
            ],
            [
             0.6,
             "#e6f5d0"
            ],
            [
             0.7,
             "#b8e186"
            ],
            [
             0.8,
             "#7fbc41"
            ],
            [
             0.9,
             "#4d9221"
            ],
            [
             1,
             "#276419"
            ]
           ],
           "sequential": [
            [
             0,
             "#0d0887"
            ],
            [
             0.1111111111111111,
             "#46039f"
            ],
            [
             0.2222222222222222,
             "#7201a8"
            ],
            [
             0.3333333333333333,
             "#9c179e"
            ],
            [
             0.4444444444444444,
             "#bd3786"
            ],
            [
             0.5555555555555556,
             "#d8576b"
            ],
            [
             0.6666666666666666,
             "#ed7953"
            ],
            [
             0.7777777777777778,
             "#fb9f3a"
            ],
            [
             0.8888888888888888,
             "#fdca26"
            ],
            [
             1,
             "#f0f921"
            ]
           ],
           "sequentialminus": [
            [
             0,
             "#0d0887"
            ],
            [
             0.1111111111111111,
             "#46039f"
            ],
            [
             0.2222222222222222,
             "#7201a8"
            ],
            [
             0.3333333333333333,
             "#9c179e"
            ],
            [
             0.4444444444444444,
             "#bd3786"
            ],
            [
             0.5555555555555556,
             "#d8576b"
            ],
            [
             0.6666666666666666,
             "#ed7953"
            ],
            [
             0.7777777777777778,
             "#fb9f3a"
            ],
            [
             0.8888888888888888,
             "#fdca26"
            ],
            [
             1,
             "#f0f921"
            ]
           ]
          },
          "colorway": [
           "#636efa",
           "#EF553B",
           "#00cc96",
           "#ab63fa",
           "#FFA15A",
           "#19d3f3",
           "#FF6692",
           "#B6E880",
           "#FF97FF",
           "#FECB52"
          ],
          "font": {
           "color": "#2a3f5f"
          },
          "geo": {
           "bgcolor": "white",
           "lakecolor": "white",
           "landcolor": "#E5ECF6",
           "showlakes": true,
           "showland": true,
           "subunitcolor": "white"
          },
          "hoverlabel": {
           "align": "left"
          },
          "hovermode": "closest",
          "mapbox": {
           "style": "light"
          },
          "paper_bgcolor": "white",
          "plot_bgcolor": "#E5ECF6",
          "polar": {
           "angularaxis": {
            "gridcolor": "white",
            "linecolor": "white",
            "ticks": ""
           },
           "bgcolor": "#E5ECF6",
           "radialaxis": {
            "gridcolor": "white",
            "linecolor": "white",
            "ticks": ""
           }
          },
          "scene": {
           "xaxis": {
            "backgroundcolor": "#E5ECF6",
            "gridcolor": "white",
            "gridwidth": 2,
            "linecolor": "white",
            "showbackground": true,
            "ticks": "",
            "zerolinecolor": "white"
           },
           "yaxis": {
            "backgroundcolor": "#E5ECF6",
            "gridcolor": "white",
            "gridwidth": 2,
            "linecolor": "white",
            "showbackground": true,
            "ticks": "",
            "zerolinecolor": "white"
           },
           "zaxis": {
            "backgroundcolor": "#E5ECF6",
            "gridcolor": "white",
            "gridwidth": 2,
            "linecolor": "white",
            "showbackground": true,
            "ticks": "",
            "zerolinecolor": "white"
           }
          },
          "shapedefaults": {
           "line": {
            "color": "#2a3f5f"
           }
          },
          "ternary": {
           "aaxis": {
            "gridcolor": "white",
            "linecolor": "white",
            "ticks": ""
           },
           "baxis": {
            "gridcolor": "white",
            "linecolor": "white",
            "ticks": ""
           },
           "bgcolor": "#E5ECF6",
           "caxis": {
            "gridcolor": "white",
            "linecolor": "white",
            "ticks": ""
           }
          },
          "title": {
           "x": 0.05
          },
          "xaxis": {
           "automargin": true,
           "gridcolor": "white",
           "linecolor": "white",
           "ticks": "",
           "title": {
            "standoff": 15
           },
           "zerolinecolor": "white",
           "zerolinewidth": 2
          },
          "yaxis": {
           "automargin": true,
           "gridcolor": "white",
           "linecolor": "white",
           "ticks": "",
           "title": {
            "standoff": 15
           },
           "zerolinecolor": "white",
           "zerolinewidth": 2
          }
         }
        },
        "title": {
         "text": "gross margin percentage"
        },
        "xaxis": {
         "anchor": "y",
         "domain": [
          0,
          1
         ],
         "title": {
          "text": "gross margin percentage"
         }
        },
        "yaxis": {
         "anchor": "x",
         "domain": [
          0,
          1
         ],
         "title": {
          "text": "count"
         }
        }
       }
      },
      "image/png": "[encoded data removed]"
     },
     "metadata": {},
     "output_type": "display_data"
    },
    {
     "data": {
      "application/vnd.plotly.v1+json": {
       "config": {
        "plotlyServerURL": "https://plot.ly"
       },
       "data": [
        {
         "bingroup": "x",
         "hovertemplate": "gross income=%{x}<br>count=%{y}<extra></extra>",
         "legendgroup": "",
         "marker": {
          "color": "#636efa",
          "pattern": {
           "shape": ""
          }
         },
         "name": "",
         "orientation": "v",
         "showlegend": false,
         "type": "histogram",
         "x": {
          "bdata": "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",
          "dtype": "f8"
         },
         "xaxis": "x",
         "yaxis": "y"
        }
       ],
       "layout": {
        "barmode": "relative",
        "legend": {
         "tracegroupgap": 0
        },
        "template": {
         "data": {
          "bar": [
           {
            "error_x": {
             "color": "#2a3f5f"
            },
            "error_y": {
             "color": "#2a3f5f"
            },
            "marker": {
             "line": {
              "color": "#E5ECF6",
              "width": 0.5
             },
             "pattern": {
              "fillmode": "overlay",
              "size": 10,
              "solidity": 0.2
             }
            },
            "type": "bar"
           }
          ],
          "barpolar": [
           {
            "marker": {
             "line": {
              "color": "#E5ECF6",
              "width": 0.5
             },
             "pattern": {
              "fillmode": "overlay",
              "size": 10,
              "solidity": 0.2
             }
            },
            "type": "barpolar"
           }
          ],
          "carpet": [
           {
            "aaxis": {
             "endlinecolor": "#2a3f5f",
             "gridcolor": "white",
             "linecolor": "white",
             "minorgridcolor": "white",
             "startlinecolor": "#2a3f5f"
            },
            "baxis": {
             "endlinecolor": "#2a3f5f",
             "gridcolor": "white",
             "linecolor": "white",
             "minorgridcolor": "white",
             "startlinecolor": "#2a3f5f"
            },
            "type": "carpet"
           }
          ],
          "choropleth": [
           {
            "colorbar": {
             "outlinewidth": 0,
             "ticks": ""
            },
            "type": "choropleth"
           }
          ],
          "contour": [
           {
            "colorbar": {
             "outlinewidth": 0,
             "ticks": ""
            },
            "colorscale": [
             [
              0,
              "#0d0887"
             ],
             [
              0.1111111111111111,
              "#46039f"
             ],
             [
              0.2222222222222222,
              "#7201a8"
             ],
             [
              0.3333333333333333,
              "#9c179e"
             ],
             [
              0.4444444444444444,
              "#bd3786"
             ],
             [
              0.5555555555555556,
              "#d8576b"
             ],
             [
              0.6666666666666666,
              "#ed7953"
             ],
             [
              0.7777777777777778,
              "#fb9f3a"
             ],
             [
              0.8888888888888888,
              "#fdca26"
             ],
             [
              1,
              "#f0f921"
             ]
            ],
            "type": "contour"
           }
          ],
          "contourcarpet": [
           {
            "colorbar": {
             "outlinewidth": 0,
             "ticks": ""
            },
            "type": "contourcarpet"
           }
          ],
          "heatmap": [
           {
            "colorbar": {
             "outlinewidth": 0,
             "ticks": ""
            },
            "colorscale": [
             [
              0,
              "#0d0887"
             ],
             [
              0.1111111111111111,
              "#46039f"
             ],
             [
              0.2222222222222222,
              "#7201a8"
             ],
             [
              0.3333333333333333,
              "#9c179e"
             ],
             [
              0.4444444444444444,
              "#bd3786"
             ],
             [
              0.5555555555555556,
              "#d8576b"
             ],
             [
              0.6666666666666666,
              "#ed7953"
             ],
             [
              0.7777777777777778,
              "#fb9f3a"
             ],
             [
              0.8888888888888888,
              "#fdca26"
             ],
             [
              1,
              "#f0f921"
             ]
            ],
            "type": "heatmap"
           }
          ],
          "histogram": [
           {
            "marker": {
             "pattern": {
              "fillmode": "overlay",
              "size": 10,
              "solidity": 0.2
             }
            },
            "type": "histogram"
           }
          ],
          "histogram2d": [
           {
            "colorbar": {
             "outlinewidth": 0,
             "ticks": ""
            },
            "colorscale": [
             [
              0,
              "#0d0887"
             ],
             [
              0.1111111111111111,
              "#46039f"
             ],
             [
              0.2222222222222222,
              "#7201a8"
             ],
             [
              0.3333333333333333,
              "#9c179e"
             ],
             [
              0.4444444444444444,
              "#bd3786"
             ],
             [
              0.5555555555555556,
              "#d8576b"
             ],
             [
              0.6666666666666666,
              "#ed7953"
             ],
             [
              0.7777777777777778,
              "#fb9f3a"
             ],
             [
              0.8888888888888888,
              "#fdca26"
             ],
             [
              1,
              "#f0f921"
             ]
            ],
            "type": "histogram2d"
           }
          ],
          "histogram2dcontour": [
           {
            "colorbar": {
             "outlinewidth": 0,
             "ticks": ""
            },
            "colorscale": [
             [
              0,
              "#0d0887"
             ],
             [
              0.1111111111111111,
              "#46039f"
             ],
             [
              0.2222222222222222,
              "#7201a8"
             ],
             [
              0.3333333333333333,
              "#9c179e"
             ],
             [
              0.4444444444444444,
              "#bd3786"
             ],
             [
              0.5555555555555556,
              "#d8576b"
             ],
             [
              0.6666666666666666,
              "#ed7953"
             ],
             [
              0.7777777777777778,
              "#fb9f3a"
             ],
             [
              0.8888888888888888,
              "#fdca26"
             ],
             [
              1,
              "#f0f921"
             ]
            ],
            "type": "histogram2dcontour"
           }
          ],
          "mesh3d": [
           {
            "colorbar": {
             "outlinewidth": 0,
             "ticks": ""
            },
            "type": "mesh3d"
           }
          ],
          "parcoords": [
           {
            "line": {
             "colorbar": {
              "outlinewidth": 0,
              "ticks": ""
             }
            },
            "type": "parcoords"
           }
          ],
          "pie": [
           {
            "automargin": true,
            "type": "pie"
           }
          ],
          "scatter": [
           {
            "fillpattern": {
             "fillmode": "overlay",
             "size": 10,
             "solidity": 0.2
            },
            "type": "scatter"
           }
          ],
          "scatter3d": [
           {
            "line": {
             "colorbar": {
              "outlinewidth": 0,
              "ticks": ""
             }
            },
            "marker": {
             "colorbar": {
              "outlinewidth": 0,
              "ticks": ""
             }
            },
            "type": "scatter3d"
           }
          ],
          "scattercarpet": [
           {
            "marker": {
             "colorbar": {
              "outlinewidth": 0,
              "ticks": ""
             }
            },
            "type": "scattercarpet"
           }
          ],
          "scattergeo": [
           {
            "marker": {
             "colorbar": {
              "outlinewidth": 0,
              "ticks": ""
             }
            },
            "type": "scattergeo"
           }
          ],
          "scattergl": [
           {
            "marker": {
             "colorbar": {
              "outlinewidth": 0,
              "ticks": ""
             }
            },
            "type": "scattergl"
           }
          ],
          "scattermap": [
           {
            "marker": {
             "colorbar": {
              "outlinewidth": 0,
              "ticks": ""
             }
            },
            "type": "scattermap"
           }
          ],
          "scattermapbox": [
           {
            "marker": {
             "colorbar": {
              "outlinewidth": 0,
              "ticks": ""
             }
            },
            "type": "scattermapbox"
           }
          ],
          "scatterpolar": [
           {
            "marker": {
             "colorbar": {
              "outlinewidth": 0,
              "ticks": ""
             }
            },
            "type": "scatterpolar"
           }
          ],
          "scatterpolargl": [
           {
            "marker": {
             "colorbar": {
              "outlinewidth": 0,
              "ticks": ""
             }
            },
            "type": "scatterpolargl"
           }
          ],
          "scatterternary": [
           {
            "marker": {
             "colorbar": {
              "outlinewidth": 0,
              "ticks": ""
             }
            },
            "type": "scatterternary"
           }
          ],
          "surface": [
           {
            "colorbar": {
             "outlinewidth": 0,
             "ticks": ""
            },
            "colorscale": [
             [
              0,
              "#0d0887"
             ],
             [
              0.1111111111111111,
              "#46039f"
             ],
             [
              0.2222222222222222,
              "#7201a8"
             ],
             [
              0.3333333333333333,
              "#9c179e"
             ],
             [
              0.4444444444444444,
              "#bd3786"
             ],
             [
              0.5555555555555556,
              "#d8576b"
             ],
             [
              0.6666666666666666,
              "#ed7953"
             ],
             [
              0.7777777777777778,
              "#fb9f3a"
             ],
             [
              0.8888888888888888,
              "#fdca26"
             ],
             [
              1,
              "#f0f921"
             ]
            ],
            "type": "surface"
           }
          ],
          "table": [
           {
            "cells": {
             "fill": {
              "color": "#EBF0F8"
             },
             "line": {
              "color": "white"
             }
            },
            "header": {
             "fill": {
              "color": "#C8D4E3"
             },
             "line": {
              "color": "white"
             }
            },
            "type": "table"
           }
          ]
         },
         "layout": {
          "annotationdefaults": {
           "arrowcolor": "#2a3f5f",
           "arrowhead": 0,
           "arrowwidth": 1
          },
          "autotypenumbers": "strict",
          "coloraxis": {
           "colorbar": {
            "outlinewidth": 0,
            "ticks": ""
           }
          },
          "colorscale": {
           "diverging": [
            [
             0,
             "#8e0152"
            ],
            [
             0.1,
             "#c51b7d"
            ],
            [
             0.2,
             "#de77ae"
            ],
            [
             0.3,
             "#f1b6da"
            ],
            [
             0.4,
             "#fde0ef"
            ],
            [
             0.5,
             "#f7f7f7"
            ],
            [
             0.6,
             "#e6f5d0"
            ],
            [
             0.7,
             "#b8e186"
            ],
            [
             0.8,
             "#7fbc41"
            ],
            [
             0.9,
             "#4d9221"
            ],
            [
             1,
             "#276419"
            ]
           ],
           "sequential": [
            [
             0,
             "#0d0887"
            ],
            [
             0.1111111111111111,
             "#46039f"
            ],
            [
             0.2222222222222222,
             "#7201a8"
            ],
            [
             0.3333333333333333,
             "#9c179e"
            ],
            [
             0.4444444444444444,
             "#bd3786"
            ],
            [
             0.5555555555555556,
             "#d8576b"
            ],
            [
             0.6666666666666666,
             "#ed7953"
            ],
            [
             0.7777777777777778,
             "#fb9f3a"
            ],
            [
             0.8888888888888888,
             "#fdca26"
            ],
            [
             1,
             "#f0f921"
            ]
           ],
           "sequentialminus": [
            [
             0,
             "#0d0887"
            ],
            [
             0.1111111111111111,
             "#46039f"
            ],
            [
             0.2222222222222222,
             "#7201a8"
            ],
            [
             0.3333333333333333,
             "#9c179e"
            ],
            [
             0.4444444444444444,
             "#bd3786"
            ],
            [
             0.5555555555555556,
             "#d8576b"
            ],
            [
             0.6666666666666666,
             "#ed7953"
            ],
            [
             0.7777777777777778,
             "#fb9f3a"
            ],
            [
             0.8888888888888888,
             "#fdca26"
            ],
            [
             1,
             "#f0f921"
            ]
           ]
          },
          "colorway": [
           "#636efa",
           "#EF553B",
           "#00cc96",
           "#ab63fa",
           "#FFA15A",
           "#19d3f3",
           "#FF6692",
           "#B6E880",
           "#FF97FF",
           "#FECB52"
          ],
          "font": {
           "color": "#2a3f5f"
          },
          "geo": {
           "bgcolor": "white",
           "lakecolor": "white",
           "landcolor": "#E5ECF6",
           "showlakes": true,
           "showland": true,
           "subunitcolor": "white"
          },
          "hoverlabel": {
           "align": "left"
          },
          "hovermode": "closest",
          "mapbox": {
           "style": "light"
          },
          "paper_bgcolor": "white",
          "plot_bgcolor": "#E5ECF6",
          "polar": {
           "angularaxis": {
            "gridcolor": "white",
            "linecolor": "white",
            "ticks": ""
           },
           "bgcolor": "#E5ECF6",
           "radialaxis": {
            "gridcolor": "white",
            "linecolor": "white",
            "ticks": ""
           }
          },
          "scene": {
           "xaxis": {
            "backgroundcolor": "#E5ECF6",
            "gridcolor": "white",
            "gridwidth": 2,
            "linecolor": "white",
            "showbackground": true,
            "ticks": "",
            "zerolinecolor": "white"
           },
           "yaxis": {
            "backgroundcolor": "#E5ECF6",
            "gridcolor": "white",
            "gridwidth": 2,
            "linecolor": "white",
            "showbackground": true,
            "ticks": "",
            "zerolinecolor": "white"
           },
           "zaxis": {
            "backgroundcolor": "#E5ECF6",
            "gridcolor": "white",
            "gridwidth": 2,
            "linecolor": "white",
            "showbackground": true,
            "ticks": "",
            "zerolinecolor": "white"
           }
          },
          "shapedefaults": {
           "line": {
            "color": "#2a3f5f"
           }
          },
          "ternary": {
           "aaxis": {
            "gridcolor": "white",
            "linecolor": "white",
            "ticks": ""
           },
           "baxis": {
            "gridcolor": "white",
            "linecolor": "white",
            "ticks": ""
           },
           "bgcolor": "#E5ECF6",
           "caxis": {
            "gridcolor": "white",
            "linecolor": "white",
            "ticks": ""
           }
          },
          "title": {
           "x": 0.05
          },
          "xaxis": {
           "automargin": true,
           "gridcolor": "white",
           "linecolor": "white",
           "ticks": "",
           "title": {
            "standoff": 15
           },
           "zerolinecolor": "white",
           "zerolinewidth": 2
          },
          "yaxis": {
           "automargin": true,
           "gridcolor": "white",
           "linecolor": "white",
           "ticks": "",
           "title": {
            "standoff": 15
           },
           "zerolinecolor": "white",
           "zerolinewidth": 2
          }
         }
        },
        "title": {
         "text": "gross income"
        },
        "xaxis": {
         "anchor": "y",
         "domain": [
          0,
          1
         ],
         "title": {
          "text": "gross income"
         }
        },
        "yaxis": {
         "anchor": "x",
         "domain": [
          0,
          1
         ],
         "title": {
          "text": "count"
         }
        }
       }
      },
      "image/png": "[encoded data removed]"
     },
     "metadata": {},
     "output_type": "display_data"
    },
    {
     "data": {
      "application/vnd.plotly.v1+json": {
       "config": {
        "plotlyServerURL": "https://plot.ly"
       },
       "data": [
        {
         "bingroup": "x",
         "hovertemplate": "rating=%{x}<br>count=%{y}<extra></extra>",
         "legendgroup": "",
         "marker": {
          "color": "#636efa",
          "pattern": {
           "shape": ""
          }
         },
         "name": "",
         "orientation": "v",
         "showlegend": false,
         "type": "histogram",
         "x": {
          "bdata": "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",
          "dtype": "f8"
         },
         "xaxis": "x",
         "yaxis": "y"
        }
       ],
       "layout": {
        "barmode": "relative",
        "legend": {
         "tracegroupgap": 0
        },
        "template": {
         "data": {
          "bar": [
           {
            "error_x": {
             "color": "#2a3f5f"
            },
            "error_y": {
             "color": "#2a3f5f"
            },
            "marker": {
             "line": {
              "color": "#E5ECF6",
              "width": 0.5
             },
             "pattern": {
              "fillmode": "overlay",
              "size": 10,
              "solidity": 0.2
             }
            },
            "type": "bar"
           }
          ],
          "barpolar": [
           {
            "marker": {
             "line": {
              "color": "#E5ECF6",
              "width": 0.5
             },
             "pattern": {
              "fillmode": "overlay",
              "size": 10,
              "solidity": 0.2
             }
            },
            "type": "barpolar"
           }
          ],
          "carpet": [
           {
            "aaxis": {
             "endlinecolor": "#2a3f5f",
             "gridcolor": "white",
             "linecolor": "white",
             "minorgridcolor": "white",
             "startlinecolor": "#2a3f5f"
            },
            "baxis": {
             "endlinecolor": "#2a3f5f",
             "gridcolor": "white",
             "linecolor": "white",
             "minorgridcolor": "white",
             "startlinecolor": "#2a3f5f"
            },
            "type": "carpet"
           }
          ],
          "choropleth": [
           {
            "colorbar": {
             "outlinewidth": 0,
             "ticks": ""
            },
            "type": "choropleth"
           }
          ],
          "contour": [
           {
            "colorbar": {
             "outlinewidth": 0,
             "ticks": ""
            },
            "colorscale": [
             [
              0,
              "#0d0887"
             ],
             [
              0.1111111111111111,
              "#46039f"
             ],
             [
              0.2222222222222222,
              "#7201a8"
             ],
             [
              0.3333333333333333,
              "#9c179e"
             ],
             [
              0.4444444444444444,
              "#bd3786"
             ],
             [
              0.5555555555555556,
              "#d8576b"
             ],
             [
              0.6666666666666666,
              "#ed7953"
             ],
             [
              0.7777777777777778,
              "#fb9f3a"
             ],
             [
              0.8888888888888888,
              "#fdca26"
             ],
             [
              1,
              "#f0f921"
             ]
            ],
            "type": "contour"
           }
          ],
          "contourcarpet": [
           {
            "colorbar": {
             "outlinewidth": 0,
             "ticks": ""
            },
            "type": "contourcarpet"
           }
          ],
          "heatmap": [
           {
            "colorbar": {
             "outlinewidth": 0,
             "ticks": ""
            },
            "colorscale": [
             [
              0,
              "#0d0887"
             ],
             [
              0.1111111111111111,
              "#46039f"
             ],
             [
              0.2222222222222222,
              "#7201a8"
             ],
             [
              0.3333333333333333,
              "#9c179e"
             ],
             [
              0.4444444444444444,
              "#bd3786"
             ],
             [
              0.5555555555555556,
              "#d8576b"
             ],
             [
              0.6666666666666666,
              "#ed7953"
             ],
             [
              0.7777777777777778,
              "#fb9f3a"
             ],
             [
              0.8888888888888888,
              "#fdca26"
             ],
             [
              1,
              "#f0f921"
             ]
            ],
            "type": "heatmap"
           }
          ],
          "histogram": [
           {
            "marker": {
             "pattern": {
              "fillmode": "overlay",
              "size": 10,
              "solidity": 0.2
             }
            },
            "type": "histogram"
           }
          ],
          "histogram2d": [
           {
            "colorbar": {
             "outlinewidth": 0,
             "ticks": ""
            },
            "colorscale": [
             [
              0,
              "#0d0887"
             ],
             [
              0.1111111111111111,
              "#46039f"
             ],
             [
              0.2222222222222222,
              "#7201a8"
             ],
             [
              0.3333333333333333,
              "#9c179e"
             ],
             [
              0.4444444444444444,
              "#bd3786"
             ],
             [
              0.5555555555555556,
              "#d8576b"
             ],
             [
              0.6666666666666666,
              "#ed7953"
             ],
             [
              0.7777777777777778,
              "#fb9f3a"
             ],
             [
              0.8888888888888888,
              "#fdca26"
             ],
             [
              1,
              "#f0f921"
             ]
            ],
            "type": "histogram2d"
           }
          ],
          "histogram2dcontour": [
           {
            "colorbar": {
             "outlinewidth": 0,
             "ticks": ""
            },
            "colorscale": [
             [
              0,
              "#0d0887"
             ],
             [
              0.1111111111111111,
              "#46039f"
             ],
             [
              0.2222222222222222,
              "#7201a8"
             ],
             [
              0.3333333333333333,
              "#9c179e"
             ],
             [
              0.4444444444444444,
              "#bd3786"
             ],
             [
              0.5555555555555556,
              "#d8576b"
             ],
             [
              0.6666666666666666,
              "#ed7953"
             ],
             [
              0.7777777777777778,
              "#fb9f3a"
             ],
             [
              0.8888888888888888,
              "#fdca26"
             ],
             [
              1,
              "#f0f921"
             ]
            ],
            "type": "histogram2dcontour"
           }
          ],
          "mesh3d": [
           {
            "colorbar": {
             "outlinewidth": 0,
             "ticks": ""
            },
            "type": "mesh3d"
           }
          ],
          "parcoords": [
           {
            "line": {
             "colorbar": {
              "outlinewidth": 0,
              "ticks": ""
             }
            },
            "type": "parcoords"
           }
          ],
          "pie": [
           {
            "automargin": true,
            "type": "pie"
           }
          ],
          "scatter": [
           {
            "fillpattern": {
             "fillmode": "overlay",
             "size": 10,
             "solidity": 0.2
            },
            "type": "scatter"
           }
          ],
          "scatter3d": [
           {
            "line": {
             "colorbar": {
              "outlinewidth": 0,
              "ticks": ""
             }
            },
            "marker": {
             "colorbar": {
              "outlinewidth": 0,
              "ticks": ""
             }
            },
            "type": "scatter3d"
           }
          ],
          "scattercarpet": [
           {
            "marker": {
             "colorbar": {
              "outlinewidth": 0,
              "ticks": ""
             }
            },
            "type": "scattercarpet"
           }
          ],
          "scattergeo": [
           {
            "marker": {
             "colorbar": {
              "outlinewidth": 0,
              "ticks": ""
             }
            },
            "type": "scattergeo"
           }
          ],
          "scattergl": [
           {
            "marker": {
             "colorbar": {
              "outlinewidth": 0,
              "ticks": ""
             }
            },
            "type": "scattergl"
           }
          ],
          "scattermap": [
           {
            "marker": {
             "colorbar": {
              "outlinewidth": 0,
              "ticks": ""
             }
            },
            "type": "scattermap"
           }
          ],
          "scattermapbox": [
           {
            "marker": {
             "colorbar": {
              "outlinewidth": 0,
              "ticks": ""
             }
            },
            "type": "scattermapbox"
           }
          ],
          "scatterpolar": [
           {
            "marker": {
             "colorbar": {
              "outlinewidth": 0,
              "ticks": ""
             }
            },
            "type": "scatterpolar"
           }
          ],
          "scatterpolargl": [
           {
            "marker": {
             "colorbar": {
              "outlinewidth": 0,
              "ticks": ""
             }
            },
            "type": "scatterpolargl"
           }
          ],
          "scatterternary": [
           {
            "marker": {
             "colorbar": {
              "outlinewidth": 0,
              "ticks": ""
             }
            },
            "type": "scatterternary"
           }
          ],
          "surface": [
           {
            "colorbar": {
             "outlinewidth": 0,
             "ticks": ""
            },
            "colorscale": [
             [
              0,
              "#0d0887"
             ],
             [
              0.1111111111111111,
              "#46039f"
             ],
             [
              0.2222222222222222,
              "#7201a8"
             ],
             [
              0.3333333333333333,
              "#9c179e"
             ],
             [
              0.4444444444444444,
              "#bd3786"
             ],
             [
              0.5555555555555556,
              "#d8576b"
             ],
             [
              0.6666666666666666,
              "#ed7953"
             ],
             [
              0.7777777777777778,
              "#fb9f3a"
             ],
             [
              0.8888888888888888,
              "#fdca26"
             ],
             [
              1,
              "#f0f921"
             ]
            ],
            "type": "surface"
           }
          ],
          "table": [
           {
            "cells": {
             "fill": {
              "color": "#EBF0F8"
             },
             "line": {
              "color": "white"
             }
            },
            "header": {
             "fill": {
              "color": "#C8D4E3"
             },
             "line": {
              "color": "white"
             }
            },
            "type": "table"
           }
          ]
         },
         "layout": {
          "annotationdefaults": {
           "arrowcolor": "#2a3f5f",
           "arrowhead": 0,
           "arrowwidth": 1
          },
          "autotypenumbers": "strict",
          "coloraxis": {
           "colorbar": {
            "outlinewidth": 0,
            "ticks": ""
           }
          },
          "colorscale": {
           "diverging": [
            [
             0,
             "#8e0152"
            ],
            [
             0.1,
             "#c51b7d"
            ],
            [
             0.2,
             "#de77ae"
            ],
            [
             0.3,
             "#f1b6da"
            ],
            [
             0.4,
             "#fde0ef"
            ],
            [
             0.5,
             "#f7f7f7"
            ],
            [
             0.6,
             "#e6f5d0"
            ],
            [
             0.7,
             "#b8e186"
            ],
            [
             0.8,
             "#7fbc41"
            ],
            [
             0.9,
             "#4d9221"
            ],
            [
             1,
             "#276419"
            ]
           ],
           "sequential": [
            [
             0,
             "#0d0887"
            ],
            [
             0.1111111111111111,
             "#46039f"
            ],
            [
             0.2222222222222222,
             "#7201a8"
            ],
            [
             0.3333333333333333,
             "#9c179e"
            ],
            [
             0.4444444444444444,
             "#bd3786"
            ],
            [
             0.5555555555555556,
             "#d8576b"
            ],
            [
             0.6666666666666666,
             "#ed7953"
            ],
            [
             0.7777777777777778,
             "#fb9f3a"
            ],
            [
             0.8888888888888888,
             "#fdca26"
            ],
            [
             1,
             "#f0f921"
            ]
           ],
           "sequentialminus": [
            [
             0,
             "#0d0887"
            ],
            [
             0.1111111111111111,
             "#46039f"
            ],
            [
             0.2222222222222222,
             "#7201a8"
            ],
            [
             0.3333333333333333,
             "#9c179e"
            ],
            [
             0.4444444444444444,
             "#bd3786"
            ],
            [
             0.5555555555555556,
             "#d8576b"
            ],
            [
             0.6666666666666666,
             "#ed7953"
            ],
            [
             0.7777777777777778,
             "#fb9f3a"
            ],
            [
             0.8888888888888888,
             "#fdca26"
            ],
            [
             1,
             "#f0f921"
            ]
           ]
          },
          "colorway": [
           "#636efa",
           "#EF553B",
           "#00cc96",
           "#ab63fa",
           "#FFA15A",
           "#19d3f3",
           "#FF6692",
           "#B6E880",
           "#FF97FF",
           "#FECB52"
          ],
          "font": {
           "color": "#2a3f5f"
          },
          "geo": {
           "bgcolor": "white",
           "lakecolor": "white",
           "landcolor": "#E5ECF6",
           "showlakes": true,
           "showland": true,
           "subunitcolor": "white"
          },
          "hoverlabel": {
           "align": "left"
          },
          "hovermode": "closest",
          "mapbox": {
           "style": "light"
          },
          "paper_bgcolor": "white",
          "plot_bgcolor": "#E5ECF6",
          "polar": {
           "angularaxis": {
            "gridcolor": "white",
            "linecolor": "white",
            "ticks": ""
           },
           "bgcolor": "#E5ECF6",
           "radialaxis": {
            "gridcolor": "white",
            "linecolor": "white",
            "ticks": ""
           }
          },
          "scene": {
           "xaxis": {
            "backgroundcolor": "#E5ECF6",
            "gridcolor": "white",
            "gridwidth": 2,
            "linecolor": "white",
            "showbackground": true,
            "ticks": "",
            "zerolinecolor": "white"
           },
           "yaxis": {
            "backgroundcolor": "#E5ECF6",
            "gridcolor": "white",
            "gridwidth": 2,
            "linecolor": "white",
            "showbackground": true,
            "ticks": "",
            "zerolinecolor": "white"
           },
           "zaxis": {
            "backgroundcolor": "#E5ECF6",
            "gridcolor": "white",
            "gridwidth": 2,
            "linecolor": "white",
            "showbackground": true,
            "ticks": "",
            "zerolinecolor": "white"
           }
          },
          "shapedefaults": {
           "line": {
            "color": "#2a3f5f"
           }
          },
          "ternary": {
           "aaxis": {
            "gridcolor": "white",
            "linecolor": "white",
            "ticks": ""
           },
           "baxis": {
            "gridcolor": "white",
            "linecolor": "white",
            "ticks": ""
           },
           "bgcolor": "#E5ECF6",
           "caxis": {
            "gridcolor": "white",
            "linecolor": "white",
            "ticks": ""
           }
          },
          "title": {
           "x": 0.05
          },
          "xaxis": {
           "automargin": true,
           "gridcolor": "white",
           "linecolor": "white",
           "ticks": "",
           "title": {
            "standoff": 15
           },
           "zerolinecolor": "white",
           "zerolinewidth": 2
          },
          "yaxis": {
           "automargin": true,
           "gridcolor": "white",
           "linecolor": "white",
           "ticks": "",
           "title": {
            "standoff": 15
           },
           "zerolinecolor": "white",
           "zerolinewidth": 2
          }
         }
        },
        "title": {
         "text": "rating"
        },
        "xaxis": {
         "anchor": "y",
         "domain": [
          0,
          1
         ],
         "title": {
          "text": "rating"
         }
        },
        "yaxis": {
         "anchor": "x",
         "domain": [
          0,
          1
         ],
         "title": {
          "text": "count"
         }
        }
       }
      },
      "image/png": "[encoded data removed]"
     },
     "metadata": {},
     "output_type": "display_data"
    }
   ],
   "source": [
    "for col in num_col:\n",
    "    px.histogram(df, x= col, title= col).show()"
   ]
  },
  {
   "cell_type": "markdown",
   "id": "89eb544b-37e3-4b1f-9e86-8bf5bb598445",
   "metadata": {},
   "source": [
    "# Feature Engineering"
   ]
  },
  {
   "cell_type": "code",
   "execution_count": 20,
   "id": "e7308c93-4a84-4ebc-8087-e2a0cbf26083",
   "metadata": {},
   "outputs": [
    {
     "data": {
      "text/plain": [
       "0     2019-01-05\n",
       "1     2019-03-08\n",
       "2     2019-03-03\n",
       "3     2019-01-27\n",
       "4     2019-02-08\n",
       "         ...    \n",
       "995   2019-01-29\n",
       "996   2019-03-02\n",
       "997   2019-02-09\n",
       "998   2019-02-22\n",
       "999   2019-02-18\n",
       "Name: date, Length: 1000, dtype: datetime64[ns]"
      ]
     },
     "execution_count": 20,
     "metadata": {},
     "output_type": "execute_result"
    }
   ],
   "source": [
    "# change Date type\n",
    "df.date = pd.to_datetime(df.date)\n",
    "df.date"
   ]
  },
  {
   "cell_type": "code",
   "execution_count": 65,
   "id": "25111a42-13db-415f-aa5f-45df8ca35dd9",
   "metadata": {},
   "outputs": [
    {
     "data": {
      "text/plain": [
       "0     2025-09-29 13:08:00\n",
       "1     2025-09-29 10:29:00\n",
       "2     2025-09-29 13:23:00\n",
       "3     2025-09-29 20:33:00\n",
       "4     2025-09-29 10:37:00\n",
       "              ...        \n",
       "995   2025-09-29 13:46:00\n",
       "996   2025-09-29 17:16:00\n",
       "997   2025-09-29 13:22:00\n",
       "998   2025-09-29 15:33:00\n",
       "999   2025-09-29 13:28:00\n",
       "Name: time, Length: 1000, dtype: datetime64[ns]"
      ]
     },
     "execution_count": 65,
     "metadata": {},
     "output_type": "execute_result"
    }
   ],
   "source": [
    "df.time = pd.to_datetime(df.time)\n",
    "df.time"
   ]
  },
  {
   "cell_type": "code",
   "execution_count": 64,
   "id": "f87ea0d1-e7ba-426c-8571-23d8fbdfd9eb",
   "metadata": {},
   "outputs": [
    {
     "data": {
      "text/plain": [
       "0      01\n",
       "1      03\n",
       "2      03\n",
       "3      01\n",
       "4      02\n",
       "       ..\n",
       "995    01\n",
       "996    03\n",
       "997    02\n",
       "998    02\n",
       "999    02\n",
       "Name: month, Length: 1000, dtype: object"
      ]
     },
     "execution_count": 64,
     "metadata": {},
     "output_type": "execute_result"
    }
   ],
   "source": [
    "# Extract Month\n",
    "df['month'] = df.date.dt.strftime('%m')\n",
    "df['month']"
   ]
  },
  {
   "cell_type": "code",
   "execution_count": 70,
   "id": "7a9e4c34-fa98-40c5-a636-70713d40ffd7",
   "metadata": {},
   "outputs": [
    {
     "data": {
      "text/plain": [
       "0      6\n",
       "1      5\n",
       "2      0\n",
       "3      0\n",
       "4      5\n",
       "      ..\n",
       "995    2\n",
       "996    6\n",
       "997    6\n",
       "998    5\n",
       "999    1\n",
       "Name: day, Length: 1000, dtype: object"
      ]
     },
     "execution_count": 70,
     "metadata": {},
     "output_type": "execute_result"
    }
   ],
   "source": [
    "# Extract Day\n",
    "df['day'] = df.date.dt.strftime('%w')\n",
    "df['day']"
   ]
  },
  {
   "cell_type": "code",
   "execution_count": 71,
   "id": "e13ff9c4-8dc1-4122-8277-6c535c85277b",
   "metadata": {},
   "outputs": [
    {
     "data": {
      "text/html": [
       "<div>\n",
       "<style scoped>\n",
       "    .dataframe tbody tr th:only-of-type {\n",
       "        vertical-align: middle;\n",
       "    }\n",
       "\n",
       "    .dataframe tbody tr th {\n",
       "        vertical-align: top;\n",
       "    }\n",
       "\n",
       "    .dataframe thead th {\n",
       "        text-align: right;\n",
       "    }\n",
       "</style>\n",
       "<table border=\"1\" class=\"dataframe\">\n",
       "  <thead>\n",
       "    <tr style=\"text-align: right;\">\n",
       "      <th></th>\n",
       "      <th>invoice id</th>\n",
       "      <th>branch</th>\n",
       "      <th>city</th>\n",
       "      <th>customer type</th>\n",
       "      <th>gender</th>\n",
       "      <th>product line</th>\n",
       "      <th>unit price</th>\n",
       "      <th>quantity</th>\n",
       "      <th>tax 5%</th>\n",
       "      <th>sales</th>\n",
       "      <th>date</th>\n",
       "      <th>time</th>\n",
       "      <th>payment</th>\n",
       "      <th>cogs</th>\n",
       "      <th>gross margin percentage</th>\n",
       "      <th>gross income</th>\n",
       "      <th>rating</th>\n",
       "      <th>month</th>\n",
       "      <th>day</th>\n",
       "    </tr>\n",
       "  </thead>\n",
       "  <tbody>\n",
       "    <tr>\n",
       "      <th>0</th>\n",
       "      <td>750-67-8428</td>\n",
       "      <td>Alex</td>\n",
       "      <td>Yangon</td>\n",
       "      <td>Member</td>\n",
       "      <td>Female</td>\n",
       "      <td>Health and beauty</td>\n",
       "      <td>74.69</td>\n",
       "      <td>7</td>\n",
       "      <td>26.1415</td>\n",
       "      <td>548.9715</td>\n",
       "      <td>2019-01-05</td>\n",
       "      <td>2025-09-29 13:08:00</td>\n",
       "      <td>Ewallet</td>\n",
       "      <td>522.83</td>\n",
       "      <td>4.761905</td>\n",
       "      <td>26.1415</td>\n",
       "      <td>9.1</td>\n",
       "      <td>01</td>\n",
       "      <td>6</td>\n",
       "    </tr>\n",
       "    <tr>\n",
       "      <th>1</th>\n",
       "      <td>226-31-3081</td>\n",
       "      <td>Giza</td>\n",
       "      <td>Naypyitaw</td>\n",
       "      <td>Normal</td>\n",
       "      <td>Female</td>\n",
       "      <td>Electronic accessories</td>\n",
       "      <td>15.28</td>\n",
       "      <td>5</td>\n",
       "      <td>3.8200</td>\n",
       "      <td>80.2200</td>\n",
       "      <td>2019-03-08</td>\n",
       "      <td>2025-09-29 10:29:00</td>\n",
       "      <td>Cash</td>\n",
       "      <td>76.40</td>\n",
       "      <td>4.761905</td>\n",
       "      <td>3.8200</td>\n",
       "      <td>9.6</td>\n",
       "      <td>03</td>\n",
       "      <td>5</td>\n",
       "    </tr>\n",
       "    <tr>\n",
       "      <th>2</th>\n",
       "      <td>631-41-3108</td>\n",
       "      <td>Alex</td>\n",
       "      <td>Yangon</td>\n",
       "      <td>Normal</td>\n",
       "      <td>Female</td>\n",
       "      <td>Home and lifestyle</td>\n",
       "      <td>46.33</td>\n",
       "      <td>7</td>\n",
       "      <td>16.2155</td>\n",
       "      <td>340.5255</td>\n",
       "      <td>2019-03-03</td>\n",
       "      <td>2025-09-29 13:23:00</td>\n",
       "      <td>Credit card</td>\n",
       "      <td>324.31</td>\n",
       "      <td>4.761905</td>\n",
       "      <td>16.2155</td>\n",
       "      <td>7.4</td>\n",
       "      <td>03</td>\n",
       "      <td>0</td>\n",
       "    </tr>\n",
       "    <tr>\n",
       "      <th>3</th>\n",
       "      <td>123-19-1176</td>\n",
       "      <td>Alex</td>\n",
       "      <td>Yangon</td>\n",
       "      <td>Member</td>\n",
       "      <td>Female</td>\n",
       "      <td>Health and beauty</td>\n",
       "      <td>58.22</td>\n",
       "      <td>8</td>\n",
       "      <td>23.2880</td>\n",
       "      <td>489.0480</td>\n",
       "      <td>2019-01-27</td>\n",
       "      <td>2025-09-29 20:33:00</td>\n",
       "      <td>Ewallet</td>\n",
       "      <td>465.76</td>\n",
       "      <td>4.761905</td>\n",
       "      <td>23.2880</td>\n",
       "      <td>8.4</td>\n",
       "      <td>01</td>\n",
       "      <td>0</td>\n",
       "    </tr>\n",
       "    <tr>\n",
       "      <th>4</th>\n",
       "      <td>373-73-7910</td>\n",
       "      <td>Alex</td>\n",
       "      <td>Yangon</td>\n",
       "      <td>Member</td>\n",
       "      <td>Female</td>\n",
       "      <td>Sports and travel</td>\n",
       "      <td>86.31</td>\n",
       "      <td>7</td>\n",
       "      <td>30.2085</td>\n",
       "      <td>634.3785</td>\n",
       "      <td>2019-02-08</td>\n",
       "      <td>2025-09-29 10:37:00</td>\n",
       "      <td>Ewallet</td>\n",
       "      <td>604.17</td>\n",
       "      <td>4.761905</td>\n",
       "      <td>30.2085</td>\n",
       "      <td>5.3</td>\n",
       "      <td>02</td>\n",
       "      <td>5</td>\n",
       "    </tr>\n",
       "  </tbody>\n",
       "</table>\n",
       "</div>"
      ],
      "text/plain": [
       "    invoice id branch       city customer type  gender  \\\n",
       "0  750-67-8428   Alex     Yangon        Member  Female   \n",
       "1  226-31-3081   Giza  Naypyitaw        Normal  Female   \n",
       "2  631-41-3108   Alex     Yangon        Normal  Female   \n",
       "3  123-19-1176   Alex     Yangon        Member  Female   \n",
       "4  373-73-7910   Alex     Yangon        Member  Female   \n",
       "\n",
       "             product line  unit price  quantity   tax 5%     sales       date  \\\n",
       "0       Health and beauty       74.69         7  26.1415  548.9715 2019-01-05   \n",
       "1  Electronic accessories       15.28         5   3.8200   80.2200 2019-03-08   \n",
       "2      Home and lifestyle       46.33         7  16.2155  340.5255 2019-03-03   \n",
       "3       Health and beauty       58.22         8  23.2880  489.0480 2019-01-27   \n",
       "4       Sports and travel       86.31         7  30.2085  634.3785 2019-02-08   \n",
       "\n",
       "                 time      payment    cogs  gross margin percentage  \\\n",
       "0 2025-09-29 13:08:00      Ewallet  522.83                 4.761905   \n",
       "1 2025-09-29 10:29:00         Cash   76.40                 4.761905   \n",
       "2 2025-09-29 13:23:00  Credit card  324.31                 4.761905   \n",
       "3 2025-09-29 20:33:00      Ewallet  465.76                 4.761905   \n",
       "4 2025-09-29 10:37:00      Ewallet  604.17                 4.761905   \n",
       "\n",
       "   gross income  rating month day  \n",
       "0       26.1415     9.1    01   6  \n",
       "1        3.8200     9.6    03   5  \n",
       "2       16.2155     7.4    03   0  \n",
       "3       23.2880     8.4    01   0  \n",
       "4       30.2085     5.3    02   5  "
      ]
     },
     "execution_count": 71,
     "metadata": {},
     "output_type": "execute_result"
    }
   ],
   "source": [
    "df.head(5)"
   ]
  },
  {
   "cell_type": "code",
   "execution_count": 25,
   "id": "51ea4268-4f48-4b77-b320-a4597f5b4bad",
   "metadata": {},
   "outputs": [],
   "source": [
    "df.to_csv('cleaned_Supermarket.csv', index = False)"
   ]
  },
  {
   "cell_type": "markdown",
   "id": "29f67f37-58c0-41d4-b866-9cd8b135b0d6",
   "metadata": {},
   "source": [
    "# Deployment (streamlit)"
   ]
  },
  {
   "cell_type": "code",
   "execution_count": 73,
   "id": "252a0d05-342a-4f07-b29a-456b2f451dce",
   "metadata": {},
   "outputs": [
    {
     "name": "stdout",
     "output_type": "stream",
     "text": [
      "Overwriting market.py\n"
     ]
    }
   ],
   "source": [
    "%%writefile market.py\n",
    "\n",
    "\n",
    "import streamlit as st\n",
    "import pandas as pd\n",
    "import numpy as np\n",
    "import plotly.express as px\n",
    "\n",
    "# set page layout\n",
    "st.set_page_config(\n",
    "    layout='wide',\n",
    "    page_title=\"Supermarket Sales Dashboard\",\n",
    "    page_icon=\"🛒\")\n",
    "# add title\n",
    "st.markdown(\n",
    "    \"\"\"<h1 style=\"color:#f39c12; text-align:center;\"> 🛒 Supermarket Sales Dashboard </h1>\"\"\",\n",
    "     unsafe_allow_html=True)\n",
    "# add image \n",
    "st.image('supermarket.png')\n",
    "\n",
    "# load dataset\n",
    "df = pd.read_csv('cleaned_Supermarket.csv', index_col = 0)\n",
    "st.dataframe(df.head(5))\n",
    "\n",
    "# create sidebar\n",
    "\n",
    "page = (st.sidebar.radio('#_Pages_:-', ['Dataset Overview', 'Uni-Variate Analysis', 'Bi-Variate Analysis', 'Multi-Variate Analysis']))\n",
    "\n",
    "if page == 'Dataset Overview':\n",
    "\n",
    "    \"\"\"  \n",
    "        📄 Dataset Overview:\n",
    "        \n",
    "    This dataset records transactional data from a supermarket, capturing sales, customer demographics, product details, and financial metrics.\n",
    "\n",
    "        🔢 Size & Structure\n",
    "    Rows: ~1,000 transactions\n",
    "    Columns: 17 features including IDs, categories, prices, quantities, dates, times, and ratings\n",
    "\n",
    "        📌 Key Columns & Descriptions\n",
    "    Column\tDescription\n",
    "    * Invoice ID\t: Unique identifier for each transaction\n",
    "    * Branch, City\t: Store branch and its corresponding city\n",
    "    * Customer type\t: Indicates if a customer is a \"Member\" or \"Normal\"\n",
    "    * Gender\t: Male or Female\n",
    "    * Product line\t: One of 6 product categories (e.g., Food, Fashion)\n",
    "    * Unit price, Quantity\t: Price per item and number of items bought\n",
    "    * Sales\t: Total amount paid including tax\n",
    "    * Tax 5%, cogs\t: Calculated fields based on sales\n",
    "    * gross income\t: Profit from the transaction\n",
    "    * Payment\t: Payment method (Cash, Credit card, Ewallet)\n",
    "    * Date, Time\t: Date and time of purchase\n",
    "    * Rating\t: Customer feedback (scale 1–10)\n",
    "\n",
    "        📊 General Insights\n",
    "        🏬 Branches & Cities\n",
    "    There are 3 branches in 3 cities: Yangon, Naypyitaw, and Mandalay\n",
    "\n",
    "    Naypyitaw (Giza branch) shows the highest total and average sales\n",
    "\n",
    "        👥 Customer Demographics\n",
    "    Balanced distribution across Gender and Customer Type\n",
    "\n",
    "    Both genders and customer types contribute evenly to revenue\n",
    "\n",
    "        🛒 Product Line Analysis\n",
    "    Six distinct product lines\n",
    "\n",
    "    Product lines vary significantly in average sales and ratings\n",
    "\n",
    "        💵 Sales & Revenue\n",
    "    Sales = Unit Price × Quantity + 5% Tax\n",
    "\n",
    "    Most transactions fall within moderate price and quantity ranges\n",
    "\n",
    "    Gross income is directly tied to the size of each transaction\n",
    "\n",
    "        ⏰ Time & Date\n",
    "    Sales happen throughout the day; peak times can be explored\n",
    "\n",
    "    Transactions cover multiple months — useful for trend analysis\n",
    "\n",
    "        🔀 Strengths for Analysis\n",
    "    Good variety of categorical and numerical variables\n",
    "\n",
    "    Perfect for univariate, bivariate, and multivariate analysis\n",
    "\n",
    "    Ideal for use cases such as:\n",
    "\n",
    "    * Sales forecasting\n",
    "\n",
    "    * Customer segmentation\n",
    "\n",
    "    * Product line profitability\n",
    "\n",
    "    * Branch performance comparisons\n",
    "    \"\"\"\n",
    "    # About Me Section\n",
    "    st.markdown(\"---\")\n",
    "    st.markdown(\"### 👨‍💻 About the Developer\")\n",
    "    st.markdown(\"\"\"\n",
    "                - **Name:** Ahmed Saif \n",
    "                - **GitHub:** [github.com/Saif900121](https://github.com/Saif900121)  \n",
    "                - **LinkedIn:** [linkedin.com/in/aahmed-saif-1bb820192](https://www.linkedin.com/in/ahmed-saif-1bb820192/)  \n",
    "                - **Email:** [drahmed.saif90@gmail.com](mailto:drahmed.saif90@gmail.com)\n",
    "                \"\"\")\n",
    "elif page == 'Uni-Variate Analysis':\n",
    "\n",
    "    tab_1, tab_2 = st.tabs(['Numerical Univariat Analysis', 'Categorical Univariate Analysis'])\n",
    "\n",
    "    col_num = tab_1.selectbox('Select Numerical Column', df.select_dtypes(include= 'number').columns)\n",
    "    col_cat = tab_2.selectbox('Select Categorical Column', df.select_dtypes(include= 'object').columns)\n",
    "    chart_num = tab_1.selectbox('Select Chart', ['Histogram', 'Box'])\n",
    "    chart_cat = tab_2.selectbox('Select Chart', ['Histogram', 'Pie'])\n",
    "\n",
    "    if chart_num == 'Histogram':\n",
    "        tab_1.plotly_chart(px.histogram(data_frame= df, x= col_num, title= col_num))\n",
    "\n",
    "    elif chart_num == 'Box':\n",
    "        tab_1.plotly_chart(px.box(data_frame= df, y= col_num, title= col_num))\n",
    "\n",
    "    if chart_cat == 'Histogram':\n",
    "        tab_2.plotly_chart(px.histogram(data_frame= df, x= col_cat, title= col_cat))\n",
    "\n",
    "    elif chart_cat == 'Pie':\n",
    "        tab_2.plotly_chart(px.pie(data_frame= df, names= col_cat, title= col_cat))\n",
    "    \n",
    "    start_date = st.sidebar.date_input('Start Date', value= df.date.min(), min_value= df.date.min(), max_value= df.date.max())\n",
    "    end_date = st.sidebar.date_input('End Date', value= df.date.max(), min_value= df.date.min(), max_value= df.date.max())\n",
    "    city = st.sidebar.multiselect('City', df.city.unique())\n",
    "    top_n = st.sidebar.slider('Top N', min_value = 1, max_value = 10)\n",
    "\n",
    "    df_filtered = df[(df.date >= str(start_date)) & (df.date <= str(end_date))] \n",
    "    df_filtered = df_filtered[(df_filtered.city.isin(city))]\n",
    "    \n",
    "    st.dataframe(df_filtered)\n",
    "    product_count = df_filtered.product_line.value_counts().head(top_n).reset_index()\n",
    "\n",
    "    st.markdown(\n",
    "    f\"\"\"<h1 style=\"color:#f39c12; text-align:center;\"> Top {top_n} Popular Products </h1>\"\"\",\n",
    "     unsafe_allow_html=True)\n",
    "    st.plotly_chart(px.bar(product_count, x = 'product line', y = 'count'))\n",
    "\n",
    "elif page == 'Bi-Variate Analysis':\n",
    "    st.header('Does customer type (Member vs. Normal) affect total sales or gross income?')\n",
    "    sales_per_type = df.groupby('customer type')['sales'].sum().reset_index()\n",
    "    st.plotly_chart(px.bar(data_frame= sales_per_type, x = 'customer type', y= 'sales', text_auto= True,\n",
    "       labels= {'sales': 'Total sales', }))\n",
    "    income_per_type = df.groupby('customer type')['gross income'].sum().reset_index()\n",
    "    st.plotly_chart(px.bar(data_frame= income_per_type, x = 'customer type', y= 'gross income', text_auto= True,\n",
    "       labels= {'gross income': 'Total gross income', }))\n",
    "    \n",
    "    st.header('Is there a difference in sales between male and female customers?')\n",
    "    sales_per_gender = df.groupby('gender')['sales'].sum().reset_index()\n",
    "    st.plotly_chart(px.bar(data_frame= sales_per_gender, x = 'gender', y= 'sales', text_auto= True,\n",
    "       labels= {'sales': 'Total sales', 'gender':'Gender'}))\n",
    "    st.header('Which product line has the highest Total gross income?')\n",
    "    total_income_per_product = df.groupby('product line')['gross income'].sum().sort_values(ascending=False).reset_index()\n",
    "    st.plotly_chart(px.bar(data_frame= total_income_per_product, x= 'product line', y= 'gross income', text_auto= True))\n",
    "\n",
    "elif page == 'Multi-Variate Analysis':\n",
    "    st.header('What combination of Month, payment method, and product line leads to the total gross income?')\n",
    "    income_per_month = df.groupby(['month', 'payment', 'product line'])['gross income'].sum().reset_index()\n",
    "    st.plotly_chart(px.bar(data_frame= income_per_month, x= 'month', y= 'gross income', color= 'product line',facet_col= 'payment', \n",
    "       barmode= 'group'))\n",
    "\n",
    "    st.header('What combination of city, payment method, and product line leads to the total gross income?')\n",
    "    income_per_line = df.groupby(['city', 'payment', 'product line'])['gross income'].sum().reset_index()\n",
    "    st.plotly_chart(px.bar(data_frame= income_per_line, x= 'product line', y= 'gross income', color= 'payment',facet_col= 'city', \n",
    "       barmode= 'group'))"
   ]
  },
  {
   "cell_type": "code",
   "execution_count": 72,
   "id": "2fb7eace-6f42-4c7f-bbe0-365dfeb1db7e",
   "metadata": {},
   "outputs": [
    {
     "name": "stdout",
     "output_type": "stream",
     "text": [
      "^C\n"
     ]
    }
   ],
   "source": [
    "! streamlit run market.py"
   ]
  },
  {
   "cell_type": "markdown",
   "id": "8558f6ad-8a86-4f76-b86f-3b83e83fe6df",
   "metadata": {},
   "source": [
    "# Preprocessing Phase"
   ]
  },
  {
   "cell_type": "markdown",
   "id": "0122aa79-f2dc-446e-8fd8-cdf1fa59f22a",
   "metadata": {},
   "source": [
    "## Handling Outlier"
   ]
  },
  {
   "cell_type": "code",
   "execution_count": 7,
   "id": "bc253cb0-d7c4-4f71-bbf4-86e3767fcd80",
   "metadata": {},
   "outputs": [],
   "source": [
    "#!pip install datasist"
   ]
  },
  {
   "cell_type": "code",
   "execution_count": 23,
   "id": "6178438b-791e-4ae8-b992-2083d2e1c35b",
   "metadata": {},
   "outputs": [
    {
     "data": {
      "text/plain": [
       "[166, 167, 350, 357, 422, 557, 699, 792, 996]"
      ]
     },
     "execution_count": 23,
     "metadata": {},
     "output_type": "execute_result"
    }
   ],
   "source": [
    "from datasist.structdata import detect_outliers\n",
    "\n",
    "detect_outliers(data= df, n= 0, features= [\"sales\"])"
   ]
  },
  {
   "cell_type": "code",
   "execution_count": 27,
   "id": "92b4df0b-0bd8-4263-9b3f-c66f90cec598",
   "metadata": {},
   "outputs": [
    {
     "data": {
      "application/vnd.plotly.v1+json": {
       "config": {
        "plotlyServerURL": "https://plot.ly"
       },
       "data": [
        {
         "alignmentgroup": "True",
         "hovertemplate": "unit price=%{x}<extra></extra>",
         "legendgroup": "",
         "marker": {
          "color": "#636efa"
         },
         "name": "",
         "notched": false,
         "offsetgroup": "",
         "orientation": "h",
         "showlegend": false,
         "type": "box",
         "x": {
          "bdata": "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",
          "dtype": "f8"
         },
         "x0": " ",
         "xaxis": "x",
         "y0": " ",
         "yaxis": "y"
        }
       ],
       "layout": {
        "boxmode": "group",
        "legend": {
         "tracegroupgap": 0
        },
        "margin": {
         "t": 60
        },
        "template": {
         "data": {
          "bar": [
           {
            "error_x": {
             "color": "#2a3f5f"
            },
            "error_y": {
             "color": "#2a3f5f"
            },
            "marker": {
             "line": {
              "color": "#E5ECF6",
              "width": 0.5
             },
             "pattern": {
              "fillmode": "overlay",
              "size": 10,
              "solidity": 0.2
             }
            },
            "type": "bar"
           }
          ],
          "barpolar": [
           {
            "marker": {
             "line": {
              "color": "#E5ECF6",
              "width": 0.5
             },
             "pattern": {
              "fillmode": "overlay",
              "size": 10,
              "solidity": 0.2
             }
            },
            "type": "barpolar"
           }
          ],
          "carpet": [
           {
            "aaxis": {
             "endlinecolor": "#2a3f5f",
             "gridcolor": "white",
             "linecolor": "white",
             "minorgridcolor": "white",
             "startlinecolor": "#2a3f5f"
            },
            "baxis": {
             "endlinecolor": "#2a3f5f",
             "gridcolor": "white",
             "linecolor": "white",
             "minorgridcolor": "white",
             "startlinecolor": "#2a3f5f"
            },
            "type": "carpet"
           }
          ],
          "choropleth": [
           {
            "colorbar": {
             "outlinewidth": 0,
             "ticks": ""
            },
            "type": "choropleth"
           }
          ],
          "contour": [
           {
            "colorbar": {
             "outlinewidth": 0,
             "ticks": ""
            },
            "colorscale": [
             [
              0,
              "#0d0887"
             ],
             [
              0.1111111111111111,
              "#46039f"
             ],
             [
              0.2222222222222222,
              "#7201a8"
             ],
             [
              0.3333333333333333,
              "#9c179e"
             ],
             [
              0.4444444444444444,
              "#bd3786"
             ],
             [
              0.5555555555555556,
              "#d8576b"
             ],
             [
              0.6666666666666666,
              "#ed7953"
             ],
             [
              0.7777777777777778,
              "#fb9f3a"
             ],
             [
              0.8888888888888888,
              "#fdca26"
             ],
             [
              1,
              "#f0f921"
             ]
            ],
            "type": "contour"
           }
          ],
          "contourcarpet": [
           {
            "colorbar": {
             "outlinewidth": 0,
             "ticks": ""
            },
            "type": "contourcarpet"
           }
          ],
          "heatmap": [
           {
            "colorbar": {
             "outlinewidth": 0,
             "ticks": ""
            },
            "colorscale": [
             [
              0,
              "#0d0887"
             ],
             [
              0.1111111111111111,
              "#46039f"
             ],
             [
              0.2222222222222222,
              "#7201a8"
             ],
             [
              0.3333333333333333,
              "#9c179e"
             ],
             [
              0.4444444444444444,
              "#bd3786"
             ],
             [
              0.5555555555555556,
              "#d8576b"
             ],
             [
              0.6666666666666666,
              "#ed7953"
             ],
             [
              0.7777777777777778,
              "#fb9f3a"
             ],
             [
              0.8888888888888888,
              "#fdca26"
             ],
             [
              1,
              "#f0f921"
             ]
            ],
            "type": "heatmap"
           }
          ],
          "histogram": [
           {
            "marker": {
             "pattern": {
              "fillmode": "overlay",
              "size": 10,
              "solidity": 0.2
             }
            },
            "type": "histogram"
           }
          ],
          "histogram2d": [
           {
            "colorbar": {
             "outlinewidth": 0,
             "ticks": ""
            },
            "colorscale": [
             [
              0,
              "#0d0887"
             ],
             [
              0.1111111111111111,
              "#46039f"
             ],
             [
              0.2222222222222222,
              "#7201a8"
             ],
             [
              0.3333333333333333,
              "#9c179e"
             ],
             [
              0.4444444444444444,
              "#bd3786"
             ],
             [
              0.5555555555555556,
              "#d8576b"
             ],
             [
              0.6666666666666666,
              "#ed7953"
             ],
             [
              0.7777777777777778,
              "#fb9f3a"
             ],
             [
              0.8888888888888888,
              "#fdca26"
             ],
             [
              1,
              "#f0f921"
             ]
            ],
            "type": "histogram2d"
           }
          ],
          "histogram2dcontour": [
           {
            "colorbar": {
             "outlinewidth": 0,
             "ticks": ""
            },
            "colorscale": [
             [
              0,
              "#0d0887"
             ],
             [
              0.1111111111111111,
              "#46039f"
             ],
             [
              0.2222222222222222,
              "#7201a8"
             ],
             [
              0.3333333333333333,
              "#9c179e"
             ],
             [
              0.4444444444444444,
              "#bd3786"
             ],
             [
              0.5555555555555556,
              "#d8576b"
             ],
             [
              0.6666666666666666,
              "#ed7953"
             ],
             [
              0.7777777777777778,
              "#fb9f3a"
             ],
             [
              0.8888888888888888,
              "#fdca26"
             ],
             [
              1,
              "#f0f921"
             ]
            ],
            "type": "histogram2dcontour"
           }
          ],
          "mesh3d": [
           {
            "colorbar": {
             "outlinewidth": 0,
             "ticks": ""
            },
            "type": "mesh3d"
           }
          ],
          "parcoords": [
           {
            "line": {
             "colorbar": {
              "outlinewidth": 0,
              "ticks": ""
             }
            },
            "type": "parcoords"
           }
          ],
          "pie": [
           {
            "automargin": true,
            "type": "pie"
           }
          ],
          "scatter": [
           {
            "fillpattern": {
             "fillmode": "overlay",
             "size": 10,
             "solidity": 0.2
            },
            "type": "scatter"
           }
          ],
          "scatter3d": [
           {
            "line": {
             "colorbar": {
              "outlinewidth": 0,
              "ticks": ""
             }
            },
            "marker": {
             "colorbar": {
              "outlinewidth": 0,
              "ticks": ""
             }
            },
            "type": "scatter3d"
           }
          ],
          "scattercarpet": [
           {
            "marker": {
             "colorbar": {
              "outlinewidth": 0,
              "ticks": ""
             }
            },
            "type": "scattercarpet"
           }
          ],
          "scattergeo": [
           {
            "marker": {
             "colorbar": {
              "outlinewidth": 0,
              "ticks": ""
             }
            },
            "type": "scattergeo"
           }
          ],
          "scattergl": [
           {
            "marker": {
             "colorbar": {
              "outlinewidth": 0,
              "ticks": ""
             }
            },
            "type": "scattergl"
           }
          ],
          "scattermap": [
           {
            "marker": {
             "colorbar": {
              "outlinewidth": 0,
              "ticks": ""
             }
            },
            "type": "scattermap"
           }
          ],
          "scattermapbox": [
           {
            "marker": {
             "colorbar": {
              "outlinewidth": 0,
              "ticks": ""
             }
            },
            "type": "scattermapbox"
           }
          ],
          "scatterpolar": [
           {
            "marker": {
             "colorbar": {
              "outlinewidth": 0,
              "ticks": ""
             }
            },
            "type": "scatterpolar"
           }
          ],
          "scatterpolargl": [
           {
            "marker": {
             "colorbar": {
              "outlinewidth": 0,
              "ticks": ""
             }
            },
            "type": "scatterpolargl"
           }
          ],
          "scatterternary": [
           {
            "marker": {
             "colorbar": {
              "outlinewidth": 0,
              "ticks": ""
             }
            },
            "type": "scatterternary"
           }
          ],
          "surface": [
           {
            "colorbar": {
             "outlinewidth": 0,
             "ticks": ""
            },
            "colorscale": [
             [
              0,
              "#0d0887"
             ],
             [
              0.1111111111111111,
              "#46039f"
             ],
             [
              0.2222222222222222,
              "#7201a8"
             ],
             [
              0.3333333333333333,
              "#9c179e"
             ],
             [
              0.4444444444444444,
              "#bd3786"
             ],
             [
              0.5555555555555556,
              "#d8576b"
             ],
             [
              0.6666666666666666,
              "#ed7953"
             ],
             [
              0.7777777777777778,
              "#fb9f3a"
             ],
             [
              0.8888888888888888,
              "#fdca26"
             ],
             [
              1,
              "#f0f921"
             ]
            ],
            "type": "surface"
           }
          ],
          "table": [
           {
            "cells": {
             "fill": {
              "color": "#EBF0F8"
             },
             "line": {
              "color": "white"
             }
            },
            "header": {
             "fill": {
              "color": "#C8D4E3"
             },
             "line": {
              "color": "white"
             }
            },
            "type": "table"
           }
          ]
         },
         "layout": {
          "annotationdefaults": {
           "arrowcolor": "#2a3f5f",
           "arrowhead": 0,
           "arrowwidth": 1
          },
          "autotypenumbers": "strict",
          "coloraxis": {
           "colorbar": {
            "outlinewidth": 0,
            "ticks": ""
           }
          },
          "colorscale": {
           "diverging": [
            [
             0,
             "#8e0152"
            ],
            [
             0.1,
             "#c51b7d"
            ],
            [
             0.2,
             "#de77ae"
            ],
            [
             0.3,
             "#f1b6da"
            ],
            [
             0.4,
             "#fde0ef"
            ],
            [
             0.5,
             "#f7f7f7"
            ],
            [
             0.6,
             "#e6f5d0"
            ],
            [
             0.7,
             "#b8e186"
            ],
            [
             0.8,
             "#7fbc41"
            ],
            [
             0.9,
             "#4d9221"
            ],
            [
             1,
             "#276419"
            ]
           ],
           "sequential": [
            [
             0,
             "#0d0887"
            ],
            [
             0.1111111111111111,
             "#46039f"
            ],
            [
             0.2222222222222222,
             "#7201a8"
            ],
            [
             0.3333333333333333,
             "#9c179e"
            ],
            [
             0.4444444444444444,
             "#bd3786"
            ],
            [
             0.5555555555555556,
             "#d8576b"
            ],
            [
             0.6666666666666666,
             "#ed7953"
            ],
            [
             0.7777777777777778,
             "#fb9f3a"
            ],
            [
             0.8888888888888888,
             "#fdca26"
            ],
            [
             1,
             "#f0f921"
            ]
           ],
           "sequentialminus": [
            [
             0,
             "#0d0887"
            ],
            [
             0.1111111111111111,
             "#46039f"
            ],
            [
             0.2222222222222222,
             "#7201a8"
            ],
            [
             0.3333333333333333,
             "#9c179e"
            ],
            [
             0.4444444444444444,
             "#bd3786"
            ],
            [
             0.5555555555555556,
             "#d8576b"
            ],
            [
             0.6666666666666666,
             "#ed7953"
            ],
            [
             0.7777777777777778,
             "#fb9f3a"
            ],
            [
             0.8888888888888888,
             "#fdca26"
            ],
            [
             1,
             "#f0f921"
            ]
           ]
          },
          "colorway": [
           "#636efa",
           "#EF553B",
           "#00cc96",
           "#ab63fa",
           "#FFA15A",
           "#19d3f3",
           "#FF6692",
           "#B6E880",
           "#FF97FF",
           "#FECB52"
          ],
          "font": {
           "color": "#2a3f5f"
          },
          "geo": {
           "bgcolor": "white",
           "lakecolor": "white",
           "landcolor": "#E5ECF6",
           "showlakes": true,
           "showland": true,
           "subunitcolor": "white"
          },
          "hoverlabel": {
           "align": "left"
          },
          "hovermode": "closest",
          "mapbox": {
           "style": "light"
          },
          "paper_bgcolor": "white",
          "plot_bgcolor": "#E5ECF6",
          "polar": {
           "angularaxis": {
            "gridcolor": "white",
            "linecolor": "white",
            "ticks": ""
           },
           "bgcolor": "#E5ECF6",
           "radialaxis": {
            "gridcolor": "white",
            "linecolor": "white",
            "ticks": ""
           }
          },
          "scene": {
           "xaxis": {
            "backgroundcolor": "#E5ECF6",
            "gridcolor": "white",
            "gridwidth": 2,
            "linecolor": "white",
            "showbackground": true,
            "ticks": "",
            "zerolinecolor": "white"
           },
           "yaxis": {
            "backgroundcolor": "#E5ECF6",
            "gridcolor": "white",
            "gridwidth": 2,
            "linecolor": "white",
            "showbackground": true,
            "ticks": "",
            "zerolinecolor": "white"
           },
           "zaxis": {
            "backgroundcolor": "#E5ECF6",
            "gridcolor": "white",
            "gridwidth": 2,
            "linecolor": "white",
            "showbackground": true,
            "ticks": "",
            "zerolinecolor": "white"
           }
          },
          "shapedefaults": {
           "line": {
            "color": "#2a3f5f"
           }
          },
          "ternary": {
           "aaxis": {
            "gridcolor": "white",
            "linecolor": "white",
            "ticks": ""
           },
           "baxis": {
            "gridcolor": "white",
            "linecolor": "white",
            "ticks": ""
           },
           "bgcolor": "#E5ECF6",
           "caxis": {
            "gridcolor": "white",
            "linecolor": "white",
            "ticks": ""
           }
          },
          "title": {
           "x": 0.05
          },
          "xaxis": {
           "automargin": true,
           "gridcolor": "white",
           "linecolor": "white",
           "ticks": "",
           "title": {
            "standoff": 15
           },
           "zerolinecolor": "white",
           "zerolinewidth": 2
          },
          "yaxis": {
           "automargin": true,
           "gridcolor": "white",
           "linecolor": "white",
           "ticks": "",
           "title": {
            "standoff": 15
           },
           "zerolinecolor": "white",
           "zerolinewidth": 2
          }
         }
        },
        "xaxis": {
         "anchor": "y",
         "domain": [
          0,
          1
         ],
         "title": {
          "text": "unit price"
         }
        },
        "yaxis": {
         "anchor": "x",
         "domain": [
          0,
          1
         ]
        }
       }
      },
      "image/png": "[encoded data removed]"
     },
     "metadata": {},
     "output_type": "display_data"
    }
   ],
   "source": [
    "px.box(data_frame= df, x= 'unit price')"
   ]
  },
  {
   "cell_type": "code",
   "execution_count": 74,
   "id": "0389adf8-b218-4112-8c2f-2851413637b1",
   "metadata": {},
   "outputs": [
    {
     "data": {
      "text/html": [
       "<div>\n",
       "<style scoped>\n",
       "    .dataframe tbody tr th:only-of-type {\n",
       "        vertical-align: middle;\n",
       "    }\n",
       "\n",
       "    .dataframe tbody tr th {\n",
       "        vertical-align: top;\n",
       "    }\n",
       "\n",
       "    .dataframe thead th {\n",
       "        text-align: right;\n",
       "    }\n",
       "</style>\n",
       "<table border=\"1\" class=\"dataframe\">\n",
       "  <thead>\n",
       "    <tr style=\"text-align: right;\">\n",
       "      <th></th>\n",
       "      <th>unit price</th>\n",
       "      <th>quantity</th>\n",
       "      <th>tax 5%</th>\n",
       "      <th>sales</th>\n",
       "      <th>cogs</th>\n",
       "      <th>gross margin percentage</th>\n",
       "      <th>gross income</th>\n",
       "      <th>rating</th>\n",
       "    </tr>\n",
       "  </thead>\n",
       "  <tbody>\n",
       "    <tr>\n",
       "      <th>count</th>\n",
       "      <td>1000.000000</td>\n",
       "      <td>1000.000000</td>\n",
       "      <td>1000.000000</td>\n",
       "      <td>1000.000000</td>\n",
       "      <td>1000.00000</td>\n",
       "      <td>1.000000e+03</td>\n",
       "      <td>1000.000000</td>\n",
       "      <td>1000.00000</td>\n",
       "    </tr>\n",
       "    <tr>\n",
       "      <th>mean</th>\n",
       "      <td>55.672130</td>\n",
       "      <td>5.510000</td>\n",
       "      <td>15.379369</td>\n",
       "      <td>322.966749</td>\n",
       "      <td>307.58738</td>\n",
       "      <td>4.761905e+00</td>\n",
       "      <td>15.379369</td>\n",
       "      <td>6.97270</td>\n",
       "    </tr>\n",
       "    <tr>\n",
       "      <th>std</th>\n",
       "      <td>26.494628</td>\n",
       "      <td>2.923431</td>\n",
       "      <td>11.708825</td>\n",
       "      <td>245.885335</td>\n",
       "      <td>234.17651</td>\n",
       "      <td>6.131498e-14</td>\n",
       "      <td>11.708825</td>\n",
       "      <td>1.71858</td>\n",
       "    </tr>\n",
       "    <tr>\n",
       "      <th>min</th>\n",
       "      <td>10.080000</td>\n",
       "      <td>1.000000</td>\n",
       "      <td>0.508500</td>\n",
       "      <td>10.678500</td>\n",
       "      <td>10.17000</td>\n",
       "      <td>4.761905e+00</td>\n",
       "      <td>0.508500</td>\n",
       "      <td>4.00000</td>\n",
       "    </tr>\n",
       "    <tr>\n",
       "      <th>25%</th>\n",
       "      <td>32.875000</td>\n",
       "      <td>3.000000</td>\n",
       "      <td>5.924875</td>\n",
       "      <td>124.422375</td>\n",
       "      <td>118.49750</td>\n",
       "      <td>4.761905e+00</td>\n",
       "      <td>5.924875</td>\n",
       "      <td>5.50000</td>\n",
       "    </tr>\n",
       "    <tr>\n",
       "      <th>50%</th>\n",
       "      <td>55.230000</td>\n",
       "      <td>5.000000</td>\n",
       "      <td>12.088000</td>\n",
       "      <td>253.848000</td>\n",
       "      <td>241.76000</td>\n",
       "      <td>4.761905e+00</td>\n",
       "      <td>12.088000</td>\n",
       "      <td>7.00000</td>\n",
       "    </tr>\n",
       "    <tr>\n",
       "      <th>75%</th>\n",
       "      <td>77.935000</td>\n",
       "      <td>8.000000</td>\n",
       "      <td>22.445250</td>\n",
       "      <td>471.350250</td>\n",
       "      <td>448.90500</td>\n",
       "      <td>4.761905e+00</td>\n",
       "      <td>22.445250</td>\n",
       "      <td>8.50000</td>\n",
       "    </tr>\n",
       "    <tr>\n",
       "      <th>max</th>\n",
       "      <td>99.960000</td>\n",
       "      <td>10.000000</td>\n",
       "      <td>49.650000</td>\n",
       "      <td>1042.650000</td>\n",
       "      <td>993.00000</td>\n",
       "      <td>4.761905e+00</td>\n",
       "      <td>49.650000</td>\n",
       "      <td>10.00000</td>\n",
       "    </tr>\n",
       "  </tbody>\n",
       "</table>\n",
       "</div>"
      ],
      "text/plain": [
       "        unit price     quantity       tax 5%        sales        cogs  \\\n",
       "count  1000.000000  1000.000000  1000.000000  1000.000000  1000.00000   \n",
       "mean     55.672130     5.510000    15.379369   322.966749   307.58738   \n",
       "std      26.494628     2.923431    11.708825   245.885335   234.17651   \n",
       "min      10.080000     1.000000     0.508500    10.678500    10.17000   \n",
       "25%      32.875000     3.000000     5.924875   124.422375   118.49750   \n",
       "50%      55.230000     5.000000    12.088000   253.848000   241.76000   \n",
       "75%      77.935000     8.000000    22.445250   471.350250   448.90500   \n",
       "max      99.960000    10.000000    49.650000  1042.650000   993.00000   \n",
       "\n",
       "       gross margin percentage  gross income      rating  \n",
       "count             1.000000e+03   1000.000000  1000.00000  \n",
       "mean              4.761905e+00     15.379369     6.97270  \n",
       "std               6.131498e-14     11.708825     1.71858  \n",
       "min               4.761905e+00      0.508500     4.00000  \n",
       "25%               4.761905e+00      5.924875     5.50000  \n",
       "50%               4.761905e+00     12.088000     7.00000  \n",
       "75%               4.761905e+00     22.445250     8.50000  \n",
       "max               4.761905e+00     49.650000    10.00000  "
      ]
     },
     "execution_count": 74,
     "metadata": {},
     "output_type": "execute_result"
    }
   ],
   "source": [
    "df.describe(include= \"number\")"
   ]
  },
  {
   "cell_type": "code",
   "execution_count": 24,
   "id": "f75d2327-2eee-4da2-b9c3-8dabb26e0918",
   "metadata": {},
   "outputs": [
    {
     "data": {
      "application/vnd.plotly.v1+json": {
       "config": {
        "plotlyServerURL": "https://plot.ly"
       },
       "data": [
        {
         "alignmentgroup": "True",
         "hovertemplate": "cogs=%{x}<extra></extra>",
         "legendgroup": "",
         "marker": {
          "color": "#636efa"
         },
         "name": "",
         "notched": false,
         "offsetgroup": "",
         "orientation": "h",
         "showlegend": false,
         "type": "box",
         "x": {
          "bdata": "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",
          "dtype": "f8"
         },
         "x0": " ",
         "xaxis": "x",
         "y0": " ",
         "yaxis": "y"
        }
       ],
       "layout": {
        "boxmode": "group",
        "legend": {
         "tracegroupgap": 0
        },
        "margin": {
         "t": 60
        },
        "template": {
         "data": {
          "bar": [
           {
            "error_x": {
             "color": "#2a3f5f"
            },
            "error_y": {
             "color": "#2a3f5f"
            },
            "marker": {
             "line": {
              "color": "#E5ECF6",
              "width": 0.5
             },
             "pattern": {
              "fillmode": "overlay",
              "size": 10,
              "solidity": 0.2
             }
            },
            "type": "bar"
           }
          ],
          "barpolar": [
           {
            "marker": {
             "line": {
              "color": "#E5ECF6",
              "width": 0.5
             },
             "pattern": {
              "fillmode": "overlay",
              "size": 10,
              "solidity": 0.2
             }
            },
            "type": "barpolar"
           }
          ],
          "carpet": [
           {
            "aaxis": {
             "endlinecolor": "#2a3f5f",
             "gridcolor": "white",
             "linecolor": "white",
             "minorgridcolor": "white",
             "startlinecolor": "#2a3f5f"
            },
            "baxis": {
             "endlinecolor": "#2a3f5f",
             "gridcolor": "white",
             "linecolor": "white",
             "minorgridcolor": "white",
             "startlinecolor": "#2a3f5f"
            },
            "type": "carpet"
           }
          ],
          "choropleth": [
           {
            "colorbar": {
             "outlinewidth": 0,
             "ticks": ""
            },
            "type": "choropleth"
           }
          ],
          "contour": [
           {
            "colorbar": {
             "outlinewidth": 0,
             "ticks": ""
            },
            "colorscale": [
             [
              0,
              "#0d0887"
             ],
             [
              0.1111111111111111,
              "#46039f"
             ],
             [
              0.2222222222222222,
              "#7201a8"
             ],
             [
              0.3333333333333333,
              "#9c179e"
             ],
             [
              0.4444444444444444,
              "#bd3786"
             ],
             [
              0.5555555555555556,
              "#d8576b"
             ],
             [
              0.6666666666666666,
              "#ed7953"
             ],
             [
              0.7777777777777778,
              "#fb9f3a"
             ],
             [
              0.8888888888888888,
              "#fdca26"
             ],
             [
              1,
              "#f0f921"
             ]
            ],
            "type": "contour"
           }
          ],
          "contourcarpet": [
           {
            "colorbar": {
             "outlinewidth": 0,
             "ticks": ""
            },
            "type": "contourcarpet"
           }
          ],
          "heatmap": [
           {
            "colorbar": {
             "outlinewidth": 0,
             "ticks": ""
            },
            "colorscale": [
             [
              0,
              "#0d0887"
             ],
             [
              0.1111111111111111,
              "#46039f"
             ],
             [
              0.2222222222222222,
              "#7201a8"
             ],
             [
              0.3333333333333333,
              "#9c179e"
             ],
             [
              0.4444444444444444,
              "#bd3786"
             ],
             [
              0.5555555555555556,
              "#d8576b"
             ],
             [
              0.6666666666666666,
              "#ed7953"
             ],
             [
              0.7777777777777778,
              "#fb9f3a"
             ],
             [
              0.8888888888888888,
              "#fdca26"
             ],
             [
              1,
              "#f0f921"
             ]
            ],
            "type": "heatmap"
           }
          ],
          "histogram": [
           {
            "marker": {
             "pattern": {
              "fillmode": "overlay",
              "size": 10,
              "solidity": 0.2
             }
            },
            "type": "histogram"
           }
          ],
          "histogram2d": [
           {
            "colorbar": {
             "outlinewidth": 0,
             "ticks": ""
            },
            "colorscale": [
             [
              0,
              "#0d0887"
             ],
             [
              0.1111111111111111,
              "#46039f"
             ],
             [
              0.2222222222222222,
              "#7201a8"
             ],
             [
              0.3333333333333333,
              "#9c179e"
             ],
             [
              0.4444444444444444,
              "#bd3786"
             ],
             [
              0.5555555555555556,
              "#d8576b"
             ],
             [
              0.6666666666666666,
              "#ed7953"
             ],
             [
              0.7777777777777778,
              "#fb9f3a"
             ],
             [
              0.8888888888888888,
              "#fdca26"
             ],
             [
              1,
              "#f0f921"
             ]
            ],
            "type": "histogram2d"
           }
          ],
          "histogram2dcontour": [
           {
            "colorbar": {
             "outlinewidth": 0,
             "ticks": ""
            },
            "colorscale": [
             [
              0,
              "#0d0887"
             ],
             [
              0.1111111111111111,
              "#46039f"
             ],
             [
              0.2222222222222222,
              "#7201a8"
             ],
             [
              0.3333333333333333,
              "#9c179e"
             ],
             [
              0.4444444444444444,
              "#bd3786"
             ],
             [
              0.5555555555555556,
              "#d8576b"
             ],
             [
              0.6666666666666666,
              "#ed7953"
             ],
             [
              0.7777777777777778,
              "#fb9f3a"
             ],
             [
              0.8888888888888888,
              "#fdca26"
             ],
             [
              1,
              "#f0f921"
             ]
            ],
            "type": "histogram2dcontour"
           }
          ],
          "mesh3d": [
           {
            "colorbar": {
             "outlinewidth": 0,
             "ticks": ""
            },
            "type": "mesh3d"
           }
          ],
          "parcoords": [
           {
            "line": {
             "colorbar": {
              "outlinewidth": 0,
              "ticks": ""
             }
            },
            "type": "parcoords"
           }
          ],
          "pie": [
           {
            "automargin": true,
            "type": "pie"
           }
          ],
          "scatter": [
           {
            "fillpattern": {
             "fillmode": "overlay",
             "size": 10,
             "solidity": 0.2
            },
            "type": "scatter"
           }
          ],
          "scatter3d": [
           {
            "line": {
             "colorbar": {
              "outlinewidth": 0,
              "ticks": ""
             }
            },
            "marker": {
             "colorbar": {
              "outlinewidth": 0,
              "ticks": ""
             }
            },
            "type": "scatter3d"
           }
          ],
          "scattercarpet": [
           {
            "marker": {
             "colorbar": {
              "outlinewidth": 0,
              "ticks": ""
             }
            },
            "type": "scattercarpet"
           }
          ],
          "scattergeo": [
           {
            "marker": {
             "colorbar": {
              "outlinewidth": 0,
              "ticks": ""
             }
            },
            "type": "scattergeo"
           }
          ],
          "scattergl": [
           {
            "marker": {
             "colorbar": {
              "outlinewidth": 0,
              "ticks": ""
             }
            },
            "type": "scattergl"
           }
          ],
          "scattermap": [
           {
            "marker": {
             "colorbar": {
              "outlinewidth": 0,
              "ticks": ""
             }
            },
            "type": "scattermap"
           }
          ],
          "scattermapbox": [
           {
            "marker": {
             "colorbar": {
              "outlinewidth": 0,
              "ticks": ""
             }
            },
            "type": "scattermapbox"
           }
          ],
          "scatterpolar": [
           {
            "marker": {
             "colorbar": {
              "outlinewidth": 0,
              "ticks": ""
             }
            },
            "type": "scatterpolar"
           }
          ],
          "scatterpolargl": [
           {
            "marker": {
             "colorbar": {
              "outlinewidth": 0,
              "ticks": ""
             }
            },
            "type": "scatterpolargl"
           }
          ],
          "scatterternary": [
           {
            "marker": {
             "colorbar": {
              "outlinewidth": 0,
              "ticks": ""
             }
            },
            "type": "scatterternary"
           }
          ],
          "surface": [
           {
            "colorbar": {
             "outlinewidth": 0,
             "ticks": ""
            },
            "colorscale": [
             [
              0,
              "#0d0887"
             ],
             [
              0.1111111111111111,
              "#46039f"
             ],
             [
              0.2222222222222222,
              "#7201a8"
             ],
             [
              0.3333333333333333,
              "#9c179e"
             ],
             [
              0.4444444444444444,
              "#bd3786"
             ],
             [
              0.5555555555555556,
              "#d8576b"
             ],
             [
              0.6666666666666666,
              "#ed7953"
             ],
             [
              0.7777777777777778,
              "#fb9f3a"
             ],
             [
              0.8888888888888888,
              "#fdca26"
             ],
             [
              1,
              "#f0f921"
             ]
            ],
            "type": "surface"
           }
          ],
          "table": [
           {
            "cells": {
             "fill": {
              "color": "#EBF0F8"
             },
             "line": {
              "color": "white"
             }
            },
            "header": {
             "fill": {
              "color": "#C8D4E3"
             },
             "line": {
              "color": "white"
             }
            },
            "type": "table"
           }
          ]
         },
         "layout": {
          "annotationdefaults": {
           "arrowcolor": "#2a3f5f",
           "arrowhead": 0,
           "arrowwidth": 1
          },
          "autotypenumbers": "strict",
          "coloraxis": {
           "colorbar": {
            "outlinewidth": 0,
            "ticks": ""
           }
          },
          "colorscale": {
           "diverging": [
            [
             0,
             "#8e0152"
            ],
            [
             0.1,
             "#c51b7d"
            ],
            [
             0.2,
             "#de77ae"
            ],
            [
             0.3,
             "#f1b6da"
            ],
            [
             0.4,
             "#fde0ef"
            ],
            [
             0.5,
             "#f7f7f7"
            ],
            [
             0.6,
             "#e6f5d0"
            ],
            [
             0.7,
             "#b8e186"
            ],
            [
             0.8,
             "#7fbc41"
            ],
            [
             0.9,
             "#4d9221"
            ],
            [
             1,
             "#276419"
            ]
           ],
           "sequential": [
            [
             0,
             "#0d0887"
            ],
            [
             0.1111111111111111,
             "#46039f"
            ],
            [
             0.2222222222222222,
             "#7201a8"
            ],
            [
             0.3333333333333333,
             "#9c179e"
            ],
            [
             0.4444444444444444,
             "#bd3786"
            ],
            [
             0.5555555555555556,
             "#d8576b"
            ],
            [
             0.6666666666666666,
             "#ed7953"
            ],
            [
             0.7777777777777778,
             "#fb9f3a"
            ],
            [
             0.8888888888888888,
             "#fdca26"
            ],
            [
             1,
             "#f0f921"
            ]
           ],
           "sequentialminus": [
            [
             0,
             "#0d0887"
            ],
            [
             0.1111111111111111,
             "#46039f"
            ],
            [
             0.2222222222222222,
             "#7201a8"
            ],
            [
             0.3333333333333333,
             "#9c179e"
            ],
            [
             0.4444444444444444,
             "#bd3786"
            ],
            [
             0.5555555555555556,
             "#d8576b"
            ],
            [
             0.6666666666666666,
             "#ed7953"
            ],
            [
             0.7777777777777778,
             "#fb9f3a"
            ],
            [
             0.8888888888888888,
             "#fdca26"
            ],
            [
             1,
             "#f0f921"
            ]
           ]
          },
          "colorway": [
           "#636efa",
           "#EF553B",
           "#00cc96",
           "#ab63fa",
           "#FFA15A",
           "#19d3f3",
           "#FF6692",
           "#B6E880",
           "#FF97FF",
           "#FECB52"
          ],
          "font": {
           "color": "#2a3f5f"
          },
          "geo": {
           "bgcolor": "white",
           "lakecolor": "white",
           "landcolor": "#E5ECF6",
           "showlakes": true,
           "showland": true,
           "subunitcolor": "white"
          },
          "hoverlabel": {
           "align": "left"
          },
          "hovermode": "closest",
          "mapbox": {
           "style": "light"
          },
          "paper_bgcolor": "white",
          "plot_bgcolor": "#E5ECF6",
          "polar": {
           "angularaxis": {
            "gridcolor": "white",
            "linecolor": "white",
            "ticks": ""
           },
           "bgcolor": "#E5ECF6",
           "radialaxis": {
            "gridcolor": "white",
            "linecolor": "white",
            "ticks": ""
           }
          },
          "scene": {
           "xaxis": {
            "backgroundcolor": "#E5ECF6",
            "gridcolor": "white",
            "gridwidth": 2,
            "linecolor": "white",
            "showbackground": true,
            "ticks": "",
            "zerolinecolor": "white"
           },
           "yaxis": {
            "backgroundcolor": "#E5ECF6",
            "gridcolor": "white",
            "gridwidth": 2,
            "linecolor": "white",
            "showbackground": true,
            "ticks": "",
            "zerolinecolor": "white"
           },
           "zaxis": {
            "backgroundcolor": "#E5ECF6",
            "gridcolor": "white",
            "gridwidth": 2,
            "linecolor": "white",
            "showbackground": true,
            "ticks": "",
            "zerolinecolor": "white"
           }
          },
          "shapedefaults": {
           "line": {
            "color": "#2a3f5f"
           }
          },
          "ternary": {
           "aaxis": {
            "gridcolor": "white",
            "linecolor": "white",
            "ticks": ""
           },
           "baxis": {
            "gridcolor": "white",
            "linecolor": "white",
            "ticks": ""
           },
           "bgcolor": "#E5ECF6",
           "caxis": {
            "gridcolor": "white",
            "linecolor": "white",
            "ticks": ""
           }
          },
          "title": {
           "x": 0.05
          },
          "xaxis": {
           "automargin": true,
           "gridcolor": "white",
           "linecolor": "white",
           "ticks": "",
           "title": {
            "standoff": 15
           },
           "zerolinecolor": "white",
           "zerolinewidth": 2
          },
          "yaxis": {
           "automargin": true,
           "gridcolor": "white",
           "linecolor": "white",
           "ticks": "",
           "title": {
            "standoff": 15
           },
           "zerolinecolor": "white",
           "zerolinewidth": 2
          }
         }
        },
        "xaxis": {
         "anchor": "y",
         "domain": [
          0,
          1
         ],
         "title": {
          "text": "cogs"
         }
        },
        "yaxis": {
         "anchor": "x",
         "domain": [
          0,
          1
         ]
        }
       }
      },
      "image/png": "[encoded data removed]"
     },
     "metadata": {},
     "output_type": "display_data"
    }
   ],
   "source": [
    "px.box(data_frame= df, x= 'cogs')"
   ]
  },
  {
   "cell_type": "code",
   "execution_count": 36,
   "id": "d920fc74-acf5-4630-96c1-4b2452652944",
   "metadata": {},
   "outputs": [
    {
     "data": {
      "text/plain": [
       "[166, 167, 350, 357, 422, 557, 699, 792, 996]"
      ]
     },
     "execution_count": 36,
     "metadata": {},
     "output_type": "execute_result"
    }
   ],
   "source": [
    "from datasist.structdata import detect_outliers\n",
    "detect_outliers(data= df, n= 0, features= [\"cogs\"])"
   ]
  },
  {
   "cell_type": "markdown",
   "id": "40c3cce7-9a43-4016-a683-0c087bb1104b",
   "metadata": {},
   "source": [
    "## Dealing with Categorical"
   ]
  },
  {
   "cell_type": "markdown",
   "id": "a668bf51-48fc-45eb-b01a-c743e04eec8f",
   "metadata": {},
   "source": [
    "### Nominal"
   ]
  },
  {
   "cell_type": "code",
   "execution_count": 75,
   "id": "da9f2e14-029e-432a-a850-1f7e5c660cc3",
   "metadata": {},
   "outputs": [
    {
     "data": {
      "text/html": [
       "<div>\n",
       "<style scoped>\n",
       "    .dataframe tbody tr th:only-of-type {\n",
       "        vertical-align: middle;\n",
       "    }\n",
       "\n",
       "    .dataframe tbody tr th {\n",
       "        vertical-align: top;\n",
       "    }\n",
       "\n",
       "    .dataframe thead th {\n",
       "        text-align: right;\n",
       "    }\n",
       "</style>\n",
       "<table border=\"1\" class=\"dataframe\">\n",
       "  <thead>\n",
       "    <tr style=\"text-align: right;\">\n",
       "      <th></th>\n",
       "      <th>invoice id</th>\n",
       "      <th>branch</th>\n",
       "      <th>city</th>\n",
       "      <th>customer type</th>\n",
       "      <th>gender</th>\n",
       "      <th>product line</th>\n",
       "      <th>payment</th>\n",
       "      <th>month</th>\n",
       "      <th>day</th>\n",
       "    </tr>\n",
       "  </thead>\n",
       "  <tbody>\n",
       "    <tr>\n",
       "      <th>0</th>\n",
       "      <td>750-67-8428</td>\n",
       "      <td>Alex</td>\n",
       "      <td>Yangon</td>\n",
       "      <td>Member</td>\n",
       "      <td>Female</td>\n",
       "      <td>Health and beauty</td>\n",
       "      <td>Ewallet</td>\n",
       "      <td>01</td>\n",
       "      <td>6</td>\n",
       "    </tr>\n",
       "    <tr>\n",
       "      <th>1</th>\n",
       "      <td>226-31-3081</td>\n",
       "      <td>Giza</td>\n",
       "      <td>Naypyitaw</td>\n",
       "      <td>Normal</td>\n",
       "      <td>Female</td>\n",
       "      <td>Electronic accessories</td>\n",
       "      <td>Cash</td>\n",
       "      <td>03</td>\n",
       "      <td>5</td>\n",
       "    </tr>\n",
       "    <tr>\n",
       "      <th>2</th>\n",
       "      <td>631-41-3108</td>\n",
       "      <td>Alex</td>\n",
       "      <td>Yangon</td>\n",
       "      <td>Normal</td>\n",
       "      <td>Female</td>\n",
       "      <td>Home and lifestyle</td>\n",
       "      <td>Credit card</td>\n",
       "      <td>03</td>\n",
       "      <td>0</td>\n",
       "    </tr>\n",
       "    <tr>\n",
       "      <th>3</th>\n",
       "      <td>123-19-1176</td>\n",
       "      <td>Alex</td>\n",
       "      <td>Yangon</td>\n",
       "      <td>Member</td>\n",
       "      <td>Female</td>\n",
       "      <td>Health and beauty</td>\n",
       "      <td>Ewallet</td>\n",
       "      <td>01</td>\n",
       "      <td>0</td>\n",
       "    </tr>\n",
       "    <tr>\n",
       "      <th>4</th>\n",
       "      <td>373-73-7910</td>\n",
       "      <td>Alex</td>\n",
       "      <td>Yangon</td>\n",
       "      <td>Member</td>\n",
       "      <td>Female</td>\n",
       "      <td>Sports and travel</td>\n",
       "      <td>Ewallet</td>\n",
       "      <td>02</td>\n",
       "      <td>5</td>\n",
       "    </tr>\n",
       "    <tr>\n",
       "      <th>...</th>\n",
       "      <td>...</td>\n",
       "      <td>...</td>\n",
       "      <td>...</td>\n",
       "      <td>...</td>\n",
       "      <td>...</td>\n",
       "      <td>...</td>\n",
       "      <td>...</td>\n",
       "      <td>...</td>\n",
       "      <td>...</td>\n",
       "    </tr>\n",
       "    <tr>\n",
       "      <th>995</th>\n",
       "      <td>233-67-5758</td>\n",
       "      <td>Giza</td>\n",
       "      <td>Naypyitaw</td>\n",
       "      <td>Normal</td>\n",
       "      <td>Male</td>\n",
       "      <td>Health and beauty</td>\n",
       "      <td>Ewallet</td>\n",
       "      <td>01</td>\n",
       "      <td>2</td>\n",
       "    </tr>\n",
       "    <tr>\n",
       "      <th>996</th>\n",
       "      <td>303-96-2227</td>\n",
       "      <td>Cairo</td>\n",
       "      <td>Mandalay</td>\n",
       "      <td>Normal</td>\n",
       "      <td>Female</td>\n",
       "      <td>Home and lifestyle</td>\n",
       "      <td>Ewallet</td>\n",
       "      <td>03</td>\n",
       "      <td>6</td>\n",
       "    </tr>\n",
       "    <tr>\n",
       "      <th>997</th>\n",
       "      <td>727-02-1313</td>\n",
       "      <td>Alex</td>\n",
       "      <td>Yangon</td>\n",
       "      <td>Member</td>\n",
       "      <td>Male</td>\n",
       "      <td>Food and beverages</td>\n",
       "      <td>Cash</td>\n",
       "      <td>02</td>\n",
       "      <td>6</td>\n",
       "    </tr>\n",
       "    <tr>\n",
       "      <th>998</th>\n",
       "      <td>347-56-2442</td>\n",
       "      <td>Alex</td>\n",
       "      <td>Yangon</td>\n",
       "      <td>Normal</td>\n",
       "      <td>Male</td>\n",
       "      <td>Home and lifestyle</td>\n",
       "      <td>Cash</td>\n",
       "      <td>02</td>\n",
       "      <td>5</td>\n",
       "    </tr>\n",
       "    <tr>\n",
       "      <th>999</th>\n",
       "      <td>849-09-3807</td>\n",
       "      <td>Alex</td>\n",
       "      <td>Yangon</td>\n",
       "      <td>Member</td>\n",
       "      <td>Female</td>\n",
       "      <td>Fashion accessories</td>\n",
       "      <td>Cash</td>\n",
       "      <td>02</td>\n",
       "      <td>1</td>\n",
       "    </tr>\n",
       "  </tbody>\n",
       "</table>\n",
       "<p>1000 rows × 9 columns</p>\n",
       "</div>"
      ],
      "text/plain": [
       "      invoice id branch       city customer type  gender  \\\n",
       "0    750-67-8428   Alex     Yangon        Member  Female   \n",
       "1    226-31-3081   Giza  Naypyitaw        Normal  Female   \n",
       "2    631-41-3108   Alex     Yangon        Normal  Female   \n",
       "3    123-19-1176   Alex     Yangon        Member  Female   \n",
       "4    373-73-7910   Alex     Yangon        Member  Female   \n",
       "..           ...    ...        ...           ...     ...   \n",
       "995  233-67-5758   Giza  Naypyitaw        Normal    Male   \n",
       "996  303-96-2227  Cairo   Mandalay        Normal  Female   \n",
       "997  727-02-1313   Alex     Yangon        Member    Male   \n",
       "998  347-56-2442   Alex     Yangon        Normal    Male   \n",
       "999  849-09-3807   Alex     Yangon        Member  Female   \n",
       "\n",
       "               product line      payment month day  \n",
       "0         Health and beauty      Ewallet    01   6  \n",
       "1    Electronic accessories         Cash    03   5  \n",
       "2        Home and lifestyle  Credit card    03   0  \n",
       "3         Health and beauty      Ewallet    01   0  \n",
       "4         Sports and travel      Ewallet    02   5  \n",
       "..                      ...          ...   ...  ..  \n",
       "995       Health and beauty      Ewallet    01   2  \n",
       "996      Home and lifestyle      Ewallet    03   6  \n",
       "997      Food and beverages         Cash    02   6  \n",
       "998      Home and lifestyle         Cash    02   5  \n",
       "999     Fashion accessories         Cash    02   1  \n",
       "\n",
       "[1000 rows x 9 columns]"
      ]
     },
     "execution_count": 75,
     "metadata": {},
     "output_type": "execute_result"
    }
   ],
   "source": [
    "df.select_dtypes(include = 'O')"
   ]
  },
  {
   "cell_type": "code",
   "execution_count": 27,
   "id": "15532e20-86ab-488c-87ec-27de9dd947da",
   "metadata": {},
   "outputs": [
    {
     "data": {
      "text/html": [
       "<div>\n",
       "<style scoped>\n",
       "    .dataframe tbody tr th:only-of-type {\n",
       "        vertical-align: middle;\n",
       "    }\n",
       "\n",
       "    .dataframe tbody tr th {\n",
       "        vertical-align: top;\n",
       "    }\n",
       "\n",
       "    .dataframe thead th {\n",
       "        text-align: right;\n",
       "    }\n",
       "</style>\n",
       "<table border=\"1\" class=\"dataframe\">\n",
       "  <thead>\n",
       "    <tr style=\"text-align: right;\">\n",
       "      <th></th>\n",
       "      <th>branch</th>\n",
       "      <th>city</th>\n",
       "      <th>customer type</th>\n",
       "      <th>gender</th>\n",
       "      <th>product line</th>\n",
       "      <th>payment</th>\n",
       "    </tr>\n",
       "  </thead>\n",
       "  <tbody>\n",
       "    <tr>\n",
       "      <th>0</th>\n",
       "      <td>Alex</td>\n",
       "      <td>Yangon</td>\n",
       "      <td>Member</td>\n",
       "      <td>Female</td>\n",
       "      <td>Health and beauty</td>\n",
       "      <td>Ewallet</td>\n",
       "    </tr>\n",
       "    <tr>\n",
       "      <th>1</th>\n",
       "      <td>Giza</td>\n",
       "      <td>Naypyitaw</td>\n",
       "      <td>Normal</td>\n",
       "      <td>Female</td>\n",
       "      <td>Electronic accessories</td>\n",
       "      <td>Cash</td>\n",
       "    </tr>\n",
       "    <tr>\n",
       "      <th>2</th>\n",
       "      <td>Alex</td>\n",
       "      <td>Yangon</td>\n",
       "      <td>Normal</td>\n",
       "      <td>Female</td>\n",
       "      <td>Home and lifestyle</td>\n",
       "      <td>Credit card</td>\n",
       "    </tr>\n",
       "    <tr>\n",
       "      <th>3</th>\n",
       "      <td>Alex</td>\n",
       "      <td>Yangon</td>\n",
       "      <td>Member</td>\n",
       "      <td>Female</td>\n",
       "      <td>Health and beauty</td>\n",
       "      <td>Ewallet</td>\n",
       "    </tr>\n",
       "    <tr>\n",
       "      <th>4</th>\n",
       "      <td>Alex</td>\n",
       "      <td>Yangon</td>\n",
       "      <td>Member</td>\n",
       "      <td>Female</td>\n",
       "      <td>Sports and travel</td>\n",
       "      <td>Ewallet</td>\n",
       "    </tr>\n",
       "    <tr>\n",
       "      <th>...</th>\n",
       "      <td>...</td>\n",
       "      <td>...</td>\n",
       "      <td>...</td>\n",
       "      <td>...</td>\n",
       "      <td>...</td>\n",
       "      <td>...</td>\n",
       "    </tr>\n",
       "    <tr>\n",
       "      <th>995</th>\n",
       "      <td>Giza</td>\n",
       "      <td>Naypyitaw</td>\n",
       "      <td>Normal</td>\n",
       "      <td>Male</td>\n",
       "      <td>Health and beauty</td>\n",
       "      <td>Ewallet</td>\n",
       "    </tr>\n",
       "    <tr>\n",
       "      <th>996</th>\n",
       "      <td>Cairo</td>\n",
       "      <td>Mandalay</td>\n",
       "      <td>Normal</td>\n",
       "      <td>Female</td>\n",
       "      <td>Home and lifestyle</td>\n",
       "      <td>Ewallet</td>\n",
       "    </tr>\n",
       "    <tr>\n",
       "      <th>997</th>\n",
       "      <td>Alex</td>\n",
       "      <td>Yangon</td>\n",
       "      <td>Member</td>\n",
       "      <td>Male</td>\n",
       "      <td>Food and beverages</td>\n",
       "      <td>Cash</td>\n",
       "    </tr>\n",
       "    <tr>\n",
       "      <th>998</th>\n",
       "      <td>Alex</td>\n",
       "      <td>Yangon</td>\n",
       "      <td>Normal</td>\n",
       "      <td>Male</td>\n",
       "      <td>Home and lifestyle</td>\n",
       "      <td>Cash</td>\n",
       "    </tr>\n",
       "    <tr>\n",
       "      <th>999</th>\n",
       "      <td>Alex</td>\n",
       "      <td>Yangon</td>\n",
       "      <td>Member</td>\n",
       "      <td>Female</td>\n",
       "      <td>Fashion accessories</td>\n",
       "      <td>Cash</td>\n",
       "    </tr>\n",
       "  </tbody>\n",
       "</table>\n",
       "<p>1000 rows × 6 columns</p>\n",
       "</div>"
      ],
      "text/plain": [
       "    branch       city customer type  gender            product line  \\\n",
       "0     Alex     Yangon        Member  Female       Health and beauty   \n",
       "1     Giza  Naypyitaw        Normal  Female  Electronic accessories   \n",
       "2     Alex     Yangon        Normal  Female      Home and lifestyle   \n",
       "3     Alex     Yangon        Member  Female       Health and beauty   \n",
       "4     Alex     Yangon        Member  Female       Sports and travel   \n",
       "..     ...        ...           ...     ...                     ...   \n",
       "995   Giza  Naypyitaw        Normal    Male       Health and beauty   \n",
       "996  Cairo   Mandalay        Normal  Female      Home and lifestyle   \n",
       "997   Alex     Yangon        Member    Male      Food and beverages   \n",
       "998   Alex     Yangon        Normal    Male      Home and lifestyle   \n",
       "999   Alex     Yangon        Member  Female     Fashion accessories   \n",
       "\n",
       "         payment  \n",
       "0        Ewallet  \n",
       "1           Cash  \n",
       "2    Credit card  \n",
       "3        Ewallet  \n",
       "4        Ewallet  \n",
       "..           ...  \n",
       "995      Ewallet  \n",
       "996      Ewallet  \n",
       "997         Cash  \n",
       "998         Cash  \n",
       "999         Cash  \n",
       "\n",
       "[1000 rows x 6 columns]"
      ]
     },
     "execution_count": 27,
     "metadata": {},
     "output_type": "execute_result"
    }
   ],
   "source": [
    "df[cat_col]"
   ]
  },
  {
   "cell_type": "code",
   "execution_count": 76,
   "id": "42e91302-f9a1-4c97-8a22-727858229437",
   "metadata": {},
   "outputs": [
    {
     "name": "stdout",
     "output_type": "stream",
     "text": [
      "branch\n",
      "3\n",
      "['Alex' 'Giza' 'Cairo']\n",
      "----------------------------------------------------------------------------------------------------\n",
      "city\n",
      "3\n",
      "['Yangon' 'Naypyitaw' 'Mandalay']\n",
      "----------------------------------------------------------------------------------------------------\n",
      "customer type\n",
      "2\n",
      "['Member' 'Normal']\n",
      "----------------------------------------------------------------------------------------------------\n",
      "gender\n",
      "2\n",
      "['Female' 'Male']\n",
      "----------------------------------------------------------------------------------------------------\n",
      "product line\n",
      "6\n",
      "['Health and beauty' 'Electronic accessories' 'Home and lifestyle'\n",
      " 'Sports and travel' 'Food and beverages' 'Fashion accessories']\n",
      "----------------------------------------------------------------------------------------------------\n",
      "payment\n",
      "3\n",
      "['Ewallet' 'Cash' 'Credit card']\n",
      "----------------------------------------------------------------------------------------------------\n"
     ]
    }
   ],
   "source": [
    "for col in cat_col:\n",
    "    print(col)\n",
    "    print(df[col].nunique())\n",
    "    print(df[col].unique())\n",
    "    print(\"-\" * 100)"
   ]
  },
  {
   "cell_type": "code",
   "execution_count": 86,
   "id": "a6aa48d2-70f9-43c5-ad06-c540b3d04e4d",
   "metadata": {},
   "outputs": [
    {
     "data": {
      "text/plain": [
       "0      Female\n",
       "1      Female\n",
       "2      Female\n",
       "3      Female\n",
       "4      Female\n",
       "        ...  \n",
       "995      Male\n",
       "996    Female\n",
       "997      Male\n",
       "998      Male\n",
       "999    Female\n",
       "Name: gender, Length: 1000, dtype: object"
      ]
     },
     "execution_count": 86,
     "metadata": {},
     "output_type": "execute_result"
    }
   ],
   "source": [
    "df.gender"
   ]
  },
  {
   "cell_type": "code",
   "execution_count": 87,
   "id": "52fd3896-a20a-4fa7-b59c-0df74beda2a3",
   "metadata": {},
   "outputs": [
    {
     "data": {
      "text/html": [
       "<div>\n",
       "<style scoped>\n",
       "    .dataframe tbody tr th:only-of-type {\n",
       "        vertical-align: middle;\n",
       "    }\n",
       "\n",
       "    .dataframe tbody tr th {\n",
       "        vertical-align: top;\n",
       "    }\n",
       "\n",
       "    .dataframe thead th {\n",
       "        text-align: right;\n",
       "    }\n",
       "</style>\n",
       "<table border=\"1\" class=\"dataframe\">\n",
       "  <thead>\n",
       "    <tr style=\"text-align: right;\">\n",
       "      <th></th>\n",
       "      <th>Female</th>\n",
       "      <th>Male</th>\n",
       "    </tr>\n",
       "  </thead>\n",
       "  <tbody>\n",
       "    <tr>\n",
       "      <th>0</th>\n",
       "      <td>True</td>\n",
       "      <td>False</td>\n",
       "    </tr>\n",
       "    <tr>\n",
       "      <th>1</th>\n",
       "      <td>True</td>\n",
       "      <td>False</td>\n",
       "    </tr>\n",
       "    <tr>\n",
       "      <th>2</th>\n",
       "      <td>True</td>\n",
       "      <td>False</td>\n",
       "    </tr>\n",
       "    <tr>\n",
       "      <th>3</th>\n",
       "      <td>True</td>\n",
       "      <td>False</td>\n",
       "    </tr>\n",
       "    <tr>\n",
       "      <th>4</th>\n",
       "      <td>True</td>\n",
       "      <td>False</td>\n",
       "    </tr>\n",
       "    <tr>\n",
       "      <th>...</th>\n",
       "      <td>...</td>\n",
       "      <td>...</td>\n",
       "    </tr>\n",
       "    <tr>\n",
       "      <th>995</th>\n",
       "      <td>False</td>\n",
       "      <td>True</td>\n",
       "    </tr>\n",
       "    <tr>\n",
       "      <th>996</th>\n",
       "      <td>True</td>\n",
       "      <td>False</td>\n",
       "    </tr>\n",
       "    <tr>\n",
       "      <th>997</th>\n",
       "      <td>False</td>\n",
       "      <td>True</td>\n",
       "    </tr>\n",
       "    <tr>\n",
       "      <th>998</th>\n",
       "      <td>False</td>\n",
       "      <td>True</td>\n",
       "    </tr>\n",
       "    <tr>\n",
       "      <th>999</th>\n",
       "      <td>True</td>\n",
       "      <td>False</td>\n",
       "    </tr>\n",
       "  </tbody>\n",
       "</table>\n",
       "<p>1000 rows × 2 columns</p>\n",
       "</div>"
      ],
      "text/plain": [
       "     Female   Male\n",
       "0      True  False\n",
       "1      True  False\n",
       "2      True  False\n",
       "3      True  False\n",
       "4      True  False\n",
       "..      ...    ...\n",
       "995   False   True\n",
       "996    True  False\n",
       "997   False   True\n",
       "998   False   True\n",
       "999    True  False\n",
       "\n",
       "[1000 rows x 2 columns]"
      ]
     },
     "execution_count": 87,
     "metadata": {},
     "output_type": "execute_result"
    }
   ],
   "source": [
    "pd.get_dummies(df.gender)"
   ]
  },
  {
   "cell_type": "code",
   "execution_count": 88,
   "id": "d2ba1336-22d7-4180-8a71-4a0ff0db9271",
   "metadata": {},
   "outputs": [
    {
     "data": {
      "text/plain": [
       "0          Ewallet\n",
       "1             Cash\n",
       "2      Credit card\n",
       "3          Ewallet\n",
       "4          Ewallet\n",
       "          ...     \n",
       "995        Ewallet\n",
       "996        Ewallet\n",
       "997           Cash\n",
       "998           Cash\n",
       "999           Cash\n",
       "Name: payment, Length: 1000, dtype: object"
      ]
     },
     "execution_count": 88,
     "metadata": {},
     "output_type": "execute_result"
    }
   ],
   "source": [
    "df.payment"
   ]
  },
  {
   "cell_type": "code",
   "execution_count": 89,
   "id": "72569164-1413-471f-8d1e-91d407adb568",
   "metadata": {},
   "outputs": [
    {
     "data": {
      "text/html": [
       "<div>\n",
       "<style scoped>\n",
       "    .dataframe tbody tr th:only-of-type {\n",
       "        vertical-align: middle;\n",
       "    }\n",
       "\n",
       "    .dataframe tbody tr th {\n",
       "        vertical-align: top;\n",
       "    }\n",
       "\n",
       "    .dataframe thead th {\n",
       "        text-align: right;\n",
       "    }\n",
       "</style>\n",
       "<table border=\"1\" class=\"dataframe\">\n",
       "  <thead>\n",
       "    <tr style=\"text-align: right;\">\n",
       "      <th></th>\n",
       "      <th>Credit card</th>\n",
       "      <th>Ewallet</th>\n",
       "    </tr>\n",
       "  </thead>\n",
       "  <tbody>\n",
       "    <tr>\n",
       "      <th>0</th>\n",
       "      <td>False</td>\n",
       "      <td>True</td>\n",
       "    </tr>\n",
       "    <tr>\n",
       "      <th>1</th>\n",
       "      <td>False</td>\n",
       "      <td>False</td>\n",
       "    </tr>\n",
       "    <tr>\n",
       "      <th>2</th>\n",
       "      <td>True</td>\n",
       "      <td>False</td>\n",
       "    </tr>\n",
       "    <tr>\n",
       "      <th>3</th>\n",
       "      <td>False</td>\n",
       "      <td>True</td>\n",
       "    </tr>\n",
       "    <tr>\n",
       "      <th>4</th>\n",
       "      <td>False</td>\n",
       "      <td>True</td>\n",
       "    </tr>\n",
       "    <tr>\n",
       "      <th>...</th>\n",
       "      <td>...</td>\n",
       "      <td>...</td>\n",
       "    </tr>\n",
       "    <tr>\n",
       "      <th>995</th>\n",
       "      <td>False</td>\n",
       "      <td>True</td>\n",
       "    </tr>\n",
       "    <tr>\n",
       "      <th>996</th>\n",
       "      <td>False</td>\n",
       "      <td>True</td>\n",
       "    </tr>\n",
       "    <tr>\n",
       "      <th>997</th>\n",
       "      <td>False</td>\n",
       "      <td>False</td>\n",
       "    </tr>\n",
       "    <tr>\n",
       "      <th>998</th>\n",
       "      <td>False</td>\n",
       "      <td>False</td>\n",
       "    </tr>\n",
       "    <tr>\n",
       "      <th>999</th>\n",
       "      <td>False</td>\n",
       "      <td>False</td>\n",
       "    </tr>\n",
       "  </tbody>\n",
       "</table>\n",
       "<p>1000 rows × 2 columns</p>\n",
       "</div>"
      ],
      "text/plain": [
       "     Credit card  Ewallet\n",
       "0          False     True\n",
       "1          False    False\n",
       "2           True    False\n",
       "3          False     True\n",
       "4          False     True\n",
       "..           ...      ...\n",
       "995        False     True\n",
       "996        False     True\n",
       "997        False    False\n",
       "998        False    False\n",
       "999        False    False\n",
       "\n",
       "[1000 rows x 2 columns]"
      ]
     },
     "execution_count": 89,
     "metadata": {},
     "output_type": "execute_result"
    }
   ],
   "source": [
    "pd.get_dummies(df.payment, drop_first= True)"
   ]
  },
  {
   "cell_type": "code",
   "execution_count": 90,
   "id": "327d7dc2-2059-4de0-b302-7af122996de8",
   "metadata": {},
   "outputs": [
    {
     "data": {
      "text/plain": [
       "array([[0., 0., 0., ..., 0., 0., 1.],\n",
       "       [0., 1., 1., ..., 0., 0., 0.],\n",
       "       [0., 0., 0., ..., 0., 1., 0.],\n",
       "       ...,\n",
       "       [0., 0., 0., ..., 0., 0., 0.],\n",
       "       [0., 0., 0., ..., 0., 0., 0.],\n",
       "       [0., 0., 0., ..., 0., 0., 0.]])"
      ]
     },
     "execution_count": 90,
     "metadata": {},
     "output_type": "execute_result"
    }
   ],
   "source": [
    "# Using sklearn\n",
    "\n",
    "from sklearn.preprocessing import OneHotEncoder\n",
    "\n",
    "ohe = OneHotEncoder(sparse_output= False, drop = 'first')\n",
    "\n",
    "ohe_arr = ohe.fit_transform(df[cat_col])\n",
    "ohe_arr"
   ]
  },
  {
   "cell_type": "code",
   "execution_count": 91,
   "id": "514a12a5-3ca0-4fc5-b8c2-ed4d31a5952b",
   "metadata": {},
   "outputs": [
    {
     "data": {
      "text/html": [
       "<div>\n",
       "<style scoped>\n",
       "    .dataframe tbody tr th:only-of-type {\n",
       "        vertical-align: middle;\n",
       "    }\n",
       "\n",
       "    .dataframe tbody tr th {\n",
       "        vertical-align: top;\n",
       "    }\n",
       "\n",
       "    .dataframe thead th {\n",
       "        text-align: right;\n",
       "    }\n",
       "</style>\n",
       "<table border=\"1\" class=\"dataframe\">\n",
       "  <thead>\n",
       "    <tr style=\"text-align: right;\">\n",
       "      <th></th>\n",
       "      <th>branch_Cairo</th>\n",
       "      <th>branch_Giza</th>\n",
       "      <th>city_Naypyitaw</th>\n",
       "      <th>city_Yangon</th>\n",
       "      <th>customer type_Normal</th>\n",
       "      <th>gender_Male</th>\n",
       "      <th>product line_Fashion accessories</th>\n",
       "      <th>product line_Food and beverages</th>\n",
       "      <th>product line_Health and beauty</th>\n",
       "      <th>product line_Home and lifestyle</th>\n",
       "      <th>product line_Sports and travel</th>\n",
       "      <th>payment_Credit card</th>\n",
       "      <th>payment_Ewallet</th>\n",
       "    </tr>\n",
       "  </thead>\n",
       "  <tbody>\n",
       "    <tr>\n",
       "      <th>0</th>\n",
       "      <td>0.0</td>\n",
       "      <td>0.0</td>\n",
       "      <td>0.0</td>\n",
       "      <td>1.0</td>\n",
       "      <td>0.0</td>\n",
       "      <td>0.0</td>\n",
       "      <td>0.0</td>\n",
       "      <td>0.0</td>\n",
       "      <td>1.0</td>\n",
       "      <td>0.0</td>\n",
       "      <td>0.0</td>\n",
       "      <td>0.0</td>\n",
       "      <td>1.0</td>\n",
       "    </tr>\n",
       "    <tr>\n",
       "      <th>1</th>\n",
       "      <td>0.0</td>\n",
       "      <td>1.0</td>\n",
       "      <td>1.0</td>\n",
       "      <td>0.0</td>\n",
       "      <td>1.0</td>\n",
       "      <td>0.0</td>\n",
       "      <td>0.0</td>\n",
       "      <td>0.0</td>\n",
       "      <td>0.0</td>\n",
       "      <td>0.0</td>\n",
       "      <td>0.0</td>\n",
       "      <td>0.0</td>\n",
       "      <td>0.0</td>\n",
       "    </tr>\n",
       "    <tr>\n",
       "      <th>2</th>\n",
       "      <td>0.0</td>\n",
       "      <td>0.0</td>\n",
       "      <td>0.0</td>\n",
       "      <td>1.0</td>\n",
       "      <td>1.0</td>\n",
       "      <td>0.0</td>\n",
       "      <td>0.0</td>\n",
       "      <td>0.0</td>\n",
       "      <td>0.0</td>\n",
       "      <td>1.0</td>\n",
       "      <td>0.0</td>\n",
       "      <td>1.0</td>\n",
       "      <td>0.0</td>\n",
       "    </tr>\n",
       "    <tr>\n",
       "      <th>3</th>\n",
       "      <td>0.0</td>\n",
       "      <td>0.0</td>\n",
       "      <td>0.0</td>\n",
       "      <td>1.0</td>\n",
       "      <td>0.0</td>\n",
       "      <td>0.0</td>\n",
       "      <td>0.0</td>\n",
       "      <td>0.0</td>\n",
       "      <td>1.0</td>\n",
       "      <td>0.0</td>\n",
       "      <td>0.0</td>\n",
       "      <td>0.0</td>\n",
       "      <td>1.0</td>\n",
       "    </tr>\n",
       "    <tr>\n",
       "      <th>4</th>\n",
       "      <td>0.0</td>\n",
       "      <td>0.0</td>\n",
       "      <td>0.0</td>\n",
       "      <td>1.0</td>\n",
       "      <td>0.0</td>\n",
       "      <td>0.0</td>\n",
       "      <td>0.0</td>\n",
       "      <td>0.0</td>\n",
       "      <td>0.0</td>\n",
       "      <td>0.0</td>\n",
       "      <td>1.0</td>\n",
       "      <td>0.0</td>\n",
       "      <td>1.0</td>\n",
       "    </tr>\n",
       "    <tr>\n",
       "      <th>...</th>\n",
       "      <td>...</td>\n",
       "      <td>...</td>\n",
       "      <td>...</td>\n",
       "      <td>...</td>\n",
       "      <td>...</td>\n",
       "      <td>...</td>\n",
       "      <td>...</td>\n",
       "      <td>...</td>\n",
       "      <td>...</td>\n",
       "      <td>...</td>\n",
       "      <td>...</td>\n",
       "      <td>...</td>\n",
       "      <td>...</td>\n",
       "    </tr>\n",
       "    <tr>\n",
       "      <th>995</th>\n",
       "      <td>0.0</td>\n",
       "      <td>1.0</td>\n",
       "      <td>1.0</td>\n",
       "      <td>0.0</td>\n",
       "      <td>1.0</td>\n",
       "      <td>1.0</td>\n",
       "      <td>0.0</td>\n",
       "      <td>0.0</td>\n",
       "      <td>1.0</td>\n",
       "      <td>0.0</td>\n",
       "      <td>0.0</td>\n",
       "      <td>0.0</td>\n",
       "      <td>1.0</td>\n",
       "    </tr>\n",
       "    <tr>\n",
       "      <th>996</th>\n",
       "      <td>1.0</td>\n",
       "      <td>0.0</td>\n",
       "      <td>0.0</td>\n",
       "      <td>0.0</td>\n",
       "      <td>1.0</td>\n",
       "      <td>0.0</td>\n",
       "      <td>0.0</td>\n",
       "      <td>0.0</td>\n",
       "      <td>0.0</td>\n",
       "      <td>1.0</td>\n",
       "      <td>0.0</td>\n",
       "      <td>0.0</td>\n",
       "      <td>1.0</td>\n",
       "    </tr>\n",
       "    <tr>\n",
       "      <th>997</th>\n",
       "      <td>0.0</td>\n",
       "      <td>0.0</td>\n",
       "      <td>0.0</td>\n",
       "      <td>1.0</td>\n",
       "      <td>0.0</td>\n",
       "      <td>1.0</td>\n",
       "      <td>0.0</td>\n",
       "      <td>1.0</td>\n",
       "      <td>0.0</td>\n",
       "      <td>0.0</td>\n",
       "      <td>0.0</td>\n",
       "      <td>0.0</td>\n",
       "      <td>0.0</td>\n",
       "    </tr>\n",
       "    <tr>\n",
       "      <th>998</th>\n",
       "      <td>0.0</td>\n",
       "      <td>0.0</td>\n",
       "      <td>0.0</td>\n",
       "      <td>1.0</td>\n",
       "      <td>1.0</td>\n",
       "      <td>1.0</td>\n",
       "      <td>0.0</td>\n",
       "      <td>0.0</td>\n",
       "      <td>0.0</td>\n",
       "      <td>1.0</td>\n",
       "      <td>0.0</td>\n",
       "      <td>0.0</td>\n",
       "      <td>0.0</td>\n",
       "    </tr>\n",
       "    <tr>\n",
       "      <th>999</th>\n",
       "      <td>0.0</td>\n",
       "      <td>0.0</td>\n",
       "      <td>0.0</td>\n",
       "      <td>1.0</td>\n",
       "      <td>0.0</td>\n",
       "      <td>0.0</td>\n",
       "      <td>1.0</td>\n",
       "      <td>0.0</td>\n",
       "      <td>0.0</td>\n",
       "      <td>0.0</td>\n",
       "      <td>0.0</td>\n",
       "      <td>0.0</td>\n",
       "      <td>0.0</td>\n",
       "    </tr>\n",
       "  </tbody>\n",
       "</table>\n",
       "<p>1000 rows × 13 columns</p>\n",
       "</div>"
      ],
      "text/plain": [
       "     branch_Cairo  branch_Giza  city_Naypyitaw  city_Yangon  \\\n",
       "0             0.0          0.0             0.0          1.0   \n",
       "1             0.0          1.0             1.0          0.0   \n",
       "2             0.0          0.0             0.0          1.0   \n",
       "3             0.0          0.0             0.0          1.0   \n",
       "4             0.0          0.0             0.0          1.0   \n",
       "..            ...          ...             ...          ...   \n",
       "995           0.0          1.0             1.0          0.0   \n",
       "996           1.0          0.0             0.0          0.0   \n",
       "997           0.0          0.0             0.0          1.0   \n",
       "998           0.0          0.0             0.0          1.0   \n",
       "999           0.0          0.0             0.0          1.0   \n",
       "\n",
       "     customer type_Normal  gender_Male  product line_Fashion accessories  \\\n",
       "0                     0.0          0.0                               0.0   \n",
       "1                     1.0          0.0                               0.0   \n",
       "2                     1.0          0.0                               0.0   \n",
       "3                     0.0          0.0                               0.0   \n",
       "4                     0.0          0.0                               0.0   \n",
       "..                    ...          ...                               ...   \n",
       "995                   1.0          1.0                               0.0   \n",
       "996                   1.0          0.0                               0.0   \n",
       "997                   0.0          1.0                               0.0   \n",
       "998                   1.0          1.0                               0.0   \n",
       "999                   0.0          0.0                               1.0   \n",
       "\n",
       "     product line_Food and beverages  product line_Health and beauty  \\\n",
       "0                                0.0                             1.0   \n",
       "1                                0.0                             0.0   \n",
       "2                                0.0                             0.0   \n",
       "3                                0.0                             1.0   \n",
       "4                                0.0                             0.0   \n",
       "..                               ...                             ...   \n",
       "995                              0.0                             1.0   \n",
       "996                              0.0                             0.0   \n",
       "997                              1.0                             0.0   \n",
       "998                              0.0                             0.0   \n",
       "999                              0.0                             0.0   \n",
       "\n",
       "     product line_Home and lifestyle  product line_Sports and travel  \\\n",
       "0                                0.0                             0.0   \n",
       "1                                0.0                             0.0   \n",
       "2                                1.0                             0.0   \n",
       "3                                0.0                             0.0   \n",
       "4                                0.0                             1.0   \n",
       "..                               ...                             ...   \n",
       "995                              0.0                             0.0   \n",
       "996                              1.0                             0.0   \n",
       "997                              0.0                             0.0   \n",
       "998                              1.0                             0.0   \n",
       "999                              0.0                             0.0   \n",
       "\n",
       "     payment_Credit card  payment_Ewallet  \n",
       "0                    0.0              1.0  \n",
       "1                    0.0              0.0  \n",
       "2                    1.0              0.0  \n",
       "3                    0.0              1.0  \n",
       "4                    0.0              1.0  \n",
       "..                   ...              ...  \n",
       "995                  0.0              1.0  \n",
       "996                  0.0              1.0  \n",
       "997                  0.0              0.0  \n",
       "998                  0.0              0.0  \n",
       "999                  0.0              0.0  \n",
       "\n",
       "[1000 rows x 13 columns]"
      ]
     },
     "execution_count": 91,
     "metadata": {},
     "output_type": "execute_result"
    }
   ],
   "source": [
    "ohe_df = pd.DataFrame(ohe_arr, columns= ohe.get_feature_names_out())\n",
    "ohe_df"
   ]
  },
  {
   "cell_type": "code",
   "execution_count": 92,
   "id": "b863eb4c-b0e1-4d15-996e-ea7fc534b149",
   "metadata": {},
   "outputs": [
    {
     "data": {
      "text/html": [
       "<div>\n",
       "<style scoped>\n",
       "    .dataframe tbody tr th:only-of-type {\n",
       "        vertical-align: middle;\n",
       "    }\n",
       "\n",
       "    .dataframe tbody tr th {\n",
       "        vertical-align: top;\n",
       "    }\n",
       "\n",
       "    .dataframe thead th {\n",
       "        text-align: right;\n",
       "    }\n",
       "</style>\n",
       "<table border=\"1\" class=\"dataframe\">\n",
       "  <thead>\n",
       "    <tr style=\"text-align: right;\">\n",
       "      <th></th>\n",
       "      <th>invoice id</th>\n",
       "      <th>unit price</th>\n",
       "      <th>quantity</th>\n",
       "      <th>tax 5%</th>\n",
       "      <th>sales</th>\n",
       "      <th>date</th>\n",
       "      <th>time</th>\n",
       "      <th>cogs</th>\n",
       "      <th>gross margin percentage</th>\n",
       "      <th>gross income</th>\n",
       "      <th>rating</th>\n",
       "      <th>month</th>\n",
       "      <th>day</th>\n",
       "      <th>branch_Cairo</th>\n",
       "      <th>branch_Giza</th>\n",
       "      <th>city_Naypyitaw</th>\n",
       "      <th>city_Yangon</th>\n",
       "      <th>customer type_Normal</th>\n",
       "      <th>gender_Male</th>\n",
       "      <th>product line_Fashion accessories</th>\n",
       "      <th>product line_Food and beverages</th>\n",
       "      <th>product line_Health and beauty</th>\n",
       "      <th>product line_Home and lifestyle</th>\n",
       "      <th>product line_Sports and travel</th>\n",
       "      <th>payment_Credit card</th>\n",
       "      <th>payment_Ewallet</th>\n",
       "    </tr>\n",
       "  </thead>\n",
       "  <tbody>\n",
       "    <tr>\n",
       "      <th>0</th>\n",
       "      <td>750-67-8428</td>\n",
       "      <td>74.69</td>\n",
       "      <td>7</td>\n",
       "      <td>26.1415</td>\n",
       "      <td>548.9715</td>\n",
       "      <td>2019-01-05</td>\n",
       "      <td>2025-09-29 13:08:00</td>\n",
       "      <td>522.83</td>\n",
       "      <td>4.761905</td>\n",
       "      <td>26.1415</td>\n",
       "      <td>9.1</td>\n",
       "      <td>01</td>\n",
       "      <td>6</td>\n",
       "      <td>0.0</td>\n",
       "      <td>0.0</td>\n",
       "      <td>0.0</td>\n",
       "      <td>1.0</td>\n",
       "      <td>0.0</td>\n",
       "      <td>0.0</td>\n",
       "      <td>0.0</td>\n",
       "      <td>0.0</td>\n",
       "      <td>1.0</td>\n",
       "      <td>0.0</td>\n",
       "      <td>0.0</td>\n",
       "      <td>0.0</td>\n",
       "      <td>1.0</td>\n",
       "    </tr>\n",
       "    <tr>\n",
       "      <th>1</th>\n",
       "      <td>226-31-3081</td>\n",
       "      <td>15.28</td>\n",
       "      <td>5</td>\n",
       "      <td>3.8200</td>\n",
       "      <td>80.2200</td>\n",
       "      <td>2019-03-08</td>\n",
       "      <td>2025-09-29 10:29:00</td>\n",
       "      <td>76.40</td>\n",
       "      <td>4.761905</td>\n",
       "      <td>3.8200</td>\n",
       "      <td>9.6</td>\n",
       "      <td>03</td>\n",
       "      <td>5</td>\n",
       "      <td>0.0</td>\n",
       "      <td>1.0</td>\n",
       "      <td>1.0</td>\n",
       "      <td>0.0</td>\n",
       "      <td>1.0</td>\n",
       "      <td>0.0</td>\n",
       "      <td>0.0</td>\n",
       "      <td>0.0</td>\n",
       "      <td>0.0</td>\n",
       "      <td>0.0</td>\n",
       "      <td>0.0</td>\n",
       "      <td>0.0</td>\n",
       "      <td>0.0</td>\n",
       "    </tr>\n",
       "    <tr>\n",
       "      <th>2</th>\n",
       "      <td>631-41-3108</td>\n",
       "      <td>46.33</td>\n",
       "      <td>7</td>\n",
       "      <td>16.2155</td>\n",
       "      <td>340.5255</td>\n",
       "      <td>2019-03-03</td>\n",
       "      <td>2025-09-29 13:23:00</td>\n",
       "      <td>324.31</td>\n",
       "      <td>4.761905</td>\n",
       "      <td>16.2155</td>\n",
       "      <td>7.4</td>\n",
       "      <td>03</td>\n",
       "      <td>0</td>\n",
       "      <td>0.0</td>\n",
       "      <td>0.0</td>\n",
       "      <td>0.0</td>\n",
       "      <td>1.0</td>\n",
       "      <td>1.0</td>\n",
       "      <td>0.0</td>\n",
       "      <td>0.0</td>\n",
       "      <td>0.0</td>\n",
       "      <td>0.0</td>\n",
       "      <td>1.0</td>\n",
       "      <td>0.0</td>\n",
       "      <td>1.0</td>\n",
       "      <td>0.0</td>\n",
       "    </tr>\n",
       "    <tr>\n",
       "      <th>3</th>\n",
       "      <td>123-19-1176</td>\n",
       "      <td>58.22</td>\n",
       "      <td>8</td>\n",
       "      <td>23.2880</td>\n",
       "      <td>489.0480</td>\n",
       "      <td>2019-01-27</td>\n",
       "      <td>2025-09-29 20:33:00</td>\n",
       "      <td>465.76</td>\n",
       "      <td>4.761905</td>\n",
       "      <td>23.2880</td>\n",
       "      <td>8.4</td>\n",
       "      <td>01</td>\n",
       "      <td>0</td>\n",
       "      <td>0.0</td>\n",
       "      <td>0.0</td>\n",
       "      <td>0.0</td>\n",
       "      <td>1.0</td>\n",
       "      <td>0.0</td>\n",
       "      <td>0.0</td>\n",
       "      <td>0.0</td>\n",
       "      <td>0.0</td>\n",
       "      <td>1.0</td>\n",
       "      <td>0.0</td>\n",
       "      <td>0.0</td>\n",
       "      <td>0.0</td>\n",
       "      <td>1.0</td>\n",
       "    </tr>\n",
       "    <tr>\n",
       "      <th>4</th>\n",
       "      <td>373-73-7910</td>\n",
       "      <td>86.31</td>\n",
       "      <td>7</td>\n",
       "      <td>30.2085</td>\n",
       "      <td>634.3785</td>\n",
       "      <td>2019-02-08</td>\n",
       "      <td>2025-09-29 10:37:00</td>\n",
       "      <td>604.17</td>\n",
       "      <td>4.761905</td>\n",
       "      <td>30.2085</td>\n",
       "      <td>5.3</td>\n",
       "      <td>02</td>\n",
       "      <td>5</td>\n",
       "      <td>0.0</td>\n",
       "      <td>0.0</td>\n",
       "      <td>0.0</td>\n",
       "      <td>1.0</td>\n",
       "      <td>0.0</td>\n",
       "      <td>0.0</td>\n",
       "      <td>0.0</td>\n",
       "      <td>0.0</td>\n",
       "      <td>0.0</td>\n",
       "      <td>0.0</td>\n",
       "      <td>1.0</td>\n",
       "      <td>0.0</td>\n",
       "      <td>1.0</td>\n",
       "    </tr>\n",
       "  </tbody>\n",
       "</table>\n",
       "</div>"
      ],
      "text/plain": [
       "    invoice id  unit price  quantity   tax 5%     sales       date  \\\n",
       "0  750-67-8428       74.69         7  26.1415  548.9715 2019-01-05   \n",
       "1  226-31-3081       15.28         5   3.8200   80.2200 2019-03-08   \n",
       "2  631-41-3108       46.33         7  16.2155  340.5255 2019-03-03   \n",
       "3  123-19-1176       58.22         8  23.2880  489.0480 2019-01-27   \n",
       "4  373-73-7910       86.31         7  30.2085  634.3785 2019-02-08   \n",
       "\n",
       "                 time    cogs  gross margin percentage  gross income  rating  \\\n",
       "0 2025-09-29 13:08:00  522.83                 4.761905       26.1415     9.1   \n",
       "1 2025-09-29 10:29:00   76.40                 4.761905        3.8200     9.6   \n",
       "2 2025-09-29 13:23:00  324.31                 4.761905       16.2155     7.4   \n",
       "3 2025-09-29 20:33:00  465.76                 4.761905       23.2880     8.4   \n",
       "4 2025-09-29 10:37:00  604.17                 4.761905       30.2085     5.3   \n",
       "\n",
       "  month day  branch_Cairo  branch_Giza  city_Naypyitaw  city_Yangon  \\\n",
       "0    01   6           0.0          0.0             0.0          1.0   \n",
       "1    03   5           0.0          1.0             1.0          0.0   \n",
       "2    03   0           0.0          0.0             0.0          1.0   \n",
       "3    01   0           0.0          0.0             0.0          1.0   \n",
       "4    02   5           0.0          0.0             0.0          1.0   \n",
       "\n",
       "   customer type_Normal  gender_Male  product line_Fashion accessories  \\\n",
       "0                   0.0          0.0                               0.0   \n",
       "1                   1.0          0.0                               0.0   \n",
       "2                   1.0          0.0                               0.0   \n",
       "3                   0.0          0.0                               0.0   \n",
       "4                   0.0          0.0                               0.0   \n",
       "\n",
       "   product line_Food and beverages  product line_Health and beauty  \\\n",
       "0                              0.0                             1.0   \n",
       "1                              0.0                             0.0   \n",
       "2                              0.0                             0.0   \n",
       "3                              0.0                             1.0   \n",
       "4                              0.0                             0.0   \n",
       "\n",
       "   product line_Home and lifestyle  product line_Sports and travel  \\\n",
       "0                              0.0                             0.0   \n",
       "1                              0.0                             0.0   \n",
       "2                              1.0                             0.0   \n",
       "3                              0.0                             0.0   \n",
       "4                              0.0                             1.0   \n",
       "\n",
       "   payment_Credit card  payment_Ewallet  \n",
       "0                  0.0              1.0  \n",
       "1                  0.0              0.0  \n",
       "2                  1.0              0.0  \n",
       "3                  0.0              1.0  \n",
       "4                  0.0              1.0  "
      ]
     },
     "execution_count": 92,
     "metadata": {},
     "output_type": "execute_result"
    }
   ],
   "source": [
    "new_df = pd.concat([df, ohe_df], axis= 1).drop(cat_col, axis = 1).head()\n",
    "new_df"
   ]
  },
  {
   "cell_type": "code",
   "execution_count": 93,
   "id": "84e9bd9f-4d7a-4ec0-a395-afb5cc0e9b87",
   "metadata": {},
   "outputs": [
    {
     "data": {
      "text/html": [
       "<div>\n",
       "<style scoped>\n",
       "    .dataframe tbody tr th:only-of-type {\n",
       "        vertical-align: middle;\n",
       "    }\n",
       "\n",
       "    .dataframe tbody tr th {\n",
       "        vertical-align: top;\n",
       "    }\n",
       "\n",
       "    .dataframe thead th {\n",
       "        text-align: right;\n",
       "    }\n",
       "</style>\n",
       "<table border=\"1\" class=\"dataframe\">\n",
       "  <thead>\n",
       "    <tr style=\"text-align: right;\">\n",
       "      <th></th>\n",
       "      <th>invoice id</th>\n",
       "      <th>branch</th>\n",
       "      <th>city</th>\n",
       "      <th>customer type</th>\n",
       "      <th>gender</th>\n",
       "      <th>product line</th>\n",
       "      <th>unit price</th>\n",
       "      <th>quantity</th>\n",
       "      <th>tax 5%</th>\n",
       "      <th>sales</th>\n",
       "      <th>date</th>\n",
       "      <th>time</th>\n",
       "      <th>payment</th>\n",
       "      <th>cogs</th>\n",
       "      <th>gross margin percentage</th>\n",
       "      <th>gross income</th>\n",
       "      <th>rating</th>\n",
       "      <th>month</th>\n",
       "      <th>day</th>\n",
       "    </tr>\n",
       "  </thead>\n",
       "  <tbody>\n",
       "    <tr>\n",
       "      <th>0</th>\n",
       "      <td>750-67-8428</td>\n",
       "      <td>Alex</td>\n",
       "      <td>Yangon</td>\n",
       "      <td>Member</td>\n",
       "      <td>Female</td>\n",
       "      <td>Health and beauty</td>\n",
       "      <td>74.69</td>\n",
       "      <td>7</td>\n",
       "      <td>26.1415</td>\n",
       "      <td>548.9715</td>\n",
       "      <td>2019-01-05</td>\n",
       "      <td>2025-09-29 13:08:00</td>\n",
       "      <td>Ewallet</td>\n",
       "      <td>522.83</td>\n",
       "      <td>4.761905</td>\n",
       "      <td>26.1415</td>\n",
       "      <td>9.1</td>\n",
       "      <td>01</td>\n",
       "      <td>6</td>\n",
       "    </tr>\n",
       "    <tr>\n",
       "      <th>1</th>\n",
       "      <td>226-31-3081</td>\n",
       "      <td>Giza</td>\n",
       "      <td>Naypyitaw</td>\n",
       "      <td>Normal</td>\n",
       "      <td>Female</td>\n",
       "      <td>Electronic accessories</td>\n",
       "      <td>15.28</td>\n",
       "      <td>5</td>\n",
       "      <td>3.8200</td>\n",
       "      <td>80.2200</td>\n",
       "      <td>2019-03-08</td>\n",
       "      <td>2025-09-29 10:29:00</td>\n",
       "      <td>Cash</td>\n",
       "      <td>76.40</td>\n",
       "      <td>4.761905</td>\n",
       "      <td>3.8200</td>\n",
       "      <td>9.6</td>\n",
       "      <td>03</td>\n",
       "      <td>5</td>\n",
       "    </tr>\n",
       "    <tr>\n",
       "      <th>2</th>\n",
       "      <td>631-41-3108</td>\n",
       "      <td>Alex</td>\n",
       "      <td>Yangon</td>\n",
       "      <td>Normal</td>\n",
       "      <td>Female</td>\n",
       "      <td>Home and lifestyle</td>\n",
       "      <td>46.33</td>\n",
       "      <td>7</td>\n",
       "      <td>16.2155</td>\n",
       "      <td>340.5255</td>\n",
       "      <td>2019-03-03</td>\n",
       "      <td>2025-09-29 13:23:00</td>\n",
       "      <td>Credit card</td>\n",
       "      <td>324.31</td>\n",
       "      <td>4.761905</td>\n",
       "      <td>16.2155</td>\n",
       "      <td>7.4</td>\n",
       "      <td>03</td>\n",
       "      <td>0</td>\n",
       "    </tr>\n",
       "    <tr>\n",
       "      <th>3</th>\n",
       "      <td>123-19-1176</td>\n",
       "      <td>Alex</td>\n",
       "      <td>Yangon</td>\n",
       "      <td>Member</td>\n",
       "      <td>Female</td>\n",
       "      <td>Health and beauty</td>\n",
       "      <td>58.22</td>\n",
       "      <td>8</td>\n",
       "      <td>23.2880</td>\n",
       "      <td>489.0480</td>\n",
       "      <td>2019-01-27</td>\n",
       "      <td>2025-09-29 20:33:00</td>\n",
       "      <td>Ewallet</td>\n",
       "      <td>465.76</td>\n",
       "      <td>4.761905</td>\n",
       "      <td>23.2880</td>\n",
       "      <td>8.4</td>\n",
       "      <td>01</td>\n",
       "      <td>0</td>\n",
       "    </tr>\n",
       "    <tr>\n",
       "      <th>4</th>\n",
       "      <td>373-73-7910</td>\n",
       "      <td>Alex</td>\n",
       "      <td>Yangon</td>\n",
       "      <td>Member</td>\n",
       "      <td>Female</td>\n",
       "      <td>Sports and travel</td>\n",
       "      <td>86.31</td>\n",
       "      <td>7</td>\n",
       "      <td>30.2085</td>\n",
       "      <td>634.3785</td>\n",
       "      <td>2019-02-08</td>\n",
       "      <td>2025-09-29 10:37:00</td>\n",
       "      <td>Ewallet</td>\n",
       "      <td>604.17</td>\n",
       "      <td>4.761905</td>\n",
       "      <td>30.2085</td>\n",
       "      <td>5.3</td>\n",
       "      <td>02</td>\n",
       "      <td>5</td>\n",
       "    </tr>\n",
       "  </tbody>\n",
       "</table>\n",
       "</div>"
      ],
      "text/plain": [
       "    invoice id branch       city customer type  gender  \\\n",
       "0  750-67-8428   Alex     Yangon        Member  Female   \n",
       "1  226-31-3081   Giza  Naypyitaw        Normal  Female   \n",
       "2  631-41-3108   Alex     Yangon        Normal  Female   \n",
       "3  123-19-1176   Alex     Yangon        Member  Female   \n",
       "4  373-73-7910   Alex     Yangon        Member  Female   \n",
       "\n",
       "             product line  unit price  quantity   tax 5%     sales       date  \\\n",
       "0       Health and beauty       74.69         7  26.1415  548.9715 2019-01-05   \n",
       "1  Electronic accessories       15.28         5   3.8200   80.2200 2019-03-08   \n",
       "2      Home and lifestyle       46.33         7  16.2155  340.5255 2019-03-03   \n",
       "3       Health and beauty       58.22         8  23.2880  489.0480 2019-01-27   \n",
       "4       Sports and travel       86.31         7  30.2085  634.3785 2019-02-08   \n",
       "\n",
       "                 time      payment    cogs  gross margin percentage  \\\n",
       "0 2025-09-29 13:08:00      Ewallet  522.83                 4.761905   \n",
       "1 2025-09-29 10:29:00         Cash   76.40                 4.761905   \n",
       "2 2025-09-29 13:23:00  Credit card  324.31                 4.761905   \n",
       "3 2025-09-29 20:33:00      Ewallet  465.76                 4.761905   \n",
       "4 2025-09-29 10:37:00      Ewallet  604.17                 4.761905   \n",
       "\n",
       "   gross income  rating month day  \n",
       "0       26.1415     9.1    01   6  \n",
       "1        3.8200     9.6    03   5  \n",
       "2       16.2155     7.4    03   0  \n",
       "3       23.2880     8.4    01   0  \n",
       "4       30.2085     5.3    02   5  "
      ]
     },
     "execution_count": 93,
     "metadata": {},
     "output_type": "execute_result"
    }
   ],
   "source": [
    "df.head()"
   ]
  },
  {
   "cell_type": "markdown",
   "id": "c6b3908d-8b55-479d-80dd-80d15619034a",
   "metadata": {},
   "source": [
    "### Ordinal"
   ]
  },
  {
   "cell_type": "code",
   "execution_count": 49,
   "id": "85910556-2cce-4430-9d09-d35837a2da59",
   "metadata": {},
   "outputs": [],
   "source": [
    "# No ordinal columns in DF"
   ]
  },
  {
   "cell_type": "markdown",
   "id": "616c4f0f-0a40-4f5c-ae32-1810fdbc8240",
   "metadata": {},
   "source": [
    "# Feature Scaling"
   ]
  },
  {
   "cell_type": "code",
   "execution_count": 94,
   "id": "60e7f1fa-1148-45b2-9e15-d3f42f0d8e68",
   "metadata": {},
   "outputs": [
    {
     "data": {
      "text/plain": [
       "array([[0.52161615],\n",
       "       [0.06738704],\n",
       "       [0.31962801],\n",
       "       [0.46354914],\n",
       "       [0.60437716],\n",
       "       [0.59782465],\n",
       "       [0.40990812],\n",
       "       [0.73810323],\n",
       "       [0.06343925],\n",
       "       [0.15704649],\n",
       "       [0.04858419],\n",
       "       [0.09347497],\n",
       "       [0.2285034 ],\n",
       "       [0.42909761],\n",
       "       [0.71592239],\n",
       "       [0.56179604],\n",
       "       [0.48059176],\n",
       "       [0.43292329],\n",
       "       [0.15652758],\n",
       "       [0.07166041],\n",
       "       [0.42736791],\n",
       "       [0.25820335],\n",
       "       [0.05721234],\n",
       "       [0.16547114],\n",
       "       [0.26018742],\n",
       "       [0.41772229],\n",
       "       [0.02375792],\n",
       "       [0.16805551],\n",
       "       [0.43917056],\n",
       "       [0.21757578],\n",
       "       [0.46852457],\n",
       "       [0.70455725],\n",
       "       [0.6716014 ],\n",
       "       [0.18618683],\n",
       "       [0.39427978],\n",
       "       [0.05896238],\n",
       "       [0.30822217],\n",
       "       [0.54714447],\n",
       "       [0.43668793],\n",
       "       [0.23482189],\n",
       "       [0.07788733],\n",
       "       [0.10383281],\n",
       "       [0.41161747],\n",
       "       [0.79304661],\n",
       "       [0.02092936],\n",
       "       [0.37205824],\n",
       "       [0.50877568],\n",
       "       [0.1728885 ],\n",
       "       [0.10521657],\n",
       "       [0.83038776],\n",
       "       [0.64062961],\n",
       "       [0.21649726],\n",
       "       [0.06238108],\n",
       "       [0.00535189],\n",
       "       [0.02253696],\n",
       "       [0.68950887],\n",
       "       [0.07988157],\n",
       "       [0.7189748 ],\n",
       "       [0.72579185],\n",
       "       [0.17652086],\n",
       "       [0.06516895],\n",
       "       [0.32987394],\n",
       "       [0.49394097],\n",
       "       [0.15051433],\n",
       "       [0.29790503],\n",
       "       [0.15112481],\n",
       "       [0.05776177],\n",
       "       [0.58554379],\n",
       "       [0.79111342],\n",
       "       [0.00830255],\n",
       "       [0.90008445],\n",
       "       [0.62170467],\n",
       "       [0.13775526],\n",
       "       [0.4530692 ],\n",
       "       [0.67342267],\n",
       "       [0.41342857],\n",
       "       [0.43872287],\n",
       "       [0.1728885 ],\n",
       "       [0.78643306],\n",
       "       [0.09333252],\n",
       "       [0.5951894 ],\n",
       "       [0.28475932],\n",
       "       [0.1463427 ],\n",
       "       [0.31670787],\n",
       "       [0.23847461],\n",
       "       [0.58122971],\n",
       "       [0.37893634],\n",
       "       [0.341351  ],\n",
       "       [0.03286428],\n",
       "       [0.4596624 ],\n",
       "       [0.18248324],\n",
       "       [0.44608935],\n",
       "       [0.14620026],\n",
       "       [0.57901163],\n",
       "       [0.08097026],\n",
       "       [0.08850971],\n",
       "       [0.88370318],\n",
       "       [0.06565734],\n",
       "       [0.15066695],\n",
       "       [0.49452092],\n",
       "       [0.03921329],\n",
       "       [0.70895272],\n",
       "       [0.20090962],\n",
       "       [0.34531913],\n",
       "       [0.20581382],\n",
       "       [0.89184294],\n",
       "       [0.1568023 ],\n",
       "       [0.36894478],\n",
       "       [0.30081499],\n",
       "       [0.82367246],\n",
       "       [0.02320849],\n",
       "       [0.2894295 ],\n",
       "       [0.50843991],\n",
       "       [0.52141266],\n",
       "       [0.72946491],\n",
       "       [0.07212845],\n",
       "       [0.10126879],\n",
       "       [0.04190959],\n",
       "       [0.10116704],\n",
       "       [0.09839952],\n",
       "       [0.8000468 ],\n",
       "       [0.39647752],\n",
       "       [0.905009  ],\n",
       "       [0.50986437],\n",
       "       [0.44930456],\n",
       "       [0.65693965],\n",
       "       [0.15371936],\n",
       "       [0.28021123],\n",
       "       [0.54755146],\n",
       "       [0.81636702],\n",
       "       [0.27183745],\n",
       "       [0.55208937],\n",
       "       [0.13144694],\n",
       "       [0.52351882],\n",
       "       [0.48597418],\n",
       "       [0.26504075],\n",
       "       [0.1235005 ],\n",
       "       [0.19978023],\n",
       "       [0.51782099],\n",
       "       [0.57978491],\n",
       "       [0.90334035],\n",
       "       [0.91046264],\n",
       "       [0.68763672],\n",
       "       [0.02059359],\n",
       "       [0.46552303],\n",
       "       [0.27206129],\n",
       "       [0.29631778],\n",
       "       [0.25883418],\n",
       "       [0.57457546],\n",
       "       [0.25386893],\n",
       "       [0.36220913],\n",
       "       [0.23579866],\n",
       "       [0.75190013],\n",
       "       [0.09025976],\n",
       "       [0.64872867],\n",
       "       [0.45916384],\n",
       "       [0.06308314],\n",
       "       [0.24544428],\n",
       "       [0.8799182 ],\n",
       "       [0.55978145],\n",
       "       [0.34112715],\n",
       "       [0.05445499],\n",
       "       [0.31578198],\n",
       "       [0.14512174],\n",
       "       [0.39562284],\n",
       "       [0.3361619 ],\n",
       "       [0.96215012],\n",
       "       [0.9967441 ],\n",
       "       [0.30270749],\n",
       "       [0.48479391],\n",
       "       [0.34581769],\n",
       "       [0.39689468],\n",
       "       [0.15936632],\n",
       "       [0.31253625],\n",
       "       [0.15073817],\n",
       "       [0.29953298],\n",
       "       [0.1701108 ],\n",
       "       [0.14997507],\n",
       "       [0.44067641],\n",
       "       [0.25460151],\n",
       "       [0.44733067],\n",
       "       [0.30278889],\n",
       "       [0.14736017],\n",
       "       [0.26892748],\n",
       "       [0.07754139],\n",
       "       [0.0448399 ],\n",
       "       [0.75877822],\n",
       "       [0.17877965],\n",
       "       [0.06501633],\n",
       "       [0.27377064],\n",
       "       [0.22480999],\n",
       "       [0.13926111],\n",
       "       [0.79365709],\n",
       "       [0.09363776],\n",
       "       [0.15605954],\n",
       "       [0.06524017],\n",
       "       [0.0785792 ],\n",
       "       [0.01538415],\n",
       "       [0.15855234],\n",
       "       [0.35283823],\n",
       "       [0.10655963],\n",
       "       [0.22362972],\n",
       "       [0.42703214],\n",
       "       [0.25317705],\n",
       "       [0.08005454],\n",
       "       [0.20054333],\n",
       "       [0.59998169],\n",
       "       [0.27993651],\n",
       "       [0.08235402],\n",
       "       [0.90290284],\n",
       "       [0.22984646],\n",
       "       [0.84365557],\n",
       "       [0.45951996],\n",
       "       [0.1313452 ],\n",
       "       [0.20054333],\n",
       "       [0.00825168],\n",
       "       [0.11566598],\n",
       "       [0.2785324 ],\n",
       "       [0.76187133],\n",
       "       [0.16467751],\n",
       "       [0.26650591],\n",
       "       [0.43180408],\n",
       "       [0.04973393],\n",
       "       [0.0024114 ],\n",
       "       [0.07766348],\n",
       "       [0.16701769],\n",
       "       [0.62488935],\n",
       "       [0.14048208],\n",
       "       [0.54335948],\n",
       "       [0.50587589],\n",
       "       [0.15523539],\n",
       "       [0.02197735],\n",
       "       [0.75968377],\n",
       "       [0.29009086],\n",
       "       [0.51812623],\n",
       "       [0.17918663],\n",
       "       [0.07822309],\n",
       "       [0.21461494],\n",
       "       [0.05690709],\n",
       "       [0.08090921],\n",
       "       [0.21803364],\n",
       "       [0.11128069],\n",
       "       [0.17930873],\n",
       "       [0.2446303 ],\n",
       "       [0.75373157],\n",
       "       [0.37702349],\n",
       "       [0.23811849],\n",
       "       [0.08091939],\n",
       "       [0.30596339],\n",
       "       [0.51000682],\n",
       "       [0.41592137],\n",
       "       [0.34770001],\n",
       "       [0.01893512],\n",
       "       [0.08631198],\n",
       "       [0.46908418],\n",
       "       [0.12241181],\n",
       "       [0.05716146],\n",
       "       [0.14782821],\n",
       "       [0.12090596],\n",
       "       [0.25802021],\n",
       "       [0.67699399],\n",
       "       [0.05660185],\n",
       "       [0.14552873],\n",
       "       [0.21593765],\n",
       "       [0.04505357],\n",
       "       [0.69048564],\n",
       "       [0.13401097],\n",
       "       [0.74868492],\n",
       "       [0.27755563],\n",
       "       [0.35126115],\n",
       "       [0.33269233],\n",
       "       [0.03263026],\n",
       "       [0.18689906],\n",
       "       [0.01413266],\n",
       "       [0.59836391],\n",
       "       [0.33130857],\n",
       "       [0.21166428],\n",
       "       [0.37800026],\n",
       "       [0.71195425],\n",
       "       [0.43754261],\n",
       "       [0.55910992],\n",
       "       [0.02729872],\n",
       "       [0.00526032],\n",
       "       [0.59909649],\n",
       "       [0.1836635 ],\n",
       "       [0.32887681],\n",
       "       [0.06582013],\n",
       "       [0.20713653],\n",
       "       [0.3351546 ],\n",
       "       [0.66541518],\n",
       "       [0.39969272],\n",
       "       [0.1880081 ],\n",
       "       [0.05322385],\n",
       "       [0.06364275],\n",
       "       [0.17391614],\n",
       "       [0.25378753],\n",
       "       [0.10702767],\n",
       "       [0.4681481 ],\n",
       "       [0.23388582],\n",
       "       [0.07981034],\n",
       "       [0.19278003],\n",
       "       [0.02934383],\n",
       "       [0.03911155],\n",
       "       [0.19798948],\n",
       "       [0.11142314],\n",
       "       [0.50388165],\n",
       "       [0.27618205],\n",
       "       [0.71238159],\n",
       "       [0.07048014],\n",
       "       [0.15633426],\n",
       "       [0.47761057],\n",
       "       [0.13073472],\n",
       "       [0.06204532],\n",
       "       [0.13204725],\n",
       "       [0.78460161],\n",
       "       [0.19186431],\n",
       "       [0.05399713],\n",
       "       [0.37013522],\n",
       "       [0.20097067],\n",
       "       [0.16901193],\n",
       "       [0.19962761],\n",
       "       [0.029761  ],\n",
       "       [0.08281188],\n",
       "       [0.30389793],\n",
       "       [0.12102805],\n",
       "       [0.38744239],\n",
       "       [0.49726809],\n",
       "       [0.3732792 ],\n",
       "       [0.19774529],\n",
       "       [0.13763316],\n",
       "       [0.19129453],\n",
       "       [0.09007662],\n",
       "       [0.38148001],\n",
       "       [0.03743272],\n",
       "       [0.06443637],\n",
       "       [0.13438743],\n",
       "       [0.68926467],\n",
       "       [0.34342664],\n",
       "       [0.13509966],\n",
       "       [0.3817649 ],\n",
       "       [0.13644272],\n",
       "       [0.38828689],\n",
       "       [0.53735641],\n",
       "       [0.48327788],\n",
       "       [0.12594243],\n",
       "       [0.70327524],\n",
       "       [0.06285929],\n",
       "       [0.71612588],\n",
       "       [0.17497431],\n",
       "       [0.12701078],\n",
       "       [1.        ],\n",
       "       [0.35780349],\n",
       "       [0.37945525],\n",
       "       [0.23689753],\n",
       "       [0.02042062],\n",
       "       [0.35244142],\n",
       "       [0.3717123 ],\n",
       "       [0.96072566],\n",
       "       [0.0735936 ],\n",
       "       [0.06593205],\n",
       "       [0.64864727],\n",
       "       [0.75861543],\n",
       "       [0.19271898],\n",
       "       [0.43664723],\n",
       "       [0.15749417],\n",
       "       [0.32208012],\n",
       "       [0.45960136],\n",
       "       [0.25802021],\n",
       "       [0.13576102],\n",
       "       [0.18653277],\n",
       "       [0.17668366],\n",
       "       [0.11370227],\n",
       "       [0.41766124],\n",
       "       [0.24654315],\n",
       "       [0.33096263],\n",
       "       [0.48159906],\n",
       "       [0.31363511],\n",
       "       [0.66975978],\n",
       "       [0.38434928],\n",
       "       [0.08590499],\n",
       "       [0.32472554],\n",
       "       [0.04380208],\n",
       "       [0.49681023],\n",
       "       [0.29444563],\n",
       "       [0.19792843],\n",
       "       [0.0667969 ],\n",
       "       [0.27517475],\n",
       "       [0.31849862],\n",
       "       [0.48478374],\n",
       "       [0.11942045],\n",
       "       [0.23531028],\n",
       "       [0.37578218],\n",
       "       [0.06781437],\n",
       "       [0.52138213],\n",
       "       [0.07078539],\n",
       "       [0.38392194],\n",
       "       [0.2657428 ],\n",
       "       [0.11409908],\n",
       "       [0.24031623],\n",
       "       [0.16583743],\n",
       "       [0.23036537],\n",
       "       [0.17776218],\n",
       "       [0.00387656],\n",
       "       [0.19187448],\n",
       "       [0.68614104],\n",
       "       [0.26339245],\n",
       "       [0.05980688],\n",
       "       [0.26929377],\n",
       "       [0.21972264],\n",
       "       [0.110833  ],\n",
       "       [0.3377288 ],\n",
       "       [0.03415647],\n",
       "       [0.09633406],\n",
       "       [0.0685266 ],\n",
       "       [0.40421029],\n",
       "       [0.08744137],\n",
       "       [0.17434348],\n",
       "       [0.07258631],\n",
       "       [0.10609159],\n",
       "       [0.16927648],\n",
       "       [0.10747535],\n",
       "       [0.24620738],\n",
       "       [0.97873488],\n",
       "       [0.19656502],\n",
       "       [0.00621674],\n",
       "       [0.36152743],\n",
       "       [0.36834447],\n",
       "       [0.05335612],\n",
       "       [0.33187835],\n",
       "       [0.91198885],\n",
       "       [0.13022598],\n",
       "       [0.07770418],\n",
       "       [0.1328714 ],\n",
       "       [0.67011589],\n",
       "       [0.03792111],\n",
       "       [0.8984158 ],\n",
       "       [0.32716747],\n",
       "       [0.19715515],\n",
       "       [0.05900308],\n",
       "       [0.32224291],\n",
       "       [0.07837571],\n",
       "       [0.70945128],\n",
       "       [0.80656879],\n",
       "       [0.0026556 ],\n",
       "       [0.12568806],\n",
       "       [0.00913688],\n",
       "       [0.27108452],\n",
       "       [0.12926956],\n",
       "       [0.01719524],\n",
       "       [0.02945576],\n",
       "       [0.44574341],\n",
       "       [0.12401941],\n",
       "       [0.31325865],\n",
       "       [0.01508908],\n",
       "       [0.07418373],\n",
       "       [0.14003439],\n",
       "       [0.6984219 ],\n",
       "       [0.79742173],\n",
       "       [0.46348809],\n",
       "       [0.02616933],\n",
       "       [0.19579174],\n",
       "       [0.73291414],\n",
       "       [0.29061994],\n",
       "       [0.0126675 ],\n",
       "       [0.25083687],\n",
       "       [0.54468219],\n",
       "       [0.25424539],\n",
       "       [0.21565276],\n",
       "       [0.01160933],\n",
       "       [0.09021906],\n",
       "       [0.50105308],\n",
       "       [0.15265102],\n",
       "       [0.42848712],\n",
       "       [0.58035469],\n",
       "       [0.31748115],\n",
       "       [0.18860841],\n",
       "       [0.15885758],\n",
       "       [0.33180713],\n",
       "       [0.33935676],\n",
       "       [0.02892667],\n",
       "       [0.52663228],\n",
       "       [0.32338248],\n",
       "       [0.1785965 ],\n",
       "       [0.60400069],\n",
       "       [0.36591272],\n",
       "       [0.19107068],\n",
       "       [0.40773074],\n",
       "       [0.14084837],\n",
       "       [0.01301344],\n",
       "       [0.70098593],\n",
       "       [0.06026475],\n",
       "       [0.18968692],\n",
       "       [0.19575105],\n",
       "       [0.11296969],\n",
       "       [0.19292248],\n",
       "       [0.60762288],\n",
       "       [0.11830123],\n",
       "       [0.54055127],\n",
       "       [0.08949666],\n",
       "       [0.40901275],\n",
       "       [0.06491458],\n",
       "       [0.02210962],\n",
       "       [0.13087716],\n",
       "       [0.17953257],\n",
       "       [0.07964755],\n",
       "       [0.18647172],\n",
       "       [0.13769421],\n",
       "       [0.50276243],\n",
       "       [0.301456  ],\n",
       "       [0.08702421],\n",
       "       [0.6359289 ],\n",
       "       [0.20795051],\n",
       "       [0.37625022],\n",
       "       [0.69867627],\n",
       "       [0.40552283],\n",
       "       [0.04202151],\n",
       "       [0.26874434],\n",
       "       [0.19004304],\n",
       "       [0.06032579],\n",
       "       [0.35553453],\n",
       "       [0.12917799],\n",
       "       [0.49739019],\n",
       "       [0.21821678],\n",
       "       [0.117589  ],\n",
       "       [0.48847715],\n",
       "       [0.45468698],\n",
       "       [0.14923232],\n",
       "       [0.11146383],\n",
       "       [0.542749  ],\n",
       "       [0.88788499],\n",
       "       [0.1448979 ],\n",
       "       [0.6952067 ],\n",
       "       [0.22316169],\n",
       "       [0.13900675],\n",
       "       [0.13372608],\n",
       "       [0.1083809 ],\n",
       "       [0.06490441],\n",
       "       [0.08930334],\n",
       "       [0.28695705],\n",
       "       [0.52370196],\n",
       "       [0.08330027],\n",
       "       [0.06685795],\n",
       "       [0.07178251],\n",
       "       [0.1042398 ],\n",
       "       [0.06209619],\n",
       "       [0.14760437],\n",
       "       [0.28899199],\n",
       "       [0.54778548],\n",
       "       [0.25185434],\n",
       "       [0.39293672],\n",
       "       [0.16446384],\n",
       "       [0.48698147],\n",
       "       [0.52296938],\n",
       "       [0.12524038],\n",
       "       [0.12725497],\n",
       "       [0.10405665],\n",
       "       [0.1362494 ],\n",
       "       [0.99206373],\n",
       "       [0.24397912],\n",
       "       [0.21070785],\n",
       "       [0.18726535],\n",
       "       [0.89723553],\n",
       "       [0.33494094],\n",
       "       [0.44452245],\n",
       "       [0.19162012],\n",
       "       [0.81593968],\n",
       "       [0.49157026],\n",
       "       [0.59164861],\n",
       "       [0.55843839],\n",
       "       [0.51655932],\n",
       "       [0.40701851],\n",
       "       [0.26101157],\n",
       "       [0.06180113],\n",
       "       [0.13696163],\n",
       "       [0.42670655],\n",
       "       [0.56876571],\n",
       "       [0.23506608],\n",
       "       [0.11895241],\n",
       "       [0.25122351],\n",
       "       [0.131101  ],\n",
       "       [0.07273893],\n",
       "       [0.3058006 ],\n",
       "       [0.17886104],\n",
       "       [0.06323576],\n",
       "       [0.1821373 ],\n",
       "       [0.20010582],\n",
       "       [0.14941546],\n",
       "       [0.20871361],\n",
       "       [0.59616617],\n",
       "       [0.06402938],\n",
       "       [0.27370959],\n",
       "       [0.16229663],\n",
       "       [0.03602861],\n",
       "       [0.21919355],\n",
       "       [0.28512561],\n",
       "       [0.03488904],\n",
       "       [0.14898813],\n",
       "       [0.41692867],\n",
       "       [0.17712117],\n",
       "       [0.13274931],\n",
       "       [0.07418373],\n",
       "       [0.0557777 ],\n",
       "       [0.77880203],\n",
       "       [0.32242606],\n",
       "       [0.35922794],\n",
       "       [0.11887102],\n",
       "       [0.37176317],\n",
       "       [0.19229165],\n",
       "       [0.02079709],\n",
       "       [0.107455  ],\n",
       "       [0.01911826],\n",
       "       [0.89594335],\n",
       "       [0.27419798],\n",
       "       [0.07199617],\n",
       "       [0.67593582],\n",
       "       [0.34422026],\n",
       "       [0.43286224],\n",
       "       [0.43688125],\n",
       "       [0.59116022],\n",
       "       [0.2549678 ],\n",
       "       [0.20844907],\n",
       "       [0.08286275],\n",
       "       [0.66334971],\n",
       "       [0.83669607],\n",
       "       [0.08259821],\n",
       "       [0.15016839],\n",
       "       [0.11351912],\n",
       "       [0.82987902],\n",
       "       [0.15234578],\n",
       "       [0.00195354],\n",
       "       [0.6427663 ],\n",
       "       [0.22868655],\n",
       "       [0.16011925],\n",
       "       [0.2939776 ],\n",
       "       [0.2335704 ],\n",
       "       [0.66596461],\n",
       "       [0.19584262],\n",
       "       [0.03665944],\n",
       "       [0.07934231],\n",
       "       [0.14965966],\n",
       "       [0.2911999 ],\n",
       "       [0.71042805],\n",
       "       [0.10293744],\n",
       "       [0.5799477 ],\n",
       "       [0.0509549 ],\n",
       "       [0.1669363 ],\n",
       "       [0.41827173],\n",
       "       [0.02386985],\n",
       "       [0.02117355],\n",
       "       [0.2413744 ],\n",
       "       [0.37456122],\n",
       "       [0.33036232],\n",
       "       [0.73016697],\n",
       "       [0.33140014],\n",
       "       [0.2345777 ],\n",
       "       [0.03754464],\n",
       "       [0.09108391],\n",
       "       [0.25872226],\n",
       "       [0.13174201],\n",
       "       [0.04607104],\n",
       "       [0.12081438],\n",
       "       [0.11172838],\n",
       "       [0.34831049],\n",
       "       [0.87586866],\n",
       "       [0.19070439],\n",
       "       [0.18757059],\n",
       "       [0.16589848],\n",
       "       [0.06278807],\n",
       "       [0.28091328],\n",
       "       [0.07231159],\n",
       "       [0.5598425 ],\n",
       "       [0.17971572],\n",
       "       [0.21372974],\n",
       "       [0.26347385],\n",
       "       [0.45239767],\n",
       "       [0.16011925],\n",
       "       [0.44604866],\n",
       "       [0.2886664 ],\n",
       "       [0.58945087],\n",
       "       [0.28573609],\n",
       "       [0.02982204],\n",
       "       [0.02507046],\n",
       "       [0.29074204],\n",
       "       [0.03336284],\n",
       "       [0.13055157],\n",
       "       [0.08956788],\n",
       "       [0.12157749],\n",
       "       [0.63635624],\n",
       "       [0.13795875],\n",
       "       [0.19446903],\n",
       "       [0.63239828],\n",
       "       [0.38166316],\n",
       "       [0.48444797],\n",
       "       [0.51228595],\n",
       "       [0.47132261],\n",
       "       [0.43413408],\n",
       "       [0.09970188],\n",
       "       [0.24275816],\n",
       "       [0.62681237],\n",
       "       [0.98168554],\n",
       "       [0.48137521],\n",
       "       [0.08830622],\n",
       "       [0.19080614],\n",
       "       [0.7265346 ],\n",
       "       [0.79905986],\n",
       "       [0.50081906],\n",
       "       [0.16465716],\n",
       "       [0.05983741],\n",
       "       [0.11679538],\n",
       "       [0.06809926],\n",
       "       [0.4818229 ],\n",
       "       [0.29705035],\n",
       "       [0.70052807],\n",
       "       [0.11647996],\n",
       "       [0.79304661],\n",
       "       [0.17116897],\n",
       "       [0.49861115],\n",
       "       [0.0260981 ],\n",
       "       [0.12817069],\n",
       "       [0.09636458],\n",
       "       [0.17169806],\n",
       "       [0.81957205],\n",
       "       [0.12432465],\n",
       "       [0.25153892],\n",
       "       [0.08464333],\n",
       "       [0.22163548],\n",
       "       [0.15927475],\n",
       "       [0.69923588],\n",
       "       [0.38548884],\n",
       "       [0.36129341],\n",
       "       [0.08049205],\n",
       "       [0.16058728],\n",
       "       [0.00969649],\n",
       "       [0.53009167],\n",
       "       [0.04431082],\n",
       "       [0.82346896],\n",
       "       [0.56798226],\n",
       "       [0.58751768],\n",
       "       [0.73492873],\n",
       "       [0.85006563],\n",
       "       [0.38572286],\n",
       "       [0.07596431],\n",
       "       [0.13541508],\n",
       "       [0.06634922],\n",
       "       [0.24743852],\n",
       "       [0.02874353],\n",
       "       [0.65334798],\n",
       "       [0.04322212],\n",
       "       [0.10219468],\n",
       "       [0.56819592],\n",
       "       [0.08049205],\n",
       "       [0.12843523],\n",
       "       [0.1668956 ],\n",
       "       [0.36245332],\n",
       "       [0.24871036],\n",
       "       [0.78156955],\n",
       "       [0.28056734],\n",
       "       [0.57888953],\n",
       "       [0.18144542],\n",
       "       [0.21508297],\n",
       "       [0.77513914],\n",
       "       [0.72355341],\n",
       "       [0.50962018],\n",
       "       [0.0440361 ],\n",
       "       [0.21553066],\n",
       "       [0.76667379],\n",
       "       [0.22181863],\n",
       "       [0.07322731],\n",
       "       [0.37889564],\n",
       "       [0.05943042],\n",
       "       [0.37848865],\n",
       "       [0.60124335],\n",
       "       [0.47389681],\n",
       "       [0.04298811],\n",
       "       [0.12324614],\n",
       "       [0.13647325],\n",
       "       [0.45480907],\n",
       "       [0.08466368],\n",
       "       [0.11810791],\n",
       "       [0.7942981 ],\n",
       "       [0.16709909],\n",
       "       [0.37531414],\n",
       "       [0.02080726],\n",
       "       [0.34788315],\n",
       "       [0.0413398 ],\n",
       "       [0.5208327 ],\n",
       "       [0.57481965],\n",
       "       [0.0455623 ],\n",
       "       [0.17423156],\n",
       "       [0.40922642],\n",
       "       [0.03687311],\n",
       "       [0.26864259],\n",
       "       [0.98036283],\n",
       "       [0.64917636],\n",
       "       [0.08450088],\n",
       "       [0.044962  ],\n",
       "       [0.05158573],\n",
       "       [0.23883072],\n",
       "       [0.08405319],\n",
       "       [0.43067468],\n",
       "       [0.13012423],\n",
       "       [0.23547307],\n",
       "       [0.46962343],\n",
       "       [0.43799029],\n",
       "       [0.68184732],\n",
       "       [0.30494592],\n",
       "       [0.17926803],\n",
       "       [0.19408239],\n",
       "       [0.00771242],\n",
       "       [0.62231515],\n",
       "       [0.07715475],\n",
       "       [0.39928574],\n",
       "       [0.32017745],\n",
       "       [0.0864646 ],\n",
       "       [0.38540745],\n",
       "       [0.42276894],\n",
       "       [0.31328918],\n",
       "       [0.26542739],\n",
       "       [0.38101198],\n",
       "       [0.22957175],\n",
       "       [0.20490828],\n",
       "       [0.08667827],\n",
       "       [0.        ],\n",
       "       [0.19938341],\n",
       "       [0.4175595 ],\n",
       "       [0.07923039],\n",
       "       [0.64998016],\n",
       "       [0.11565581],\n",
       "       [0.65049907],\n",
       "       [0.74481853],\n",
       "       [0.07560819],\n",
       "       [0.24430471],\n",
       "       [0.08610848],\n",
       "       [0.08254734],\n",
       "       [0.27974319],\n",
       "       [0.04294741],\n",
       "       [0.18571879],\n",
       "       [0.26211044],\n",
       "       [0.5581128 ],\n",
       "       [0.16803516],\n",
       "       [0.1481945 ],\n",
       "       [0.05100577],\n",
       "       [0.06997141],\n",
       "       [0.01991189],\n",
       "       [0.01134479],\n",
       "       [0.27590733],\n",
       "       [0.06419218],\n",
       "       [0.01242331],\n",
       "       [0.65703123],\n",
       "       [0.59463997],\n",
       "       [0.06504685],\n",
       "       [0.19005321],\n",
       "       [0.36848692],\n",
       "       [0.52677472],\n",
       "       [0.47778354],\n",
       "       [0.32398278],\n",
       "       [0.16156405],\n",
       "       [0.10487063],\n",
       "       [0.3412289 ],\n",
       "       [0.42581118],\n",
       "       [0.07742946],\n",
       "       [0.01561816],\n",
       "       [0.09294588],\n",
       "       [0.35338767],\n",
       "       [0.23259363],\n",
       "       [0.09285431],\n",
       "       [0.72654477],\n",
       "       [0.11748726],\n",
       "       [0.06385641],\n",
       "       [0.25252587],\n",
       "       [0.16642756],\n",
       "       [0.04713938],\n",
       "       [0.20769614],\n",
       "       [0.53334758],\n",
       "       [0.08443983],\n",
       "       [0.52085305],\n",
       "       [0.04291688],\n",
       "       [0.03009676],\n",
       "       [0.7223935 ],\n",
       "       [0.08814342],\n",
       "       [0.3275541 ],\n",
       "       [0.07251508],\n",
       "       [0.31514097],\n",
       "       [0.19978023],\n",
       "       [0.15924422],\n",
       "       [0.3142863 ],\n",
       "       [0.07908794],\n",
       "       [0.73718751],\n",
       "       [0.088876  ],\n",
       "       [0.77229022],\n",
       "       [0.41526001],\n",
       "       [0.46102581],\n",
       "       [0.46018131],\n",
       "       [0.13403132],\n",
       "       [0.29764049],\n",
       "       [0.7967909 ],\n",
       "       [0.42226021],\n",
       "       [0.27822716],\n",
       "       [0.59932033],\n",
       "       [0.31052166],\n",
       "       [0.40026251],\n",
       "       [0.17674471],\n",
       "       [0.13072454],\n",
       "       [0.07177233],\n",
       "       [0.10833003],\n",
       "       [0.30864951],\n",
       "       [0.85053366],\n",
       "       [0.41129188],\n",
       "       [0.15151145],\n",
       "       [0.48831436],\n",
       "       [0.07863008],\n",
       "       [0.21809469],\n",
       "       [0.74762675],\n",
       "       [0.40754759],\n",
       "       [0.29367235],\n",
       "       [0.20631238],\n",
       "       [0.03325092],\n",
       "       [0.37494785],\n",
       "       [0.20017704],\n",
       "       [0.06980861],\n",
       "       [0.31738958],\n",
       "       [0.08958823],\n",
       "       [0.01555712],\n",
       "       [0.5817995 ],\n",
       "       [0.20466408],\n",
       "       [0.04573527],\n",
       "       [0.0795051 ],\n",
       "       [0.35246177],\n",
       "       [0.79777785],\n",
       "       [0.04115666],\n",
       "       [0.59964592],\n",
       "       [0.15926457],\n",
       "       [0.74705697],\n",
       "       [0.44604866],\n",
       "       [0.3751717 ],\n",
       "       [0.25130491],\n",
       "       [0.55152977],\n",
       "       [0.44486839],\n",
       "       [0.27074876],\n",
       "       [0.33939745],\n",
       "       [0.26038074],\n",
       "       [0.90372699],\n",
       "       [0.45443261],\n",
       "       [0.24803883],\n",
       "       [0.06144501],\n",
       "       [0.65829289],\n",
       "       [0.16109602],\n",
       "       [0.04437186],\n",
       "       [0.17183033],\n",
       "       [0.20478618],\n",
       "       [0.11147401],\n",
       "       [0.05650011],\n",
       "       [0.24544428],\n",
       "       [0.0752826 ],\n",
       "       [0.392021  ],\n",
       "       [0.2928482 ],\n",
       "       [0.45200085],\n",
       "       [0.27059614],\n",
       "       [0.15041258],\n",
       "       [0.89310461],\n",
       "       [0.08323922],\n",
       "       [0.03216223],\n",
       "       [0.00542311],\n",
       "       [0.28518665],\n",
       "       [0.05747688],\n",
       "       [0.06752948],\n",
       "       [0.29458808],\n",
       "       [0.23692805],\n",
       "       [0.03788041],\n",
       "       [0.16511502],\n",
       "       [0.85073716],\n",
       "       [0.25253604],\n",
       "       [0.60986132],\n",
       "       [0.23408931],\n",
       "       [0.16492171],\n",
       "       [0.09123653],\n",
       "       [0.29350956],\n",
       "       [0.15204054],\n",
       "       [0.01554694],\n",
       "       [0.05860627],\n",
       "       [0.23217647],\n",
       "       [0.22631584],\n",
       "       [0.88229908],\n",
       "       [0.70159641],\n",
       "       [0.67602739],\n",
       "       [0.31376739],\n",
       "       [0.01968804],\n",
       "       [0.49431743],\n",
       "       [0.82743709],\n",
       "       [0.60314602],\n",
       "       [0.27739283],\n",
       "       [0.76903432],\n",
       "       [0.10773989],\n",
       "       [0.16760783],\n",
       "       [0.05166712],\n",
       "       [0.03070724],\n",
       "       [0.98046458],\n",
       "       [0.02204857],\n",
       "       [0.0566222 ],\n",
       "       [0.6188354 ]])"
      ]
     },
     "execution_count": 94,
     "metadata": {},
     "output_type": "execute_result"
    }
   ],
   "source": [
    "from sklearn.preprocessing import MinMaxScaler\n",
    "\n",
    "mmc = MinMaxScaler()\n",
    "\n",
    "mmc.fit_transform(df[['sales']])"
   ]
  },
  {
   "cell_type": "code",
   "execution_count": 95,
   "id": "0a0c84f6-d79c-4510-8442-8bcd50d083b7",
   "metadata": {},
   "outputs": [
    {
     "data": {
      "text/plain": [
       "array([[ 9.19606849e-01],\n",
       "       [-9.87729558e-01],\n",
       "       [ 7.14460541e-02],\n",
       "       [ 6.75779846e-01],\n",
       "       [ 1.26712548e+00],\n",
       "       [ 1.23961110e+00],\n",
       "       [ 4.50537870e-01],\n",
       "       [ 1.82864963e+00],\n",
       "       [-1.00430655e+00],\n",
       "       [-6.11243919e-01],\n",
       "       [-1.06668388e+00],\n",
       "       [-8.78184713e-01],\n",
       "       [-3.11191870e-01],\n",
       "       [ 5.31115709e-01],\n",
       "       [ 1.73551087e+00],\n",
       "       [ 1.08832471e+00],\n",
       "       [ 7.47342879e-01],\n",
       "       [ 5.47180008e-01],\n",
       "       [-6.13422853e-01],\n",
       "       [-9.69785395e-01],\n",
       "       [ 5.23852595e-01],\n",
       "       [-1.86479934e-01],\n",
       "       [-1.03045376e+00],\n",
       "       [-5.75868282e-01],\n",
       "       [-1.78148715e-01],\n",
       "       [ 4.83350055e-01],\n",
       "       [-1.17093092e+00],\n",
       "       [-5.65016335e-01],\n",
       "       [ 5.73412666e-01],\n",
       "       [-3.57077660e-01],\n",
       "       [ 6.96671980e-01],\n",
       "       [ 1.68778794e+00],\n",
       "       [ 1.54940426e+00],\n",
       "       [-4.88881813e-01],\n",
       "       [ 3.84913501e-01],\n",
       "       [-1.02310520e+00],\n",
       "       [ 2.35522273e-02],\n",
       "       [ 1.02680186e+00],\n",
       "       [ 5.62987961e-01],\n",
       "       [-2.84660143e-01],\n",
       "       [-9.43638185e-01],\n",
       "       [-8.34691478e-01],\n",
       "       [ 4.57715536e-01],\n",
       "       [ 2.05936030e+00],\n",
       "       [-1.18280825e+00],\n",
       "       [ 2.91603851e-01],\n",
       "       [ 8.65688910e-01],\n",
       "       [-5.44722341e-01],\n",
       "       [-8.28880987e-01],\n",
       "       [ 2.21615811e+00],\n",
       "       [ 1.41935180e+00],\n",
       "       [-3.61606425e-01],\n",
       "       [-1.00874986e+00],\n",
       "       [-1.24821900e+00],\n",
       "       [-1.17605783e+00],\n",
       "       [ 1.62459885e+00],\n",
       "       [-9.35264242e-01],\n",
       "       [ 1.74832813e+00],\n",
       "       [ 1.77695335e+00],\n",
       "       [-5.29469802e-01],\n",
       "       [-9.97043434e-01],\n",
       "       [ 1.14469322e-01],\n",
       "       [ 8.03397028e-01],\n",
       "       [-6.38672854e-01],\n",
       "       [-1.97701103e-02],\n",
       "       [-6.36109402e-01],\n",
       "       [-1.02814665e+00],\n",
       "       [ 1.18804299e+00],\n",
       "       [ 2.05124270e+00],\n",
       "       [-1.23582898e+00],\n",
       "       [ 2.50881887e+00],\n",
       "       [ 1.33988479e+00],\n",
       "       [-6.92249000e-01],\n",
       "       [ 6.31773922e-01],\n",
       "       [ 1.55705190e+00],\n",
       "       [ 4.65320443e-01],\n",
       "       [ 5.71532801e-01],\n",
       "       [-5.44722341e-01],\n",
       "       [ 2.03158957e+00],\n",
       "       [-8.78782852e-01],\n",
       "       [ 1.22854553e+00],\n",
       "       [-7.49697752e-02],\n",
       "       [-6.56189776e-01],\n",
       "       [ 5.91842091e-02],\n",
       "       [-2.69322156e-01],\n",
       "       [ 1.16992793e+00],\n",
       "       [ 3.20485409e-01],\n",
       "       [ 1.62662219e-01],\n",
       "       [-1.13269277e+00],\n",
       "       [ 6.59459202e-01],\n",
       "       [-5.04433422e-01],\n",
       "       [ 6.02465121e-01],\n",
       "       [-6.56787915e-01],\n",
       "       [ 1.16061405e+00],\n",
       "       [-9.30692753e-01],\n",
       "       [-8.99034122e-01],\n",
       "       [ 2.44003291e+00],\n",
       "       [-9.94992672e-01],\n",
       "       [-6.38031991e-01],\n",
       "       [ 8.05832307e-01],\n",
       "       [-1.10603286e+00],\n",
       "       [ 1.70624480e+00],\n",
       "       [-4.27059898e-01],\n",
       "       [ 1.79324656e-01],\n",
       "       [-4.06466834e-01],\n",
       "       [ 2.47421227e+00],\n",
       "       [-6.12269299e-01],\n",
       "       [ 2.78530246e-01],\n",
       "       [-7.55098945e-03],\n",
       "       [ 2.18796014e+00],\n",
       "       [-1.17323803e+00],\n",
       "       [-5.53593679e-02],\n",
       "       [ 8.64279011e-01],\n",
       "       [ 9.18752365e-01],\n",
       "       [ 1.79237678e+00],\n",
       "       [-9.67820082e-01],\n",
       "       [-8.45457976e-01],\n",
       "       [-1.09471095e+00],\n",
       "       [-8.45885218e-01],\n",
       "       [-8.57506201e-01],\n",
       "       [ 2.08875455e+00],\n",
       "       [ 3.94141928e-01],\n",
       "       [ 2.52949738e+00],\n",
       "       [ 8.70260399e-01],\n",
       "       [ 6.15965968e-01],\n",
       "       [ 1.48783869e+00],\n",
       "       [-6.25214732e-01],\n",
       "       [-9.40674920e-02],\n",
       "       [ 1.02851083e+00],\n",
       "       [ 2.15728416e+00],\n",
       "       [-1.29229508e-01],\n",
       "       [ 1.04756582e+00],\n",
       "       [-7.18738003e-01],\n",
       "       [ 9.27596274e-01],\n",
       "       [ 7.69943980e-01],\n",
       "       [-1.57769272e-01],\n",
       "       [-7.52105602e-01],\n",
       "       [-4.31802284e-01],\n",
       "       [ 9.03670723e-01],\n",
       "       [ 1.16386109e+00],\n",
       "       [ 2.52249062e+00],\n",
       "       [ 2.55239755e+00],\n",
       "       [ 1.61673760e+00],\n",
       "       [-1.18421815e+00],\n",
       "       [ 6.84068341e-01],\n",
       "       [-1.28289575e-01],\n",
       "       [-2.64350853e-02],\n",
       "       [-1.83831034e-01],\n",
       "       [ 1.14198630e+00],\n",
       "       [-2.04680443e-01],\n",
       "       [ 2.50246826e-01],\n",
       "       [-2.80558620e-01],\n",
       "       [ 1.88658364e+00],\n",
       "       [-8.91685560e-01],\n",
       "       [ 1.45336026e+00],\n",
       "       [ 6.57365717e-01],\n",
       "       [-1.00580189e+00],\n",
       "       [-2.40056079e-01],\n",
       "       [ 2.42413951e+00],\n",
       "       [ 1.07986532e+00],\n",
       "       [ 1.61722286e-01],\n",
       "       [-1.04203202e+00],\n",
       "       [ 5.52963070e-02],\n",
       "       [-6.61316680e-01],\n",
       "       [ 3.90553095e-01],\n",
       "       [ 1.40872877e-01],\n",
       "       [ 2.76943648e+00],\n",
       "       [ 2.91469876e+00],\n",
       "       [ 3.95711529e-04],\n",
       "       [ 7.64987973e-01],\n",
       "       [ 1.81418142e-01],\n",
       "       [ 3.95893620e-01],\n",
       "       [-6.01502801e-01],\n",
       "       [ 4.16672876e-02],\n",
       "       [-6.37732922e-01],\n",
       "       [-1.29342385e-02],\n",
       "       [-5.56386047e-01],\n",
       "       [-6.40937237e-01],\n",
       "       [ 5.79735847e-01],\n",
       "       [-2.01604300e-01],\n",
       "       [ 6.07677473e-01],\n",
       "       [ 7.37505120e-04],\n",
       "       [-6.51917356e-01],\n",
       "       [-1.41448629e-01],\n",
       "       [-9.45090808e-01],\n",
       "       [-1.08240638e+00],\n",
       "       [ 1.91546520e+00],\n",
       "       [-5.19985030e-01],\n",
       "       [-9.97684297e-01],\n",
       "       [-1.21111910e-01],\n",
       "       [-3.26700755e-01],\n",
       "       [-6.85925818e-01],\n",
       "       [ 2.06192375e+00],\n",
       "       [-8.77501126e-01],\n",
       "       [-6.15388166e-01],\n",
       "       [-9.96744364e-01],\n",
       "       [-9.40732940e-01],\n",
       "       [-1.20609294e+00],\n",
       "       [-6.04920737e-01],\n",
       "       [ 2.10897839e-01],\n",
       "       [-8.23241393e-01],\n",
       "       [-3.31656762e-01],\n",
       "       [ 5.22442697e-01],\n",
       "       [-2.07585688e-01],\n",
       "       [-9.34537931e-01],\n",
       "       [-4.28597969e-01],\n",
       "       [ 1.24866863e+00],\n",
       "       [-9.52210454e-02],\n",
       "       [-9.24882262e-01],\n",
       "       [ 2.52065348e+00],\n",
       "       [-3.05552276e-01],\n",
       "       [ 2.27187047e+00],\n",
       "       [ 6.58861064e-01],\n",
       "       [-7.19165245e-01],\n",
       "       [-4.28597969e-01],\n",
       "       [-1.23604260e+00],\n",
       "       [-7.85003235e-01],\n",
       "       [-1.01116985e-01],\n",
       "       [ 1.92845336e+00],\n",
       "       [-5.79200769e-01],\n",
       "       [-1.51616988e-01],\n",
       "       [ 5.42480346e-01],\n",
       "       [-1.06185604e+00],\n",
       "       [-1.26056629e+00],\n",
       "       [-9.44578118e-01],\n",
       "       [-5.69374204e-01],\n",
       "       [ 1.35325747e+00],\n",
       "       [-6.80798914e-01],\n",
       "       [ 1.01090846e+00],\n",
       "       [ 8.53512513e-01],\n",
       "       [-6.18848826e-01],\n",
       "       [-1.17840766e+00],\n",
       "       [ 1.91926765e+00],\n",
       "       [-5.25822950e-02],\n",
       "       [ 9.04952449e-01],\n",
       "       [-5.18276062e-01],\n",
       "       [-9.42228287e-01],\n",
       "       [-3.69510402e-01],\n",
       "       [-1.03173548e+00],\n",
       "       [-9.30949098e-01],\n",
       "       [-3.55155071e-01],\n",
       "       [-8.03417365e-01],\n",
       "       [-5.17763372e-01],\n",
       "       [-2.43474015e-01],\n",
       "       [ 1.89427400e+00],\n",
       "       [ 3.12453260e-01],\n",
       "       [-2.70817503e-01],\n",
       "       [-9.30906374e-01],\n",
       "       [ 1.40674551e-02],\n",
       "       [ 8.70858538e-01],\n",
       "       [ 4.75787872e-01],\n",
       "       [ 1.89322119e-01],\n",
       "       [-1.19118219e+00],\n",
       "       [-9.08262549e-01],\n",
       "       [ 6.99021810e-01],\n",
       "       [-7.56677091e-01],\n",
       "       [-1.03066738e+00],\n",
       "       [-6.49952043e-01],\n",
       "       [-7.63000273e-01],\n",
       "       [-1.87248970e-01],\n",
       "       [ 1.57204809e+00],\n",
       "       [-1.03301721e+00],\n",
       "       [-6.59607712e-01],\n",
       "       [-3.63956256e-01],\n",
       "       [-1.08150917e+00],\n",
       "       [ 1.62870038e+00],\n",
       "       [-7.07971505e-01],\n",
       "       [ 1.87308279e+00],\n",
       "       [-1.05218508e-01],\n",
       "       [ 2.04275588e-01],\n",
       "       [ 1.26303925e-01],\n",
       "       [-1.13367542e+00],\n",
       "       [-4.85891119e-01],\n",
       "       [-1.21134802e+00],\n",
       "       [ 1.24187548e+00],\n",
       "       [ 1.20493434e-01],\n",
       "       [-3.81900419e-01],\n",
       "       [ 3.16554783e-01],\n",
       "       [ 1.71884844e+00],\n",
       "       [ 5.66576794e-01],\n",
       "       [ 1.07704552e+00],\n",
       "       [-1.15606290e+00],\n",
       "       [-1.24860352e+00],\n",
       "       [ 1.24495162e+00],\n",
       "       [-4.99477415e-01],\n",
       "       [ 1.10282351e-01],\n",
       "       [-9.94309085e-01],\n",
       "       [-4.00912688e-01],\n",
       "       [ 1.36643182e-01],\n",
       "       [ 1.52342795e+00],\n",
       "       [ 4.07642775e-01],\n",
       "       [-4.81234182e-01],\n",
       "       [-1.04720164e+00],\n",
       "       [-1.00345206e+00],\n",
       "       [-5.40407197e-01],\n",
       "       [-2.05022236e-01],\n",
       "       [-8.21276080e-01],\n",
       "       [ 6.95091184e-01],\n",
       "       [-2.88590769e-01],\n",
       "       [-9.35563312e-01],\n",
       "       [-4.61196532e-01],\n",
       "       [-1.14747534e+00],\n",
       "       [-1.10646011e+00],\n",
       "       [-4.39321743e-01],\n",
       "       [-8.02819226e-01],\n",
       "       [ 8.45138570e-01],\n",
       "       [-1.10986275e-01],\n",
       "       [ 1.72064285e+00],\n",
       "       [-9.74741402e-01],\n",
       "       [-6.14234613e-01],\n",
       "       [ 7.34824689e-01],\n",
       "       [-7.21728697e-01],\n",
       "       [-1.01015976e+00],\n",
       "       [-7.16217275e-01],\n",
       "       [ 2.02389922e+00],\n",
       "       [-4.65041710e-01],\n",
       "       [-1.04395460e+00],\n",
       "       [ 2.83528977e-01],\n",
       "       [-4.26803552e-01],\n",
       "       [-5.61000261e-01],\n",
       "       [-4.32443147e-01],\n",
       "       [-1.14572365e+00],\n",
       "       [-9.22959673e-01],\n",
       "       [ 5.39444279e-03],\n",
       "       [-7.62487582e-01],\n",
       "       [ 3.56202839e-01],\n",
       "       [ 8.17367841e-01],\n",
       "       [ 2.96730754e-01],\n",
       "       [-4.40347123e-01],\n",
       "       [-6.92761690e-01],\n",
       "       [-4.67434265e-01],\n",
       "       [-8.92454595e-01],\n",
       "       [ 3.31166459e-01],\n",
       "       [-1.11350960e+00],\n",
       "       [-1.00011958e+00],\n",
       "       [-7.06390709e-01],\n",
       "       [ 1.62357347e+00],\n",
       "       [ 1.71377955e-01],\n",
       "       [-7.03400015e-01],\n",
       "       [ 3.32362736e-01],\n",
       "       [-6.97760421e-01],\n",
       "       [ 3.59748948e-01],\n",
       "       [ 9.85701184e-01],\n",
       "       [ 7.58622068e-01],\n",
       "       [-7.41851794e-01],\n",
       "       [ 1.68240469e+00],\n",
       "       [-1.00674183e+00],\n",
       "       [ 1.73636536e+00],\n",
       "       [-5.35963880e-01],\n",
       "       [-7.37365753e-01],\n",
       "       [ 2.92837050e+00],\n",
       "       [ 2.31747248e-01],\n",
       "       [ 3.22664343e-01],\n",
       "       [-2.75944406e-01],\n",
       "       [-1.18494446e+00],\n",
       "       [ 2.09231595e-01],\n",
       "       [ 2.90151228e-01],\n",
       "       [ 2.76345510e+00],\n",
       "       [-9.61667797e-01],\n",
       "       [-9.93839119e-01],\n",
       "       [ 1.45301847e+00],\n",
       "       [ 1.91478161e+00],\n",
       "       [-4.61452878e-01],\n",
       "       [ 5.62817065e-01],\n",
       "       [-6.09364054e-01],\n",
       "       [ 8.17425861e-02],\n",
       "       [ 6.59202857e-01],\n",
       "       [-1.87248970e-01],\n",
       "       [-7.00622943e-01],\n",
       "       [-4.87429190e-01],\n",
       "       [-5.28786215e-01],\n",
       "       [-7.93249006e-01],\n",
       "       [ 4.83093710e-01],\n",
       "       [-2.35441866e-01],\n",
       "       [ 1.19040812e-01],\n",
       "       [ 7.51572575e-01],\n",
       "       [ 4.62815010e-02],\n",
       "       [ 1.54167118e+00],\n",
       "       [ 3.43214683e-01],\n",
       "       [-9.09971517e-01],\n",
       "       [ 9.28508777e-02],\n",
       "       [-1.08676425e+00],\n",
       "       [ 8.15445252e-01],\n",
       "       [-3.42963379e-02],\n",
       "       [-4.39578088e-01],\n",
       "       [-9.90207562e-01],\n",
       "       [-1.15215970e-01],\n",
       "       [ 6.67036681e-02],\n",
       "       [ 7.64945249e-01],\n",
       "       [-7.69238006e-01],\n",
       "       [-2.82609381e-01],\n",
       "       [ 3.07240907e-01],\n",
       "       [-9.85935142e-01],\n",
       "       [ 9.18624192e-01],\n",
       "       [-9.73459676e-01],\n",
       "       [ 3.41420266e-01],\n",
       "       [-1.54821303e-01],\n",
       "       [-7.91582762e-01],\n",
       "       [-2.61589076e-01],\n",
       "       [-5.74330211e-01],\n",
       "       [-3.03373342e-01],\n",
       "       [-5.24257450e-01],\n",
       "       [-1.25441401e+00],\n",
       "       [-4.64998986e-01],\n",
       "       [ 1.61045714e+00],\n",
       "       [-1.64690593e-01],\n",
       "       [-1.01955909e+00],\n",
       "       [-1.39910557e-01],\n",
       "       [-3.48062854e-01],\n",
       "       [-8.05297230e-01],\n",
       "       [ 1.47452404e-01],\n",
       "       [-1.12726679e+00],\n",
       "       [-8.66179213e-01],\n",
       "       [-9.82944448e-01],\n",
       "       [ 4.26612319e-01],\n",
       "       [-9.03520163e-01],\n",
       "       [-5.38612781e-01],\n",
       "       [-9.65897493e-01],\n",
       "       [-8.25206706e-01],\n",
       "       [-5.59889432e-01],\n",
       "       [-8.19396215e-01],\n",
       "       [-2.36851764e-01],\n",
       "       [ 2.83907693e+00],\n",
       "       [-4.45303130e-01],\n",
       "       [-1.24458744e+00],\n",
       "       [ 2.47384305e-01],\n",
       "       [ 2.76009518e-01],\n",
       "       [-1.04664623e+00],\n",
       "       [ 1.22885990e-01],\n",
       "       [ 2.55880618e+00],\n",
       "       [-7.23864907e-01],\n",
       "       [-9.44407221e-01],\n",
       "       [-7.12756615e-01],\n",
       "       [ 1.54316653e+00],\n",
       "       [-1.11145884e+00],\n",
       "       [ 2.50181210e+00],\n",
       "       [ 1.03104685e-01],\n",
       "       [-4.42825127e-01],\n",
       "       [-1.02293430e+00],\n",
       "       [ 8.24261732e-02],\n",
       "       [-9.41587424e-01],\n",
       "       [ 1.70833828e+00],\n",
       "       [ 2.11614076e+00],\n",
       "       [-1.25954091e+00],\n",
       "       [-7.42919899e-01],\n",
       "       [-1.23232560e+00],\n",
       "       [-1.32391098e-01],\n",
       "       [-7.27880981e-01],\n",
       "       [-1.19848803e+00],\n",
       "       [-1.14700537e+00],\n",
       "       [ 6.01012498e-01],\n",
       "       [-7.49926668e-01],\n",
       "       [ 4.47007057e-02],\n",
       "       [-1.20733194e+00],\n",
       "       [-9.59189794e-01],\n",
       "       [-6.82678779e-01],\n",
       "       [ 1.66202525e+00],\n",
       "       [ 2.07773171e+00],\n",
       "       [ 6.75523501e-01],\n",
       "       [-1.16080529e+00],\n",
       "       [-4.48550170e-01],\n",
       "       [ 1.80686029e+00],\n",
       "       [-5.03606367e-02],\n",
       "       [-1.21750030e+00],\n",
       "       [-2.17412254e-01],\n",
       "       [ 1.01646261e+00],\n",
       "       [-2.03099647e-01],\n",
       "       [-3.65152533e-01],\n",
       "       [-1.22194362e+00],\n",
       "       [-8.91856456e-01],\n",
       "       [ 8.33261243e-01],\n",
       "       [-6.29700772e-01],\n",
       "       [ 5.28552257e-01],\n",
       "       [ 1.16625365e+00],\n",
       "       [ 6.24312482e-02],\n",
       "       [-4.78713454e-01],\n",
       "       [-6.03639011e-01],\n",
       "       [ 1.22586920e-01],\n",
       "       [ 1.54288276e-01],\n",
       "       [-1.14922703e+00],\n",
       "       [ 9.40669879e-01],\n",
       "       [ 8.72112835e-02],\n",
       "       [-5.20754066e-01],\n",
       "       [ 1.26554469e+00],\n",
       "       [ 2.65798435e-01],\n",
       "       [-4.68374198e-01],\n",
       "       [ 4.41394892e-01],\n",
       "       [-6.79260843e-01],\n",
       "       [-1.21604768e+00],\n",
       "       [ 1.67279175e+00],\n",
       "       [-1.01763650e+00],\n",
       "       [-4.74184689e-01],\n",
       "       [-4.48721066e-01],\n",
       "       [-7.96325148e-01],\n",
       "       [-4.60598394e-01],\n",
       "       [ 1.28075450e+00],\n",
       "       [-7.73937668e-01],\n",
       "       [ 9.99116583e-01],\n",
       "       [-8.94889874e-01],\n",
       "       [ 4.46778141e-01],\n",
       "       [-9.98111539e-01],\n",
       "       [-1.17785224e+00],\n",
       "       [-7.21130558e-01],\n",
       "       [-5.16823439e-01],\n",
       "       [-9.36246899e-01],\n",
       "       [-4.87685536e-01],\n",
       "       [-6.92505345e-01],\n",
       "       [ 8.40438908e-01],\n",
       "       [-4.85936492e-03],\n",
       "       [-9.05271855e-01],\n",
       "       [ 1.39961322e+00],\n",
       "       [-3.97494752e-01],\n",
       "       [ 3.09206221e-01],\n",
       "       [ 1.66309336e+00],\n",
       "       [ 4.32123740e-01],\n",
       "       [-1.09424099e+00],\n",
       "       [-1.42217664e-01],\n",
       "       [-4.72689342e-01],\n",
       "       [-1.01738015e+00],\n",
       "       [ 2.22219752e-01],\n",
       "       [-7.28265499e-01],\n",
       "       [ 8.17880532e-01],\n",
       "       [-3.54386035e-01],\n",
       "       [-7.76928362e-01],\n",
       "       [ 7.80454133e-01],\n",
       "       [ 6.38567069e-01],\n",
       "       [-6.44056103e-01],\n",
       "       [-8.02648329e-01],\n",
       "       [ 1.00834501e+00],\n",
       "       [ 2.45759256e+00],\n",
       "       [-6.62256612e-01],\n",
       "       [ 1.64852440e+00],\n",
       "       [-3.33622075e-01],\n",
       "       [-6.86993923e-01],\n",
       "       [-7.09167782e-01],\n",
       "       [-8.15593762e-01],\n",
       "       [-9.98154263e-01],\n",
       "       [-8.95701634e-01],\n",
       "       [-6.57413482e-02],\n",
       "       [ 9.28365310e-01],\n",
       "       [-9.20908912e-01],\n",
       "       [-9.89951217e-01],\n",
       "       [-9.69272705e-01],\n",
       "       [-8.32982510e-01],\n",
       "       [-1.00994614e+00],\n",
       "       [-6.50891975e-01],\n",
       "       [-5.71965085e-02],\n",
       "       [ 1.02949349e+00],\n",
       "       [-2.13139834e-01],\n",
       "       [ 3.79273907e-01],\n",
       "       [-5.80097978e-01],\n",
       "       [ 7.74173676e-01],\n",
       "       [ 9.25289167e-01],\n",
       "       [-7.44799764e-01],\n",
       "       [-7.36340373e-01],\n",
       "       [-8.33751546e-01],\n",
       "       [-6.98572181e-01],\n",
       "       [ 2.89504563e+00],\n",
       "       [-2.46208364e-01],\n",
       "       [-3.85916494e-01],\n",
       "       [-4.84353048e-01],\n",
       "       [ 2.49685610e+00],\n",
       "       [ 1.35745973e-01],\n",
       "       [ 5.95885595e-01],\n",
       "       [-4.66067091e-01],\n",
       "       [ 2.15548975e+00],\n",
       "       [ 7.93442290e-01],\n",
       "       [ 1.21367751e+00],\n",
       "       [ 1.07422572e+00],\n",
       "       [ 8.98372922e-01],\n",
       "       [ 4.38404198e-01],\n",
       "       [-1.74688055e-01],\n",
       "       [-1.01118514e+00],\n",
       "       [-6.95581487e-01],\n",
       "       [ 5.21075522e-01],\n",
       "       [ 1.11759079e+00],\n",
       "       [-2.83634762e-01],\n",
       "       [-7.71203319e-01],\n",
       "       [-2.15788734e-01],\n",
       "       [-7.20190626e-01],\n",
       "       [-9.65256630e-01],\n",
       "       [ 1.33838680e-02],\n",
       "       [-5.19643236e-01],\n",
       "       [-1.00516103e+00],\n",
       "       [-5.05886044e-01],\n",
       "       [-4.30435109e-01],\n",
       "       [-6.43287068e-01],\n",
       "       [-3.94290437e-01],\n",
       "       [ 1.23264705e+00],\n",
       "       [-1.00182854e+00],\n",
       "       [-1.21368255e-01],\n",
       "       [-5.89198232e-01],\n",
       "       [-1.11940554e+00],\n",
       "       [-3.50284512e-01],\n",
       "       [-7.34317040e-02],\n",
       "       [-1.12419065e+00],\n",
       "       [-6.45081484e-01],\n",
       "       [ 4.80017567e-01],\n",
       "       [-5.26949074e-01],\n",
       "       [-7.13269305e-01],\n",
       "       [-9.59189794e-01],\n",
       "       [-1.03647787e+00],\n",
       "       [ 1.99954642e+00],\n",
       "       [ 8.31952088e-02],\n",
       "       [ 2.37728636e-01],\n",
       "       [-7.71545113e-01],\n",
       "       [ 2.90364849e-01],\n",
       "       [-4.63247294e-01],\n",
       "       [-1.18336366e+00],\n",
       "       [-8.19481664e-01],\n",
       "       [-1.19041316e+00],\n",
       "       [ 2.49143012e+00],\n",
       "       [-1.19317494e-01],\n",
       "       [-9.68375496e-01],\n",
       "       [ 1.56760477e+00],\n",
       "       [ 1.74710443e-01],\n",
       "       [ 5.46923663e-01],\n",
       "       [ 5.63799721e-01],\n",
       "       [ 1.21162675e+00],\n",
       "       [-2.00066229e-01],\n",
       "       [-3.95401266e-01],\n",
       "       [-9.22746052e-01],\n",
       "       [ 1.51475494e+00],\n",
       "       [ 2.24264711e+00],\n",
       "       [-9.23856881e-01],\n",
       "       [-6.40125477e-01],\n",
       "       [-7.94018041e-01],\n",
       "       [ 2.21402190e+00],\n",
       "       [-6.30982498e-01],\n",
       "       [-1.26248888e+00],\n",
       "       [ 1.42832388e+00],\n",
       "       [-3.10422835e-01],\n",
       "       [-5.98341211e-01],\n",
       "       [-3.62616510e-02],\n",
       "       [-2.89915219e-01],\n",
       "       [ 1.52573506e+00],\n",
       "       [-4.48336549e-01],\n",
       "       [-1.11675664e+00],\n",
       "       [-9.37528625e-01],\n",
       "       [-6.42261687e-01],\n",
       "       [-4.79253573e-02],\n",
       "       [ 1.71243981e+00],\n",
       "       [-8.38451208e-01],\n",
       "       [ 1.16454468e+00],\n",
       "       [-1.05672914e+00],\n",
       "       [-5.69715997e-01],\n",
       "       [ 4.85657162e-01],\n",
       "       [-1.17046096e+00],\n",
       "       [-1.18178287e+00],\n",
       "       [-2.57145759e-01],\n",
       "       [ 3.02114004e-01],\n",
       "       [ 1.16520084e-01],\n",
       "       [ 1.79532475e+00],\n",
       "       [ 1.20877952e-01],\n",
       "       [-2.85685524e-01],\n",
       "       [-1.11303963e+00],\n",
       "       [-8.88224899e-01],\n",
       "       [-1.84301000e-01],\n",
       "       [-7.17499001e-01],\n",
       "       [-1.07723676e+00],\n",
       "       [-7.63384791e-01],\n",
       "       [-8.01537500e-01],\n",
       "       [ 1.91885571e-01],\n",
       "       [ 2.40713528e+00],\n",
       "       [-4.69912269e-01],\n",
       "       [-4.83071322e-01],\n",
       "       [-5.74073866e-01],\n",
       "       [-1.00704090e+00],\n",
       "       [-9.11195223e-02],\n",
       "       [-9.67051046e-01],\n",
       "       [ 1.08012166e+00],\n",
       "       [-5.16054404e-01],\n",
       "       [-3.73227407e-01],\n",
       "       [-1.64348799e-01],\n",
       "       [ 6.28954124e-01],\n",
       "       [-5.98341211e-01],\n",
       "       [ 6.02294224e-01],\n",
       "       [-5.85636828e-02],\n",
       "       [ 1.20444908e+00],\n",
       "       [-7.08682521e-02],\n",
       "       [-1.14546730e+00],\n",
       "       [-1.16541950e+00],\n",
       "       [-4.98479463e-02],\n",
       "       [-1.13059928e+00],\n",
       "       [-7.22497732e-01],\n",
       "       [-8.94590805e-01],\n",
       "       [-7.60180476e-01],\n",
       "       [ 1.40140764e+00],\n",
       "       [-6.91394516e-01],\n",
       "       [-4.54104315e-01],\n",
       "       [ 1.38478793e+00],\n",
       "       [ 3.31935494e-01],\n",
       "       [ 7.63535351e-01],\n",
       "       [ 8.80428759e-01],\n",
       "       [ 7.08421134e-01],\n",
       "       [ 5.52264188e-01],\n",
       "       [-8.52037503e-01],\n",
       "       [-2.51335268e-01],\n",
       "       [ 1.36133234e+00],\n",
       "       [ 2.85146695e+00],\n",
       "       [ 7.50632643e-01],\n",
       "       [-8.99888606e-01],\n",
       "       [-4.69485027e-01],\n",
       "       [ 1.78007221e+00],\n",
       "       [ 2.08461030e+00],\n",
       "       [ 8.32278587e-01],\n",
       "       [-5.79286218e-01],\n",
       "       [-1.01943091e+00],\n",
       "       [-7.80260849e-01],\n",
       "       [-9.84738865e-01],\n",
       "       [ 7.52512507e-01],\n",
       "       [-2.33589430e-02],\n",
       "       [ 1.67086916e+00],\n",
       "       [-7.81585299e-01],\n",
       "       [ 2.05936030e+00],\n",
       "       [-5.51942731e-01],\n",
       "       [ 8.23007435e-01],\n",
       "       [-1.16110436e+00],\n",
       "       [-7.32495195e-01],\n",
       "       [-8.66051040e-01],\n",
       "       [-5.49721072e-01],\n",
       "       [ 2.17074229e+00],\n",
       "       [-7.48644942e-01],\n",
       "       [-2.14464284e-01],\n",
       "       [-9.15269317e-01],\n",
       "       [-3.40030705e-01],\n",
       "       [-6.01887319e-01],\n",
       "       [ 1.66544319e+00],\n",
       "       [ 3.47999793e-01],\n",
       "       [ 2.46401648e-01],\n",
       "       [-9.32700790e-01],\n",
       "       [-5.96375897e-01],\n",
       "       [-1.22997577e+00],\n",
       "       [ 9.55196106e-01],\n",
       "       [-1.08462804e+00],\n",
       "       [ 2.18710565e+00],\n",
       "       [ 1.11430102e+00],\n",
       "       [ 1.19633148e+00],\n",
       "       [ 1.81531968e+00],\n",
       "       [ 2.29878671e+00],\n",
       "       [ 3.48982450e-01],\n",
       "       [-9.51713059e-01],\n",
       "       [-7.02075565e-01],\n",
       "       [-9.92087427e-01],\n",
       "       [-2.31682136e-01],\n",
       "       [-1.14999607e+00],\n",
       "       [ 1.47275705e+00],\n",
       "       [-1.08919953e+00],\n",
       "       [-8.41570074e-01],\n",
       "       [ 1.11519823e+00],\n",
       "       [-9.32700790e-01],\n",
       "       [-7.31384366e-01],\n",
       "       [-5.69886894e-01],\n",
       "       [ 2.51272207e-01],\n",
       "       [-2.26341612e-01],\n",
       "       [ 2.01116740e+00],\n",
       "       [-9.25721451e-02],\n",
       "       [ 1.16010136e+00],\n",
       "       [-5.08791290e-01],\n",
       "       [-3.67545089e-01],\n",
       "       [ 1.98416571e+00],\n",
       "       [ 1.76755402e+00],\n",
       "       [ 8.69235018e-01],\n",
       "       [-1.08578159e+00],\n",
       "       [-3.65665224e-01],\n",
       "       [ 1.94861918e+00],\n",
       "       [-3.39261669e-01],\n",
       "       [-9.63205868e-01],\n",
       "       [ 3.20314512e-01],\n",
       "       [-1.02113988e+00],\n",
       "       [ 3.18605544e-01],\n",
       "       [ 1.25396643e+00],\n",
       "       [ 7.19230356e-01],\n",
       "       [-1.09018219e+00],\n",
       "       [-7.53173707e-01],\n",
       "       [-6.97632249e-01],\n",
       "       [ 6.39079760e-01],\n",
       "       [-9.15183869e-01],\n",
       "       [-7.74749427e-01],\n",
       "       [ 2.06461538e+00],\n",
       "       [-5.69032410e-01],\n",
       "       [ 3.05275594e-01],\n",
       "       [-1.18332094e+00],\n",
       "       [ 1.90091154e-01],\n",
       "       [-1.09710351e+00],\n",
       "       [ 9.16317086e-01],\n",
       "       [ 1.14301168e+00],\n",
       "       [-1.07937296e+00],\n",
       "       [-5.39082747e-01],\n",
       "       [ 4.47675349e-01],\n",
       "       [-1.11585943e+00],\n",
       "       [-1.42644906e-01],\n",
       "       [ 2.84591280e+00],\n",
       "       [ 1.45524013e+00],\n",
       "       [-9.15867456e-01],\n",
       "       [-1.08189369e+00],\n",
       "       [-1.05408024e+00],\n",
       "       [-2.67826809e-01],\n",
       "       [-9.17747321e-01],\n",
       "       [ 5.37737960e-01],\n",
       "       [-7.24292149e-01],\n",
       "       [-2.81925794e-01],\n",
       "       [ 7.01286193e-01],\n",
       "       [ 5.68456659e-01],\n",
       "       [ 1.59242753e+00],\n",
       "       [ 9.79503527e-03],\n",
       "       [-5.17934268e-01],\n",
       "       [-4.55727835e-01],\n",
       "       [-1.23830698e+00],\n",
       "       [ 1.34244824e+00],\n",
       "       [-9.46714328e-01],\n",
       "       [ 4.05933807e-01],\n",
       "       [ 7.37531609e-02],\n",
       "       [-9.07621686e-01],\n",
       "       [ 3.47657999e-01],\n",
       "       [ 5.04541257e-01],\n",
       "       [ 4.48288783e-02],\n",
       "       [-1.56145753e-01],\n",
       "       [ 3.29201146e-01],\n",
       "       [-3.06705830e-01],\n",
       "       [-4.10269287e-01],\n",
       "       [-9.06724478e-01],\n",
       "       [-1.27069193e+00],\n",
       "       [-4.33468527e-01],\n",
       "       [ 4.82666468e-01],\n",
       "       [-9.37998591e-01],\n",
       "       [ 1.45861534e+00],\n",
       "       [-7.85045959e-01],\n",
       "       [ 1.46079428e+00],\n",
       "       [ 1.85684760e+00],\n",
       "       [-9.53208406e-01],\n",
       "       [-2.44841190e-01],\n",
       "       [-9.09117033e-01],\n",
       "       [-9.24070502e-01],\n",
       "       [-9.60328052e-02],\n",
       "       [-1.09035308e+00],\n",
       "       [-4.90847126e-01],\n",
       "       [-1.70073842e-01],\n",
       "       [ 1.07285855e+00],\n",
       "       [-5.65101784e-01],\n",
       "       [-6.48413972e-01],\n",
       "       [-1.05651552e+00],\n",
       "       [-9.76877612e-01],\n",
       "       [-1.18708067e+00],\n",
       "       [-1.22305445e+00],\n",
       "       [-1.12139828e-01],\n",
       "       [-1.00114496e+00],\n",
       "       [-1.21852568e+00],\n",
       "       [ 1.48822321e+00],\n",
       "       [ 1.22623842e+00],\n",
       "       [-9.97556124e-01],\n",
       "       [-4.72646618e-01],\n",
       "       [ 2.76607657e-01],\n",
       "       [ 9.41268018e-01],\n",
       "       [ 7.35551000e-01],\n",
       "       [ 8.97320112e-02],\n",
       "       [-5.92274374e-01],\n",
       "       [-8.30333610e-01],\n",
       "       [ 1.62149528e-01],\n",
       "       [ 5.17315793e-01],\n",
       "       [-9.45560774e-01],\n",
       "       [-1.20511028e+00],\n",
       "       [-8.80406371e-01],\n",
       "       [ 2.13204946e-01],\n",
       "       [-2.94016742e-01],\n",
       "       [-8.80790889e-01],\n",
       "       [ 1.78011494e+00],\n",
       "       [-7.77355604e-01],\n",
       "       [-1.00255486e+00],\n",
       "       [-2.10320037e-01],\n",
       "       [-5.71852207e-01],\n",
       "       [-1.07275071e+00],\n",
       "       [-3.98562857e-01],\n",
       "       [ 9.68867850e-01],\n",
       "       [-9.16123801e-01],\n",
       "       [ 9.16402534e-01],\n",
       "       [-1.09048126e+00],\n",
       "       [-1.14431375e+00],\n",
       "       [ 1.76268346e+00],\n",
       "       [-9.00572193e-01],\n",
       "       [ 1.04728205e-01],\n",
       "       [-9.66196562e-01],\n",
       "       [ 5.26046825e-02],\n",
       "       [-4.31802284e-01],\n",
       "       [-6.02015492e-01],\n",
       "       [ 4.90158498e-02],\n",
       "       [-9.38596730e-01],\n",
       "       [ 1.82480445e+00],\n",
       "       [-8.97496051e-01],\n",
       "       [ 1.97220293e+00],\n",
       "       [ 4.73010799e-01],\n",
       "       [ 6.65184245e-01],\n",
       "       [ 6.61638136e-01],\n",
       "       [-7.07886056e-01],\n",
       "       [-2.08809395e-02],\n",
       "       [ 2.07508281e+00],\n",
       "       [ 5.02405048e-01],\n",
       "       [-1.02398711e-01],\n",
       "       [ 1.24589156e+00],\n",
       "       [ 3.32078962e-02],\n",
       "       [ 4.10035330e-01],\n",
       "       [-5.28529870e-01],\n",
       "       [-7.21771421e-01],\n",
       "       [-9.69315429e-01],\n",
       "       [-8.15807382e-01],\n",
       "       [ 2.53466436e-02],\n",
       "       [ 2.30075202e+00],\n",
       "       [ 4.56348361e-01],\n",
       "       [-6.34485883e-01],\n",
       "       [ 7.79770546e-01],\n",
       "       [-9.40519319e-01],\n",
       "       [-3.54898726e-01],\n",
       "       [ 1.86863948e+00],\n",
       "       [ 4.40625856e-01],\n",
       "       [-3.75433770e-02],\n",
       "       [-4.04373348e-01],\n",
       "       [-1.13106925e+00],\n",
       "       [ 3.03737523e-01],\n",
       "       [-4.30136040e-01],\n",
       "       [-9.77561199e-01],\n",
       "       [ 6.20467304e-02],\n",
       "       [-8.94505357e-01],\n",
       "       [-1.20536663e+00],\n",
       "       [ 1.17232048e+00],\n",
       "       [-4.11294668e-01],\n",
       "       [-1.07864665e+00],\n",
       "       [-9.36845038e-01],\n",
       "       [ 2.09317044e-01],\n",
       "       [ 2.07922705e+00],\n",
       "       [-1.09787254e+00],\n",
       "       [ 1.24725873e+00],\n",
       "       [-6.01930043e-01],\n",
       "       [ 1.86624692e+00],\n",
       "       [ 6.02294224e-01],\n",
       "       [ 3.04677455e-01],\n",
       "       [-2.15446941e-01],\n",
       "       [ 1.04521599e+00],\n",
       "       [ 5.97338217e-01],\n",
       "       [-1.33800997e-01],\n",
       "       [ 1.54459172e-01],\n",
       "       [-1.77336956e-01],\n",
       "       [ 2.52411414e+00],\n",
       "       [ 6.37498964e-01],\n",
       "       [-2.29161409e-01],\n",
       "       [-1.01268049e+00],\n",
       "       [ 1.49352101e+00],\n",
       "       [-5.94239687e-01],\n",
       "       [-1.08437170e+00],\n",
       "       [-5.49165658e-01],\n",
       "       [-4.10781978e-01],\n",
       "       [-8.02605605e-01],\n",
       "       [-1.03344445e+00],\n",
       "       [-2.40056079e-01],\n",
       "       [-9.54575580e-01],\n",
       "       [ 3.75428729e-01],\n",
       "       [-4.10040371e-02],\n",
       "       [ 6.27287881e-01],\n",
       "       [-1.34441860e-01],\n",
       "       [-6.39100096e-01],\n",
       "       [ 2.47951007e+00],\n",
       "       [-9.21165257e-01],\n",
       "       [-1.13564073e+00],\n",
       "       [-1.24791993e+00],\n",
       "       [-7.31753588e-02],\n",
       "       [-1.02934293e+00],\n",
       "       [-9.87131420e-01],\n",
       "       [-3.36981991e-02],\n",
       "       [-2.75816234e-01],\n",
       "       [-1.11162974e+00],\n",
       "       [-5.77363629e-01],\n",
       "       [ 2.30160651e+00],\n",
       "       [-2.10277313e-01],\n",
       "       [ 1.29015383e+00],\n",
       "       [-2.87736285e-01],\n",
       "       [-5.78175389e-01],\n",
       "       [-8.87584036e-01],\n",
       "       [-3.82269642e-02],\n",
       "       [-6.32264224e-01],\n",
       "       [-1.20540935e+00],\n",
       "       [-1.02460054e+00],\n",
       "       [-2.95768435e-01],\n",
       "       [-3.20377573e-01],\n",
       "       [ 2.43413697e+00],\n",
       "       [ 1.67535520e+00],\n",
       "       [ 1.56798929e+00],\n",
       "       [ 4.68369156e-02],\n",
       "       [-1.18802060e+00],\n",
       "       [ 8.04977823e-01],\n",
       "       [ 2.20376809e+00],\n",
       "       [ 1.26195585e+00],\n",
       "       [-1.05902095e-01],\n",
       "       [ 1.95853119e+00],\n",
       "       [-8.18285386e-01],\n",
       "       [-5.66896200e-01],\n",
       "       [-1.05373845e+00],\n",
       "       [-1.14175030e+00],\n",
       "       [ 2.84634004e+00],\n",
       "       [-1.17810859e+00],\n",
       "       [-1.03293176e+00],\n",
       "       [ 1.32783657e+00]])"
      ]
     },
     "execution_count": 95,
     "metadata": {},
     "output_type": "execute_result"
    }
   ],
   "source": [
    "from sklearn.preprocessing import StandardScaler\n",
    "\n",
    "sc = StandardScaler()\n",
    "\n",
    "sc.fit_transform(df[['cogs']])"
   ]
  },
  {
   "cell_type": "code",
   "execution_count": 96,
   "id": "5c62376e-5d30-4979-816b-99e77d3d9bc8",
   "metadata": {},
   "outputs": [
    {
     "data": {
      "text/plain": [
       "array([[ 8.50676816e-01],\n",
       "       [-5.00472901e-01],\n",
       "       [ 2.49842997e-01],\n",
       "       [ 6.77950712e-01],\n",
       "       [ 1.09685767e+00],\n",
       "       [ 1.07736659e+00],\n",
       "       [ 5.18390170e-01],\n",
       "       [ 1.49463920e+00],\n",
       "       [-5.12215976e-01],\n",
       "       [-2.33771933e-01],\n",
       "       [-5.56403835e-01],\n",
       "       [-4.22871757e-01],\n",
       "       [-2.12162254e-02],\n",
       "       [ 5.75471198e-01],\n",
       "       [ 1.42866006e+00],\n",
       "       [ 9.70195894e-01],\n",
       "       [ 7.28645688e-01],\n",
       "       [ 5.86851085e-01],\n",
       "       [-2.35315482e-01],\n",
       "       [-4.87761325e-01],\n",
       "       [ 5.70326037e-01],\n",
       "       [ 6.71292268e-02],\n",
       "       [-5.30738558e-01],\n",
       "       [-2.08711969e-01],\n",
       "       [ 7.30310299e-02],\n",
       "       [ 5.41634194e-01],\n",
       "       [-6.30252037e-01],\n",
       "       [-2.01024492e-01],\n",
       "       [ 6.05434199e-01],\n",
       "       [-5.37215408e-02],\n",
       "       [ 6.92750619e-01],\n",
       "       [ 1.39485333e+00],\n",
       "       [ 1.29682286e+00],\n",
       "       [-1.47091092e-01],\n",
       "       [ 4.71902121e-01],\n",
       "       [-5.25532865e-01],\n",
       "       [ 2.15915196e-01],\n",
       "       [ 9.26613349e-01],\n",
       "       [ 5.98049378e-01],\n",
       "       [-2.42125254e-03],\n",
       "       [-4.69238743e-01],\n",
       "       [-3.92061318e-01],\n",
       "       [ 5.23474800e-01],\n",
       "       [ 1.65807374e+00],\n",
       "       [-6.38665890e-01],\n",
       "       [ 4.05801926e-01],\n",
       "       [ 8.12481557e-01],\n",
       "       [-1.86648306e-01],\n",
       "       [-3.87945189e-01],\n",
       "       [ 1.76914870e+00],\n",
       "       [ 1.20469420e+00],\n",
       "       [-5.69297004e-02],\n",
       "       [-5.15363604e-01],\n",
       "       [-6.85002610e-01],\n",
       "       [-6.33883916e-01],\n",
       "       [ 1.35009042e+00],\n",
       "       [-4.63306674e-01],\n",
       "       [ 1.43773976e+00],\n",
       "       [ 1.45801775e+00],\n",
       "       [-1.75843466e-01],\n",
       "       [-5.07070814e-01],\n",
       "       [ 2.80320513e-01],\n",
       "       [ 7.68354229e-01],\n",
       "       [-2.53202485e-01],\n",
       "       [ 1.85225820e-01],\n",
       "       [-2.51386545e-01],\n",
       "       [-5.29104212e-01],\n",
       "       [ 1.04083594e+00],\n",
       "       [ 1.65232327e+00],\n",
       "       [-6.76225570e-01],\n",
       "       [ 1.97646845e+00],\n",
       "       [ 1.14840008e+00],\n",
       "       [-2.91155618e-01],\n",
       "       [ 6.46777086e-01],\n",
       "       [ 1.30224042e+00],\n",
       "       [ 5.28862087e-01],\n",
       "       [ 6.04102510e-01],\n",
       "       [-1.86648306e-01],\n",
       "       [ 1.63840107e+00],\n",
       "       [-4.23295476e-01],\n",
       "       [ 1.06952778e+00],\n",
       "       [ 1.46122591e-01],\n",
       "       [-2.65611404e-01],\n",
       "       [ 2.41156753e-01],\n",
       "       [ 8.44411825e-03],\n",
       "       [ 1.02800330e+00],\n",
       "       [ 4.26261510e-01],\n",
       "       [ 3.14460174e-01],\n",
       "       [-6.03164274e-01],\n",
       "       [ 6.66389231e-01],\n",
       "       [-1.58107791e-01],\n",
       "       [ 6.26014845e-01],\n",
       "       [-2.66035123e-01],\n",
       "       [ 1.02140539e+00],\n",
       "       [-4.60068249e-01],\n",
       "       [-4.37641397e-01],\n",
       "       [ 1.92774074e+00],\n",
       "       [-5.05618063e-01],\n",
       "       [-2.52748500e-01],\n",
       "       [ 7.70079372e-01],\n",
       "       [-5.84278505e-01],\n",
       "       [ 1.40792809e+00],\n",
       "       [-1.03296687e-01],\n",
       "       [ 3.26263780e-01],\n",
       "       [-8.87086401e-02],\n",
       "       [ 1.95195327e+00],\n",
       "       [-2.34498309e-01],\n",
       "       [ 3.96540635e-01],\n",
       "       [ 1.93881797e-01],\n",
       "       [ 1.74917337e+00],\n",
       "       [-6.31886383e-01],\n",
       "       [ 1.60014528e-01],\n",
       "       [ 8.11482790e-01],\n",
       "       [ 8.50071503e-01],\n",
       "       [ 1.46894365e+00],\n",
       "       [-4.86369105e-01],\n",
       "       [-3.99688264e-01],\n",
       "       [-5.76258106e-01],\n",
       "       [-3.99990920e-01],\n",
       "       [-4.08223179e-01],\n",
       "       [ 1.67889651e+00],\n",
       "       [ 4.78439503e-01],\n",
       "       [ 1.99111703e+00],\n",
       "       [ 8.15719982e-01],\n",
       "       [ 6.35578793e-01],\n",
       "       [ 1.25321005e+00],\n",
       "       [-2.43668803e-01],\n",
       "       [ 1.32593842e-01],\n",
       "       [ 9.27823975e-01],\n",
       "       [ 1.72744263e+00],\n",
       "       [ 1.07685207e-01],\n",
       "       [ 9.41322458e-01],\n",
       "       [-3.09920326e-01],\n",
       "       [ 8.56336494e-01],\n",
       "       [ 7.44656220e-01],\n",
       "       [ 8.74677482e-02],\n",
       "       [-3.33557804e-01],\n",
       "       [-1.06656175e-01],\n",
       "       [ 8.39387726e-01],\n",
       "       [ 1.02370558e+00],\n",
       "       [ 1.98615346e+00],\n",
       "       [ 2.00733942e+00],\n",
       "       [ 1.34452154e+00],\n",
       "       [-6.39664657e-01],\n",
       "       [ 6.83822250e-01],\n",
       "       [ 1.08351051e-01],\n",
       "       [ 1.80504377e-01],\n",
       "       [ 6.90056975e-02],\n",
       "       [ 1.00820956e+00],\n",
       "       [ 5.42360570e-02],\n",
       "       [ 3.76504771e-01],\n",
       "       [ 4.84250509e-04],\n",
       "       [ 1.53567943e+00],\n",
       "       [-4.32435704e-01],\n",
       "       [ 1.22878567e+00],\n",
       "       [ 6.64906214e-01],\n",
       "       [-5.13275274e-01],\n",
       "       [ 2.91760932e-02],\n",
       "       [ 1.91648192e+00],\n",
       "       [ 9.64203294e-01],\n",
       "       [ 3.13794330e-01],\n",
       "       [-5.38940551e-01],\n",
       "       [ 2.38402579e-01],\n",
       "       [-2.69243283e-01],\n",
       "       [ 4.75897188e-01],\n",
       "       [ 2.99024689e-01],\n",
       "       [ 2.16108896e+00],\n",
       "       [ 2.26399219e+00],\n",
       "       [ 1.99511210e-01],\n",
       "       [ 7.41145404e-01],\n",
       "       [ 3.27746798e-01],\n",
       "       [ 4.79680395e-01],\n",
       "       [-2.26871363e-01],\n",
       "       [ 2.28747834e-01],\n",
       "       [-2.52536640e-01],\n",
       "       [ 1.90068325e-01],\n",
       "       [-1.94910830e-01],\n",
       "       [-2.54806565e-01],\n",
       "       [ 6.09913516e-01],\n",
       "       [ 5.64151843e-02],\n",
       "       [ 6.29707255e-01],\n",
       "       [ 1.99753335e-01],\n",
       "       [-2.62584838e-01],\n",
       "       [ 9.90292291e-02],\n",
       "       [-4.70267775e-01],\n",
       "       [-5.67541596e-01],\n",
       "       [ 1.55613901e+00],\n",
       "       [-1.69124490e-01],\n",
       "       [-5.07524799e-01],\n",
       "       [ 1.13435682e-01],\n",
       "       [-3.22026588e-02],\n",
       "       [-2.86676301e-01],\n",
       "       [ 1.65988968e+00],\n",
       "       [-4.22387506e-01],\n",
       "       [-2.36707702e-01],\n",
       "       [-5.06858954e-01],\n",
       "       [-4.67180678e-01],\n",
       "       [-6.55160673e-01],\n",
       "       [-2.29292616e-01],\n",
       "       [ 3.48630101e-01],\n",
       "       [-3.83950122e-01],\n",
       "       [-3.57134750e-02],\n",
       "       [ 5.69327270e-01],\n",
       "       [ 5.21779923e-02],\n",
       "       [-4.62792158e-01],\n",
       "       [-1.04386250e-01],\n",
       "       [ 1.08378290e+00],\n",
       "       [ 1.31776670e-01],\n",
       "       [-4.55952120e-01],\n",
       "       [ 1.98485204e+00],\n",
       "       [-1.72211587e-02],\n",
       "       [ 1.80861512e+00],\n",
       "       [ 6.65965512e-01],\n",
       "       [-3.10222982e-01],\n",
       "       [-1.04386250e-01],\n",
       "       [-6.76376898e-01],\n",
       "       [-3.56862359e-01],\n",
       "       [ 1.27600009e-01],\n",
       "       [ 1.56533977e+00],\n",
       "       [-2.11072691e-01],\n",
       "       [ 9.18260027e-02],\n",
       "       [ 5.83521863e-01],\n",
       "       [-5.52983815e-01],\n",
       "       [-6.93749385e-01],\n",
       "       [-4.69904588e-01],\n",
       "       [-2.04111589e-01],\n",
       "       [ 1.15787323e+00],\n",
       "       [-2.83044422e-01],\n",
       "       [ 9.15354524e-01],\n",
       "       [ 8.03855845e-01],\n",
       "       [-2.39159220e-01],\n",
       "       [-6.35548527e-01],\n",
       "       [ 1.55883265e+00],\n",
       "       [ 1.61981795e-01],\n",
       "       [ 8.40295695e-01],\n",
       "       [-1.67913864e-01],\n",
       "       [-4.68239976e-01],\n",
       "       [-6.25288470e-02],\n",
       "       [-5.31646527e-01],\n",
       "       [-4.60249843e-01],\n",
       "       [-5.23595863e-02],\n",
       "       [-3.69906857e-01],\n",
       "       [-1.67550676e-01],\n",
       "       [ 2.67548406e-02],\n",
       "       [ 1.54112724e+00],\n",
       "       [ 4.20571567e-01],\n",
       "       [ 7.38482026e-03],\n",
       "       [-4.60219577e-01],\n",
       "       [ 2.09196220e-01],\n",
       "       [ 8.16143701e-01],\n",
       "       [ 5.36277173e-01],\n",
       "       [ 3.33345944e-01],\n",
       "       [-6.44597959e-01],\n",
       "       [-4.44178779e-01],\n",
       "       [ 6.94415230e-01],\n",
       "       [-3.36796229e-01],\n",
       "       [-5.30889886e-01],\n",
       "       [-2.61192618e-01],\n",
       "       [-3.41275546e-01],\n",
       "       [ 6.65844450e-02],\n",
       "       [ 1.31286366e+00],\n",
       "       [-5.32554497e-01],\n",
       "       [-2.68032657e-01],\n",
       "       [-5.85943116e-02],\n",
       "       [-5.66906018e-01],\n",
       "       [ 1.35299592e+00],\n",
       "       [-3.02293380e-01],\n",
       "       [ 1.52611548e+00],\n",
       "       [ 1.24694506e-01],\n",
       "       [ 3.43938924e-01],\n",
       "       [ 2.88704100e-01],\n",
       "       [-6.03860385e-01],\n",
       "       [-1.44972496e-01],\n",
       "       [-6.58883349e-01],\n",
       "       [ 1.07897067e+00],\n",
       "       [ 2.84587971e-01],\n",
       "       [-7.13058874e-02],\n",
       "       [ 4.23477070e-01],\n",
       "       [ 1.41685646e+00],\n",
       "       [ 6.00591694e-01],\n",
       "       [ 9.62205761e-01],\n",
       "       [-6.19719589e-01],\n",
       "       [-6.85275001e-01],\n",
       "       [ 1.08114979e+00],\n",
       "       [-1.54596975e-01],\n",
       "       [ 2.77354479e-01],\n",
       "       [-5.05133812e-01],\n",
       "       [-8.47741047e-02],\n",
       "       [ 2.96028389e-01],\n",
       "       [ 1.27842134e+00],\n",
       "       [ 4.88003450e-01],\n",
       "       [-1.41673539e-01],\n",
       "       [-5.42602695e-01],\n",
       "       [-5.11610663e-01],\n",
       "       [-1.83591474e-01],\n",
       "       [ 5.39939317e-02],\n",
       "       [-3.82557902e-01],\n",
       "       [ 6.91630789e-01],\n",
       "       [-5.20569297e-03],\n",
       "       [-4.63518534e-01],\n",
       "       [-1.27478946e-01],\n",
       "       [-6.13636192e-01],\n",
       "       [-5.84581161e-01],\n",
       "       [-1.11982930e-01],\n",
       "       [-3.69483138e-01],\n",
       "       [ 7.97923776e-01],\n",
       "       [ 1.20608642e-01],\n",
       "       [ 1.41812762e+00],\n",
       "       [-4.91272141e-01],\n",
       "       [-2.35890529e-01],\n",
       "       [ 7.19777850e-01],\n",
       "       [-3.12038922e-01],\n",
       "       [-5.16362371e-01],\n",
       "       [-3.08134652e-01],\n",
       "       [ 1.63295325e+00],\n",
       "       [-1.30202856e-01],\n",
       "       [-5.40302505e-01],\n",
       "       [ 4.00081717e-01],\n",
       "       [-1.03115093e-01],\n",
       "       [-1.98179521e-01],\n",
       "       [-1.07110159e-01],\n",
       "       [-6.12395300e-01],\n",
       "       [-4.54590165e-01],\n",
       "       [ 2.03052291e-01],\n",
       "       [-3.40912358e-01],\n",
       "       [ 4.51563599e-01],\n",
       "       [ 7.78251099e-01],\n",
       "       [ 4.09433805e-01],\n",
       "       [-1.12709306e-01],\n",
       "       [-2.91518806e-01],\n",
       "       [-1.31897732e-01],\n",
       "       [-4.32980486e-01],\n",
       "       [ 4.33827925e-01],\n",
       "       [-5.89574995e-01],\n",
       "       [-5.09249941e-01],\n",
       "       [-3.01173551e-01],\n",
       "       [ 1.34936404e+00],\n",
       "       [ 3.20634368e-01],\n",
       "       [-2.99054955e-01],\n",
       "       [ 4.34675363e-01],\n",
       "       [-2.95059888e-01],\n",
       "       [ 4.54075649e-01],\n",
       "       [ 8.97497787e-01],\n",
       "       [ 7.36635821e-01],\n",
       "       [-3.26294046e-01],\n",
       "       [ 1.39103985e+00],\n",
       "       [-5.13941118e-01],\n",
       "       [ 1.42926538e+00],\n",
       "       [-1.80443846e-01],\n",
       "       [-3.23116152e-01],\n",
       "       [ 2.27367720e+00],\n",
       "       [ 3.63399741e-01],\n",
       "       [ 4.27805059e-01],\n",
       "       [ 3.75294144e-03],\n",
       "       [-6.40179173e-01],\n",
       "       [ 3.47449740e-01],\n",
       "       [ 4.04772894e-01],\n",
       "       [ 2.15685177e+00],\n",
       "       [-4.82010850e-01],\n",
       "       [-5.04800890e-01],\n",
       "       [ 1.22854354e+00],\n",
       "       [ 1.55565476e+00],\n",
       "       [-1.27660540e-01],\n",
       "       [ 5.97928316e-01],\n",
       "       [-2.32440244e-01],\n",
       "       [ 2.57137020e-01],\n",
       "       [ 6.66207638e-01],\n",
       "       [ 6.65844450e-02],\n",
       "       [-2.97087687e-01],\n",
       "       [-1.46062060e-01],\n",
       "       [-1.75359216e-01],\n",
       "       [-3.62703631e-01],\n",
       "       [ 5.41452600e-01],\n",
       "       [ 3.24447841e-02],\n",
       "       [ 2.83558939e-01],\n",
       "       [ 7.31641988e-01],\n",
       "       [ 2.32016525e-01],\n",
       "       [ 1.29134478e+00],\n",
       "       [ 4.42362840e-01],\n",
       "       [-4.45389406e-01],\n",
       "       [ 2.65006091e-01],\n",
       "       [-5.70628693e-01],\n",
       "       [ 7.76889144e-01],\n",
       "       [ 1.74935496e-01],\n",
       "       [-1.12164524e-01],\n",
       "       [-5.02228309e-01],\n",
       "       [ 1.17612342e-01],\n",
       "       [ 2.46483509e-01],\n",
       "       [ 7.41115138e-01],\n",
       "       [-3.45694332e-01],\n",
       "       [-9.68501018e-04],\n",
       "       [ 4.16879157e-01],\n",
       "       [-4.99201743e-01],\n",
       "       [ 8.49980706e-01],\n",
       "       [-4.90364172e-01],\n",
       "       [ 4.41091682e-01],\n",
       "       [ 8.95560785e-02],\n",
       "       [-3.61523271e-01],\n",
       "       [ 1.39222021e-02],\n",
       "       [-2.07622406e-01],\n",
       "       [-1.56776102e-02],\n",
       "       [-1.72151056e-01],\n",
       "       [-6.89391131e-01],\n",
       "       [-1.30172590e-01],\n",
       "       [ 1.34007249e+00],\n",
       "       [ 8.25647118e-02],\n",
       "       [-5.23020815e-01],\n",
       "       [ 1.00118793e-01],\n",
       "       [-4.73354872e-02],\n",
       "       [-3.71238546e-01],\n",
       "       [ 3.03685600e-01],\n",
       "       [-5.99320536e-01],\n",
       "       [-4.14367107e-01],\n",
       "       [-4.97083147e-01],\n",
       "       [ 5.01441402e-01],\n",
       "       [-4.40819291e-01],\n",
       "       [-1.82320317e-01],\n",
       "       [-4.85007150e-01],\n",
       "       [-3.85342342e-01],\n",
       "       [-1.97392614e-01],\n",
       "       [-3.81226213e-01],\n",
       "       [ 3.14460174e-02],\n",
       "       [ 2.21042198e+00],\n",
       "       [-1.16220122e-01],\n",
       "       [-6.82430030e-01],\n",
       "       [ 3.74476972e-01],\n",
       "       [ 3.94754962e-01],\n",
       "       [-5.42209242e-01],\n",
       "       [ 2.86282848e-01],\n",
       "       [ 2.01187927e+00],\n",
       "       [-3.13552204e-01],\n",
       "       [-4.69783525e-01],\n",
       "       [-3.05683134e-01],\n",
       "       [ 1.29240408e+00],\n",
       "       [-5.88122243e-01],\n",
       "       [ 1.97150488e+00],\n",
       "       [ 2.72269849e-01],\n",
       "       [-1.14464714e-01],\n",
       "       [-5.25411802e-01],\n",
       "       [ 2.57621271e-01],\n",
       "       [-4.67785992e-01],\n",
       "       [ 1.40941111e+00],\n",
       "       [ 1.69829680e+00],\n",
       "       [-6.93023009e-01],\n",
       "       [-3.27050687e-01],\n",
       "       [-6.73743786e-01],\n",
       "       [ 1.05445548e-01],\n",
       "       [-3.16397176e-01],\n",
       "       [-6.49773386e-01],\n",
       "       [-6.13303269e-01],\n",
       "       [ 6.24985813e-01],\n",
       "       [-3.32014255e-01],\n",
       "       [ 2.30896696e-01],\n",
       "       [-6.56038377e-01],\n",
       "       [-4.80255442e-01],\n",
       "       [-2.84376111e-01],\n",
       "       [ 1.37660313e+00],\n",
       "       [ 1.67108797e+00],\n",
       "       [ 6.77769118e-01],\n",
       "       [-6.23079077e-01],\n",
       "       [-1.18520312e-01],\n",
       "       [ 1.47920371e+00],\n",
       "       [ 1.63555609e-01],\n",
       "       [-6.63241603e-01],\n",
       "       [ 4.52168913e-02],\n",
       "       [ 9.19289060e-01],\n",
       "       [ 5.53558863e-02],\n",
       "       [-5.94417500e-02],\n",
       "       [-6.66389231e-01],\n",
       "       [-4.32556767e-01],\n",
       "       [ 7.89509923e-01],\n",
       "       [-2.46846697e-01],\n",
       "       [ 5.73655259e-01],\n",
       "       [ 1.02540045e+00],\n",
       "       [ 2.43456943e-01],\n",
       "       [-1.39887866e-01],\n",
       "       [-2.28384646e-01],\n",
       "       [ 2.86070988e-01],\n",
       "       [ 3.08528105e-01],\n",
       "       [-6.14877084e-01],\n",
       "       [ 8.65597785e-01],\n",
       "       [ 2.61011024e-01],\n",
       "       [-1.69669272e-01],\n",
       "       [ 1.09573784e+00],\n",
       "       [ 3.87521470e-01],\n",
       "       [-1.32563577e-01],\n",
       "       [ 5.11913319e-01],\n",
       "       [-2.81954859e-01],\n",
       "       [-6.62212571e-01],\n",
       "       [ 1.38423008e+00],\n",
       "       [-5.21658861e-01],\n",
       "       [-1.36679706e-01],\n",
       "       [-1.18641375e-01],\n",
       "       [-3.64882758e-01],\n",
       "       [-1.27055227e-01],\n",
       "       [ 1.10651241e+00],\n",
       "       [-3.49023554e-01],\n",
       "       [ 9.07001203e-01],\n",
       "       [-4.34705629e-01],\n",
       "       [ 5.15726792e-01],\n",
       "       [-5.07827455e-01],\n",
       "       [-6.35155074e-01],\n",
       "       [-3.11615202e-01],\n",
       "       [-1.66884832e-01],\n",
       "       [-4.64002784e-01],\n",
       "       [-1.46243654e-01],\n",
       "       [-2.91337212e-01],\n",
       "       [ 7.94594554e-01],\n",
       "       [ 1.95788534e-01],\n",
       "       [-4.42060183e-01],\n",
       "       [ 1.19071147e+00],\n",
       "       [-8.23528522e-02],\n",
       "       [ 4.18271377e-01],\n",
       "       [ 1.37735978e+00],\n",
       "       [ 5.05345672e-01],\n",
       "       [-5.75925183e-01],\n",
       "       [ 9.84844472e-02],\n",
       "       [-1.35620408e-01],\n",
       "       [-5.21477267e-01],\n",
       "       [ 3.56650500e-01],\n",
       "       [-3.16669567e-01],\n",
       "       [ 7.78614287e-01],\n",
       "       [-5.18148044e-02],\n",
       "       [-3.51142150e-01],\n",
       "       [ 7.52101572e-01],\n",
       "       [ 6.51589325e-01],\n",
       "       [-2.57015958e-01],\n",
       "       [-3.69362076e-01],\n",
       "       [ 9.13538585e-01],\n",
       "       [ 1.94017993e+00],\n",
       "       [-2.69909127e-01],\n",
       "       [ 1.36703919e+00],\n",
       "       [-3.71056952e-02],\n",
       "       [-2.87432943e-01],\n",
       "       [-3.03140819e-01],\n",
       "       [-3.78532570e-01],\n",
       "       [-5.07857721e-01],\n",
       "       [-4.35280676e-01],\n",
       "       [ 1.52659973e-01],\n",
       "       [ 8.56881275e-01],\n",
       "       [-4.53137414e-01],\n",
       "       [-5.02046715e-01],\n",
       "       [-4.87398137e-01],\n",
       "       [-3.90850692e-01],\n",
       "       [-5.16211042e-01],\n",
       "       [-2.61858463e-01],\n",
       "       [ 1.58713104e-01],\n",
       "       [ 9.28520085e-01],\n",
       "       [ 4.82434569e-02],\n",
       "       [ 4.67907054e-01],\n",
       "       [-2.11708269e-01],\n",
       "       [ 7.47652520e-01],\n",
       "       [ 8.54702148e-01],\n",
       "       [-3.28382376e-01],\n",
       "       [-3.22389776e-01],\n",
       "       [-3.91395474e-01],\n",
       "       [-2.95634936e-01],\n",
       "       [ 2.25006999e+00],\n",
       "       [ 2.48178386e-02],\n",
       "       [-7.41508592e-02],\n",
       "       [-1.43882932e-01],\n",
       "       [ 1.96799407e+00],\n",
       "       [ 2.95392810e-01],\n",
       "       [ 6.21353934e-01],\n",
       "       [-1.30929231e-01],\n",
       "       [ 1.72617147e+00],\n",
       "       [ 7.61302331e-01],\n",
       "       [ 1.05899533e+00],\n",
       "       [ 9.60208228e-01],\n",
       "       [ 8.35634784e-01],\n",
       "       [ 5.09794723e-01],\n",
       "       [ 7.54825481e-02],\n",
       "       [-5.17088746e-01],\n",
       "       [-2.93516340e-01],\n",
       "       [ 5.68358769e-01],\n",
       "       [ 9.90927869e-01],\n",
       "       [-1.69487678e-03],\n",
       "       [-3.47086552e-01],\n",
       "       [ 4.63669862e-02],\n",
       "       [-3.10949358e-01],\n",
       "       [-4.84553165e-01],\n",
       "       [ 2.08711969e-01],\n",
       "       [-1.68882365e-01],\n",
       "       [-5.12821289e-01],\n",
       "       [-1.59136823e-01],\n",
       "       [-1.05687674e-01],\n",
       "       [-2.56471176e-01],\n",
       "       [-8.00829279e-02],\n",
       "       [ 1.07243328e+00],\n",
       "       [-5.10460568e-01],\n",
       "       [ 1.13254088e-01],\n",
       "       [-2.18154854e-01],\n",
       "       [-5.93751655e-01],\n",
       "       [-4.89093014e-02],\n",
       "       [ 1.47212155e-01],\n",
       "       [-5.97141409e-01],\n",
       "       [-2.57742333e-01],\n",
       "       [ 5.39273473e-01],\n",
       "       [-1.74057792e-01],\n",
       "       [-3.06046322e-01],\n",
       "       [-4.80255442e-01],\n",
       "       [-5.35006015e-01],\n",
       "       [ 1.61570182e+00],\n",
       "       [ 2.58166053e-01],\n",
       "       [ 3.67636933e-01],\n",
       "       [-3.47328677e-01],\n",
       "       [ 4.04924222e-01],\n",
       "       [-1.28931698e-01],\n",
       "       [-6.39059343e-01],\n",
       "       [-3.81286744e-01],\n",
       "       [-6.44053177e-01],\n",
       "       [ 1.96415033e+00],\n",
       "       [ 1.14706839e-01],\n",
       "       [-4.86762558e-01],\n",
       "       [ 1.30971603e+00],\n",
       "       [ 3.22995089e-01],\n",
       "       [ 5.86669491e-01],\n",
       "       [ 5.98624426e-01],\n",
       "       [ 1.05754258e+00],\n",
       "       [ 5.75047479e-02],\n",
       "       [-8.08698350e-02],\n",
       "       [-4.54438837e-01],\n",
       "       [ 1.27227742e+00],\n",
       "       [ 1.78791341e+00],\n",
       "       [-4.55225744e-01],\n",
       "       [-2.54231517e-01],\n",
       "       [-3.63248413e-01],\n",
       "       [ 1.76763542e+00],\n",
       "       [-2.47754667e-01],\n",
       "       [-6.95111340e-01],\n",
       "       [ 1.21104999e+00],\n",
       "       [-2.06714436e-02],\n",
       "       [-2.24631705e-01],\n",
       "       [ 1.73543276e-01],\n",
       "       [-6.14392833e-03],\n",
       "       [ 1.28005569e+00],\n",
       "       [-1.18368984e-01],\n",
       "       [-5.91875184e-01],\n",
       "       [-4.64910754e-01],\n",
       "       [-2.55744800e-01],\n",
       "       [ 1.65280752e-01],\n",
       "       [ 1.41231661e+00],\n",
       "       [-3.94724696e-01],\n",
       "       [ 1.02418983e+00],\n",
       "       [-5.49351937e-01],\n",
       "       [-2.04353715e-01],\n",
       "       [ 5.43268540e-01],\n",
       "       [-6.29919115e-01],\n",
       "       [-6.37939514e-01],\n",
       "       [ 1.70698304e-02],\n",
       "       [ 4.13247278e-01],\n",
       "       [ 2.81773265e-01],\n",
       "       [ 1.47103198e+00],\n",
       "       [ 2.84860362e-01],\n",
       "       [-3.14762831e-03],\n",
       "       [-5.89242072e-01],\n",
       "       [-4.29984186e-01],\n",
       "       [ 6.86727753e-02],\n",
       "       [-3.09042622e-01],\n",
       "       [-5.63879452e-01],\n",
       "       [-3.41547937e-01],\n",
       "       [-3.68575169e-01],\n",
       "       [ 3.35161883e-01],\n",
       "       [ 1.90443619e+00],\n",
       "       [-1.33653140e-01],\n",
       "       [-1.42974963e-01],\n",
       "       [-2.07440812e-01],\n",
       "       [-5.14152978e-01],\n",
       "       [ 1.34682173e-01],\n",
       "       [-4.85824323e-01],\n",
       "       [ 9.64384888e-01],\n",
       "       [-1.66340050e-01],\n",
       "       [-6.51619591e-02],\n",
       "       [ 8.28068370e-02],\n",
       "       [ 6.44779553e-01],\n",
       "       [-2.24631705e-01],\n",
       "       [ 6.25893783e-01],\n",
       "       [ 1.57744603e-01],\n",
       "       [ 1.05245795e+00],\n",
       "       [ 1.49028094e-01],\n",
       "       [-6.12213706e-01],\n",
       "       [-6.26347768e-01],\n",
       "       [ 1.63918797e-01],\n",
       "       [-6.01681257e-01],\n",
       "       [-3.12583703e-01],\n",
       "       [-4.34493769e-01],\n",
       "       [-3.39278013e-01],\n",
       "       [ 1.19198263e+00],\n",
       "       [-2.90550305e-01],\n",
       "       [-1.22454847e-01],\n",
       "       [ 1.18020929e+00],\n",
       "       [ 4.34372706e-01],\n",
       "       [ 7.40116371e-01],\n",
       "       [ 8.22923208e-01],\n",
       "       [ 7.01073674e-01],\n",
       "       [ 5.90452699e-01],\n",
       "       [-4.04349175e-01],\n",
       "       [ 2.11859598e-02],\n",
       "       [ 1.16359344e+00],\n",
       "       [ 2.21919902e+00],\n",
       "       [ 7.30976143e-01],\n",
       "       [-4.38246711e-01],\n",
       "       [-1.33350484e-01],\n",
       "       [ 1.46022714e+00],\n",
       "       [ 1.67596075e+00],\n",
       "       [ 7.88813813e-01],\n",
       "       [-2.11133222e-01],\n",
       "       [-5.22930018e-01],\n",
       "       [-3.53502871e-01],\n",
       "       [-4.98354305e-01],\n",
       "       [ 7.32307832e-01],\n",
       "       [ 1.82683504e-01],\n",
       "       [ 1.38286812e+00],\n",
       "       [-3.54441107e-01],\n",
       "       [ 1.65807374e+00],\n",
       "       [-1.91763202e-01],\n",
       "       [ 7.82246166e-01],\n",
       "       [-6.23290936e-01],\n",
       "       [-3.19665867e-01],\n",
       "       [-4.14276310e-01],\n",
       "       [-1.90189387e-01],\n",
       "       [ 1.73697631e+00],\n",
       "       [-3.31106285e-01],\n",
       "       [ 4.73052216e-02],\n",
       "       [-4.49142347e-01],\n",
       "       [-4.16455438e-02],\n",
       "       [-2.27143754e-01],\n",
       "       [ 1.37902439e+00],\n",
       "       [ 4.45752593e-01],\n",
       "       [ 3.73780862e-01],\n",
       "       [-4.61490735e-01],\n",
       "       [-2.23239485e-01],\n",
       "       [-6.72079175e-01],\n",
       "       [ 8.75888108e-01],\n",
       "       [-5.69115411e-01],\n",
       "       [ 1.74856806e+00],\n",
       "       [ 9.88597414e-01],\n",
       "       [ 1.04670747e+00],\n",
       "       [ 1.48519631e+00],\n",
       "       [ 1.82768248e+00],\n",
       "       [ 4.46448703e-01],\n",
       "       [-4.74958952e-01],\n",
       "       [-2.98116720e-01],\n",
       "       [-5.03559998e-01],\n",
       "       [ 3.51081619e-02],\n",
       "       [-6.15421865e-01],\n",
       "       [ 1.24252627e+00],\n",
       "       [-5.72353836e-01],\n",
       "       [-3.96934089e-01],\n",
       "       [ 9.89232993e-01],\n",
       "       [-4.61490735e-01],\n",
       "       [-3.18878960e-01],\n",
       "       [-2.04474777e-01],\n",
       "       [ 3.77231146e-01],\n",
       "       [ 3.88913690e-02],\n",
       "       [ 1.62393408e+00],\n",
       "       [ 1.33653140e-01],\n",
       "       [ 1.02104220e+00],\n",
       "       [-1.61194888e-01],\n",
       "       [-6.11366267e-02],\n",
       "       [ 1.60480619e+00],\n",
       "       [ 1.45135931e+00],\n",
       "       [ 8.14993606e-01],\n",
       "       [-5.69932583e-01],\n",
       "       [-5.98049378e-02],\n",
       "       [ 1.57962516e+00],\n",
       "       [-4.11007619e-02],\n",
       "       [-4.83100414e-01],\n",
       "       [ 4.26140448e-01],\n",
       "       [-5.24140645e-01],\n",
       "       [ 4.24929822e-01],\n",
       "       [ 1.08753585e+00],\n",
       "       [ 7.08730885e-01],\n",
       "       [-5.73049946e-01],\n",
       "       [-3.34314445e-01],\n",
       "       [-2.94969091e-01],\n",
       "       [ 6.51952513e-01],\n",
       "       [-4.49081816e-01],\n",
       "       [-3.49598602e-01],\n",
       "       [ 1.66179642e+00],\n",
       "       [-2.03869464e-01],\n",
       "       [ 4.15486937e-01],\n",
       "       [-6.39029078e-01],\n",
       "       [ 3.33890726e-01],\n",
       "       [-5.77952982e-01],\n",
       "       [ 8.48346360e-01],\n",
       "       [ 1.00893594e+00],\n",
       "       [-5.65392735e-01],\n",
       "       [-1.82653239e-01],\n",
       "       [ 5.16362371e-01],\n",
       "       [-5.91239606e-01],\n",
       "       [ 9.81817907e-02],\n",
       "       [ 2.21526448e+00],\n",
       "       [ 1.23011736e+00],\n",
       "       [-4.49566066e-01],\n",
       "       [-5.67178408e-01],\n",
       "       [-5.47475466e-01],\n",
       "       [ 9.50341624e-03],\n",
       "       [-4.50897755e-01],\n",
       "       [ 5.80162375e-01],\n",
       "       [-3.13854861e-01],\n",
       "       [-4.84250509e-04],\n",
       "       [ 6.96019309e-01],\n",
       "       [ 6.01923382e-01],\n",
       "       [ 1.32730038e+00],\n",
       "       [ 2.06169654e-01],\n",
       "       [-1.67671739e-01],\n",
       "       [-1.23604942e-01],\n",
       "       [-6.77980978e-01],\n",
       "       [ 1.15021602e+00],\n",
       "       [-4.71417870e-01],\n",
       "       [ 4.86792824e-01],\n",
       "       [ 2.51477342e-01],\n",
       "       [-4.43724794e-01],\n",
       "       [ 4.45510468e-01],\n",
       "       [ 5.56645960e-01],\n",
       "       [ 2.30987493e-01],\n",
       "       [ 8.86178431e-02],\n",
       "       [ 4.32435704e-01],\n",
       "       [-1.80383315e-02],\n",
       "       [-9.14022835e-02],\n",
       "       [-4.43089216e-01],\n",
       "       [-7.00922346e-01],\n",
       "       [-1.07836535e-01],\n",
       "       [ 5.41149944e-01],\n",
       "       [-4.65243676e-01],\n",
       "       [ 1.23250834e+00],\n",
       "       [-3.56892625e-01],\n",
       "       [ 1.23405189e+00],\n",
       "       [ 1.51461453e+00],\n",
       "       [-4.76018250e-01],\n",
       "       [ 2.57863396e-02],\n",
       "       [-4.44784092e-01],\n",
       "       [-4.55377072e-01],\n",
       "       [ 1.31201622e-01],\n",
       "       [-5.73171009e-01],\n",
       "       [-1.48483312e-01],\n",
       "       [ 7.87512390e-02],\n",
       "       [ 9.59239727e-01],\n",
       "       [-2.01085024e-01],\n",
       "       [-2.60103055e-01],\n",
       "       [-5.49200608e-01],\n",
       "       [-4.92785424e-01],\n",
       "       [-6.41692456e-01],\n",
       "       [-6.67176139e-01],\n",
       "       [ 1.19791470e-01],\n",
       "       [-5.09976317e-01],\n",
       "       [-6.63967979e-01],\n",
       "       [ 1.25348244e+00],\n",
       "       [ 1.06789343e+00],\n",
       "       [-5.07434002e-01],\n",
       "       [-1.35590142e-01],\n",
       "       [ 3.95178681e-01],\n",
       "       [ 8.66021504e-01],\n",
       "       [ 7.20292366e-01],\n",
       "       [ 2.62796698e-01],\n",
       "       [-2.20333982e-01],\n",
       "       [-3.88974221e-01],\n",
       "       [ 3.14096986e-01],\n",
       "       [ 5.65695391e-01],\n",
       "       [-4.70600698e-01],\n",
       "       [-6.54464563e-01],\n",
       "       [-4.24445571e-01],\n",
       "       [ 3.50264446e-01],\n",
       "       [-9.04943138e-03],\n",
       "       [-4.24717962e-01],\n",
       "       [ 1.46025741e+00],\n",
       "       [-3.51444807e-01],\n",
       "       [-5.10975084e-01],\n",
       "       [ 5.02409903e-02],\n",
       "       [-2.05866998e-01],\n",
       "       [-5.60701558e-01],\n",
       "       [-8.31094936e-02],\n",
       "       [ 8.85573118e-01],\n",
       "       [-4.49747660e-01],\n",
       "       [ 8.48406891e-01],\n",
       "       [-5.73261805e-01],\n",
       "       [-6.11396533e-01],\n",
       "       [ 1.44790902e+00],\n",
       "       [-4.38730961e-01],\n",
       "       [ 2.73419944e-01],\n",
       "       [-4.85219010e-01],\n",
       "       [ 2.36495842e-01],\n",
       "       [-1.06656175e-01],\n",
       "       [-2.27234551e-01],\n",
       "       [ 2.33953527e-01],\n",
       "       [-4.65667396e-01],\n",
       "       [ 1.49191529e+00],\n",
       "       [-4.36551834e-01],\n",
       "       [ 1.59633180e+00],\n",
       "       [ 5.34309905e-01],\n",
       "       [ 6.70444829e-01],\n",
       "       [ 6.67932780e-01],\n",
       "       [-3.02232849e-01],\n",
       "       [ 1.84438913e-01],\n",
       "       [ 1.66921150e+00],\n",
       "       [ 5.55132677e-01],\n",
       "       [ 1.26692039e-01],\n",
       "       [ 1.08181564e+00],\n",
       "       [ 2.22755234e-01],\n",
       "       [ 4.89698327e-01],\n",
       "       [-1.75177622e-01],\n",
       "       [-3.12069187e-01],\n",
       "       [-4.87428403e-01],\n",
       "       [-3.78683898e-01],\n",
       "       [ 2.17186353e-01],\n",
       "       [ 1.82907470e+00],\n",
       "       [ 5.22506299e-01],\n",
       "       [-2.50236450e-01],\n",
       "       [ 7.51617321e-01],\n",
       "       [-4.67029350e-01],\n",
       "       [-5.21779923e-02],\n",
       "       [ 1.52296785e+00],\n",
       "       [ 5.11368537e-01],\n",
       "       [ 1.72635306e-01],\n",
       "       [-8.72256229e-02],\n",
       "       [-6.02014179e-01],\n",
       "       [ 4.14397373e-01],\n",
       "       [-1.05475814e-01],\n",
       "       [-4.93269675e-01],\n",
       "       [ 2.43184552e-01],\n",
       "       [-4.34433238e-01],\n",
       "       [-6.54646157e-01],\n",
       "       [ 1.02969818e+00],\n",
       "       [-9.21286593e-02],\n",
       "       [-5.64878219e-01],\n",
       "       [-4.64426504e-01],\n",
       "       [ 3.47510271e-01],\n",
       "       [ 1.67214727e+00],\n",
       "       [-5.78497764e-01],\n",
       "       [ 1.08278414e+00],\n",
       "       [-2.27174020e-01],\n",
       "       [ 1.52127297e+00],\n",
       "       [ 6.25893783e-01],\n",
       "       [ 4.15063217e-01],\n",
       "       [ 4.66091115e-02],\n",
       "       [ 9.39657847e-01],\n",
       "       [ 6.22382966e-01],\n",
       "       [ 1.04446782e-01],\n",
       "       [ 3.08649168e-01],\n",
       "       [ 7.36060773e-02],\n",
       "       [ 1.98730356e+00],\n",
       "       [ 6.50832684e-01],\n",
       "       [ 3.68938356e-02],\n",
       "       [-5.18148044e-01],\n",
       "       [ 1.25723538e+00],\n",
       "       [-2.21726202e-01],\n",
       "       [-5.68933817e-01],\n",
       "       [-1.89795934e-01],\n",
       "       [-9.17654714e-02],\n",
       "       [-3.69331810e-01],\n",
       "       [-5.32857154e-01],\n",
       "       [ 2.91760932e-02],\n",
       "       [-4.76986751e-01],\n",
       "       [ 4.65183145e-01],\n",
       "       [ 1.70183788e-01],\n",
       "       [ 6.43599192e-01],\n",
       "       [ 1.03992797e-01],\n",
       "       [-2.53505141e-01],\n",
       "       [ 1.95570621e+00],\n",
       "       [-4.53319008e-01],\n",
       "       [-6.05252605e-01],\n",
       "       [-6.84790751e-01],\n",
       "       [ 1.47393749e-01],\n",
       "       [-5.29951651e-01],\n",
       "       [-5.00049182e-01],\n",
       "       [ 1.75359216e-01],\n",
       "       [ 3.84373841e-03],\n",
       "       [-5.88243306e-01],\n",
       "       [-2.09771267e-01],\n",
       "       [ 1.82968002e+00],\n",
       "       [ 5.02712559e-02],\n",
       "       [ 1.11317086e+00],\n",
       "       [-4.60037983e-03],\n",
       "       [-2.10346315e-01],\n",
       "       [-4.29530201e-01],\n",
       "       [ 1.72151056e-01],\n",
       "       [-2.48662636e-01],\n",
       "       [-6.54676422e-01],\n",
       "       [-5.26592163e-01],\n",
       "       [-1.02903233e-02],\n",
       "       [-2.77233416e-02],\n",
       "       [ 1.92356408e+00],\n",
       "       [ 1.38604602e+00],\n",
       "       [ 1.30998842e+00],\n",
       "       [ 2.32409979e-01],\n",
       "       [-6.42358300e-01],\n",
       "       [ 7.69474059e-01],\n",
       "       [ 1.76037166e+00],\n",
       "       [ 1.09319552e+00],\n",
       "       [ 1.24210256e-01],\n",
       "       [ 1.58664679e+00],\n",
       "       [-3.80439306e-01],\n",
       "       [-2.02356181e-01],\n",
       "       [-5.47233341e-01],\n",
       "       [-6.09580594e-01],\n",
       "       [ 2.21556714e+00],\n",
       "       [-6.35336668e-01],\n",
       "       [-5.32493966e-01],\n",
       "       [ 1.13986517e+00]])"
      ]
     },
     "execution_count": 96,
     "metadata": {},
     "output_type": "execute_result"
    }
   ],
   "source": [
    "from sklearn.preprocessing import RobustScaler\n",
    "\n",
    "rc = RobustScaler()\n",
    "\n",
    "rc.fit_transform(df[['cogs']])"
   ]
  },
  {
   "cell_type": "code",
   "execution_count": 97,
   "id": "156aad80-1556-4710-b2b9-25d31dfab818",
   "metadata": {},
   "outputs": [
    {
     "data": {
      "text/plain": [
       "Index(['unit price', 'quantity', 'tax 5%', 'sales', 'cogs',\n",
       "       'gross margin percentage', 'gross income', 'rating', 'branch_Cairo',\n",
       "       'branch_Giza', 'city_Naypyitaw', 'city_Yangon', 'customer type_Normal',\n",
       "       'gender_Male', 'product line_Fashion accessories',\n",
       "       'product line_Food and beverages', 'product line_Health and beauty',\n",
       "       'product line_Home and lifestyle', 'product line_Sports and travel',\n",
       "       'payment_Credit card', 'payment_Ewallet'],\n",
       "      dtype='object')"
      ]
     },
     "execution_count": 97,
     "metadata": {},
     "output_type": "execute_result"
    }
   ],
   "source": [
    "new_df.describe(include = 'number').columns"
   ]
  },
  {
   "cell_type": "code",
   "execution_count": 98,
   "id": "6a6639e4-680d-4a20-806f-98866a10e07d",
   "metadata": {},
   "outputs": [
    {
     "name": "stdout",
     "output_type": "stream",
     "text": [
      "['unit price', 'quantity', 'tax 5%', 'sales', 'cogs', 'gross margin percentage', 'gross income', 'rating']\n"
     ]
    }
   ],
   "source": [
    "new_df_num_col = ['unit price', 'quantity', 'tax 5%', 'sales', 'cogs',\n",
    "       'gross margin percentage', 'gross income', 'rating']\n",
    "print(new_df_num_col)"
   ]
  },
  {
   "cell_type": "code",
   "execution_count": 99,
   "id": "02c503b8-27a3-44a2-8b39-7cc77ede4140",
   "metadata": {},
   "outputs": [
    {
     "data": {
      "text/html": [
       "<div>\n",
       "<style scoped>\n",
       "    .dataframe tbody tr th:only-of-type {\n",
       "        vertical-align: middle;\n",
       "    }\n",
       "\n",
       "    .dataframe tbody tr th {\n",
       "        vertical-align: top;\n",
       "    }\n",
       "\n",
       "    .dataframe thead th {\n",
       "        text-align: right;\n",
       "    }\n",
       "</style>\n",
       "<table border=\"1\" class=\"dataframe\">\n",
       "  <thead>\n",
       "    <tr style=\"text-align: right;\">\n",
       "      <th></th>\n",
       "      <th>unit price</th>\n",
       "      <th>quantity</th>\n",
       "      <th>tax 5%</th>\n",
       "      <th>sales</th>\n",
       "      <th>cogs</th>\n",
       "      <th>gross margin percentage</th>\n",
       "      <th>gross income</th>\n",
       "      <th>rating</th>\n",
       "    </tr>\n",
       "  </thead>\n",
       "  <tbody>\n",
       "    <tr>\n",
       "      <th>0</th>\n",
       "      <td>0.580748</td>\n",
       "      <td>0.0</td>\n",
       "      <td>0.287477</td>\n",
       "      <td>0.287477</td>\n",
       "      <td>0.287477</td>\n",
       "      <td>0.0</td>\n",
       "      <td>0.287477</td>\n",
       "      <td>0.411765</td>\n",
       "    </tr>\n",
       "    <tr>\n",
       "      <th>1</th>\n",
       "      <td>-1.514104</td>\n",
       "      <td>-2.0</td>\n",
       "      <td>-1.961314</td>\n",
       "      <td>-1.961314</td>\n",
       "      <td>-1.961314</td>\n",
       "      <td>0.0</td>\n",
       "      <td>-1.961314</td>\n",
       "      <td>0.705882</td>\n",
       "    </tr>\n",
       "    <tr>\n",
       "      <th>2</th>\n",
       "      <td>-0.419252</td>\n",
       "      <td>0.0</td>\n",
       "      <td>-0.712523</td>\n",
       "      <td>-0.712523</td>\n",
       "      <td>-0.712523</td>\n",
       "      <td>0.0</td>\n",
       "      <td>-0.712523</td>\n",
       "      <td>-0.588235</td>\n",
       "    </tr>\n",
       "    <tr>\n",
       "      <th>3</th>\n",
       "      <td>0.000000</td>\n",
       "      <td>1.0</td>\n",
       "      <td>0.000000</td>\n",
       "      <td>0.000000</td>\n",
       "      <td>0.000000</td>\n",
       "      <td>0.0</td>\n",
       "      <td>0.000000</td>\n",
       "      <td>0.000000</td>\n",
       "    </tr>\n",
       "    <tr>\n",
       "      <th>4</th>\n",
       "      <td>0.990480</td>\n",
       "      <td>0.0</td>\n",
       "      <td>0.697209</td>\n",
       "      <td>0.697209</td>\n",
       "      <td>0.697209</td>\n",
       "      <td>0.0</td>\n",
       "      <td>0.697209</td>\n",
       "      <td>-1.823529</td>\n",
       "    </tr>\n",
       "  </tbody>\n",
       "</table>\n",
       "</div>"
      ],
      "text/plain": [
       "   unit price  quantity    tax 5%     sales      cogs  \\\n",
       "0    0.580748       0.0  0.287477  0.287477  0.287477   \n",
       "1   -1.514104      -2.0 -1.961314 -1.961314 -1.961314   \n",
       "2   -0.419252       0.0 -0.712523 -0.712523 -0.712523   \n",
       "3    0.000000       1.0  0.000000  0.000000  0.000000   \n",
       "4    0.990480       0.0  0.697209  0.697209  0.697209   \n",
       "\n",
       "   gross margin percentage  gross income    rating  \n",
       "0                      0.0      0.287477  0.411765  \n",
       "1                      0.0     -1.961314  0.705882  \n",
       "2                      0.0     -0.712523 -0.588235  \n",
       "3                      0.0      0.000000  0.000000  \n",
       "4                      0.0      0.697209 -1.823529  "
      ]
     },
     "execution_count": 99,
     "metadata": {},
     "output_type": "execute_result"
    }
   ],
   "source": [
    "from sklearn.preprocessing import RobustScaler\n",
    "\n",
    "rc = RobustScaler()\n",
    "\n",
    "new_df[new_df_num_col] = rc.fit_transform(new_df[new_df_num_col])\n",
    "new_df[new_df_num_col]"
   ]
  },
  {
   "cell_type": "code",
   "execution_count": 100,
   "id": "fe958fb1-b2a5-4464-9dbc-ff67d9446d14",
   "metadata": {},
   "outputs": [
    {
     "data": {
      "text/html": [
       "<div>\n",
       "<style scoped>\n",
       "    .dataframe tbody tr th:only-of-type {\n",
       "        vertical-align: middle;\n",
       "    }\n",
       "\n",
       "    .dataframe tbody tr th {\n",
       "        vertical-align: top;\n",
       "    }\n",
       "\n",
       "    .dataframe thead th {\n",
       "        text-align: right;\n",
       "    }\n",
       "</style>\n",
       "<table border=\"1\" class=\"dataframe\">\n",
       "  <thead>\n",
       "    <tr style=\"text-align: right;\">\n",
       "      <th></th>\n",
       "      <th>invoice id</th>\n",
       "      <th>unit price</th>\n",
       "      <th>quantity</th>\n",
       "      <th>tax 5%</th>\n",
       "      <th>sales</th>\n",
       "      <th>date</th>\n",
       "      <th>time</th>\n",
       "      <th>cogs</th>\n",
       "      <th>gross margin percentage</th>\n",
       "      <th>gross income</th>\n",
       "      <th>rating</th>\n",
       "      <th>month</th>\n",
       "      <th>day</th>\n",
       "      <th>branch_Cairo</th>\n",
       "      <th>branch_Giza</th>\n",
       "      <th>city_Naypyitaw</th>\n",
       "      <th>city_Yangon</th>\n",
       "      <th>customer type_Normal</th>\n",
       "      <th>gender_Male</th>\n",
       "      <th>product line_Fashion accessories</th>\n",
       "      <th>product line_Food and beverages</th>\n",
       "      <th>product line_Health and beauty</th>\n",
       "      <th>product line_Home and lifestyle</th>\n",
       "      <th>product line_Sports and travel</th>\n",
       "      <th>payment_Credit card</th>\n",
       "      <th>payment_Ewallet</th>\n",
       "    </tr>\n",
       "  </thead>\n",
       "  <tbody>\n",
       "    <tr>\n",
       "      <th>0</th>\n",
       "      <td>750-67-8428</td>\n",
       "      <td>0.580748</td>\n",
       "      <td>0.0</td>\n",
       "      <td>0.287477</td>\n",
       "      <td>0.287477</td>\n",
       "      <td>2019-01-05</td>\n",
       "      <td>2025-09-29 13:08:00</td>\n",
       "      <td>0.287477</td>\n",
       "      <td>0.0</td>\n",
       "      <td>0.287477</td>\n",
       "      <td>0.411765</td>\n",
       "      <td>01</td>\n",
       "      <td>6</td>\n",
       "      <td>0.0</td>\n",
       "      <td>0.0</td>\n",
       "      <td>0.0</td>\n",
       "      <td>1.0</td>\n",
       "      <td>0.0</td>\n",
       "      <td>0.0</td>\n",
       "      <td>0.0</td>\n",
       "      <td>0.0</td>\n",
       "      <td>1.0</td>\n",
       "      <td>0.0</td>\n",
       "      <td>0.0</td>\n",
       "      <td>0.0</td>\n",
       "      <td>1.0</td>\n",
       "    </tr>\n",
       "    <tr>\n",
       "      <th>1</th>\n",
       "      <td>226-31-3081</td>\n",
       "      <td>-1.514104</td>\n",
       "      <td>-2.0</td>\n",
       "      <td>-1.961314</td>\n",
       "      <td>-1.961314</td>\n",
       "      <td>2019-03-08</td>\n",
       "      <td>2025-09-29 10:29:00</td>\n",
       "      <td>-1.961314</td>\n",
       "      <td>0.0</td>\n",
       "      <td>-1.961314</td>\n",
       "      <td>0.705882</td>\n",
       "      <td>03</td>\n",
       "      <td>5</td>\n",
       "      <td>0.0</td>\n",
       "      <td>1.0</td>\n",
       "      <td>1.0</td>\n",
       "      <td>0.0</td>\n",
       "      <td>1.0</td>\n",
       "      <td>0.0</td>\n",
       "      <td>0.0</td>\n",
       "      <td>0.0</td>\n",
       "      <td>0.0</td>\n",
       "      <td>0.0</td>\n",
       "      <td>0.0</td>\n",
       "      <td>0.0</td>\n",
       "      <td>0.0</td>\n",
       "    </tr>\n",
       "    <tr>\n",
       "      <th>2</th>\n",
       "      <td>631-41-3108</td>\n",
       "      <td>-0.419252</td>\n",
       "      <td>0.0</td>\n",
       "      <td>-0.712523</td>\n",
       "      <td>-0.712523</td>\n",
       "      <td>2019-03-03</td>\n",
       "      <td>2025-09-29 13:23:00</td>\n",
       "      <td>-0.712523</td>\n",
       "      <td>0.0</td>\n",
       "      <td>-0.712523</td>\n",
       "      <td>-0.588235</td>\n",
       "      <td>03</td>\n",
       "      <td>0</td>\n",
       "      <td>0.0</td>\n",
       "      <td>0.0</td>\n",
       "      <td>0.0</td>\n",
       "      <td>1.0</td>\n",
       "      <td>1.0</td>\n",
       "      <td>0.0</td>\n",
       "      <td>0.0</td>\n",
       "      <td>0.0</td>\n",
       "      <td>0.0</td>\n",
       "      <td>1.0</td>\n",
       "      <td>0.0</td>\n",
       "      <td>1.0</td>\n",
       "      <td>0.0</td>\n",
       "    </tr>\n",
       "    <tr>\n",
       "      <th>3</th>\n",
       "      <td>123-19-1176</td>\n",
       "      <td>0.000000</td>\n",
       "      <td>1.0</td>\n",
       "      <td>0.000000</td>\n",
       "      <td>0.000000</td>\n",
       "      <td>2019-01-27</td>\n",
       "      <td>2025-09-29 20:33:00</td>\n",
       "      <td>0.000000</td>\n",
       "      <td>0.0</td>\n",
       "      <td>0.000000</td>\n",
       "      <td>0.000000</td>\n",
       "      <td>01</td>\n",
       "      <td>0</td>\n",
       "      <td>0.0</td>\n",
       "      <td>0.0</td>\n",
       "      <td>0.0</td>\n",
       "      <td>1.0</td>\n",
       "      <td>0.0</td>\n",
       "      <td>0.0</td>\n",
       "      <td>0.0</td>\n",
       "      <td>0.0</td>\n",
       "      <td>1.0</td>\n",
       "      <td>0.0</td>\n",
       "      <td>0.0</td>\n",
       "      <td>0.0</td>\n",
       "      <td>1.0</td>\n",
       "    </tr>\n",
       "    <tr>\n",
       "      <th>4</th>\n",
       "      <td>373-73-7910</td>\n",
       "      <td>0.990480</td>\n",
       "      <td>0.0</td>\n",
       "      <td>0.697209</td>\n",
       "      <td>0.697209</td>\n",
       "      <td>2019-02-08</td>\n",
       "      <td>2025-09-29 10:37:00</td>\n",
       "      <td>0.697209</td>\n",
       "      <td>0.0</td>\n",
       "      <td>0.697209</td>\n",
       "      <td>-1.823529</td>\n",
       "      <td>02</td>\n",
       "      <td>5</td>\n",
       "      <td>0.0</td>\n",
       "      <td>0.0</td>\n",
       "      <td>0.0</td>\n",
       "      <td>1.0</td>\n",
       "      <td>0.0</td>\n",
       "      <td>0.0</td>\n",
       "      <td>0.0</td>\n",
       "      <td>0.0</td>\n",
       "      <td>0.0</td>\n",
       "      <td>0.0</td>\n",
       "      <td>1.0</td>\n",
       "      <td>0.0</td>\n",
       "      <td>1.0</td>\n",
       "    </tr>\n",
       "  </tbody>\n",
       "</table>\n",
       "</div>"
      ],
      "text/plain": [
       "    invoice id  unit price  quantity    tax 5%     sales       date  \\\n",
       "0  750-67-8428    0.580748       0.0  0.287477  0.287477 2019-01-05   \n",
       "1  226-31-3081   -1.514104      -2.0 -1.961314 -1.961314 2019-03-08   \n",
       "2  631-41-3108   -0.419252       0.0 -0.712523 -0.712523 2019-03-03   \n",
       "3  123-19-1176    0.000000       1.0  0.000000  0.000000 2019-01-27   \n",
       "4  373-73-7910    0.990480       0.0  0.697209  0.697209 2019-02-08   \n",
       "\n",
       "                 time      cogs  gross margin percentage  gross income  \\\n",
       "0 2025-09-29 13:08:00  0.287477                      0.0      0.287477   \n",
       "1 2025-09-29 10:29:00 -1.961314                      0.0     -1.961314   \n",
       "2 2025-09-29 13:23:00 -0.712523                      0.0     -0.712523   \n",
       "3 2025-09-29 20:33:00  0.000000                      0.0      0.000000   \n",
       "4 2025-09-29 10:37:00  0.697209                      0.0      0.697209   \n",
       "\n",
       "     rating month day  branch_Cairo  branch_Giza  city_Naypyitaw  city_Yangon  \\\n",
       "0  0.411765    01   6           0.0          0.0             0.0          1.0   \n",
       "1  0.705882    03   5           0.0          1.0             1.0          0.0   \n",
       "2 -0.588235    03   0           0.0          0.0             0.0          1.0   \n",
       "3  0.000000    01   0           0.0          0.0             0.0          1.0   \n",
       "4 -1.823529    02   5           0.0          0.0             0.0          1.0   \n",
       "\n",
       "   customer type_Normal  gender_Male  product line_Fashion accessories  \\\n",
       "0                   0.0          0.0                               0.0   \n",
       "1                   1.0          0.0                               0.0   \n",
       "2                   1.0          0.0                               0.0   \n",
       "3                   0.0          0.0                               0.0   \n",
       "4                   0.0          0.0                               0.0   \n",
       "\n",
       "   product line_Food and beverages  product line_Health and beauty  \\\n",
       "0                              0.0                             1.0   \n",
       "1                              0.0                             0.0   \n",
       "2                              0.0                             0.0   \n",
       "3                              0.0                             1.0   \n",
       "4                              0.0                             0.0   \n",
       "\n",
       "   product line_Home and lifestyle  product line_Sports and travel  \\\n",
       "0                              0.0                             0.0   \n",
       "1                              0.0                             0.0   \n",
       "2                              1.0                             0.0   \n",
       "3                              0.0                             0.0   \n",
       "4                              0.0                             1.0   \n",
       "\n",
       "   payment_Credit card  payment_Ewallet  \n",
       "0                  0.0              1.0  \n",
       "1                  0.0              0.0  \n",
       "2                  1.0              0.0  \n",
       "3                  0.0              1.0  \n",
       "4                  0.0              1.0  "
      ]
     },
     "execution_count": 100,
     "metadata": {},
     "output_type": "execute_result"
    }
   ],
   "source": [
    "new_df.head()"
   ]
  },
  {
   "cell_type": "markdown",
   "id": "9d9c460f-d15e-46cf-bec7-c1faf6ae0148",
   "metadata": {},
   "source": [
    "####################"
   ]
  },
  {
   "cell_type": "code",
   "execution_count": 102,
   "id": "61fe5a05-7850-4a5b-9e5b-c74fef775731",
   "metadata": {},
   "outputs": [
    {
     "data": {
      "text/html": [
       "<div>\n",
       "<style scoped>\n",
       "    .dataframe tbody tr th:only-of-type {\n",
       "        vertical-align: middle;\n",
       "    }\n",
       "\n",
       "    .dataframe tbody tr th {\n",
       "        vertical-align: top;\n",
       "    }\n",
       "\n",
       "    .dataframe thead th {\n",
       "        text-align: right;\n",
       "    }\n",
       "</style>\n",
       "<table border=\"1\" class=\"dataframe\">\n",
       "  <thead>\n",
       "    <tr style=\"text-align: right;\">\n",
       "      <th></th>\n",
       "      <th>invoice id</th>\n",
       "      <th>branch</th>\n",
       "      <th>city</th>\n",
       "      <th>customer type</th>\n",
       "      <th>gender</th>\n",
       "      <th>product line</th>\n",
       "      <th>unit price</th>\n",
       "      <th>quantity</th>\n",
       "      <th>tax 5%</th>\n",
       "      <th>sales</th>\n",
       "      <th>date</th>\n",
       "      <th>time</th>\n",
       "      <th>payment</th>\n",
       "      <th>cogs</th>\n",
       "      <th>gross margin percentage</th>\n",
       "      <th>gross income</th>\n",
       "      <th>rating</th>\n",
       "      <th>month</th>\n",
       "      <th>day</th>\n",
       "    </tr>\n",
       "  </thead>\n",
       "  <tbody>\n",
       "    <tr>\n",
       "      <th>0</th>\n",
       "      <td>750-67-8428</td>\n",
       "      <td>Alex</td>\n",
       "      <td>Yangon</td>\n",
       "      <td>Member</td>\n",
       "      <td>Female</td>\n",
       "      <td>Health and beauty</td>\n",
       "      <td>74.69</td>\n",
       "      <td>7</td>\n",
       "      <td>26.1415</td>\n",
       "      <td>548.9715</td>\n",
       "      <td>2019-01-05</td>\n",
       "      <td>2025-09-29 13:08:00</td>\n",
       "      <td>Ewallet</td>\n",
       "      <td>522.83</td>\n",
       "      <td>4.761905</td>\n",
       "      <td>26.1415</td>\n",
       "      <td>9.1</td>\n",
       "      <td>01</td>\n",
       "      <td>6</td>\n",
       "    </tr>\n",
       "    <tr>\n",
       "      <th>1</th>\n",
       "      <td>226-31-3081</td>\n",
       "      <td>Giza</td>\n",
       "      <td>Naypyitaw</td>\n",
       "      <td>Normal</td>\n",
       "      <td>Female</td>\n",
       "      <td>Electronic accessories</td>\n",
       "      <td>15.28</td>\n",
       "      <td>5</td>\n",
       "      <td>3.8200</td>\n",
       "      <td>80.2200</td>\n",
       "      <td>2019-03-08</td>\n",
       "      <td>2025-09-29 10:29:00</td>\n",
       "      <td>Cash</td>\n",
       "      <td>76.40</td>\n",
       "      <td>4.761905</td>\n",
       "      <td>3.8200</td>\n",
       "      <td>9.6</td>\n",
       "      <td>03</td>\n",
       "      <td>5</td>\n",
       "    </tr>\n",
       "    <tr>\n",
       "      <th>2</th>\n",
       "      <td>631-41-3108</td>\n",
       "      <td>Alex</td>\n",
       "      <td>Yangon</td>\n",
       "      <td>Normal</td>\n",
       "      <td>Female</td>\n",
       "      <td>Home and lifestyle</td>\n",
       "      <td>46.33</td>\n",
       "      <td>7</td>\n",
       "      <td>16.2155</td>\n",
       "      <td>340.5255</td>\n",
       "      <td>2019-03-03</td>\n",
       "      <td>2025-09-29 13:23:00</td>\n",
       "      <td>Credit card</td>\n",
       "      <td>324.31</td>\n",
       "      <td>4.761905</td>\n",
       "      <td>16.2155</td>\n",
       "      <td>7.4</td>\n",
       "      <td>03</td>\n",
       "      <td>0</td>\n",
       "    </tr>\n",
       "    <tr>\n",
       "      <th>3</th>\n",
       "      <td>123-19-1176</td>\n",
       "      <td>Alex</td>\n",
       "      <td>Yangon</td>\n",
       "      <td>Member</td>\n",
       "      <td>Female</td>\n",
       "      <td>Health and beauty</td>\n",
       "      <td>58.22</td>\n",
       "      <td>8</td>\n",
       "      <td>23.2880</td>\n",
       "      <td>489.0480</td>\n",
       "      <td>2019-01-27</td>\n",
       "      <td>2025-09-29 20:33:00</td>\n",
       "      <td>Ewallet</td>\n",
       "      <td>465.76</td>\n",
       "      <td>4.761905</td>\n",
       "      <td>23.2880</td>\n",
       "      <td>8.4</td>\n",
       "      <td>01</td>\n",
       "      <td>0</td>\n",
       "    </tr>\n",
       "    <tr>\n",
       "      <th>4</th>\n",
       "      <td>373-73-7910</td>\n",
       "      <td>Alex</td>\n",
       "      <td>Yangon</td>\n",
       "      <td>Member</td>\n",
       "      <td>Female</td>\n",
       "      <td>Sports and travel</td>\n",
       "      <td>86.31</td>\n",
       "      <td>7</td>\n",
       "      <td>30.2085</td>\n",
       "      <td>634.3785</td>\n",
       "      <td>2019-02-08</td>\n",
       "      <td>2025-09-29 10:37:00</td>\n",
       "      <td>Ewallet</td>\n",
       "      <td>604.17</td>\n",
       "      <td>4.761905</td>\n",
       "      <td>30.2085</td>\n",
       "      <td>5.3</td>\n",
       "      <td>02</td>\n",
       "      <td>5</td>\n",
       "    </tr>\n",
       "  </tbody>\n",
       "</table>\n",
       "</div>"
      ],
      "text/plain": [
       "    invoice id branch       city customer type  gender  \\\n",
       "0  750-67-8428   Alex     Yangon        Member  Female   \n",
       "1  226-31-3081   Giza  Naypyitaw        Normal  Female   \n",
       "2  631-41-3108   Alex     Yangon        Normal  Female   \n",
       "3  123-19-1176   Alex     Yangon        Member  Female   \n",
       "4  373-73-7910   Alex     Yangon        Member  Female   \n",
       "\n",
       "             product line  unit price  quantity   tax 5%     sales       date  \\\n",
       "0       Health and beauty       74.69         7  26.1415  548.9715 2019-01-05   \n",
       "1  Electronic accessories       15.28         5   3.8200   80.2200 2019-03-08   \n",
       "2      Home and lifestyle       46.33         7  16.2155  340.5255 2019-03-03   \n",
       "3       Health and beauty       58.22         8  23.2880  489.0480 2019-01-27   \n",
       "4       Sports and travel       86.31         7  30.2085  634.3785 2019-02-08   \n",
       "\n",
       "                 time      payment    cogs  gross margin percentage  \\\n",
       "0 2025-09-29 13:08:00      Ewallet  522.83                 4.761905   \n",
       "1 2025-09-29 10:29:00         Cash   76.40                 4.761905   \n",
       "2 2025-09-29 13:23:00  Credit card  324.31                 4.761905   \n",
       "3 2025-09-29 20:33:00      Ewallet  465.76                 4.761905   \n",
       "4 2025-09-29 10:37:00      Ewallet  604.17                 4.761905   \n",
       "\n",
       "   gross income  rating month day  \n",
       "0       26.1415     9.1    01   6  \n",
       "1        3.8200     9.6    03   5  \n",
       "2       16.2155     7.4    03   0  \n",
       "3       23.2880     8.4    01   0  \n",
       "4       30.2085     5.3    02   5  "
      ]
     },
     "execution_count": 102,
     "metadata": {},
     "output_type": "execute_result"
    }
   ],
   "source": [
    "df.head()"
   ]
  },
  {
   "cell_type": "markdown",
   "id": "7d7fc51d-2aef-4e9e-b04a-d84c763698f4",
   "metadata": {},
   "source": [
    "### 1- Split Data into Input features and Target feature"
   ]
  },
  {
   "cell_type": "code",
   "execution_count": 103,
   "id": "fc28463a-023d-4be8-b572-9bf4da2594f5",
   "metadata": {},
   "outputs": [],
   "source": [
    "x = df.drop('sales', axis= 1)\n",
    "\n",
    "y = df['sales']"
   ]
  },
  {
   "cell_type": "code",
   "execution_count": 104,
   "id": "242cbb15-1da3-47a6-a96b-98cbaeb14375",
   "metadata": {},
   "outputs": [
    {
     "data": {
      "text/plain": [
       "0       548.9715\n",
       "1        80.2200\n",
       "2       340.5255\n",
       "3       489.0480\n",
       "4       634.3785\n",
       "         ...    \n",
       "995      42.3675\n",
       "996    1022.4900\n",
       "997      33.4320\n",
       "998      69.1110\n",
       "999     649.2990\n",
       "Name: sales, Length: 1000, dtype: float64"
      ]
     },
     "execution_count": 104,
     "metadata": {},
     "output_type": "execute_result"
    }
   ],
   "source": [
    "y"
   ]
  },
  {
   "cell_type": "markdown",
   "id": "8122b332-fde7-4b01-a36d-92f507aeab3a",
   "metadata": {},
   "source": [
    "### 2- Split Data into Train & Test"
   ]
  },
  {
   "cell_type": "code",
   "execution_count": 2,
   "id": "50303302-16e7-441c-9a3c-6bb4b72056d5",
   "metadata": {},
   "outputs": [
    {
     "name": "stdout",
     "output_type": "stream",
     "text": [
      "Requirement already satisfied: scikit-learn in c:\\users\\ahmed saif\\anaconda3\\envs\\new_env\\lib\\site-packages (1.7.2)\n",
      "Requirement already satisfied: numpy>=1.22.0 in c:\\users\\ahmed saif\\anaconda3\\envs\\new_env\\lib\\site-packages (from scikit-learn) (2.0.1)\n",
      "Requirement already satisfied: scipy>=1.8.0 in c:\\users\\ahmed saif\\anaconda3\\envs\\new_env\\lib\\site-packages (from scikit-learn) (1.15.3)\n",
      "Requirement already satisfied: joblib>=1.2.0 in c:\\users\\ahmed saif\\anaconda3\\envs\\new_env\\lib\\site-packages (from scikit-learn) (1.5.2)\n",
      "Requirement already satisfied: threadpoolctl>=3.1.0 in c:\\users\\ahmed saif\\anaconda3\\envs\\new_env\\lib\\site-packages (from scikit-learn) (3.6.0)\n"
     ]
    }
   ],
   "source": [
    "#!pip install scikit-learn"
   ]
  },
  {
   "cell_type": "code",
   "execution_count": 105,
   "id": "66450208-c4a4-4613-9b57-0924e2a8af90",
   "metadata": {
    "scrolled": true
   },
   "outputs": [],
   "source": [
    "from sklearn.model_selection import train_test_split\n",
    "x_train, x_test, y_train, y_test = train_test_split(x, y, test_size= 0.2, random_state= 42)"
   ]
  },
  {
   "cell_type": "code",
   "execution_count": 106,
   "id": "72269674-9d2c-4eb1-92ff-87910b9083ac",
   "metadata": {},
   "outputs": [
    {
     "data": {
      "text/plain": [
       "sales\n",
       "87.2340     0.25\n",
       "217.6335    0.25\n",
       "175.9170    0.25\n",
       "189.0945    0.25\n",
       "263.9700    0.25\n",
       "            ... \n",
       "763.4655    0.12\n",
       "85.5855     0.12\n",
       "479.9025    0.12\n",
       "833.5950    0.12\n",
       "218.0115    0.12\n",
       "Name: proportion, Length: 793, dtype: float64"
      ]
     },
     "execution_count": 106,
     "metadata": {},
     "output_type": "execute_result"
    }
   ],
   "source": [
    "y_train.value_counts(normalize= True).round(4) * 100"
   ]
  },
  {
   "cell_type": "code",
   "execution_count": 107,
   "id": "3bfe5042-ebf9-4468-9fad-51e6dccea656",
   "metadata": {},
   "outputs": [
    {
     "data": {
      "text/plain": [
       "sales\n",
       "216.8460    1.0\n",
       "523.9710    0.5\n",
       "836.3040    0.5\n",
       "20.1075     0.5\n",
       "131.9220    0.5\n",
       "           ... \n",
       "118.2510    0.5\n",
       "391.4190    0.5\n",
       "127.2600    0.5\n",
       "293.1390    0.5\n",
       "822.2550    0.5\n",
       "Name: proportion, Length: 199, dtype: float64"
      ]
     },
     "execution_count": 107,
     "metadata": {},
     "output_type": "execute_result"
    }
   ],
   "source": [
    "y_test.value_counts(normalize= True).round(4) * 100"
   ]
  },
  {
   "cell_type": "code",
   "execution_count": 108,
   "id": "e25596c6-734d-4be4-b90f-1924d98be15c",
   "metadata": {},
   "outputs": [
    {
     "data": {
      "text/html": [
       "<div>\n",
       "<style scoped>\n",
       "    .dataframe tbody tr th:only-of-type {\n",
       "        vertical-align: middle;\n",
       "    }\n",
       "\n",
       "    .dataframe tbody tr th {\n",
       "        vertical-align: top;\n",
       "    }\n",
       "\n",
       "    .dataframe thead th {\n",
       "        text-align: right;\n",
       "    }\n",
       "</style>\n",
       "<table border=\"1\" class=\"dataframe\">\n",
       "  <thead>\n",
       "    <tr style=\"text-align: right;\">\n",
       "      <th></th>\n",
       "      <th>invoice id</th>\n",
       "      <th>branch</th>\n",
       "      <th>city</th>\n",
       "      <th>customer type</th>\n",
       "      <th>gender</th>\n",
       "      <th>product line</th>\n",
       "      <th>unit price</th>\n",
       "      <th>quantity</th>\n",
       "      <th>tax 5%</th>\n",
       "      <th>date</th>\n",
       "      <th>time</th>\n",
       "      <th>payment</th>\n",
       "      <th>cogs</th>\n",
       "      <th>gross margin percentage</th>\n",
       "      <th>gross income</th>\n",
       "      <th>rating</th>\n",
       "      <th>month</th>\n",
       "      <th>day</th>\n",
       "    </tr>\n",
       "  </thead>\n",
       "  <tbody>\n",
       "    <tr>\n",
       "      <th>29</th>\n",
       "      <td>848-62-7243</td>\n",
       "      <td>Alex</td>\n",
       "      <td>Yangon</td>\n",
       "      <td>Member</td>\n",
       "      <td>Female</td>\n",
       "      <td>Health and beauty</td>\n",
       "      <td>24.89</td>\n",
       "      <td>9</td>\n",
       "      <td>11.2005</td>\n",
       "      <td>2019-03-15</td>\n",
       "      <td>2025-09-29 15:36:00</td>\n",
       "      <td>Cash</td>\n",
       "      <td>224.01</td>\n",
       "      <td>4.761905</td>\n",
       "      <td>11.2005</td>\n",
       "      <td>7.4</td>\n",
       "      <td>03</td>\n",
       "      <td>5</td>\n",
       "    </tr>\n",
       "    <tr>\n",
       "      <th>535</th>\n",
       "      <td>583-41-4548</td>\n",
       "      <td>Giza</td>\n",
       "      <td>Naypyitaw</td>\n",
       "      <td>Normal</td>\n",
       "      <td>Male</td>\n",
       "      <td>Home and lifestyle</td>\n",
       "      <td>16.67</td>\n",
       "      <td>7</td>\n",
       "      <td>5.8345</td>\n",
       "      <td>2019-02-07</td>\n",
       "      <td>2025-09-29 11:36:00</td>\n",
       "      <td>Ewallet</td>\n",
       "      <td>116.69</td>\n",
       "      <td>4.761905</td>\n",
       "      <td>5.8345</td>\n",
       "      <td>7.4</td>\n",
       "      <td>02</td>\n",
       "      <td>4</td>\n",
       "    </tr>\n",
       "    <tr>\n",
       "      <th>695</th>\n",
       "      <td>800-09-8606</td>\n",
       "      <td>Alex</td>\n",
       "      <td>Yangon</td>\n",
       "      <td>Member</td>\n",
       "      <td>Female</td>\n",
       "      <td>Home and lifestyle</td>\n",
       "      <td>87.37</td>\n",
       "      <td>5</td>\n",
       "      <td>21.8425</td>\n",
       "      <td>2019-01-29</td>\n",
       "      <td>2025-09-29 19:45:00</td>\n",
       "      <td>Cash</td>\n",
       "      <td>436.85</td>\n",
       "      <td>4.761905</td>\n",
       "      <td>21.8425</td>\n",
       "      <td>6.6</td>\n",
       "      <td>01</td>\n",
       "      <td>2</td>\n",
       "    </tr>\n",
       "    <tr>\n",
       "      <th>557</th>\n",
       "      <td>283-26-5248</td>\n",
       "      <td>Giza</td>\n",
       "      <td>Naypyitaw</td>\n",
       "      <td>Member</td>\n",
       "      <td>Female</td>\n",
       "      <td>Food and beverages</td>\n",
       "      <td>98.52</td>\n",
       "      <td>10</td>\n",
       "      <td>49.2600</td>\n",
       "      <td>2019-01-30</td>\n",
       "      <td>2025-09-29 20:23:00</td>\n",
       "      <td>Ewallet</td>\n",
       "      <td>985.20</td>\n",
       "      <td>4.761905</td>\n",
       "      <td>49.2600</td>\n",
       "      <td>4.5</td>\n",
       "      <td>01</td>\n",
       "      <td>3</td>\n",
       "    </tr>\n",
       "    <tr>\n",
       "      <th>836</th>\n",
       "      <td>288-62-1085</td>\n",
       "      <td>Alex</td>\n",
       "      <td>Yangon</td>\n",
       "      <td>Member</td>\n",
       "      <td>Male</td>\n",
       "      <td>Fashion accessories</td>\n",
       "      <td>38.54</td>\n",
       "      <td>5</td>\n",
       "      <td>9.6350</td>\n",
       "      <td>2019-01-09</td>\n",
       "      <td>2025-09-29 13:34:00</td>\n",
       "      <td>Ewallet</td>\n",
       "      <td>192.70</td>\n",
       "      <td>4.761905</td>\n",
       "      <td>9.6350</td>\n",
       "      <td>5.6</td>\n",
       "      <td>01</td>\n",
       "      <td>3</td>\n",
       "    </tr>\n",
       "    <tr>\n",
       "      <th>...</th>\n",
       "      <td>...</td>\n",
       "      <td>...</td>\n",
       "      <td>...</td>\n",
       "      <td>...</td>\n",
       "      <td>...</td>\n",
       "      <td>...</td>\n",
       "      <td>...</td>\n",
       "      <td>...</td>\n",
       "      <td>...</td>\n",
       "      <td>...</td>\n",
       "      <td>...</td>\n",
       "      <td>...</td>\n",
       "      <td>...</td>\n",
       "      <td>...</td>\n",
       "      <td>...</td>\n",
       "      <td>...</td>\n",
       "      <td>...</td>\n",
       "      <td>...</td>\n",
       "    </tr>\n",
       "    <tr>\n",
       "      <th>106</th>\n",
       "      <td>628-34-3388</td>\n",
       "      <td>Giza</td>\n",
       "      <td>Naypyitaw</td>\n",
       "      <td>Member</td>\n",
       "      <td>Female</td>\n",
       "      <td>Fashion accessories</td>\n",
       "      <td>27.38</td>\n",
       "      <td>6</td>\n",
       "      <td>8.2140</td>\n",
       "      <td>2019-01-05</td>\n",
       "      <td>2025-09-29 20:54:00</td>\n",
       "      <td>Credit card</td>\n",
       "      <td>164.28</td>\n",
       "      <td>4.761905</td>\n",
       "      <td>8.2140</td>\n",
       "      <td>7.9</td>\n",
       "      <td>01</td>\n",
       "      <td>6</td>\n",
       "    </tr>\n",
       "    <tr>\n",
       "      <th>270</th>\n",
       "      <td>783-09-1637</td>\n",
       "      <td>Cairo</td>\n",
       "      <td>Mandalay</td>\n",
       "      <td>Normal</td>\n",
       "      <td>Female</td>\n",
       "      <td>Sports and travel</td>\n",
       "      <td>67.43</td>\n",
       "      <td>5</td>\n",
       "      <td>16.8575</td>\n",
       "      <td>2019-03-06</td>\n",
       "      <td>2025-09-29 18:13:00</td>\n",
       "      <td>Ewallet</td>\n",
       "      <td>337.15</td>\n",
       "      <td>4.761905</td>\n",
       "      <td>16.8575</td>\n",
       "      <td>6.3</td>\n",
       "      <td>03</td>\n",
       "      <td>3</td>\n",
       "    </tr>\n",
       "    <tr>\n",
       "      <th>860</th>\n",
       "      <td>848-95-6252</td>\n",
       "      <td>Giza</td>\n",
       "      <td>Naypyitaw</td>\n",
       "      <td>Member</td>\n",
       "      <td>Female</td>\n",
       "      <td>Home and lifestyle</td>\n",
       "      <td>86.27</td>\n",
       "      <td>1</td>\n",
       "      <td>4.3135</td>\n",
       "      <td>2019-02-20</td>\n",
       "      <td>2025-09-29 13:24:00</td>\n",
       "      <td>Ewallet</td>\n",
       "      <td>86.27</td>\n",
       "      <td>4.761905</td>\n",
       "      <td>4.3135</td>\n",
       "      <td>7.0</td>\n",
       "      <td>02</td>\n",
       "      <td>3</td>\n",
       "    </tr>\n",
       "    <tr>\n",
       "      <th>435</th>\n",
       "      <td>751-69-0068</td>\n",
       "      <td>Giza</td>\n",
       "      <td>Naypyitaw</td>\n",
       "      <td>Normal</td>\n",
       "      <td>Male</td>\n",
       "      <td>Sports and travel</td>\n",
       "      <td>99.24</td>\n",
       "      <td>9</td>\n",
       "      <td>44.6580</td>\n",
       "      <td>2019-03-19</td>\n",
       "      <td>2025-09-29 19:09:00</td>\n",
       "      <td>Ewallet</td>\n",
       "      <td>893.16</td>\n",
       "      <td>4.761905</td>\n",
       "      <td>44.6580</td>\n",
       "      <td>9.0</td>\n",
       "      <td>03</td>\n",
       "      <td>2</td>\n",
       "    </tr>\n",
       "    <tr>\n",
       "      <th>102</th>\n",
       "      <td>551-21-3069</td>\n",
       "      <td>Giza</td>\n",
       "      <td>Naypyitaw</td>\n",
       "      <td>Member</td>\n",
       "      <td>Female</td>\n",
       "      <td>Electronic accessories</td>\n",
       "      <td>23.07</td>\n",
       "      <td>9</td>\n",
       "      <td>10.3815</td>\n",
       "      <td>2019-02-01</td>\n",
       "      <td>2025-09-29 11:27:00</td>\n",
       "      <td>Cash</td>\n",
       "      <td>207.63</td>\n",
       "      <td>4.761905</td>\n",
       "      <td>10.3815</td>\n",
       "      <td>4.9</td>\n",
       "      <td>02</td>\n",
       "      <td>5</td>\n",
       "    </tr>\n",
       "  </tbody>\n",
       "</table>\n",
       "<p>800 rows × 18 columns</p>\n",
       "</div>"
      ],
      "text/plain": [
       "      invoice id branch       city customer type  gender  \\\n",
       "29   848-62-7243   Alex     Yangon        Member  Female   \n",
       "535  583-41-4548   Giza  Naypyitaw        Normal    Male   \n",
       "695  800-09-8606   Alex     Yangon        Member  Female   \n",
       "557  283-26-5248   Giza  Naypyitaw        Member  Female   \n",
       "836  288-62-1085   Alex     Yangon        Member    Male   \n",
       "..           ...    ...        ...           ...     ...   \n",
       "106  628-34-3388   Giza  Naypyitaw        Member  Female   \n",
       "270  783-09-1637  Cairo   Mandalay        Normal  Female   \n",
       "860  848-95-6252   Giza  Naypyitaw        Member  Female   \n",
       "435  751-69-0068   Giza  Naypyitaw        Normal    Male   \n",
       "102  551-21-3069   Giza  Naypyitaw        Member  Female   \n",
       "\n",
       "               product line  unit price  quantity   tax 5%       date  \\\n",
       "29        Health and beauty       24.89         9  11.2005 2019-03-15   \n",
       "535      Home and lifestyle       16.67         7   5.8345 2019-02-07   \n",
       "695      Home and lifestyle       87.37         5  21.8425 2019-01-29   \n",
       "557      Food and beverages       98.52        10  49.2600 2019-01-30   \n",
       "836     Fashion accessories       38.54         5   9.6350 2019-01-09   \n",
       "..                      ...         ...       ...      ...        ...   \n",
       "106     Fashion accessories       27.38         6   8.2140 2019-01-05   \n",
       "270       Sports and travel       67.43         5  16.8575 2019-03-06   \n",
       "860      Home and lifestyle       86.27         1   4.3135 2019-02-20   \n",
       "435       Sports and travel       99.24         9  44.6580 2019-03-19   \n",
       "102  Electronic accessories       23.07         9  10.3815 2019-02-01   \n",
       "\n",
       "                   time      payment    cogs  gross margin percentage  \\\n",
       "29  2025-09-29 15:36:00         Cash  224.01                 4.761905   \n",
       "535 2025-09-29 11:36:00      Ewallet  116.69                 4.761905   \n",
       "695 2025-09-29 19:45:00         Cash  436.85                 4.761905   \n",
       "557 2025-09-29 20:23:00      Ewallet  985.20                 4.761905   \n",
       "836 2025-09-29 13:34:00      Ewallet  192.70                 4.761905   \n",
       "..                  ...          ...     ...                      ...   \n",
       "106 2025-09-29 20:54:00  Credit card  164.28                 4.761905   \n",
       "270 2025-09-29 18:13:00      Ewallet  337.15                 4.761905   \n",
       "860 2025-09-29 13:24:00      Ewallet   86.27                 4.761905   \n",
       "435 2025-09-29 19:09:00      Ewallet  893.16                 4.761905   \n",
       "102 2025-09-29 11:27:00         Cash  207.63                 4.761905   \n",
       "\n",
       "     gross income  rating month day  \n",
       "29        11.2005     7.4    03   5  \n",
       "535        5.8345     7.4    02   4  \n",
       "695       21.8425     6.6    01   2  \n",
       "557       49.2600     4.5    01   3  \n",
       "836        9.6350     5.6    01   3  \n",
       "..            ...     ...   ...  ..  \n",
       "106        8.2140     7.9    01   6  \n",
       "270       16.8575     6.3    03   3  \n",
       "860        4.3135     7.0    02   3  \n",
       "435       44.6580     9.0    03   2  \n",
       "102       10.3815     4.9    02   5  \n",
       "\n",
       "[800 rows x 18 columns]"
      ]
     },
     "execution_count": 108,
     "metadata": {},
     "output_type": "execute_result"
    }
   ],
   "source": [
    "x_train"
   ]
  },
  {
   "cell_type": "code",
   "execution_count": 109,
   "id": "f774d21f-6ec1-44d9-9256-27ddefdc9dcb",
   "metadata": {},
   "outputs": [
    {
     "data": {
      "text/html": [
       "<div>\n",
       "<style scoped>\n",
       "    .dataframe tbody tr th:only-of-type {\n",
       "        vertical-align: middle;\n",
       "    }\n",
       "\n",
       "    .dataframe tbody tr th {\n",
       "        vertical-align: top;\n",
       "    }\n",
       "\n",
       "    .dataframe thead th {\n",
       "        text-align: right;\n",
       "    }\n",
       "</style>\n",
       "<table border=\"1\" class=\"dataframe\">\n",
       "  <thead>\n",
       "    <tr style=\"text-align: right;\">\n",
       "      <th></th>\n",
       "      <th>invoice id</th>\n",
       "      <th>branch</th>\n",
       "      <th>city</th>\n",
       "      <th>customer type</th>\n",
       "      <th>gender</th>\n",
       "      <th>product line</th>\n",
       "      <th>unit price</th>\n",
       "      <th>quantity</th>\n",
       "      <th>tax 5%</th>\n",
       "      <th>date</th>\n",
       "      <th>time</th>\n",
       "      <th>payment</th>\n",
       "      <th>cogs</th>\n",
       "      <th>gross margin percentage</th>\n",
       "      <th>gross income</th>\n",
       "      <th>rating</th>\n",
       "      <th>month</th>\n",
       "      <th>day</th>\n",
       "    </tr>\n",
       "  </thead>\n",
       "  <tbody>\n",
       "    <tr>\n",
       "      <th>521</th>\n",
       "      <td>451-28-5717</td>\n",
       "      <td>Giza</td>\n",
       "      <td>Naypyitaw</td>\n",
       "      <td>Member</td>\n",
       "      <td>Female</td>\n",
       "      <td>Home and lifestyle</td>\n",
       "      <td>83.17</td>\n",
       "      <td>6</td>\n",
       "      <td>24.9510</td>\n",
       "      <td>2019-03-20</td>\n",
       "      <td>2025-09-29 11:23:00</td>\n",
       "      <td>Cash</td>\n",
       "      <td>499.02</td>\n",
       "      <td>4.761905</td>\n",
       "      <td>24.9510</td>\n",
       "      <td>7.3</td>\n",
       "      <td>03</td>\n",
       "      <td>3</td>\n",
       "    </tr>\n",
       "    <tr>\n",
       "      <th>737</th>\n",
       "      <td>137-63-5492</td>\n",
       "      <td>Giza</td>\n",
       "      <td>Naypyitaw</td>\n",
       "      <td>Normal</td>\n",
       "      <td>Male</td>\n",
       "      <td>Electronic accessories</td>\n",
       "      <td>58.76</td>\n",
       "      <td>10</td>\n",
       "      <td>29.3800</td>\n",
       "      <td>2019-01-29</td>\n",
       "      <td>2025-09-29 14:26:00</td>\n",
       "      <td>Ewallet</td>\n",
       "      <td>587.60</td>\n",
       "      <td>4.761905</td>\n",
       "      <td>29.3800</td>\n",
       "      <td>9.0</td>\n",
       "      <td>01</td>\n",
       "      <td>2</td>\n",
       "    </tr>\n",
       "    <tr>\n",
       "      <th>740</th>\n",
       "      <td>733-29-1227</td>\n",
       "      <td>Giza</td>\n",
       "      <td>Naypyitaw</td>\n",
       "      <td>Normal</td>\n",
       "      <td>Male</td>\n",
       "      <td>Home and lifestyle</td>\n",
       "      <td>55.61</td>\n",
       "      <td>7</td>\n",
       "      <td>19.4635</td>\n",
       "      <td>2019-03-23</td>\n",
       "      <td>2025-09-29 12:41:00</td>\n",
       "      <td>Cash</td>\n",
       "      <td>389.27</td>\n",
       "      <td>4.761905</td>\n",
       "      <td>19.4635</td>\n",
       "      <td>8.5</td>\n",
       "      <td>03</td>\n",
       "      <td>6</td>\n",
       "    </tr>\n",
       "    <tr>\n",
       "      <th>660</th>\n",
       "      <td>322-02-2271</td>\n",
       "      <td>Cairo</td>\n",
       "      <td>Mandalay</td>\n",
       "      <td>Normal</td>\n",
       "      <td>Female</td>\n",
       "      <td>Sports and travel</td>\n",
       "      <td>42.97</td>\n",
       "      <td>3</td>\n",
       "      <td>6.4455</td>\n",
       "      <td>2019-02-03</td>\n",
       "      <td>2025-09-29 11:46:00</td>\n",
       "      <td>Cash</td>\n",
       "      <td>128.91</td>\n",
       "      <td>4.761905</td>\n",
       "      <td>6.4455</td>\n",
       "      <td>9.3</td>\n",
       "      <td>02</td>\n",
       "      <td>0</td>\n",
       "    </tr>\n",
       "    <tr>\n",
       "      <th>411</th>\n",
       "      <td>569-71-4390</td>\n",
       "      <td>Cairo</td>\n",
       "      <td>Mandalay</td>\n",
       "      <td>Normal</td>\n",
       "      <td>Male</td>\n",
       "      <td>Sports and travel</td>\n",
       "      <td>21.87</td>\n",
       "      <td>2</td>\n",
       "      <td>2.1870</td>\n",
       "      <td>2019-01-25</td>\n",
       "      <td>2025-09-29 14:29:00</td>\n",
       "      <td>Ewallet</td>\n",
       "      <td>43.74</td>\n",
       "      <td>4.761905</td>\n",
       "      <td>2.1870</td>\n",
       "      <td>6.9</td>\n",
       "      <td>01</td>\n",
       "      <td>5</td>\n",
       "    </tr>\n",
       "    <tr>\n",
       "      <th>...</th>\n",
       "      <td>...</td>\n",
       "      <td>...</td>\n",
       "      <td>...</td>\n",
       "      <td>...</td>\n",
       "      <td>...</td>\n",
       "      <td>...</td>\n",
       "      <td>...</td>\n",
       "      <td>...</td>\n",
       "      <td>...</td>\n",
       "      <td>...</td>\n",
       "      <td>...</td>\n",
       "      <td>...</td>\n",
       "      <td>...</td>\n",
       "      <td>...</td>\n",
       "      <td>...</td>\n",
       "      <td>...</td>\n",
       "      <td>...</td>\n",
       "      <td>...</td>\n",
       "    </tr>\n",
       "    <tr>\n",
       "      <th>408</th>\n",
       "      <td>256-08-8343</td>\n",
       "      <td>Alex</td>\n",
       "      <td>Yangon</td>\n",
       "      <td>Normal</td>\n",
       "      <td>Female</td>\n",
       "      <td>Home and lifestyle</td>\n",
       "      <td>56.53</td>\n",
       "      <td>4</td>\n",
       "      <td>11.3060</td>\n",
       "      <td>2019-03-04</td>\n",
       "      <td>2025-09-29 19:48:00</td>\n",
       "      <td>Ewallet</td>\n",
       "      <td>226.12</td>\n",
       "      <td>4.761905</td>\n",
       "      <td>11.3060</td>\n",
       "      <td>5.5</td>\n",
       "      <td>03</td>\n",
       "      <td>1</td>\n",
       "    </tr>\n",
       "    <tr>\n",
       "      <th>332</th>\n",
       "      <td>566-71-1091</td>\n",
       "      <td>Alex</td>\n",
       "      <td>Yangon</td>\n",
       "      <td>Normal</td>\n",
       "      <td>Male</td>\n",
       "      <td>Fashion accessories</td>\n",
       "      <td>77.02</td>\n",
       "      <td>5</td>\n",
       "      <td>19.2550</td>\n",
       "      <td>2019-02-03</td>\n",
       "      <td>2025-09-29 15:59:00</td>\n",
       "      <td>Cash</td>\n",
       "      <td>385.10</td>\n",
       "      <td>4.761905</td>\n",
       "      <td>19.2550</td>\n",
       "      <td>5.5</td>\n",
       "      <td>02</td>\n",
       "      <td>0</td>\n",
       "    </tr>\n",
       "    <tr>\n",
       "      <th>208</th>\n",
       "      <td>573-58-9734</td>\n",
       "      <td>Cairo</td>\n",
       "      <td>Mandalay</td>\n",
       "      <td>Normal</td>\n",
       "      <td>Female</td>\n",
       "      <td>Fashion accessories</td>\n",
       "      <td>30.37</td>\n",
       "      <td>3</td>\n",
       "      <td>4.5555</td>\n",
       "      <td>2019-03-28</td>\n",
       "      <td>2025-09-29 13:41:00</td>\n",
       "      <td>Ewallet</td>\n",
       "      <td>91.11</td>\n",
       "      <td>4.761905</td>\n",
       "      <td>4.5555</td>\n",
       "      <td>5.1</td>\n",
       "      <td>03</td>\n",
       "      <td>4</td>\n",
       "    </tr>\n",
       "    <tr>\n",
       "      <th>613</th>\n",
       "      <td>284-54-4231</td>\n",
       "      <td>Giza</td>\n",
       "      <td>Naypyitaw</td>\n",
       "      <td>Member</td>\n",
       "      <td>Male</td>\n",
       "      <td>Sports and travel</td>\n",
       "      <td>80.93</td>\n",
       "      <td>1</td>\n",
       "      <td>4.0465</td>\n",
       "      <td>2019-01-19</td>\n",
       "      <td>2025-09-29 16:08:00</td>\n",
       "      <td>Credit card</td>\n",
       "      <td>80.93</td>\n",
       "      <td>4.761905</td>\n",
       "      <td>4.0465</td>\n",
       "      <td>9.0</td>\n",
       "      <td>01</td>\n",
       "      <td>6</td>\n",
       "    </tr>\n",
       "    <tr>\n",
       "      <th>78</th>\n",
       "      <td>829-49-1914</td>\n",
       "      <td>Giza</td>\n",
       "      <td>Naypyitaw</td>\n",
       "      <td>Member</td>\n",
       "      <td>Female</td>\n",
       "      <td>Food and beverages</td>\n",
       "      <td>78.31</td>\n",
       "      <td>10</td>\n",
       "      <td>39.1550</td>\n",
       "      <td>2019-03-05</td>\n",
       "      <td>2025-09-29 16:24:00</td>\n",
       "      <td>Ewallet</td>\n",
       "      <td>783.10</td>\n",
       "      <td>4.761905</td>\n",
       "      <td>39.1550</td>\n",
       "      <td>6.6</td>\n",
       "      <td>03</td>\n",
       "      <td>2</td>\n",
       "    </tr>\n",
       "  </tbody>\n",
       "</table>\n",
       "<p>200 rows × 18 columns</p>\n",
       "</div>"
      ],
      "text/plain": [
       "      invoice id branch       city customer type  gender  \\\n",
       "521  451-28-5717   Giza  Naypyitaw        Member  Female   \n",
       "737  137-63-5492   Giza  Naypyitaw        Normal    Male   \n",
       "740  733-29-1227   Giza  Naypyitaw        Normal    Male   \n",
       "660  322-02-2271  Cairo   Mandalay        Normal  Female   \n",
       "411  569-71-4390  Cairo   Mandalay        Normal    Male   \n",
       "..           ...    ...        ...           ...     ...   \n",
       "408  256-08-8343   Alex     Yangon        Normal  Female   \n",
       "332  566-71-1091   Alex     Yangon        Normal    Male   \n",
       "208  573-58-9734  Cairo   Mandalay        Normal  Female   \n",
       "613  284-54-4231   Giza  Naypyitaw        Member    Male   \n",
       "78   829-49-1914   Giza  Naypyitaw        Member  Female   \n",
       "\n",
       "               product line  unit price  quantity   tax 5%       date  \\\n",
       "521      Home and lifestyle       83.17         6  24.9510 2019-03-20   \n",
       "737  Electronic accessories       58.76        10  29.3800 2019-01-29   \n",
       "740      Home and lifestyle       55.61         7  19.4635 2019-03-23   \n",
       "660       Sports and travel       42.97         3   6.4455 2019-02-03   \n",
       "411       Sports and travel       21.87         2   2.1870 2019-01-25   \n",
       "..                      ...         ...       ...      ...        ...   \n",
       "408      Home and lifestyle       56.53         4  11.3060 2019-03-04   \n",
       "332     Fashion accessories       77.02         5  19.2550 2019-02-03   \n",
       "208     Fashion accessories       30.37         3   4.5555 2019-03-28   \n",
       "613       Sports and travel       80.93         1   4.0465 2019-01-19   \n",
       "78       Food and beverages       78.31        10  39.1550 2019-03-05   \n",
       "\n",
       "                   time      payment    cogs  gross margin percentage  \\\n",
       "521 2025-09-29 11:23:00         Cash  499.02                 4.761905   \n",
       "737 2025-09-29 14:26:00      Ewallet  587.60                 4.761905   \n",
       "740 2025-09-29 12:41:00         Cash  389.27                 4.761905   \n",
       "660 2025-09-29 11:46:00         Cash  128.91                 4.761905   \n",
       "411 2025-09-29 14:29:00      Ewallet   43.74                 4.761905   \n",
       "..                  ...          ...     ...                      ...   \n",
       "408 2025-09-29 19:48:00      Ewallet  226.12                 4.761905   \n",
       "332 2025-09-29 15:59:00         Cash  385.10                 4.761905   \n",
       "208 2025-09-29 13:41:00      Ewallet   91.11                 4.761905   \n",
       "613 2025-09-29 16:08:00  Credit card   80.93                 4.761905   \n",
       "78  2025-09-29 16:24:00      Ewallet  783.10                 4.761905   \n",
       "\n",
       "     gross income  rating month day  \n",
       "521       24.9510     7.3    03   3  \n",
       "737       29.3800     9.0    01   2  \n",
       "740       19.4635     8.5    03   6  \n",
       "660        6.4455     9.3    02   0  \n",
       "411        2.1870     6.9    01   5  \n",
       "..            ...     ...   ...  ..  \n",
       "408       11.3060     5.5    03   1  \n",
       "332       19.2550     5.5    02   0  \n",
       "208        4.5555     5.1    03   4  \n",
       "613        4.0465     9.0    01   6  \n",
       "78        39.1550     6.6    03   2  \n",
       "\n",
       "[200 rows x 18 columns]"
      ]
     },
     "execution_count": 109,
     "metadata": {},
     "output_type": "execute_result"
    }
   ],
   "source": [
    "x_test"
   ]
  },
  {
   "cell_type": "markdown",
   "id": "16eabc79-cf0d-45c1-9aba-a9b41f1cfaac",
   "metadata": {},
   "source": [
    "### 3- Handle Numerical Data"
   ]
  },
  {
   "cell_type": "markdown",
   "id": "90c5cd08-f461-458a-acb4-e0c321eaddc4",
   "metadata": {},
   "source": [
    "##### 1 -  Impute Missing"
   ]
  },
  {
   "cell_type": "code",
   "execution_count": 110,
   "id": "e46e4ff9-9ec5-4e93-8346-3ab988687d64",
   "metadata": {},
   "outputs": [
    {
     "data": {
      "text/plain": [
       "Index(['unit price', 'quantity', 'tax 5%', 'cogs', 'gross margin percentage',\n",
       "       'gross income', 'rating'],\n",
       "      dtype='object')"
      ]
     },
     "execution_count": 110,
     "metadata": {},
     "output_type": "execute_result"
    }
   ],
   "source": [
    "num_cols = x_train.select_dtypes(include= 'number').columns\n",
    "num_cols"
   ]
  },
  {
   "cell_type": "code",
   "execution_count": 111,
   "id": "3073cc1a-ffa0-43bd-afe1-dba515b33199",
   "metadata": {},
   "outputs": [
    {
     "data": {
      "text/plain": [
       "invoice id                 0.0\n",
       "branch                     0.0\n",
       "city                       0.0\n",
       "customer type              0.0\n",
       "gender                     0.0\n",
       "product line               0.0\n",
       "unit price                 0.0\n",
       "quantity                   0.0\n",
       "tax 5%                     0.0\n",
       "date                       0.0\n",
       "time                       0.0\n",
       "payment                    0.0\n",
       "cogs                       0.0\n",
       "gross margin percentage    0.0\n",
       "gross income               0.0\n",
       "rating                     0.0\n",
       "month                      0.0\n",
       "day                        0.0\n",
       "dtype: float64"
      ]
     },
     "execution_count": 111,
     "metadata": {},
     "output_type": "execute_result"
    }
   ],
   "source": [
    "x_train.isna().mean().round(4) * 100"
   ]
  },
  {
   "cell_type": "code",
   "execution_count": 112,
   "id": "42dd6e92-ca9d-402d-a2f1-1cd95beddc71",
   "metadata": {},
   "outputs": [
    {
     "data": {
      "text/plain": [
       "invoice id                 0\n",
       "branch                     0\n",
       "city                       0\n",
       "customer type              0\n",
       "gender                     0\n",
       "product line               0\n",
       "unit price                 0\n",
       "quantity                   0\n",
       "tax 5%                     0\n",
       "date                       0\n",
       "time                       0\n",
       "payment                    0\n",
       "cogs                       0\n",
       "gross margin percentage    0\n",
       "gross income               0\n",
       "rating                     0\n",
       "month                      0\n",
       "day                        0\n",
       "dtype: int64"
      ]
     },
     "execution_count": 112,
     "metadata": {},
     "output_type": "execute_result"
    }
   ],
   "source": [
    "x_test.isna().sum()"
   ]
  },
  {
   "cell_type": "markdown",
   "id": "51c2d384-027c-4a76-929a-3ce5406ff9e1",
   "metadata": {},
   "source": [
    "##### 2 - Feature Scaling"
   ]
  },
  {
   "cell_type": "code",
   "execution_count": 113,
   "id": "8a26f21f-6dd0-42cd-8ae9-aa1fac454da3",
   "metadata": {},
   "outputs": [],
   "source": [
    "from sklearn.preprocessing import RobustScaler\n",
    "\n",
    "rc = RobustScaler()\n",
    "\n",
    "x_train[num_cols] = rc.fit_transform(x_train[num_cols])\n",
    "\n",
    "x_test[num_cols] = rc.transform(x_test[num_cols])"
   ]
  },
  {
   "cell_type": "code",
   "execution_count": 114,
   "id": "c5d1bf06-a4ad-4ca0-82d9-db8672d755b7",
   "metadata": {},
   "outputs": [
    {
     "data": {
      "text/html": [
       "<div>\n",
       "<style scoped>\n",
       "    .dataframe tbody tr th:only-of-type {\n",
       "        vertical-align: middle;\n",
       "    }\n",
       "\n",
       "    .dataframe tbody tr th {\n",
       "        vertical-align: top;\n",
       "    }\n",
       "\n",
       "    .dataframe thead th {\n",
       "        text-align: right;\n",
       "    }\n",
       "</style>\n",
       "<table border=\"1\" class=\"dataframe\">\n",
       "  <thead>\n",
       "    <tr style=\"text-align: right;\">\n",
       "      <th></th>\n",
       "      <th>invoice id</th>\n",
       "      <th>branch</th>\n",
       "      <th>city</th>\n",
       "      <th>customer type</th>\n",
       "      <th>gender</th>\n",
       "      <th>product line</th>\n",
       "      <th>unit price</th>\n",
       "      <th>quantity</th>\n",
       "      <th>tax 5%</th>\n",
       "      <th>date</th>\n",
       "      <th>time</th>\n",
       "      <th>payment</th>\n",
       "      <th>cogs</th>\n",
       "      <th>gross margin percentage</th>\n",
       "      <th>gross income</th>\n",
       "      <th>rating</th>\n",
       "      <th>month</th>\n",
       "      <th>day</th>\n",
       "    </tr>\n",
       "  </thead>\n",
       "  <tbody>\n",
       "    <tr>\n",
       "      <th>29</th>\n",
       "      <td>848-62-7243</td>\n",
       "      <td>Alex</td>\n",
       "      <td>Yangon</td>\n",
       "      <td>Member</td>\n",
       "      <td>Female</td>\n",
       "      <td>Health and beauty</td>\n",
       "      <td>-0.664068</td>\n",
       "      <td>0.8</td>\n",
       "      <td>-0.052618</td>\n",
       "      <td>2019-03-15</td>\n",
       "      <td>2025-09-29 15:36:00</td>\n",
       "      <td>Cash</td>\n",
       "      <td>-0.052618</td>\n",
       "      <td>0.0</td>\n",
       "      <td>-0.052618</td>\n",
       "      <td>0.137931</td>\n",
       "      <td>03</td>\n",
       "      <td>5</td>\n",
       "    </tr>\n",
       "    <tr>\n",
       "      <th>535</th>\n",
       "      <td>583-41-4548</td>\n",
       "      <td>Giza</td>\n",
       "      <td>Naypyitaw</td>\n",
       "      <td>Normal</td>\n",
       "      <td>Male</td>\n",
       "      <td>Home and lifestyle</td>\n",
       "      <td>-0.847182</td>\n",
       "      <td>0.4</td>\n",
       "      <td>-0.375118</td>\n",
       "      <td>2019-02-07</td>\n",
       "      <td>2025-09-29 11:36:00</td>\n",
       "      <td>Ewallet</td>\n",
       "      <td>-0.375118</td>\n",
       "      <td>0.0</td>\n",
       "      <td>-0.375118</td>\n",
       "      <td>0.137931</td>\n",
       "      <td>02</td>\n",
       "      <td>4</td>\n",
       "    </tr>\n",
       "    <tr>\n",
       "      <th>695</th>\n",
       "      <td>800-09-8606</td>\n",
       "      <td>Alex</td>\n",
       "      <td>Yangon</td>\n",
       "      <td>Member</td>\n",
       "      <td>Female</td>\n",
       "      <td>Home and lifestyle</td>\n",
       "      <td>0.727779</td>\n",
       "      <td>0.0</td>\n",
       "      <td>0.586973</td>\n",
       "      <td>2019-01-29</td>\n",
       "      <td>2025-09-29 19:45:00</td>\n",
       "      <td>Cash</td>\n",
       "      <td>0.586973</td>\n",
       "      <td>0.0</td>\n",
       "      <td>0.586973</td>\n",
       "      <td>-0.137931</td>\n",
       "      <td>01</td>\n",
       "      <td>2</td>\n",
       "    </tr>\n",
       "    <tr>\n",
       "      <th>557</th>\n",
       "      <td>283-26-5248</td>\n",
       "      <td>Giza</td>\n",
       "      <td>Naypyitaw</td>\n",
       "      <td>Member</td>\n",
       "      <td>Female</td>\n",
       "      <td>Food and beverages</td>\n",
       "      <td>0.976164</td>\n",
       "      <td>1.0</td>\n",
       "      <td>2.234783</td>\n",
       "      <td>2019-01-30</td>\n",
       "      <td>2025-09-29 20:23:00</td>\n",
       "      <td>Ewallet</td>\n",
       "      <td>2.234783</td>\n",
       "      <td>0.0</td>\n",
       "      <td>2.234783</td>\n",
       "      <td>-0.862069</td>\n",
       "      <td>01</td>\n",
       "      <td>3</td>\n",
       "    </tr>\n",
       "    <tr>\n",
       "      <th>836</th>\n",
       "      <td>288-62-1085</td>\n",
       "      <td>Alex</td>\n",
       "      <td>Yangon</td>\n",
       "      <td>Member</td>\n",
       "      <td>Male</td>\n",
       "      <td>Fashion accessories</td>\n",
       "      <td>-0.359991</td>\n",
       "      <td>0.0</td>\n",
       "      <td>-0.146706</td>\n",
       "      <td>2019-01-09</td>\n",
       "      <td>2025-09-29 13:34:00</td>\n",
       "      <td>Ewallet</td>\n",
       "      <td>-0.146706</td>\n",
       "      <td>0.0</td>\n",
       "      <td>-0.146706</td>\n",
       "      <td>-0.482759</td>\n",
       "      <td>01</td>\n",
       "      <td>3</td>\n",
       "    </tr>\n",
       "  </tbody>\n",
       "</table>\n",
       "</div>"
      ],
      "text/plain": [
       "      invoice id branch       city customer type  gender         product line  \\\n",
       "29   848-62-7243   Alex     Yangon        Member  Female    Health and beauty   \n",
       "535  583-41-4548   Giza  Naypyitaw        Normal    Male   Home and lifestyle   \n",
       "695  800-09-8606   Alex     Yangon        Member  Female   Home and lifestyle   \n",
       "557  283-26-5248   Giza  Naypyitaw        Member  Female   Food and beverages   \n",
       "836  288-62-1085   Alex     Yangon        Member    Male  Fashion accessories   \n",
       "\n",
       "     unit price  quantity    tax 5%       date                time  payment  \\\n",
       "29    -0.664068       0.8 -0.052618 2019-03-15 2025-09-29 15:36:00     Cash   \n",
       "535   -0.847182       0.4 -0.375118 2019-02-07 2025-09-29 11:36:00  Ewallet   \n",
       "695    0.727779       0.0  0.586973 2019-01-29 2025-09-29 19:45:00     Cash   \n",
       "557    0.976164       1.0  2.234783 2019-01-30 2025-09-29 20:23:00  Ewallet   \n",
       "836   -0.359991       0.0 -0.146706 2019-01-09 2025-09-29 13:34:00  Ewallet   \n",
       "\n",
       "         cogs  gross margin percentage  gross income    rating month day  \n",
       "29  -0.052618                      0.0     -0.052618  0.137931    03   5  \n",
       "535 -0.375118                      0.0     -0.375118  0.137931    02   4  \n",
       "695  0.586973                      0.0      0.586973 -0.137931    01   2  \n",
       "557  2.234783                      0.0      2.234783 -0.862069    01   3  \n",
       "836 -0.146706                      0.0     -0.146706 -0.482759    01   3  "
      ]
     },
     "execution_count": 114,
     "metadata": {},
     "output_type": "execute_result"
    }
   ],
   "source": [
    "x_train.head()"
   ]
  },
  {
   "cell_type": "code",
   "execution_count": 115,
   "id": "6d40e1d8-4ebc-4ae7-94ce-0ef1af7cd57d",
   "metadata": {},
   "outputs": [
    {
     "data": {
      "text/html": [
       "<div>\n",
       "<style scoped>\n",
       "    .dataframe tbody tr th:only-of-type {\n",
       "        vertical-align: middle;\n",
       "    }\n",
       "\n",
       "    .dataframe tbody tr th {\n",
       "        vertical-align: top;\n",
       "    }\n",
       "\n",
       "    .dataframe thead th {\n",
       "        text-align: right;\n",
       "    }\n",
       "</style>\n",
       "<table border=\"1\" class=\"dataframe\">\n",
       "  <thead>\n",
       "    <tr style=\"text-align: right;\">\n",
       "      <th></th>\n",
       "      <th>invoice id</th>\n",
       "      <th>branch</th>\n",
       "      <th>city</th>\n",
       "      <th>customer type</th>\n",
       "      <th>gender</th>\n",
       "      <th>product line</th>\n",
       "      <th>unit price</th>\n",
       "      <th>quantity</th>\n",
       "      <th>tax 5%</th>\n",
       "      <th>date</th>\n",
       "      <th>time</th>\n",
       "      <th>payment</th>\n",
       "      <th>cogs</th>\n",
       "      <th>gross margin percentage</th>\n",
       "      <th>gross income</th>\n",
       "      <th>rating</th>\n",
       "      <th>month</th>\n",
       "      <th>day</th>\n",
       "    </tr>\n",
       "  </thead>\n",
       "  <tbody>\n",
       "    <tr>\n",
       "      <th>521</th>\n",
       "      <td>451-28-5717</td>\n",
       "      <td>Giza</td>\n",
       "      <td>Naypyitaw</td>\n",
       "      <td>Member</td>\n",
       "      <td>Female</td>\n",
       "      <td>Home and lifestyle</td>\n",
       "      <td>0.634217</td>\n",
       "      <td>0.2</td>\n",
       "      <td>0.773796</td>\n",
       "      <td>2019-03-20</td>\n",
       "      <td>2025-09-29 11:23:00</td>\n",
       "      <td>Cash</td>\n",
       "      <td>0.773796</td>\n",
       "      <td>0.0</td>\n",
       "      <td>0.773796</td>\n",
       "      <td>0.103448</td>\n",
       "      <td>03</td>\n",
       "      <td>3</td>\n",
       "    </tr>\n",
       "    <tr>\n",
       "      <th>737</th>\n",
       "      <td>137-63-5492</td>\n",
       "      <td>Giza</td>\n",
       "      <td>Naypyitaw</td>\n",
       "      <td>Normal</td>\n",
       "      <td>Male</td>\n",
       "      <td>Electronic accessories</td>\n",
       "      <td>0.090443</td>\n",
       "      <td>1.0</td>\n",
       "      <td>1.039982</td>\n",
       "      <td>2019-01-29</td>\n",
       "      <td>2025-09-29 14:26:00</td>\n",
       "      <td>Ewallet</td>\n",
       "      <td>1.039982</td>\n",
       "      <td>0.0</td>\n",
       "      <td>1.039982</td>\n",
       "      <td>0.689655</td>\n",
       "      <td>01</td>\n",
       "      <td>2</td>\n",
       "    </tr>\n",
       "    <tr>\n",
       "      <th>740</th>\n",
       "      <td>733-29-1227</td>\n",
       "      <td>Giza</td>\n",
       "      <td>Naypyitaw</td>\n",
       "      <td>Normal</td>\n",
       "      <td>Male</td>\n",
       "      <td>Home and lifestyle</td>\n",
       "      <td>0.020272</td>\n",
       "      <td>0.4</td>\n",
       "      <td>0.443994</td>\n",
       "      <td>2019-03-23</td>\n",
       "      <td>2025-09-29 12:41:00</td>\n",
       "      <td>Cash</td>\n",
       "      <td>0.443994</td>\n",
       "      <td>0.0</td>\n",
       "      <td>0.443994</td>\n",
       "      <td>0.517241</td>\n",
       "      <td>03</td>\n",
       "      <td>6</td>\n",
       "    </tr>\n",
       "    <tr>\n",
       "      <th>660</th>\n",
       "      <td>322-02-2271</td>\n",
       "      <td>Cairo</td>\n",
       "      <td>Mandalay</td>\n",
       "      <td>Normal</td>\n",
       "      <td>Female</td>\n",
       "      <td>Sports and travel</td>\n",
       "      <td>-0.261305</td>\n",
       "      <td>-0.4</td>\n",
       "      <td>-0.338397</td>\n",
       "      <td>2019-02-03</td>\n",
       "      <td>2025-09-29 11:46:00</td>\n",
       "      <td>Cash</td>\n",
       "      <td>-0.338397</td>\n",
       "      <td>0.0</td>\n",
       "      <td>-0.338397</td>\n",
       "      <td>0.793103</td>\n",
       "      <td>02</td>\n",
       "      <td>0</td>\n",
       "    </tr>\n",
       "    <tr>\n",
       "      <th>411</th>\n",
       "      <td>569-71-4390</td>\n",
       "      <td>Cairo</td>\n",
       "      <td>Mandalay</td>\n",
       "      <td>Normal</td>\n",
       "      <td>Male</td>\n",
       "      <td>Sports and travel</td>\n",
       "      <td>-0.731343</td>\n",
       "      <td>-0.6</td>\n",
       "      <td>-0.594336</td>\n",
       "      <td>2019-01-25</td>\n",
       "      <td>2025-09-29 14:29:00</td>\n",
       "      <td>Ewallet</td>\n",
       "      <td>-0.594336</td>\n",
       "      <td>0.0</td>\n",
       "      <td>-0.594336</td>\n",
       "      <td>-0.034483</td>\n",
       "      <td>01</td>\n",
       "      <td>5</td>\n",
       "    </tr>\n",
       "  </tbody>\n",
       "</table>\n",
       "</div>"
      ],
      "text/plain": [
       "      invoice id branch       city customer type  gender  \\\n",
       "521  451-28-5717   Giza  Naypyitaw        Member  Female   \n",
       "737  137-63-5492   Giza  Naypyitaw        Normal    Male   \n",
       "740  733-29-1227   Giza  Naypyitaw        Normal    Male   \n",
       "660  322-02-2271  Cairo   Mandalay        Normal  Female   \n",
       "411  569-71-4390  Cairo   Mandalay        Normal    Male   \n",
       "\n",
       "               product line  unit price  quantity    tax 5%       date  \\\n",
       "521      Home and lifestyle    0.634217       0.2  0.773796 2019-03-20   \n",
       "737  Electronic accessories    0.090443       1.0  1.039982 2019-01-29   \n",
       "740      Home and lifestyle    0.020272       0.4  0.443994 2019-03-23   \n",
       "660       Sports and travel   -0.261305      -0.4 -0.338397 2019-02-03   \n",
       "411       Sports and travel   -0.731343      -0.6 -0.594336 2019-01-25   \n",
       "\n",
       "                   time  payment      cogs  gross margin percentage  \\\n",
       "521 2025-09-29 11:23:00     Cash  0.773796                      0.0   \n",
       "737 2025-09-29 14:26:00  Ewallet  1.039982                      0.0   \n",
       "740 2025-09-29 12:41:00     Cash  0.443994                      0.0   \n",
       "660 2025-09-29 11:46:00     Cash -0.338397                      0.0   \n",
       "411 2025-09-29 14:29:00  Ewallet -0.594336                      0.0   \n",
       "\n",
       "     gross income    rating month day  \n",
       "521      0.773796  0.103448    03   3  \n",
       "737      1.039982  0.689655    01   2  \n",
       "740      0.443994  0.517241    03   6  \n",
       "660     -0.338397  0.793103    02   0  \n",
       "411     -0.594336 -0.034483    01   5  "
      ]
     },
     "execution_count": 115,
     "metadata": {},
     "output_type": "execute_result"
    }
   ],
   "source": [
    "x_test.head()"
   ]
  },
  {
   "cell_type": "markdown",
   "id": "6a737953-358a-40a4-9166-9c6e676825e4",
   "metadata": {},
   "source": [
    "### 4- Handle Categorical Data"
   ]
  },
  {
   "cell_type": "markdown",
   "id": "46aca4ee-9861-450c-924b-84d833ae631f",
   "metadata": {},
   "source": [
    "#### 1- Impute Missing"
   ]
  },
  {
   "cell_type": "code",
   "execution_count": 116,
   "id": "436e05a6-c341-4cd2-995e-d99175690083",
   "metadata": {},
   "outputs": [
    {
     "data": {
      "text/plain": [
       "invoice id                 0.0\n",
       "branch                     0.0\n",
       "city                       0.0\n",
       "customer type              0.0\n",
       "gender                     0.0\n",
       "product line               0.0\n",
       "unit price                 0.0\n",
       "quantity                   0.0\n",
       "tax 5%                     0.0\n",
       "date                       0.0\n",
       "time                       0.0\n",
       "payment                    0.0\n",
       "cogs                       0.0\n",
       "gross margin percentage    0.0\n",
       "gross income               0.0\n",
       "rating                     0.0\n",
       "month                      0.0\n",
       "day                        0.0\n",
       "dtype: float64"
      ]
     },
     "execution_count": 116,
     "metadata": {},
     "output_type": "execute_result"
    }
   ],
   "source": [
    "x_train.isna().mean().round(4) * 100"
   ]
  },
  {
   "cell_type": "code",
   "execution_count": 117,
   "id": "32524f46-4d1f-4e19-bbf0-70960aef2fb8",
   "metadata": {},
   "outputs": [
    {
     "data": {
      "text/plain": [
       "invoice id                 0.0\n",
       "branch                     0.0\n",
       "city                       0.0\n",
       "customer type              0.0\n",
       "gender                     0.0\n",
       "product line               0.0\n",
       "unit price                 0.0\n",
       "quantity                   0.0\n",
       "tax 5%                     0.0\n",
       "date                       0.0\n",
       "time                       0.0\n",
       "payment                    0.0\n",
       "cogs                       0.0\n",
       "gross margin percentage    0.0\n",
       "gross income               0.0\n",
       "rating                     0.0\n",
       "month                      0.0\n",
       "day                        0.0\n",
       "dtype: float64"
      ]
     },
     "execution_count": 117,
     "metadata": {},
     "output_type": "execute_result"
    }
   ],
   "source": [
    "x_test.isna().mean().round(4) * 100"
   ]
  },
  {
   "cell_type": "markdown",
   "id": "f3e3fa03-89a4-4c46-8c7a-4fe4ab34873d",
   "metadata": {},
   "source": [
    "#### 2- Encdoing"
   ]
  },
  {
   "cell_type": "code",
   "execution_count": 123,
   "id": "2ae00d4b-e6bd-4015-8989-926e799dbe4e",
   "metadata": {},
   "outputs": [
    {
     "data": {
      "text/plain": [
       "Index(['branch', 'city', 'customer type', 'gender', 'product line', 'payment'], dtype='object')"
      ]
     },
     "execution_count": 123,
     "metadata": {},
     "output_type": "execute_result"
    }
   ],
   "source": [
    "cat_cols = x_train.select_dtypes(include= 'object').columns.drop(['invoice id', 'month', 'day'])\n",
    "cat_cols"
   ]
  },
  {
   "cell_type": "code",
   "execution_count": 124,
   "id": "0c12f616-e0e4-4c47-9930-4be566662113",
   "metadata": {},
   "outputs": [
    {
     "name": "stdout",
     "output_type": "stream",
     "text": [
      "branch\n",
      "3\n",
      "city\n",
      "3\n",
      "customer type\n",
      "2\n",
      "gender\n",
      "2\n",
      "product line\n",
      "6\n",
      "payment\n",
      "3\n"
     ]
    }
   ],
   "source": [
    "for col in cat_cols:\n",
    "    print(col)\n",
    "    print(df[col].nunique())"
   ]
  },
  {
   "cell_type": "markdown",
   "id": "0d5836d9-770a-4b0b-9ed5-0c51b54b2421",
   "metadata": {},
   "source": [
    "#### =>> One Hot Encoding"
   ]
  },
  {
   "cell_type": "code",
   "execution_count": 125,
   "id": "d1be75ca-d14c-4f68-b2da-6be9cafd026b",
   "metadata": {},
   "outputs": [],
   "source": [
    "from sklearn.preprocessing import OneHotEncoder\n",
    "\n",
    "ohe = OneHotEncoder(sparse_output= False, drop= 'first')\n",
    "\n",
    "ohe_arr_train = ohe.fit_transform(x_train[cat_cols])\n",
    "\n",
    "ohe_arr_test = ohe.transform(x_test[cat_cols])"
   ]
  },
  {
   "cell_type": "code",
   "execution_count": 126,
   "id": "1d256ecd-10c5-477f-8980-20d919de3599",
   "metadata": {},
   "outputs": [
    {
     "data": {
      "text/plain": [
       "array(['branch_Cairo', 'branch_Giza', 'city_Naypyitaw', 'city_Yangon',\n",
       "       'customer type_Normal', 'gender_Male',\n",
       "       'product line_Fashion accessories',\n",
       "       'product line_Food and beverages',\n",
       "       'product line_Health and beauty',\n",
       "       'product line_Home and lifestyle',\n",
       "       'product line_Sports and travel', 'payment_Credit card',\n",
       "       'payment_Ewallet'], dtype=object)"
      ]
     },
     "execution_count": 126,
     "metadata": {},
     "output_type": "execute_result"
    }
   ],
   "source": [
    "ohe.get_feature_names_out()"
   ]
  },
  {
   "cell_type": "code",
   "execution_count": 127,
   "id": "3a60fb81-4dfa-4db9-ae3b-d9b2352e448b",
   "metadata": {},
   "outputs": [],
   "source": [
    "ohe_df_train = pd.DataFrame(ohe_arr_train, columns= ohe.get_feature_names_out())\n",
    "\n",
    "ohe_df_test = pd.DataFrame(ohe_arr_test, columns= ohe.get_feature_names_out())"
   ]
  },
  {
   "cell_type": "code",
   "execution_count": 128,
   "id": "d2729340-6f3d-432b-81e8-4ffa8a5701af",
   "metadata": {},
   "outputs": [
    {
     "data": {
      "text/html": [
       "<div>\n",
       "<style scoped>\n",
       "    .dataframe tbody tr th:only-of-type {\n",
       "        vertical-align: middle;\n",
       "    }\n",
       "\n",
       "    .dataframe tbody tr th {\n",
       "        vertical-align: top;\n",
       "    }\n",
       "\n",
       "    .dataframe thead th {\n",
       "        text-align: right;\n",
       "    }\n",
       "</style>\n",
       "<table border=\"1\" class=\"dataframe\">\n",
       "  <thead>\n",
       "    <tr style=\"text-align: right;\">\n",
       "      <th></th>\n",
       "      <th>branch_Cairo</th>\n",
       "      <th>branch_Giza</th>\n",
       "      <th>city_Naypyitaw</th>\n",
       "      <th>city_Yangon</th>\n",
       "      <th>customer type_Normal</th>\n",
       "      <th>gender_Male</th>\n",
       "      <th>product line_Fashion accessories</th>\n",
       "      <th>product line_Food and beverages</th>\n",
       "      <th>product line_Health and beauty</th>\n",
       "      <th>product line_Home and lifestyle</th>\n",
       "      <th>product line_Sports and travel</th>\n",
       "      <th>payment_Credit card</th>\n",
       "      <th>payment_Ewallet</th>\n",
       "    </tr>\n",
       "  </thead>\n",
       "  <tbody>\n",
       "    <tr>\n",
       "      <th>0</th>\n",
       "      <td>0.0</td>\n",
       "      <td>0.0</td>\n",
       "      <td>0.0</td>\n",
       "      <td>1.0</td>\n",
       "      <td>0.0</td>\n",
       "      <td>0.0</td>\n",
       "      <td>0.0</td>\n",
       "      <td>0.0</td>\n",
       "      <td>1.0</td>\n",
       "      <td>0.0</td>\n",
       "      <td>0.0</td>\n",
       "      <td>0.0</td>\n",
       "      <td>0.0</td>\n",
       "    </tr>\n",
       "    <tr>\n",
       "      <th>1</th>\n",
       "      <td>0.0</td>\n",
       "      <td>1.0</td>\n",
       "      <td>1.0</td>\n",
       "      <td>0.0</td>\n",
       "      <td>1.0</td>\n",
       "      <td>1.0</td>\n",
       "      <td>0.0</td>\n",
       "      <td>0.0</td>\n",
       "      <td>0.0</td>\n",
       "      <td>1.0</td>\n",
       "      <td>0.0</td>\n",
       "      <td>0.0</td>\n",
       "      <td>1.0</td>\n",
       "    </tr>\n",
       "    <tr>\n",
       "      <th>2</th>\n",
       "      <td>0.0</td>\n",
       "      <td>0.0</td>\n",
       "      <td>0.0</td>\n",
       "      <td>1.0</td>\n",
       "      <td>0.0</td>\n",
       "      <td>0.0</td>\n",
       "      <td>0.0</td>\n",
       "      <td>0.0</td>\n",
       "      <td>0.0</td>\n",
       "      <td>1.0</td>\n",
       "      <td>0.0</td>\n",
       "      <td>0.0</td>\n",
       "      <td>0.0</td>\n",
       "    </tr>\n",
       "    <tr>\n",
       "      <th>3</th>\n",
       "      <td>0.0</td>\n",
       "      <td>1.0</td>\n",
       "      <td>1.0</td>\n",
       "      <td>0.0</td>\n",
       "      <td>0.0</td>\n",
       "      <td>0.0</td>\n",
       "      <td>0.0</td>\n",
       "      <td>1.0</td>\n",
       "      <td>0.0</td>\n",
       "      <td>0.0</td>\n",
       "      <td>0.0</td>\n",
       "      <td>0.0</td>\n",
       "      <td>1.0</td>\n",
       "    </tr>\n",
       "    <tr>\n",
       "      <th>4</th>\n",
       "      <td>0.0</td>\n",
       "      <td>0.0</td>\n",
       "      <td>0.0</td>\n",
       "      <td>1.0</td>\n",
       "      <td>0.0</td>\n",
       "      <td>1.0</td>\n",
       "      <td>1.0</td>\n",
       "      <td>0.0</td>\n",
       "      <td>0.0</td>\n",
       "      <td>0.0</td>\n",
       "      <td>0.0</td>\n",
       "      <td>0.0</td>\n",
       "      <td>1.0</td>\n",
       "    </tr>\n",
       "    <tr>\n",
       "      <th>...</th>\n",
       "      <td>...</td>\n",
       "      <td>...</td>\n",
       "      <td>...</td>\n",
       "      <td>...</td>\n",
       "      <td>...</td>\n",
       "      <td>...</td>\n",
       "      <td>...</td>\n",
       "      <td>...</td>\n",
       "      <td>...</td>\n",
       "      <td>...</td>\n",
       "      <td>...</td>\n",
       "      <td>...</td>\n",
       "      <td>...</td>\n",
       "    </tr>\n",
       "    <tr>\n",
       "      <th>795</th>\n",
       "      <td>0.0</td>\n",
       "      <td>1.0</td>\n",
       "      <td>1.0</td>\n",
       "      <td>0.0</td>\n",
       "      <td>0.0</td>\n",
       "      <td>0.0</td>\n",
       "      <td>1.0</td>\n",
       "      <td>0.0</td>\n",
       "      <td>0.0</td>\n",
       "      <td>0.0</td>\n",
       "      <td>0.0</td>\n",
       "      <td>1.0</td>\n",
       "      <td>0.0</td>\n",
       "    </tr>\n",
       "    <tr>\n",
       "      <th>796</th>\n",
       "      <td>1.0</td>\n",
       "      <td>0.0</td>\n",
       "      <td>0.0</td>\n",
       "      <td>0.0</td>\n",
       "      <td>1.0</td>\n",
       "      <td>0.0</td>\n",
       "      <td>0.0</td>\n",
       "      <td>0.0</td>\n",
       "      <td>0.0</td>\n",
       "      <td>0.0</td>\n",
       "      <td>1.0</td>\n",
       "      <td>0.0</td>\n",
       "      <td>1.0</td>\n",
       "    </tr>\n",
       "    <tr>\n",
       "      <th>797</th>\n",
       "      <td>0.0</td>\n",
       "      <td>1.0</td>\n",
       "      <td>1.0</td>\n",
       "      <td>0.0</td>\n",
       "      <td>0.0</td>\n",
       "      <td>0.0</td>\n",
       "      <td>0.0</td>\n",
       "      <td>0.0</td>\n",
       "      <td>0.0</td>\n",
       "      <td>1.0</td>\n",
       "      <td>0.0</td>\n",
       "      <td>0.0</td>\n",
       "      <td>1.0</td>\n",
       "    </tr>\n",
       "    <tr>\n",
       "      <th>798</th>\n",
       "      <td>0.0</td>\n",
       "      <td>1.0</td>\n",
       "      <td>1.0</td>\n",
       "      <td>0.0</td>\n",
       "      <td>1.0</td>\n",
       "      <td>1.0</td>\n",
       "      <td>0.0</td>\n",
       "      <td>0.0</td>\n",
       "      <td>0.0</td>\n",
       "      <td>0.0</td>\n",
       "      <td>1.0</td>\n",
       "      <td>0.0</td>\n",
       "      <td>1.0</td>\n",
       "    </tr>\n",
       "    <tr>\n",
       "      <th>799</th>\n",
       "      <td>0.0</td>\n",
       "      <td>1.0</td>\n",
       "      <td>1.0</td>\n",
       "      <td>0.0</td>\n",
       "      <td>0.0</td>\n",
       "      <td>0.0</td>\n",
       "      <td>0.0</td>\n",
       "      <td>0.0</td>\n",
       "      <td>0.0</td>\n",
       "      <td>0.0</td>\n",
       "      <td>0.0</td>\n",
       "      <td>0.0</td>\n",
       "      <td>0.0</td>\n",
       "    </tr>\n",
       "  </tbody>\n",
       "</table>\n",
       "<p>800 rows × 13 columns</p>\n",
       "</div>"
      ],
      "text/plain": [
       "     branch_Cairo  branch_Giza  city_Naypyitaw  city_Yangon  \\\n",
       "0             0.0          0.0             0.0          1.0   \n",
       "1             0.0          1.0             1.0          0.0   \n",
       "2             0.0          0.0             0.0          1.0   \n",
       "3             0.0          1.0             1.0          0.0   \n",
       "4             0.0          0.0             0.0          1.0   \n",
       "..            ...          ...             ...          ...   \n",
       "795           0.0          1.0             1.0          0.0   \n",
       "796           1.0          0.0             0.0          0.0   \n",
       "797           0.0          1.0             1.0          0.0   \n",
       "798           0.0          1.0             1.0          0.0   \n",
       "799           0.0          1.0             1.0          0.0   \n",
       "\n",
       "     customer type_Normal  gender_Male  product line_Fashion accessories  \\\n",
       "0                     0.0          0.0                               0.0   \n",
       "1                     1.0          1.0                               0.0   \n",
       "2                     0.0          0.0                               0.0   \n",
       "3                     0.0          0.0                               0.0   \n",
       "4                     0.0          1.0                               1.0   \n",
       "..                    ...          ...                               ...   \n",
       "795                   0.0          0.0                               1.0   \n",
       "796                   1.0          0.0                               0.0   \n",
       "797                   0.0          0.0                               0.0   \n",
       "798                   1.0          1.0                               0.0   \n",
       "799                   0.0          0.0                               0.0   \n",
       "\n",
       "     product line_Food and beverages  product line_Health and beauty  \\\n",
       "0                                0.0                             1.0   \n",
       "1                                0.0                             0.0   \n",
       "2                                0.0                             0.0   \n",
       "3                                1.0                             0.0   \n",
       "4                                0.0                             0.0   \n",
       "..                               ...                             ...   \n",
       "795                              0.0                             0.0   \n",
       "796                              0.0                             0.0   \n",
       "797                              0.0                             0.0   \n",
       "798                              0.0                             0.0   \n",
       "799                              0.0                             0.0   \n",
       "\n",
       "     product line_Home and lifestyle  product line_Sports and travel  \\\n",
       "0                                0.0                             0.0   \n",
       "1                                1.0                             0.0   \n",
       "2                                1.0                             0.0   \n",
       "3                                0.0                             0.0   \n",
       "4                                0.0                             0.0   \n",
       "..                               ...                             ...   \n",
       "795                              0.0                             0.0   \n",
       "796                              0.0                             1.0   \n",
       "797                              1.0                             0.0   \n",
       "798                              0.0                             1.0   \n",
       "799                              0.0                             0.0   \n",
       "\n",
       "     payment_Credit card  payment_Ewallet  \n",
       "0                    0.0              0.0  \n",
       "1                    0.0              1.0  \n",
       "2                    0.0              0.0  \n",
       "3                    0.0              1.0  \n",
       "4                    0.0              1.0  \n",
       "..                   ...              ...  \n",
       "795                  1.0              0.0  \n",
       "796                  0.0              1.0  \n",
       "797                  0.0              1.0  \n",
       "798                  0.0              1.0  \n",
       "799                  0.0              0.0  \n",
       "\n",
       "[800 rows x 13 columns]"
      ]
     },
     "execution_count": 128,
     "metadata": {},
     "output_type": "execute_result"
    }
   ],
   "source": [
    "ohe_df_train"
   ]
  },
  {
   "cell_type": "code",
   "execution_count": 129,
   "id": "1ac48442-9739-4104-8016-d4a5f27f6855",
   "metadata": {},
   "outputs": [
    {
     "data": {
      "text/html": [
       "<div>\n",
       "<style scoped>\n",
       "    .dataframe tbody tr th:only-of-type {\n",
       "        vertical-align: middle;\n",
       "    }\n",
       "\n",
       "    .dataframe tbody tr th {\n",
       "        vertical-align: top;\n",
       "    }\n",
       "\n",
       "    .dataframe thead th {\n",
       "        text-align: right;\n",
       "    }\n",
       "</style>\n",
       "<table border=\"1\" class=\"dataframe\">\n",
       "  <thead>\n",
       "    <tr style=\"text-align: right;\">\n",
       "      <th></th>\n",
       "      <th>branch_Cairo</th>\n",
       "      <th>branch_Giza</th>\n",
       "      <th>city_Naypyitaw</th>\n",
       "      <th>city_Yangon</th>\n",
       "      <th>customer type_Normal</th>\n",
       "      <th>gender_Male</th>\n",
       "      <th>product line_Fashion accessories</th>\n",
       "      <th>product line_Food and beverages</th>\n",
       "      <th>product line_Health and beauty</th>\n",
       "      <th>product line_Home and lifestyle</th>\n",
       "      <th>product line_Sports and travel</th>\n",
       "      <th>payment_Credit card</th>\n",
       "      <th>payment_Ewallet</th>\n",
       "    </tr>\n",
       "  </thead>\n",
       "  <tbody>\n",
       "    <tr>\n",
       "      <th>0</th>\n",
       "      <td>0.0</td>\n",
       "      <td>1.0</td>\n",
       "      <td>1.0</td>\n",
       "      <td>0.0</td>\n",
       "      <td>0.0</td>\n",
       "      <td>0.0</td>\n",
       "      <td>0.0</td>\n",
       "      <td>0.0</td>\n",
       "      <td>0.0</td>\n",
       "      <td>1.0</td>\n",
       "      <td>0.0</td>\n",
       "      <td>0.0</td>\n",
       "      <td>0.0</td>\n",
       "    </tr>\n",
       "    <tr>\n",
       "      <th>1</th>\n",
       "      <td>0.0</td>\n",
       "      <td>1.0</td>\n",
       "      <td>1.0</td>\n",
       "      <td>0.0</td>\n",
       "      <td>1.0</td>\n",
       "      <td>1.0</td>\n",
       "      <td>0.0</td>\n",
       "      <td>0.0</td>\n",
       "      <td>0.0</td>\n",
       "      <td>0.0</td>\n",
       "      <td>0.0</td>\n",
       "      <td>0.0</td>\n",
       "      <td>1.0</td>\n",
       "    </tr>\n",
       "    <tr>\n",
       "      <th>2</th>\n",
       "      <td>0.0</td>\n",
       "      <td>1.0</td>\n",
       "      <td>1.0</td>\n",
       "      <td>0.0</td>\n",
       "      <td>1.0</td>\n",
       "      <td>1.0</td>\n",
       "      <td>0.0</td>\n",
       "      <td>0.0</td>\n",
       "      <td>0.0</td>\n",
       "      <td>1.0</td>\n",
       "      <td>0.0</td>\n",
       "      <td>0.0</td>\n",
       "      <td>0.0</td>\n",
       "    </tr>\n",
       "    <tr>\n",
       "      <th>3</th>\n",
       "      <td>1.0</td>\n",
       "      <td>0.0</td>\n",
       "      <td>0.0</td>\n",
       "      <td>0.0</td>\n",
       "      <td>1.0</td>\n",
       "      <td>0.0</td>\n",
       "      <td>0.0</td>\n",
       "      <td>0.0</td>\n",
       "      <td>0.0</td>\n",
       "      <td>0.0</td>\n",
       "      <td>1.0</td>\n",
       "      <td>0.0</td>\n",
       "      <td>0.0</td>\n",
       "    </tr>\n",
       "    <tr>\n",
       "      <th>4</th>\n",
       "      <td>1.0</td>\n",
       "      <td>0.0</td>\n",
       "      <td>0.0</td>\n",
       "      <td>0.0</td>\n",
       "      <td>1.0</td>\n",
       "      <td>1.0</td>\n",
       "      <td>0.0</td>\n",
       "      <td>0.0</td>\n",
       "      <td>0.0</td>\n",
       "      <td>0.0</td>\n",
       "      <td>1.0</td>\n",
       "      <td>0.0</td>\n",
       "      <td>1.0</td>\n",
       "    </tr>\n",
       "    <tr>\n",
       "      <th>...</th>\n",
       "      <td>...</td>\n",
       "      <td>...</td>\n",
       "      <td>...</td>\n",
       "      <td>...</td>\n",
       "      <td>...</td>\n",
       "      <td>...</td>\n",
       "      <td>...</td>\n",
       "      <td>...</td>\n",
       "      <td>...</td>\n",
       "      <td>...</td>\n",
       "      <td>...</td>\n",
       "      <td>...</td>\n",
       "      <td>...</td>\n",
       "    </tr>\n",
       "    <tr>\n",
       "      <th>195</th>\n",
       "      <td>0.0</td>\n",
       "      <td>0.0</td>\n",
       "      <td>0.0</td>\n",
       "      <td>1.0</td>\n",
       "      <td>1.0</td>\n",
       "      <td>0.0</td>\n",
       "      <td>0.0</td>\n",
       "      <td>0.0</td>\n",
       "      <td>0.0</td>\n",
       "      <td>1.0</td>\n",
       "      <td>0.0</td>\n",
       "      <td>0.0</td>\n",
       "      <td>1.0</td>\n",
       "    </tr>\n",
       "    <tr>\n",
       "      <th>196</th>\n",
       "      <td>0.0</td>\n",
       "      <td>0.0</td>\n",
       "      <td>0.0</td>\n",
       "      <td>1.0</td>\n",
       "      <td>1.0</td>\n",
       "      <td>1.0</td>\n",
       "      <td>1.0</td>\n",
       "      <td>0.0</td>\n",
       "      <td>0.0</td>\n",
       "      <td>0.0</td>\n",
       "      <td>0.0</td>\n",
       "      <td>0.0</td>\n",
       "      <td>0.0</td>\n",
       "    </tr>\n",
       "    <tr>\n",
       "      <th>197</th>\n",
       "      <td>1.0</td>\n",
       "      <td>0.0</td>\n",
       "      <td>0.0</td>\n",
       "      <td>0.0</td>\n",
       "      <td>1.0</td>\n",
       "      <td>0.0</td>\n",
       "      <td>1.0</td>\n",
       "      <td>0.0</td>\n",
       "      <td>0.0</td>\n",
       "      <td>0.0</td>\n",
       "      <td>0.0</td>\n",
       "      <td>0.0</td>\n",
       "      <td>1.0</td>\n",
       "    </tr>\n",
       "    <tr>\n",
       "      <th>198</th>\n",
       "      <td>0.0</td>\n",
       "      <td>1.0</td>\n",
       "      <td>1.0</td>\n",
       "      <td>0.0</td>\n",
       "      <td>0.0</td>\n",
       "      <td>1.0</td>\n",
       "      <td>0.0</td>\n",
       "      <td>0.0</td>\n",
       "      <td>0.0</td>\n",
       "      <td>0.0</td>\n",
       "      <td>1.0</td>\n",
       "      <td>1.0</td>\n",
       "      <td>0.0</td>\n",
       "    </tr>\n",
       "    <tr>\n",
       "      <th>199</th>\n",
       "      <td>0.0</td>\n",
       "      <td>1.0</td>\n",
       "      <td>1.0</td>\n",
       "      <td>0.0</td>\n",
       "      <td>0.0</td>\n",
       "      <td>0.0</td>\n",
       "      <td>0.0</td>\n",
       "      <td>1.0</td>\n",
       "      <td>0.0</td>\n",
       "      <td>0.0</td>\n",
       "      <td>0.0</td>\n",
       "      <td>0.0</td>\n",
       "      <td>1.0</td>\n",
       "    </tr>\n",
       "  </tbody>\n",
       "</table>\n",
       "<p>200 rows × 13 columns</p>\n",
       "</div>"
      ],
      "text/plain": [
       "     branch_Cairo  branch_Giza  city_Naypyitaw  city_Yangon  \\\n",
       "0             0.0          1.0             1.0          0.0   \n",
       "1             0.0          1.0             1.0          0.0   \n",
       "2             0.0          1.0             1.0          0.0   \n",
       "3             1.0          0.0             0.0          0.0   \n",
       "4             1.0          0.0             0.0          0.0   \n",
       "..            ...          ...             ...          ...   \n",
       "195           0.0          0.0             0.0          1.0   \n",
       "196           0.0          0.0             0.0          1.0   \n",
       "197           1.0          0.0             0.0          0.0   \n",
       "198           0.0          1.0             1.0          0.0   \n",
       "199           0.0          1.0             1.0          0.0   \n",
       "\n",
       "     customer type_Normal  gender_Male  product line_Fashion accessories  \\\n",
       "0                     0.0          0.0                               0.0   \n",
       "1                     1.0          1.0                               0.0   \n",
       "2                     1.0          1.0                               0.0   \n",
       "3                     1.0          0.0                               0.0   \n",
       "4                     1.0          1.0                               0.0   \n",
       "..                    ...          ...                               ...   \n",
       "195                   1.0          0.0                               0.0   \n",
       "196                   1.0          1.0                               1.0   \n",
       "197                   1.0          0.0                               1.0   \n",
       "198                   0.0          1.0                               0.0   \n",
       "199                   0.0          0.0                               0.0   \n",
       "\n",
       "     product line_Food and beverages  product line_Health and beauty  \\\n",
       "0                                0.0                             0.0   \n",
       "1                                0.0                             0.0   \n",
       "2                                0.0                             0.0   \n",
       "3                                0.0                             0.0   \n",
       "4                                0.0                             0.0   \n",
       "..                               ...                             ...   \n",
       "195                              0.0                             0.0   \n",
       "196                              0.0                             0.0   \n",
       "197                              0.0                             0.0   \n",
       "198                              0.0                             0.0   \n",
       "199                              1.0                             0.0   \n",
       "\n",
       "     product line_Home and lifestyle  product line_Sports and travel  \\\n",
       "0                                1.0                             0.0   \n",
       "1                                0.0                             0.0   \n",
       "2                                1.0                             0.0   \n",
       "3                                0.0                             1.0   \n",
       "4                                0.0                             1.0   \n",
       "..                               ...                             ...   \n",
       "195                              1.0                             0.0   \n",
       "196                              0.0                             0.0   \n",
       "197                              0.0                             0.0   \n",
       "198                              0.0                             1.0   \n",
       "199                              0.0                             0.0   \n",
       "\n",
       "     payment_Credit card  payment_Ewallet  \n",
       "0                    0.0              0.0  \n",
       "1                    0.0              1.0  \n",
       "2                    0.0              0.0  \n",
       "3                    0.0              0.0  \n",
       "4                    0.0              1.0  \n",
       "..                   ...              ...  \n",
       "195                  0.0              1.0  \n",
       "196                  0.0              0.0  \n",
       "197                  0.0              1.0  \n",
       "198                  1.0              0.0  \n",
       "199                  0.0              1.0  \n",
       "\n",
       "[200 rows x 13 columns]"
      ]
     },
     "execution_count": 129,
     "metadata": {},
     "output_type": "execute_result"
    }
   ],
   "source": [
    "ohe_df_test"
   ]
  },
  {
   "cell_type": "code",
   "execution_count": 130,
   "id": "5ee78a60-65f8-48b5-84ff-569255e1d9b4",
   "metadata": {},
   "outputs": [
    {
     "data": {
      "text/plain": [
       "29      235.2105\n",
       "535     122.5245\n",
       "695     458.6925\n",
       "557    1034.4600\n",
       "836     202.3350\n",
       "         ...    \n",
       "106     172.4940\n",
       "270     354.0075\n",
       "860      90.5835\n",
       "435     937.8180\n",
       "102     218.0115\n",
       "Name: sales, Length: 800, dtype: float64"
      ]
     },
     "execution_count": 130,
     "metadata": {},
     "output_type": "execute_result"
    }
   ],
   "source": [
    "y_train"
   ]
  },
  {
   "cell_type": "code",
   "execution_count": 131,
   "id": "6f3c86de-0bf7-4ed9-b952-314d92a885f7",
   "metadata": {},
   "outputs": [
    {
     "data": {
      "text/plain": [
       "521    523.9710\n",
       "737    616.9800\n",
       "740    408.7335\n",
       "660    135.3555\n",
       "411     45.9270\n",
       "         ...   \n",
       "408    237.4260\n",
       "332    404.3550\n",
       "208     95.6655\n",
       "613     84.9765\n",
       "78     822.2550\n",
       "Name: sales, Length: 200, dtype: float64"
      ]
     },
     "execution_count": 131,
     "metadata": {},
     "output_type": "execute_result"
    }
   ],
   "source": [
    "y_test"
   ]
  },
  {
   "cell_type": "code",
   "execution_count": 132,
   "id": "db127c8e-38fd-48f3-9cbd-be747712e66d",
   "metadata": {},
   "outputs": [],
   "source": [
    "x_train.reset_index(drop= True, inplace= True)\n",
    "\n",
    "x_test.reset_index(drop= True, inplace= True)\n",
    "\n",
    "y_train.reset_index(drop= True, inplace= True)\n",
    "\n",
    "y_test.reset_index(drop= True, inplace= True)"
   ]
  },
  {
   "cell_type": "code",
   "execution_count": 133,
   "id": "21447a35-4f0f-44d5-a4be-bf6bb425c999",
   "metadata": {},
   "outputs": [
    {
     "data": {
      "text/plain": [
       "0       235.2105\n",
       "1       122.5245\n",
       "2       458.6925\n",
       "3      1034.4600\n",
       "4       202.3350\n",
       "         ...    \n",
       "795     172.4940\n",
       "796     354.0075\n",
       "797      90.5835\n",
       "798     937.8180\n",
       "799     218.0115\n",
       "Name: sales, Length: 800, dtype: float64"
      ]
     },
     "execution_count": 133,
     "metadata": {},
     "output_type": "execute_result"
    }
   ],
   "source": [
    "y_train"
   ]
  },
  {
   "cell_type": "code",
   "execution_count": 134,
   "id": "1b7cc646-bb39-40b3-a354-3a48b264d9ee",
   "metadata": {},
   "outputs": [
    {
     "data": {
      "text/plain": [
       "0      523.9710\n",
       "1      616.9800\n",
       "2      408.7335\n",
       "3      135.3555\n",
       "4       45.9270\n",
       "         ...   \n",
       "195    237.4260\n",
       "196    404.3550\n",
       "197     95.6655\n",
       "198     84.9765\n",
       "199    822.2550\n",
       "Name: sales, Length: 200, dtype: float64"
      ]
     },
     "execution_count": 134,
     "metadata": {},
     "output_type": "execute_result"
    }
   ],
   "source": [
    "y_test"
   ]
  },
  {
   "cell_type": "code",
   "execution_count": 140,
   "id": "f6cf8135-4175-4643-8799-7442b841aa2f",
   "metadata": {},
   "outputs": [],
   "source": [
    "x_train = pd.concat([x_train, ohe_df_train], axis= 1).drop(cat_cols, axis= 1)\n",
    "x_test = pd.concat([x_test, ohe_df_test], axis= 1).drop(cat_cols, axis= 1)"
   ]
  },
  {
   "cell_type": "code",
   "execution_count": 141,
   "id": "667c2d9d-0507-46c2-b60f-16343404e277",
   "metadata": {},
   "outputs": [
    {
     "data": {
      "text/html": [
       "<div>\n",
       "<style scoped>\n",
       "    .dataframe tbody tr th:only-of-type {\n",
       "        vertical-align: middle;\n",
       "    }\n",
       "\n",
       "    .dataframe tbody tr th {\n",
       "        vertical-align: top;\n",
       "    }\n",
       "\n",
       "    .dataframe thead th {\n",
       "        text-align: right;\n",
       "    }\n",
       "</style>\n",
       "<table border=\"1\" class=\"dataframe\">\n",
       "  <thead>\n",
       "    <tr style=\"text-align: right;\">\n",
       "      <th></th>\n",
       "      <th>invoice id</th>\n",
       "      <th>unit price</th>\n",
       "      <th>quantity</th>\n",
       "      <th>tax 5%</th>\n",
       "      <th>date</th>\n",
       "      <th>time</th>\n",
       "      <th>cogs</th>\n",
       "      <th>gross margin percentage</th>\n",
       "      <th>gross income</th>\n",
       "      <th>rating</th>\n",
       "      <th>month</th>\n",
       "      <th>day</th>\n",
       "      <th>branch_Cairo</th>\n",
       "      <th>branch_Giza</th>\n",
       "      <th>city_Naypyitaw</th>\n",
       "      <th>city_Yangon</th>\n",
       "      <th>customer type_Normal</th>\n",
       "      <th>gender_Male</th>\n",
       "      <th>product line_Fashion accessories</th>\n",
       "      <th>product line_Food and beverages</th>\n",
       "      <th>product line_Health and beauty</th>\n",
       "      <th>product line_Home and lifestyle</th>\n",
       "      <th>product line_Sports and travel</th>\n",
       "      <th>payment_Credit card</th>\n",
       "      <th>payment_Ewallet</th>\n",
       "    </tr>\n",
       "  </thead>\n",
       "  <tbody>\n",
       "    <tr>\n",
       "      <th>0</th>\n",
       "      <td>848-62-7243</td>\n",
       "      <td>-0.664068</td>\n",
       "      <td>0.8</td>\n",
       "      <td>-0.052618</td>\n",
       "      <td>2019-03-15</td>\n",
       "      <td>2025-09-29 15:36:00</td>\n",
       "      <td>-0.052618</td>\n",
       "      <td>0.0</td>\n",
       "      <td>-0.052618</td>\n",
       "      <td>0.137931</td>\n",
       "      <td>03</td>\n",
       "      <td>5</td>\n",
       "      <td>0.0</td>\n",
       "      <td>0.0</td>\n",
       "      <td>0.0</td>\n",
       "      <td>1.0</td>\n",
       "      <td>0.0</td>\n",
       "      <td>0.0</td>\n",
       "      <td>0.0</td>\n",
       "      <td>0.0</td>\n",
       "      <td>1.0</td>\n",
       "      <td>0.0</td>\n",
       "      <td>0.0</td>\n",
       "      <td>0.0</td>\n",
       "      <td>0.0</td>\n",
       "    </tr>\n",
       "    <tr>\n",
       "      <th>1</th>\n",
       "      <td>583-41-4548</td>\n",
       "      <td>-0.847182</td>\n",
       "      <td>0.4</td>\n",
       "      <td>-0.375118</td>\n",
       "      <td>2019-02-07</td>\n",
       "      <td>2025-09-29 11:36:00</td>\n",
       "      <td>-0.375118</td>\n",
       "      <td>0.0</td>\n",
       "      <td>-0.375118</td>\n",
       "      <td>0.137931</td>\n",
       "      <td>02</td>\n",
       "      <td>4</td>\n",
       "      <td>0.0</td>\n",
       "      <td>1.0</td>\n",
       "      <td>1.0</td>\n",
       "      <td>0.0</td>\n",
       "      <td>1.0</td>\n",
       "      <td>1.0</td>\n",
       "      <td>0.0</td>\n",
       "      <td>0.0</td>\n",
       "      <td>0.0</td>\n",
       "      <td>1.0</td>\n",
       "      <td>0.0</td>\n",
       "      <td>0.0</td>\n",
       "      <td>1.0</td>\n",
       "    </tr>\n",
       "    <tr>\n",
       "      <th>2</th>\n",
       "      <td>800-09-8606</td>\n",
       "      <td>0.727779</td>\n",
       "      <td>0.0</td>\n",
       "      <td>0.586973</td>\n",
       "      <td>2019-01-29</td>\n",
       "      <td>2025-09-29 19:45:00</td>\n",
       "      <td>0.586973</td>\n",
       "      <td>0.0</td>\n",
       "      <td>0.586973</td>\n",
       "      <td>-0.137931</td>\n",
       "      <td>01</td>\n",
       "      <td>2</td>\n",
       "      <td>0.0</td>\n",
       "      <td>0.0</td>\n",
       "      <td>0.0</td>\n",
       "      <td>1.0</td>\n",
       "      <td>0.0</td>\n",
       "      <td>0.0</td>\n",
       "      <td>0.0</td>\n",
       "      <td>0.0</td>\n",
       "      <td>0.0</td>\n",
       "      <td>1.0</td>\n",
       "      <td>0.0</td>\n",
       "      <td>0.0</td>\n",
       "      <td>0.0</td>\n",
       "    </tr>\n",
       "    <tr>\n",
       "      <th>3</th>\n",
       "      <td>283-26-5248</td>\n",
       "      <td>0.976164</td>\n",
       "      <td>1.0</td>\n",
       "      <td>2.234783</td>\n",
       "      <td>2019-01-30</td>\n",
       "      <td>2025-09-29 20:23:00</td>\n",
       "      <td>2.234783</td>\n",
       "      <td>0.0</td>\n",
       "      <td>2.234783</td>\n",
       "      <td>-0.862069</td>\n",
       "      <td>01</td>\n",
       "      <td>3</td>\n",
       "      <td>0.0</td>\n",
       "      <td>1.0</td>\n",
       "      <td>1.0</td>\n",
       "      <td>0.0</td>\n",
       "      <td>0.0</td>\n",
       "      <td>0.0</td>\n",
       "      <td>0.0</td>\n",
       "      <td>1.0</td>\n",
       "      <td>0.0</td>\n",
       "      <td>0.0</td>\n",
       "      <td>0.0</td>\n",
       "      <td>0.0</td>\n",
       "      <td>1.0</td>\n",
       "    </tr>\n",
       "    <tr>\n",
       "      <th>4</th>\n",
       "      <td>288-62-1085</td>\n",
       "      <td>-0.359991</td>\n",
       "      <td>0.0</td>\n",
       "      <td>-0.146706</td>\n",
       "      <td>2019-01-09</td>\n",
       "      <td>2025-09-29 13:34:00</td>\n",
       "      <td>-0.146706</td>\n",
       "      <td>0.0</td>\n",
       "      <td>-0.146706</td>\n",
       "      <td>-0.482759</td>\n",
       "      <td>01</td>\n",
       "      <td>3</td>\n",
       "      <td>0.0</td>\n",
       "      <td>0.0</td>\n",
       "      <td>0.0</td>\n",
       "      <td>1.0</td>\n",
       "      <td>0.0</td>\n",
       "      <td>1.0</td>\n",
       "      <td>1.0</td>\n",
       "      <td>0.0</td>\n",
       "      <td>0.0</td>\n",
       "      <td>0.0</td>\n",
       "      <td>0.0</td>\n",
       "      <td>0.0</td>\n",
       "      <td>1.0</td>\n",
       "    </tr>\n",
       "    <tr>\n",
       "      <th>...</th>\n",
       "      <td>...</td>\n",
       "      <td>...</td>\n",
       "      <td>...</td>\n",
       "      <td>...</td>\n",
       "      <td>...</td>\n",
       "      <td>...</td>\n",
       "      <td>...</td>\n",
       "      <td>...</td>\n",
       "      <td>...</td>\n",
       "      <td>...</td>\n",
       "      <td>...</td>\n",
       "      <td>...</td>\n",
       "      <td>...</td>\n",
       "      <td>...</td>\n",
       "      <td>...</td>\n",
       "      <td>...</td>\n",
       "      <td>...</td>\n",
       "      <td>...</td>\n",
       "      <td>...</td>\n",
       "      <td>...</td>\n",
       "      <td>...</td>\n",
       "      <td>...</td>\n",
       "      <td>...</td>\n",
       "      <td>...</td>\n",
       "      <td>...</td>\n",
       "    </tr>\n",
       "    <tr>\n",
       "      <th>795</th>\n",
       "      <td>628-34-3388</td>\n",
       "      <td>-0.608599</td>\n",
       "      <td>0.2</td>\n",
       "      <td>-0.232109</td>\n",
       "      <td>2019-01-05</td>\n",
       "      <td>2025-09-29 20:54:00</td>\n",
       "      <td>-0.232109</td>\n",
       "      <td>0.0</td>\n",
       "      <td>-0.232109</td>\n",
       "      <td>0.310345</td>\n",
       "      <td>01</td>\n",
       "      <td>6</td>\n",
       "      <td>0.0</td>\n",
       "      <td>1.0</td>\n",
       "      <td>1.0</td>\n",
       "      <td>0.0</td>\n",
       "      <td>0.0</td>\n",
       "      <td>0.0</td>\n",
       "      <td>1.0</td>\n",
       "      <td>0.0</td>\n",
       "      <td>0.0</td>\n",
       "      <td>0.0</td>\n",
       "      <td>0.0</td>\n",
       "      <td>1.0</td>\n",
       "      <td>0.0</td>\n",
       "    </tr>\n",
       "    <tr>\n",
       "      <th>796</th>\n",
       "      <td>783-09-1637</td>\n",
       "      <td>0.283582</td>\n",
       "      <td>0.0</td>\n",
       "      <td>0.287371</td>\n",
       "      <td>2019-03-06</td>\n",
       "      <td>2025-09-29 18:13:00</td>\n",
       "      <td>0.287371</td>\n",
       "      <td>0.0</td>\n",
       "      <td>0.287371</td>\n",
       "      <td>-0.241379</td>\n",
       "      <td>03</td>\n",
       "      <td>3</td>\n",
       "      <td>1.0</td>\n",
       "      <td>0.0</td>\n",
       "      <td>0.0</td>\n",
       "      <td>0.0</td>\n",
       "      <td>1.0</td>\n",
       "      <td>0.0</td>\n",
       "      <td>0.0</td>\n",
       "      <td>0.0</td>\n",
       "      <td>0.0</td>\n",
       "      <td>0.0</td>\n",
       "      <td>1.0</td>\n",
       "      <td>0.0</td>\n",
       "      <td>1.0</td>\n",
       "    </tr>\n",
       "    <tr>\n",
       "      <th>797</th>\n",
       "      <td>848-95-6252</td>\n",
       "      <td>0.703275</td>\n",
       "      <td>-0.8</td>\n",
       "      <td>-0.466531</td>\n",
       "      <td>2019-02-20</td>\n",
       "      <td>2025-09-29 13:24:00</td>\n",
       "      <td>-0.466531</td>\n",
       "      <td>0.0</td>\n",
       "      <td>-0.466531</td>\n",
       "      <td>0.000000</td>\n",
       "      <td>02</td>\n",
       "      <td>3</td>\n",
       "      <td>0.0</td>\n",
       "      <td>1.0</td>\n",
       "      <td>1.0</td>\n",
       "      <td>0.0</td>\n",
       "      <td>0.0</td>\n",
       "      <td>0.0</td>\n",
       "      <td>0.0</td>\n",
       "      <td>0.0</td>\n",
       "      <td>0.0</td>\n",
       "      <td>1.0</td>\n",
       "      <td>0.0</td>\n",
       "      <td>0.0</td>\n",
       "      <td>1.0</td>\n",
       "    </tr>\n",
       "    <tr>\n",
       "      <th>798</th>\n",
       "      <td>751-69-0068</td>\n",
       "      <td>0.992203</td>\n",
       "      <td>0.8</td>\n",
       "      <td>1.958200</td>\n",
       "      <td>2019-03-19</td>\n",
       "      <td>2025-09-29 19:09:00</td>\n",
       "      <td>1.958200</td>\n",
       "      <td>0.0</td>\n",
       "      <td>1.958200</td>\n",
       "      <td>0.689655</td>\n",
       "      <td>03</td>\n",
       "      <td>2</td>\n",
       "      <td>0.0</td>\n",
       "      <td>1.0</td>\n",
       "      <td>1.0</td>\n",
       "      <td>0.0</td>\n",
       "      <td>1.0</td>\n",
       "      <td>1.0</td>\n",
       "      <td>0.0</td>\n",
       "      <td>0.0</td>\n",
       "      <td>0.0</td>\n",
       "      <td>0.0</td>\n",
       "      <td>1.0</td>\n",
       "      <td>0.0</td>\n",
       "      <td>1.0</td>\n",
       "    </tr>\n",
       "    <tr>\n",
       "      <th>799</th>\n",
       "      <td>551-21-3069</td>\n",
       "      <td>-0.704611</td>\n",
       "      <td>0.8</td>\n",
       "      <td>-0.101841</td>\n",
       "      <td>2019-02-01</td>\n",
       "      <td>2025-09-29 11:27:00</td>\n",
       "      <td>-0.101841</td>\n",
       "      <td>0.0</td>\n",
       "      <td>-0.101841</td>\n",
       "      <td>-0.724138</td>\n",
       "      <td>02</td>\n",
       "      <td>5</td>\n",
       "      <td>0.0</td>\n",
       "      <td>1.0</td>\n",
       "      <td>1.0</td>\n",
       "      <td>0.0</td>\n",
       "      <td>0.0</td>\n",
       "      <td>0.0</td>\n",
       "      <td>0.0</td>\n",
       "      <td>0.0</td>\n",
       "      <td>0.0</td>\n",
       "      <td>0.0</td>\n",
       "      <td>0.0</td>\n",
       "      <td>0.0</td>\n",
       "      <td>0.0</td>\n",
       "    </tr>\n",
       "  </tbody>\n",
       "</table>\n",
       "<p>800 rows × 25 columns</p>\n",
       "</div>"
      ],
      "text/plain": [
       "      invoice id  unit price  quantity    tax 5%       date  \\\n",
       "0    848-62-7243   -0.664068       0.8 -0.052618 2019-03-15   \n",
       "1    583-41-4548   -0.847182       0.4 -0.375118 2019-02-07   \n",
       "2    800-09-8606    0.727779       0.0  0.586973 2019-01-29   \n",
       "3    283-26-5248    0.976164       1.0  2.234783 2019-01-30   \n",
       "4    288-62-1085   -0.359991       0.0 -0.146706 2019-01-09   \n",
       "..           ...         ...       ...       ...        ...   \n",
       "795  628-34-3388   -0.608599       0.2 -0.232109 2019-01-05   \n",
       "796  783-09-1637    0.283582       0.0  0.287371 2019-03-06   \n",
       "797  848-95-6252    0.703275      -0.8 -0.466531 2019-02-20   \n",
       "798  751-69-0068    0.992203       0.8  1.958200 2019-03-19   \n",
       "799  551-21-3069   -0.704611       0.8 -0.101841 2019-02-01   \n",
       "\n",
       "                   time      cogs  gross margin percentage  gross income  \\\n",
       "0   2025-09-29 15:36:00 -0.052618                      0.0     -0.052618   \n",
       "1   2025-09-29 11:36:00 -0.375118                      0.0     -0.375118   \n",
       "2   2025-09-29 19:45:00  0.586973                      0.0      0.586973   \n",
       "3   2025-09-29 20:23:00  2.234783                      0.0      2.234783   \n",
       "4   2025-09-29 13:34:00 -0.146706                      0.0     -0.146706   \n",
       "..                  ...       ...                      ...           ...   \n",
       "795 2025-09-29 20:54:00 -0.232109                      0.0     -0.232109   \n",
       "796 2025-09-29 18:13:00  0.287371                      0.0      0.287371   \n",
       "797 2025-09-29 13:24:00 -0.466531                      0.0     -0.466531   \n",
       "798 2025-09-29 19:09:00  1.958200                      0.0      1.958200   \n",
       "799 2025-09-29 11:27:00 -0.101841                      0.0     -0.101841   \n",
       "\n",
       "       rating month day  branch_Cairo  branch_Giza  city_Naypyitaw  \\\n",
       "0    0.137931    03   5           0.0          0.0             0.0   \n",
       "1    0.137931    02   4           0.0          1.0             1.0   \n",
       "2   -0.137931    01   2           0.0          0.0             0.0   \n",
       "3   -0.862069    01   3           0.0          1.0             1.0   \n",
       "4   -0.482759    01   3           0.0          0.0             0.0   \n",
       "..        ...   ...  ..           ...          ...             ...   \n",
       "795  0.310345    01   6           0.0          1.0             1.0   \n",
       "796 -0.241379    03   3           1.0          0.0             0.0   \n",
       "797  0.000000    02   3           0.0          1.0             1.0   \n",
       "798  0.689655    03   2           0.0          1.0             1.0   \n",
       "799 -0.724138    02   5           0.0          1.0             1.0   \n",
       "\n",
       "     city_Yangon  customer type_Normal  gender_Male  \\\n",
       "0            1.0                   0.0          0.0   \n",
       "1            0.0                   1.0          1.0   \n",
       "2            1.0                   0.0          0.0   \n",
       "3            0.0                   0.0          0.0   \n",
       "4            1.0                   0.0          1.0   \n",
       "..           ...                   ...          ...   \n",
       "795          0.0                   0.0          0.0   \n",
       "796          0.0                   1.0          0.0   \n",
       "797          0.0                   0.0          0.0   \n",
       "798          0.0                   1.0          1.0   \n",
       "799          0.0                   0.0          0.0   \n",
       "\n",
       "     product line_Fashion accessories  product line_Food and beverages  \\\n",
       "0                                 0.0                              0.0   \n",
       "1                                 0.0                              0.0   \n",
       "2                                 0.0                              0.0   \n",
       "3                                 0.0                              1.0   \n",
       "4                                 1.0                              0.0   \n",
       "..                                ...                              ...   \n",
       "795                               1.0                              0.0   \n",
       "796                               0.0                              0.0   \n",
       "797                               0.0                              0.0   \n",
       "798                               0.0                              0.0   \n",
       "799                               0.0                              0.0   \n",
       "\n",
       "     product line_Health and beauty  product line_Home and lifestyle  \\\n",
       "0                               1.0                              0.0   \n",
       "1                               0.0                              1.0   \n",
       "2                               0.0                              1.0   \n",
       "3                               0.0                              0.0   \n",
       "4                               0.0                              0.0   \n",
       "..                              ...                              ...   \n",
       "795                             0.0                              0.0   \n",
       "796                             0.0                              0.0   \n",
       "797                             0.0                              1.0   \n",
       "798                             0.0                              0.0   \n",
       "799                             0.0                              0.0   \n",
       "\n",
       "     product line_Sports and travel  payment_Credit card  payment_Ewallet  \n",
       "0                               0.0                  0.0              0.0  \n",
       "1                               0.0                  0.0              1.0  \n",
       "2                               0.0                  0.0              0.0  \n",
       "3                               0.0                  0.0              1.0  \n",
       "4                               0.0                  0.0              1.0  \n",
       "..                              ...                  ...              ...  \n",
       "795                             0.0                  1.0              0.0  \n",
       "796                             1.0                  0.0              1.0  \n",
       "797                             0.0                  0.0              1.0  \n",
       "798                             1.0                  0.0              1.0  \n",
       "799                             0.0                  0.0              0.0  \n",
       "\n",
       "[800 rows x 25 columns]"
      ]
     },
     "execution_count": 141,
     "metadata": {},
     "output_type": "execute_result"
    }
   ],
   "source": [
    "x_train"
   ]
  },
  {
   "cell_type": "code",
   "execution_count": 142,
   "id": "4cb4f856-5459-44b4-ba01-f796d058ff00",
   "metadata": {},
   "outputs": [
    {
     "data": {
      "text/html": [
       "<div>\n",
       "<style scoped>\n",
       "    .dataframe tbody tr th:only-of-type {\n",
       "        vertical-align: middle;\n",
       "    }\n",
       "\n",
       "    .dataframe tbody tr th {\n",
       "        vertical-align: top;\n",
       "    }\n",
       "\n",
       "    .dataframe thead th {\n",
       "        text-align: right;\n",
       "    }\n",
       "</style>\n",
       "<table border=\"1\" class=\"dataframe\">\n",
       "  <thead>\n",
       "    <tr style=\"text-align: right;\">\n",
       "      <th></th>\n",
       "      <th>invoice id</th>\n",
       "      <th>unit price</th>\n",
       "      <th>quantity</th>\n",
       "      <th>tax 5%</th>\n",
       "      <th>date</th>\n",
       "      <th>time</th>\n",
       "      <th>cogs</th>\n",
       "      <th>gross margin percentage</th>\n",
       "      <th>gross income</th>\n",
       "      <th>rating</th>\n",
       "      <th>month</th>\n",
       "      <th>day</th>\n",
       "      <th>branch_Cairo</th>\n",
       "      <th>branch_Giza</th>\n",
       "      <th>city_Naypyitaw</th>\n",
       "      <th>city_Yangon</th>\n",
       "      <th>customer type_Normal</th>\n",
       "      <th>gender_Male</th>\n",
       "      <th>product line_Fashion accessories</th>\n",
       "      <th>product line_Food and beverages</th>\n",
       "      <th>product line_Health and beauty</th>\n",
       "      <th>product line_Home and lifestyle</th>\n",
       "      <th>product line_Sports and travel</th>\n",
       "      <th>payment_Credit card</th>\n",
       "      <th>payment_Ewallet</th>\n",
       "    </tr>\n",
       "  </thead>\n",
       "  <tbody>\n",
       "    <tr>\n",
       "      <th>0</th>\n",
       "      <td>451-28-5717</td>\n",
       "      <td>0.634217</td>\n",
       "      <td>0.2</td>\n",
       "      <td>0.773796</td>\n",
       "      <td>2019-03-20</td>\n",
       "      <td>2025-09-29 11:23:00</td>\n",
       "      <td>0.773796</td>\n",
       "      <td>0.0</td>\n",
       "      <td>0.773796</td>\n",
       "      <td>0.103448</td>\n",
       "      <td>03</td>\n",
       "      <td>3</td>\n",
       "      <td>0.0</td>\n",
       "      <td>1.0</td>\n",
       "      <td>1.0</td>\n",
       "      <td>0.0</td>\n",
       "      <td>0.0</td>\n",
       "      <td>0.0</td>\n",
       "      <td>0.0</td>\n",
       "      <td>0.0</td>\n",
       "      <td>0.0</td>\n",
       "      <td>1.0</td>\n",
       "      <td>0.0</td>\n",
       "      <td>0.0</td>\n",
       "      <td>0.0</td>\n",
       "    </tr>\n",
       "    <tr>\n",
       "      <th>1</th>\n",
       "      <td>137-63-5492</td>\n",
       "      <td>0.090443</td>\n",
       "      <td>1.0</td>\n",
       "      <td>1.039982</td>\n",
       "      <td>2019-01-29</td>\n",
       "      <td>2025-09-29 14:26:00</td>\n",
       "      <td>1.039982</td>\n",
       "      <td>0.0</td>\n",
       "      <td>1.039982</td>\n",
       "      <td>0.689655</td>\n",
       "      <td>01</td>\n",
       "      <td>2</td>\n",
       "      <td>0.0</td>\n",
       "      <td>1.0</td>\n",
       "      <td>1.0</td>\n",
       "      <td>0.0</td>\n",
       "      <td>1.0</td>\n",
       "      <td>1.0</td>\n",
       "      <td>0.0</td>\n",
       "      <td>0.0</td>\n",
       "      <td>0.0</td>\n",
       "      <td>0.0</td>\n",
       "      <td>0.0</td>\n",
       "      <td>0.0</td>\n",
       "      <td>1.0</td>\n",
       "    </tr>\n",
       "    <tr>\n",
       "      <th>2</th>\n",
       "      <td>733-29-1227</td>\n",
       "      <td>0.020272</td>\n",
       "      <td>0.4</td>\n",
       "      <td>0.443994</td>\n",
       "      <td>2019-03-23</td>\n",
       "      <td>2025-09-29 12:41:00</td>\n",
       "      <td>0.443994</td>\n",
       "      <td>0.0</td>\n",
       "      <td>0.443994</td>\n",
       "      <td>0.517241</td>\n",
       "      <td>03</td>\n",
       "      <td>6</td>\n",
       "      <td>0.0</td>\n",
       "      <td>1.0</td>\n",
       "      <td>1.0</td>\n",
       "      <td>0.0</td>\n",
       "      <td>1.0</td>\n",
       "      <td>1.0</td>\n",
       "      <td>0.0</td>\n",
       "      <td>0.0</td>\n",
       "      <td>0.0</td>\n",
       "      <td>1.0</td>\n",
       "      <td>0.0</td>\n",
       "      <td>0.0</td>\n",
       "      <td>0.0</td>\n",
       "    </tr>\n",
       "    <tr>\n",
       "      <th>3</th>\n",
       "      <td>322-02-2271</td>\n",
       "      <td>-0.261305</td>\n",
       "      <td>-0.4</td>\n",
       "      <td>-0.338397</td>\n",
       "      <td>2019-02-03</td>\n",
       "      <td>2025-09-29 11:46:00</td>\n",
       "      <td>-0.338397</td>\n",
       "      <td>0.0</td>\n",
       "      <td>-0.338397</td>\n",
       "      <td>0.793103</td>\n",
       "      <td>02</td>\n",
       "      <td>0</td>\n",
       "      <td>1.0</td>\n",
       "      <td>0.0</td>\n",
       "      <td>0.0</td>\n",
       "      <td>0.0</td>\n",
       "      <td>1.0</td>\n",
       "      <td>0.0</td>\n",
       "      <td>0.0</td>\n",
       "      <td>0.0</td>\n",
       "      <td>0.0</td>\n",
       "      <td>0.0</td>\n",
       "      <td>1.0</td>\n",
       "      <td>0.0</td>\n",
       "      <td>0.0</td>\n",
       "    </tr>\n",
       "    <tr>\n",
       "      <th>4</th>\n",
       "      <td>569-71-4390</td>\n",
       "      <td>-0.731343</td>\n",
       "      <td>-0.6</td>\n",
       "      <td>-0.594336</td>\n",
       "      <td>2019-01-25</td>\n",
       "      <td>2025-09-29 14:29:00</td>\n",
       "      <td>-0.594336</td>\n",
       "      <td>0.0</td>\n",
       "      <td>-0.594336</td>\n",
       "      <td>-0.034483</td>\n",
       "      <td>01</td>\n",
       "      <td>5</td>\n",
       "      <td>1.0</td>\n",
       "      <td>0.0</td>\n",
       "      <td>0.0</td>\n",
       "      <td>0.0</td>\n",
       "      <td>1.0</td>\n",
       "      <td>1.0</td>\n",
       "      <td>0.0</td>\n",
       "      <td>0.0</td>\n",
       "      <td>0.0</td>\n",
       "      <td>0.0</td>\n",
       "      <td>1.0</td>\n",
       "      <td>0.0</td>\n",
       "      <td>1.0</td>\n",
       "    </tr>\n",
       "    <tr>\n",
       "      <th>...</th>\n",
       "      <td>...</td>\n",
       "      <td>...</td>\n",
       "      <td>...</td>\n",
       "      <td>...</td>\n",
       "      <td>...</td>\n",
       "      <td>...</td>\n",
       "      <td>...</td>\n",
       "      <td>...</td>\n",
       "      <td>...</td>\n",
       "      <td>...</td>\n",
       "      <td>...</td>\n",
       "      <td>...</td>\n",
       "      <td>...</td>\n",
       "      <td>...</td>\n",
       "      <td>...</td>\n",
       "      <td>...</td>\n",
       "      <td>...</td>\n",
       "      <td>...</td>\n",
       "      <td>...</td>\n",
       "      <td>...</td>\n",
       "      <td>...</td>\n",
       "      <td>...</td>\n",
       "      <td>...</td>\n",
       "      <td>...</td>\n",
       "      <td>...</td>\n",
       "    </tr>\n",
       "    <tr>\n",
       "      <th>195</th>\n",
       "      <td>256-08-8343</td>\n",
       "      <td>0.040766</td>\n",
       "      <td>-0.2</td>\n",
       "      <td>-0.046278</td>\n",
       "      <td>2019-03-04</td>\n",
       "      <td>2025-09-29 19:48:00</td>\n",
       "      <td>-0.046278</td>\n",
       "      <td>0.0</td>\n",
       "      <td>-0.046278</td>\n",
       "      <td>-0.517241</td>\n",
       "      <td>03</td>\n",
       "      <td>1</td>\n",
       "      <td>0.0</td>\n",
       "      <td>0.0</td>\n",
       "      <td>0.0</td>\n",
       "      <td>1.0</td>\n",
       "      <td>1.0</td>\n",
       "      <td>0.0</td>\n",
       "      <td>0.0</td>\n",
       "      <td>0.0</td>\n",
       "      <td>0.0</td>\n",
       "      <td>1.0</td>\n",
       "      <td>0.0</td>\n",
       "      <td>0.0</td>\n",
       "      <td>1.0</td>\n",
       "    </tr>\n",
       "    <tr>\n",
       "      <th>196</th>\n",
       "      <td>566-71-1091</td>\n",
       "      <td>0.497215</td>\n",
       "      <td>0.0</td>\n",
       "      <td>0.431463</td>\n",
       "      <td>2019-02-03</td>\n",
       "      <td>2025-09-29 15:59:00</td>\n",
       "      <td>0.431463</td>\n",
       "      <td>0.0</td>\n",
       "      <td>0.431463</td>\n",
       "      <td>-0.517241</td>\n",
       "      <td>02</td>\n",
       "      <td>0</td>\n",
       "      <td>0.0</td>\n",
       "      <td>0.0</td>\n",
       "      <td>0.0</td>\n",
       "      <td>1.0</td>\n",
       "      <td>1.0</td>\n",
       "      <td>1.0</td>\n",
       "      <td>1.0</td>\n",
       "      <td>0.0</td>\n",
       "      <td>0.0</td>\n",
       "      <td>0.0</td>\n",
       "      <td>0.0</td>\n",
       "      <td>0.0</td>\n",
       "      <td>0.0</td>\n",
       "    </tr>\n",
       "    <tr>\n",
       "      <th>197</th>\n",
       "      <td>573-58-9734</td>\n",
       "      <td>-0.541992</td>\n",
       "      <td>-0.4</td>\n",
       "      <td>-0.451987</td>\n",
       "      <td>2019-03-28</td>\n",
       "      <td>2025-09-29 13:41:00</td>\n",
       "      <td>-0.451987</td>\n",
       "      <td>0.0</td>\n",
       "      <td>-0.451987</td>\n",
       "      <td>-0.655172</td>\n",
       "      <td>03</td>\n",
       "      <td>4</td>\n",
       "      <td>1.0</td>\n",
       "      <td>0.0</td>\n",
       "      <td>0.0</td>\n",
       "      <td>0.0</td>\n",
       "      <td>1.0</td>\n",
       "      <td>0.0</td>\n",
       "      <td>1.0</td>\n",
       "      <td>0.0</td>\n",
       "      <td>0.0</td>\n",
       "      <td>0.0</td>\n",
       "      <td>0.0</td>\n",
       "      <td>0.0</td>\n",
       "      <td>1.0</td>\n",
       "    </tr>\n",
       "    <tr>\n",
       "      <th>198</th>\n",
       "      <td>284-54-4231</td>\n",
       "      <td>0.584317</td>\n",
       "      <td>-0.8</td>\n",
       "      <td>-0.482578</td>\n",
       "      <td>2019-01-19</td>\n",
       "      <td>2025-09-29 16:08:00</td>\n",
       "      <td>-0.482578</td>\n",
       "      <td>0.0</td>\n",
       "      <td>-0.482578</td>\n",
       "      <td>0.689655</td>\n",
       "      <td>01</td>\n",
       "      <td>6</td>\n",
       "      <td>0.0</td>\n",
       "      <td>1.0</td>\n",
       "      <td>1.0</td>\n",
       "      <td>0.0</td>\n",
       "      <td>0.0</td>\n",
       "      <td>1.0</td>\n",
       "      <td>0.0</td>\n",
       "      <td>0.0</td>\n",
       "      <td>0.0</td>\n",
       "      <td>0.0</td>\n",
       "      <td>1.0</td>\n",
       "      <td>1.0</td>\n",
       "      <td>0.0</td>\n",
       "    </tr>\n",
       "    <tr>\n",
       "      <th>199</th>\n",
       "      <td>829-49-1914</td>\n",
       "      <td>0.525952</td>\n",
       "      <td>1.0</td>\n",
       "      <td>1.627466</td>\n",
       "      <td>2019-03-05</td>\n",
       "      <td>2025-09-29 16:24:00</td>\n",
       "      <td>1.627466</td>\n",
       "      <td>0.0</td>\n",
       "      <td>1.627466</td>\n",
       "      <td>-0.137931</td>\n",
       "      <td>03</td>\n",
       "      <td>2</td>\n",
       "      <td>0.0</td>\n",
       "      <td>1.0</td>\n",
       "      <td>1.0</td>\n",
       "      <td>0.0</td>\n",
       "      <td>0.0</td>\n",
       "      <td>0.0</td>\n",
       "      <td>0.0</td>\n",
       "      <td>1.0</td>\n",
       "      <td>0.0</td>\n",
       "      <td>0.0</td>\n",
       "      <td>0.0</td>\n",
       "      <td>0.0</td>\n",
       "      <td>1.0</td>\n",
       "    </tr>\n",
       "  </tbody>\n",
       "</table>\n",
       "<p>200 rows × 25 columns</p>\n",
       "</div>"
      ],
      "text/plain": [
       "      invoice id  unit price  quantity    tax 5%       date  \\\n",
       "0    451-28-5717    0.634217       0.2  0.773796 2019-03-20   \n",
       "1    137-63-5492    0.090443       1.0  1.039982 2019-01-29   \n",
       "2    733-29-1227    0.020272       0.4  0.443994 2019-03-23   \n",
       "3    322-02-2271   -0.261305      -0.4 -0.338397 2019-02-03   \n",
       "4    569-71-4390   -0.731343      -0.6 -0.594336 2019-01-25   \n",
       "..           ...         ...       ...       ...        ...   \n",
       "195  256-08-8343    0.040766      -0.2 -0.046278 2019-03-04   \n",
       "196  566-71-1091    0.497215       0.0  0.431463 2019-02-03   \n",
       "197  573-58-9734   -0.541992      -0.4 -0.451987 2019-03-28   \n",
       "198  284-54-4231    0.584317      -0.8 -0.482578 2019-01-19   \n",
       "199  829-49-1914    0.525952       1.0  1.627466 2019-03-05   \n",
       "\n",
       "                   time      cogs  gross margin percentage  gross income  \\\n",
       "0   2025-09-29 11:23:00  0.773796                      0.0      0.773796   \n",
       "1   2025-09-29 14:26:00  1.039982                      0.0      1.039982   \n",
       "2   2025-09-29 12:41:00  0.443994                      0.0      0.443994   \n",
       "3   2025-09-29 11:46:00 -0.338397                      0.0     -0.338397   \n",
       "4   2025-09-29 14:29:00 -0.594336                      0.0     -0.594336   \n",
       "..                  ...       ...                      ...           ...   \n",
       "195 2025-09-29 19:48:00 -0.046278                      0.0     -0.046278   \n",
       "196 2025-09-29 15:59:00  0.431463                      0.0      0.431463   \n",
       "197 2025-09-29 13:41:00 -0.451987                      0.0     -0.451987   \n",
       "198 2025-09-29 16:08:00 -0.482578                      0.0     -0.482578   \n",
       "199 2025-09-29 16:24:00  1.627466                      0.0      1.627466   \n",
       "\n",
       "       rating month day  branch_Cairo  branch_Giza  city_Naypyitaw  \\\n",
       "0    0.103448    03   3           0.0          1.0             1.0   \n",
       "1    0.689655    01   2           0.0          1.0             1.0   \n",
       "2    0.517241    03   6           0.0          1.0             1.0   \n",
       "3    0.793103    02   0           1.0          0.0             0.0   \n",
       "4   -0.034483    01   5           1.0          0.0             0.0   \n",
       "..        ...   ...  ..           ...          ...             ...   \n",
       "195 -0.517241    03   1           0.0          0.0             0.0   \n",
       "196 -0.517241    02   0           0.0          0.0             0.0   \n",
       "197 -0.655172    03   4           1.0          0.0             0.0   \n",
       "198  0.689655    01   6           0.0          1.0             1.0   \n",
       "199 -0.137931    03   2           0.0          1.0             1.0   \n",
       "\n",
       "     city_Yangon  customer type_Normal  gender_Male  \\\n",
       "0            0.0                   0.0          0.0   \n",
       "1            0.0                   1.0          1.0   \n",
       "2            0.0                   1.0          1.0   \n",
       "3            0.0                   1.0          0.0   \n",
       "4            0.0                   1.0          1.0   \n",
       "..           ...                   ...          ...   \n",
       "195          1.0                   1.0          0.0   \n",
       "196          1.0                   1.0          1.0   \n",
       "197          0.0                   1.0          0.0   \n",
       "198          0.0                   0.0          1.0   \n",
       "199          0.0                   0.0          0.0   \n",
       "\n",
       "     product line_Fashion accessories  product line_Food and beverages  \\\n",
       "0                                 0.0                              0.0   \n",
       "1                                 0.0                              0.0   \n",
       "2                                 0.0                              0.0   \n",
       "3                                 0.0                              0.0   \n",
       "4                                 0.0                              0.0   \n",
       "..                                ...                              ...   \n",
       "195                               0.0                              0.0   \n",
       "196                               1.0                              0.0   \n",
       "197                               1.0                              0.0   \n",
       "198                               0.0                              0.0   \n",
       "199                               0.0                              1.0   \n",
       "\n",
       "     product line_Health and beauty  product line_Home and lifestyle  \\\n",
       "0                               0.0                              1.0   \n",
       "1                               0.0                              0.0   \n",
       "2                               0.0                              1.0   \n",
       "3                               0.0                              0.0   \n",
       "4                               0.0                              0.0   \n",
       "..                              ...                              ...   \n",
       "195                             0.0                              1.0   \n",
       "196                             0.0                              0.0   \n",
       "197                             0.0                              0.0   \n",
       "198                             0.0                              0.0   \n",
       "199                             0.0                              0.0   \n",
       "\n",
       "     product line_Sports and travel  payment_Credit card  payment_Ewallet  \n",
       "0                               0.0                  0.0              0.0  \n",
       "1                               0.0                  0.0              1.0  \n",
       "2                               0.0                  0.0              0.0  \n",
       "3                               1.0                  0.0              0.0  \n",
       "4                               1.0                  0.0              1.0  \n",
       "..                              ...                  ...              ...  \n",
       "195                             0.0                  0.0              1.0  \n",
       "196                             0.0                  0.0              0.0  \n",
       "197                             0.0                  0.0              1.0  \n",
       "198                             1.0                  1.0              0.0  \n",
       "199                             0.0                  0.0              1.0  \n",
       "\n",
       "[200 rows x 25 columns]"
      ]
     },
     "execution_count": 142,
     "metadata": {},
     "output_type": "execute_result"
    }
   ],
   "source": [
    "x_test"
   ]
  },
  {
   "cell_type": "code",
   "execution_count": null,
   "id": "4dbc0ef3-aa75-492e-9dd5-3075fe381ee9",
   "metadata": {},
   "outputs": [],
   "source": []
  }
 ],
 "metadata": {
  "kernelspec": {
   "display_name": "Python (new_env)",
   "language": "python",
   "name": "new_env"
  },
  "language_info": {
   "codemirror_mode": {
    "name": "ipython",
    "version": 3
   },
   "file_extension": ".py",
   "mimetype": "text/x-python",
   "name": "python",
   "nbconvert_exporter": "python",
   "pygments_lexer": "ipython3",
   "version": "3.10.18"
  }
 },
 "nbformat": 4,
 "nbformat_minor": 5
}
